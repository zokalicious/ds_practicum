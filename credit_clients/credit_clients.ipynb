{
 "cells": [
  {
   "attachments": {},
   "cell_type": "markdown",
   "id": "c0f7f61c",
   "metadata": {
    "toc": true
   },
   "source": [
    "<h1>Содержание проекта<span class=\"tocSkip\"></span></h1>\n",
    "<div class=\"toc\"><ul class=\"toc-item\"><li><span><a href=\"#Откройте-таблицу-и-изучите-общую-информацию-о-данных\" data-toc-modified-id=\"Откройте-таблицу-и-изучите-общую-информацию-о-данных-1\"><span class=\"toc-item-num\">1&nbsp;&nbsp;</span>Откройте таблицу и изучите общую информацию о данных</a></span></li><li><span><a href=\"#Предобработка-данных\" data-toc-modified-id=\"Предобработка-данных-2\"><span class=\"toc-item-num\">2&nbsp;&nbsp;</span>Предобработка данных</a></span><ul class=\"toc-item\"><li><span><a href=\"#Удаление-пропусков\" data-toc-modified-id=\"Удаление-пропусков-2.1\"><span class=\"toc-item-num\">2.1&nbsp;&nbsp;</span>Удаление пропусков</a></span></li><li><span><a href=\"#Обработка-аномальных-значений\" data-toc-modified-id=\"Обработка-аномальных-значений-2.2\"><span class=\"toc-item-num\">2.2&nbsp;&nbsp;</span>Обработка аномальных значений</a></span></li><li><span><a href=\"#Удаление-пропусков-(продолжение)\" data-toc-modified-id=\"Удаление-пропусков-(продолжение)-2.3\"><span class=\"toc-item-num\">2.3&nbsp;&nbsp;</span>Удаление пропусков (продолжение)</a></span></li><li><span><a href=\"#Изменение-типов-данных\" data-toc-modified-id=\"Изменение-типов-данных-2.4\"><span class=\"toc-item-num\">2.4&nbsp;&nbsp;</span>Изменение типов данных</a></span></li><li><span><a href=\"#Обработка-дубликатов\" data-toc-modified-id=\"Обработка-дубликатов-2.5\"><span class=\"toc-item-num\">2.5&nbsp;&nbsp;</span>Обработка дубликатов</a></span></li><li><span><a href=\"#Категоризация-данных\" data-toc-modified-id=\"Категоризация-данных-2.6\"><span class=\"toc-item-num\">2.6&nbsp;&nbsp;</span>Категоризация данных</a></span></li></ul></li><li><span><a href=\"#Исследование-данных-и-ответы-на-вопросы\" data-toc-modified-id=\"Исследование-данных-и-ответы-на-вопросы-3\"><span class=\"toc-item-num\">3&nbsp;&nbsp;</span>Исследование данных и ответы на вопросы</a></span><ul class=\"toc-item\"><li><span><a href=\"#Есть-ли-зависимость-между-количеством-детей-и-возвратом-кредита-в-срок?\" data-toc-modified-id=\"Есть-ли-зависимость-между-количеством-детей-и-возвратом-кредита-в-срок?-3.1\"><span class=\"toc-item-num\">3.1&nbsp;&nbsp;</span>Есть ли зависимость между количеством детей и возвратом кредита в срок?</a></span></li><li><span><a href=\"#Есть-ли-зависимость-между-семейным-положением-и-возвратом-кредита-в-срок?\" data-toc-modified-id=\"Есть-ли-зависимость-между-семейным-положением-и-возвратом-кредита-в-срок?-3.2\"><span class=\"toc-item-num\">3.2&nbsp;&nbsp;</span>Есть ли зависимость между семейным положением и возвратом кредита в срок?</a></span></li><li><span><a href=\"#Есть-ли-зависимость-между-уровнем-дохода-и-возвратом-кредита-в-срок?\" data-toc-modified-id=\"Есть-ли-зависимость-между-уровнем-дохода-и-возвратом-кредита-в-срок?-3.3\"><span class=\"toc-item-num\">3.3&nbsp;&nbsp;</span>Есть ли зависимость между уровнем дохода и возвратом кредита в срок?</a></span></li><li><span><a href=\"#Как-разные-цели-кредита-влияют-на-его-возврат-в-срок?\" data-toc-modified-id=\"Как-разные-цели-кредита-влияют-на-его-возврат-в-срок?-3.4\"><span class=\"toc-item-num\">3.4&nbsp;&nbsp;</span>Как разные цели кредита влияют на его возврат в срок?</a></span></li><li><span><a href=\"#Приведите-возможные-причины-появления-пропусков-в-исходных-данных.\" data-toc-modified-id=\"Приведите-возможные-причины-появления-пропусков-в-исходных-данных.-3.5\"><span class=\"toc-item-num\">3.5&nbsp;&nbsp;</span>Приведите возможные причины появления пропусков в исходных данных.</a></span></li><li><span><a href=\"#Объясните,-почему-заполнить-пропуски-медианным-значением-—-лучшее-решение-для-количественных-переменных.\" data-toc-modified-id=\"Объясните,-почему-заполнить-пропуски-медианным-значением-—-лучшее-решение-для-количественных-переменных.-3.6\"><span class=\"toc-item-num\">3.6&nbsp;&nbsp;</span>Объясните, почему заполнить пропуски медианным значением — лучшее решение для количественных переменных.</a></span></li><li><span><a href=\"#Общий-вывод\" data-toc-modified-id=\"Общий-вывод-3.7\"><span class=\"toc-item-num\">3.7&nbsp;&nbsp;</span>Общий вывод</a></span></li></ul></li></ul></div>"
   ]
  },
  {
   "attachments": {},
   "cell_type": "markdown",
   "id": "0a4e76eb",
   "metadata": {
    "id": "c81daeeb"
   },
   "source": [
    "# Исследование надежности заемщиков\n"
   ]
  },
  {
   "attachments": {},
   "cell_type": "markdown",
   "id": "23d7e3e0",
   "metadata": {
    "id": "744d7639"
   },
   "source": [
    "## Откройте таблицу и изучите общую информацию о данных"
   ]
  },
  {
   "attachments": {},
   "cell_type": "markdown",
   "id": "0b752df9",
   "metadata": {
    "id": "e7a14c31"
   },
   "source": [
    "**Задание 1. Импортируйте библиотеку pandas. Считайте данные из csv-файла в датафрейм и сохраните в переменную `data`. Путь к файлу:**\n",
    "\n",
    "`/datasets/data.csv`"
   ]
  },
  {
   "cell_type": "code",
   "execution_count": 39,
   "id": "8a5fc2f9",
   "metadata": {
    "ExecuteTime": {
     "end_time": "2023-02-02T06:55:38.769711Z",
     "start_time": "2023-02-02T06:55:37.633224Z"
    },
    "id": "7bcf75c9"
   },
   "outputs": [],
   "source": [
    "import pandas as pd\n",
    "\n",
    "data = pd.read_csv('./datasets/data.csv')"
   ]
  },
  {
   "attachments": {},
   "cell_type": "markdown",
   "id": "46a4942c",
   "metadata": {
    "id": "b8038fe3"
   },
   "source": [
    "**Задание 2. Выведите первые 20 строчек датафрейма `data` на экран.**"
   ]
  },
  {
   "cell_type": "code",
   "execution_count": 40,
   "id": "8befc5e7",
   "metadata": {
    "ExecuteTime": {
     "end_time": "2023-02-02T06:55:38.799674Z",
     "start_time": "2023-02-02T06:55:38.770708Z"
    },
    "id": "2a7cab99",
    "outputId": "1a8f3ef2-d323-4ec2-ddf7-89670b5944c4",
    "scrolled": true
   },
   "outputs": [
    {
     "data": {
      "text/html": [
       "<div>\n",
       "<style scoped>\n",
       "    .dataframe tbody tr th:only-of-type {\n",
       "        vertical-align: middle;\n",
       "    }\n",
       "\n",
       "    .dataframe tbody tr th {\n",
       "        vertical-align: top;\n",
       "    }\n",
       "\n",
       "    .dataframe thead th {\n",
       "        text-align: right;\n",
       "    }\n",
       "</style>\n",
       "<table border=\"1\" class=\"dataframe\">\n",
       "  <thead>\n",
       "    <tr style=\"text-align: right;\">\n",
       "      <th></th>\n",
       "      <th>children</th>\n",
       "      <th>days_employed</th>\n",
       "      <th>dob_years</th>\n",
       "      <th>education</th>\n",
       "      <th>education_id</th>\n",
       "      <th>family_status</th>\n",
       "      <th>family_status_id</th>\n",
       "      <th>gender</th>\n",
       "      <th>income_type</th>\n",
       "      <th>debt</th>\n",
       "      <th>total_income</th>\n",
       "      <th>purpose</th>\n",
       "    </tr>\n",
       "  </thead>\n",
       "  <tbody>\n",
       "    <tr>\n",
       "      <th>0</th>\n",
       "      <td>1</td>\n",
       "      <td>-8437.673028</td>\n",
       "      <td>42</td>\n",
       "      <td>высшее</td>\n",
       "      <td>0</td>\n",
       "      <td>женат / замужем</td>\n",
       "      <td>0</td>\n",
       "      <td>F</td>\n",
       "      <td>сотрудник</td>\n",
       "      <td>0</td>\n",
       "      <td>253875.639453</td>\n",
       "      <td>покупка жилья</td>\n",
       "    </tr>\n",
       "    <tr>\n",
       "      <th>1</th>\n",
       "      <td>1</td>\n",
       "      <td>-4024.803754</td>\n",
       "      <td>36</td>\n",
       "      <td>среднее</td>\n",
       "      <td>1</td>\n",
       "      <td>женат / замужем</td>\n",
       "      <td>0</td>\n",
       "      <td>F</td>\n",
       "      <td>сотрудник</td>\n",
       "      <td>0</td>\n",
       "      <td>112080.014102</td>\n",
       "      <td>приобретение автомобиля</td>\n",
       "    </tr>\n",
       "    <tr>\n",
       "      <th>2</th>\n",
       "      <td>0</td>\n",
       "      <td>-5623.422610</td>\n",
       "      <td>33</td>\n",
       "      <td>Среднее</td>\n",
       "      <td>1</td>\n",
       "      <td>женат / замужем</td>\n",
       "      <td>0</td>\n",
       "      <td>M</td>\n",
       "      <td>сотрудник</td>\n",
       "      <td>0</td>\n",
       "      <td>145885.952297</td>\n",
       "      <td>покупка жилья</td>\n",
       "    </tr>\n",
       "    <tr>\n",
       "      <th>3</th>\n",
       "      <td>3</td>\n",
       "      <td>-4124.747207</td>\n",
       "      <td>32</td>\n",
       "      <td>среднее</td>\n",
       "      <td>1</td>\n",
       "      <td>женат / замужем</td>\n",
       "      <td>0</td>\n",
       "      <td>M</td>\n",
       "      <td>сотрудник</td>\n",
       "      <td>0</td>\n",
       "      <td>267628.550329</td>\n",
       "      <td>дополнительное образование</td>\n",
       "    </tr>\n",
       "    <tr>\n",
       "      <th>4</th>\n",
       "      <td>0</td>\n",
       "      <td>340266.072047</td>\n",
       "      <td>53</td>\n",
       "      <td>среднее</td>\n",
       "      <td>1</td>\n",
       "      <td>гражданский брак</td>\n",
       "      <td>1</td>\n",
       "      <td>F</td>\n",
       "      <td>пенсионер</td>\n",
       "      <td>0</td>\n",
       "      <td>158616.077870</td>\n",
       "      <td>сыграть свадьбу</td>\n",
       "    </tr>\n",
       "    <tr>\n",
       "      <th>5</th>\n",
       "      <td>0</td>\n",
       "      <td>-926.185831</td>\n",
       "      <td>27</td>\n",
       "      <td>высшее</td>\n",
       "      <td>0</td>\n",
       "      <td>гражданский брак</td>\n",
       "      <td>1</td>\n",
       "      <td>M</td>\n",
       "      <td>компаньон</td>\n",
       "      <td>0</td>\n",
       "      <td>255763.565419</td>\n",
       "      <td>покупка жилья</td>\n",
       "    </tr>\n",
       "    <tr>\n",
       "      <th>6</th>\n",
       "      <td>0</td>\n",
       "      <td>-2879.202052</td>\n",
       "      <td>43</td>\n",
       "      <td>высшее</td>\n",
       "      <td>0</td>\n",
       "      <td>женат / замужем</td>\n",
       "      <td>0</td>\n",
       "      <td>F</td>\n",
       "      <td>компаньон</td>\n",
       "      <td>0</td>\n",
       "      <td>240525.971920</td>\n",
       "      <td>операции с жильем</td>\n",
       "    </tr>\n",
       "    <tr>\n",
       "      <th>7</th>\n",
       "      <td>0</td>\n",
       "      <td>-152.779569</td>\n",
       "      <td>50</td>\n",
       "      <td>СРЕДНЕЕ</td>\n",
       "      <td>1</td>\n",
       "      <td>женат / замужем</td>\n",
       "      <td>0</td>\n",
       "      <td>M</td>\n",
       "      <td>сотрудник</td>\n",
       "      <td>0</td>\n",
       "      <td>135823.934197</td>\n",
       "      <td>образование</td>\n",
       "    </tr>\n",
       "    <tr>\n",
       "      <th>8</th>\n",
       "      <td>2</td>\n",
       "      <td>-6929.865299</td>\n",
       "      <td>35</td>\n",
       "      <td>ВЫСШЕЕ</td>\n",
       "      <td>0</td>\n",
       "      <td>гражданский брак</td>\n",
       "      <td>1</td>\n",
       "      <td>F</td>\n",
       "      <td>сотрудник</td>\n",
       "      <td>0</td>\n",
       "      <td>95856.832424</td>\n",
       "      <td>на проведение свадьбы</td>\n",
       "    </tr>\n",
       "    <tr>\n",
       "      <th>9</th>\n",
       "      <td>0</td>\n",
       "      <td>-2188.756445</td>\n",
       "      <td>41</td>\n",
       "      <td>среднее</td>\n",
       "      <td>1</td>\n",
       "      <td>женат / замужем</td>\n",
       "      <td>0</td>\n",
       "      <td>M</td>\n",
       "      <td>сотрудник</td>\n",
       "      <td>0</td>\n",
       "      <td>144425.938277</td>\n",
       "      <td>покупка жилья для семьи</td>\n",
       "    </tr>\n",
       "    <tr>\n",
       "      <th>10</th>\n",
       "      <td>2</td>\n",
       "      <td>-4171.483647</td>\n",
       "      <td>36</td>\n",
       "      <td>высшее</td>\n",
       "      <td>0</td>\n",
       "      <td>женат / замужем</td>\n",
       "      <td>0</td>\n",
       "      <td>M</td>\n",
       "      <td>компаньон</td>\n",
       "      <td>0</td>\n",
       "      <td>113943.491460</td>\n",
       "      <td>покупка недвижимости</td>\n",
       "    </tr>\n",
       "    <tr>\n",
       "      <th>11</th>\n",
       "      <td>0</td>\n",
       "      <td>-792.701887</td>\n",
       "      <td>40</td>\n",
       "      <td>среднее</td>\n",
       "      <td>1</td>\n",
       "      <td>женат / замужем</td>\n",
       "      <td>0</td>\n",
       "      <td>F</td>\n",
       "      <td>сотрудник</td>\n",
       "      <td>0</td>\n",
       "      <td>77069.234271</td>\n",
       "      <td>покупка коммерческой недвижимости</td>\n",
       "    </tr>\n",
       "    <tr>\n",
       "      <th>12</th>\n",
       "      <td>0</td>\n",
       "      <td>NaN</td>\n",
       "      <td>65</td>\n",
       "      <td>среднее</td>\n",
       "      <td>1</td>\n",
       "      <td>гражданский брак</td>\n",
       "      <td>1</td>\n",
       "      <td>M</td>\n",
       "      <td>пенсионер</td>\n",
       "      <td>0</td>\n",
       "      <td>NaN</td>\n",
       "      <td>сыграть свадьбу</td>\n",
       "    </tr>\n",
       "    <tr>\n",
       "      <th>13</th>\n",
       "      <td>0</td>\n",
       "      <td>-1846.641941</td>\n",
       "      <td>54</td>\n",
       "      <td>неоконченное высшее</td>\n",
       "      <td>2</td>\n",
       "      <td>женат / замужем</td>\n",
       "      <td>0</td>\n",
       "      <td>F</td>\n",
       "      <td>сотрудник</td>\n",
       "      <td>0</td>\n",
       "      <td>130458.228857</td>\n",
       "      <td>приобретение автомобиля</td>\n",
       "    </tr>\n",
       "    <tr>\n",
       "      <th>14</th>\n",
       "      <td>0</td>\n",
       "      <td>-1844.956182</td>\n",
       "      <td>56</td>\n",
       "      <td>высшее</td>\n",
       "      <td>0</td>\n",
       "      <td>гражданский брак</td>\n",
       "      <td>1</td>\n",
       "      <td>F</td>\n",
       "      <td>компаньон</td>\n",
       "      <td>1</td>\n",
       "      <td>165127.911772</td>\n",
       "      <td>покупка жилой недвижимости</td>\n",
       "    </tr>\n",
       "    <tr>\n",
       "      <th>15</th>\n",
       "      <td>1</td>\n",
       "      <td>-972.364419</td>\n",
       "      <td>26</td>\n",
       "      <td>среднее</td>\n",
       "      <td>1</td>\n",
       "      <td>женат / замужем</td>\n",
       "      <td>0</td>\n",
       "      <td>F</td>\n",
       "      <td>сотрудник</td>\n",
       "      <td>0</td>\n",
       "      <td>116820.904450</td>\n",
       "      <td>строительство собственной недвижимости</td>\n",
       "    </tr>\n",
       "    <tr>\n",
       "      <th>16</th>\n",
       "      <td>0</td>\n",
       "      <td>-1719.934226</td>\n",
       "      <td>35</td>\n",
       "      <td>среднее</td>\n",
       "      <td>1</td>\n",
       "      <td>женат / замужем</td>\n",
       "      <td>0</td>\n",
       "      <td>F</td>\n",
       "      <td>сотрудник</td>\n",
       "      <td>0</td>\n",
       "      <td>289202.704229</td>\n",
       "      <td>недвижимость</td>\n",
       "    </tr>\n",
       "    <tr>\n",
       "      <th>17</th>\n",
       "      <td>0</td>\n",
       "      <td>-2369.999720</td>\n",
       "      <td>33</td>\n",
       "      <td>высшее</td>\n",
       "      <td>0</td>\n",
       "      <td>гражданский брак</td>\n",
       "      <td>1</td>\n",
       "      <td>M</td>\n",
       "      <td>сотрудник</td>\n",
       "      <td>0</td>\n",
       "      <td>90410.586745</td>\n",
       "      <td>строительство недвижимости</td>\n",
       "    </tr>\n",
       "    <tr>\n",
       "      <th>18</th>\n",
       "      <td>0</td>\n",
       "      <td>400281.136913</td>\n",
       "      <td>53</td>\n",
       "      <td>среднее</td>\n",
       "      <td>1</td>\n",
       "      <td>вдовец / вдова</td>\n",
       "      <td>2</td>\n",
       "      <td>F</td>\n",
       "      <td>пенсионер</td>\n",
       "      <td>0</td>\n",
       "      <td>56823.777243</td>\n",
       "      <td>на покупку подержанного автомобиля</td>\n",
       "    </tr>\n",
       "    <tr>\n",
       "      <th>19</th>\n",
       "      <td>0</td>\n",
       "      <td>-10038.818549</td>\n",
       "      <td>48</td>\n",
       "      <td>СРЕДНЕЕ</td>\n",
       "      <td>1</td>\n",
       "      <td>в разводе</td>\n",
       "      <td>3</td>\n",
       "      <td>F</td>\n",
       "      <td>сотрудник</td>\n",
       "      <td>0</td>\n",
       "      <td>242831.107982</td>\n",
       "      <td>на покупку своего автомобиля</td>\n",
       "    </tr>\n",
       "  </tbody>\n",
       "</table>\n",
       "</div>"
      ],
      "text/plain": [
       "    children  days_employed  dob_years            education  education_id   \n",
       "0          1   -8437.673028         42               высшее             0  \\\n",
       "1          1   -4024.803754         36              среднее             1   \n",
       "2          0   -5623.422610         33              Среднее             1   \n",
       "3          3   -4124.747207         32              среднее             1   \n",
       "4          0  340266.072047         53              среднее             1   \n",
       "5          0    -926.185831         27               высшее             0   \n",
       "6          0   -2879.202052         43               высшее             0   \n",
       "7          0    -152.779569         50              СРЕДНЕЕ             1   \n",
       "8          2   -6929.865299         35               ВЫСШЕЕ             0   \n",
       "9          0   -2188.756445         41              среднее             1   \n",
       "10         2   -4171.483647         36               высшее             0   \n",
       "11         0    -792.701887         40              среднее             1   \n",
       "12         0            NaN         65              среднее             1   \n",
       "13         0   -1846.641941         54  неоконченное высшее             2   \n",
       "14         0   -1844.956182         56               высшее             0   \n",
       "15         1    -972.364419         26              среднее             1   \n",
       "16         0   -1719.934226         35              среднее             1   \n",
       "17         0   -2369.999720         33               высшее             0   \n",
       "18         0  400281.136913         53              среднее             1   \n",
       "19         0  -10038.818549         48              СРЕДНЕЕ             1   \n",
       "\n",
       "       family_status  family_status_id gender income_type  debt   \n",
       "0    женат / замужем                 0      F   сотрудник     0  \\\n",
       "1    женат / замужем                 0      F   сотрудник     0   \n",
       "2    женат / замужем                 0      M   сотрудник     0   \n",
       "3    женат / замужем                 0      M   сотрудник     0   \n",
       "4   гражданский брак                 1      F   пенсионер     0   \n",
       "5   гражданский брак                 1      M   компаньон     0   \n",
       "6    женат / замужем                 0      F   компаньон     0   \n",
       "7    женат / замужем                 0      M   сотрудник     0   \n",
       "8   гражданский брак                 1      F   сотрудник     0   \n",
       "9    женат / замужем                 0      M   сотрудник     0   \n",
       "10   женат / замужем                 0      M   компаньон     0   \n",
       "11   женат / замужем                 0      F   сотрудник     0   \n",
       "12  гражданский брак                 1      M   пенсионер     0   \n",
       "13   женат / замужем                 0      F   сотрудник     0   \n",
       "14  гражданский брак                 1      F   компаньон     1   \n",
       "15   женат / замужем                 0      F   сотрудник     0   \n",
       "16   женат / замужем                 0      F   сотрудник     0   \n",
       "17  гражданский брак                 1      M   сотрудник     0   \n",
       "18    вдовец / вдова                 2      F   пенсионер     0   \n",
       "19         в разводе                 3      F   сотрудник     0   \n",
       "\n",
       "     total_income                                 purpose  \n",
       "0   253875.639453                           покупка жилья  \n",
       "1   112080.014102                 приобретение автомобиля  \n",
       "2   145885.952297                           покупка жилья  \n",
       "3   267628.550329              дополнительное образование  \n",
       "4   158616.077870                         сыграть свадьбу  \n",
       "5   255763.565419                           покупка жилья  \n",
       "6   240525.971920                       операции с жильем  \n",
       "7   135823.934197                             образование  \n",
       "8    95856.832424                   на проведение свадьбы  \n",
       "9   144425.938277                 покупка жилья для семьи  \n",
       "10  113943.491460                    покупка недвижимости  \n",
       "11   77069.234271       покупка коммерческой недвижимости  \n",
       "12            NaN                         сыграть свадьбу  \n",
       "13  130458.228857                 приобретение автомобиля  \n",
       "14  165127.911772              покупка жилой недвижимости  \n",
       "15  116820.904450  строительство собственной недвижимости  \n",
       "16  289202.704229                            недвижимость  \n",
       "17   90410.586745              строительство недвижимости  \n",
       "18   56823.777243      на покупку подержанного автомобиля  \n",
       "19  242831.107982            на покупку своего автомобиля  "
      ]
     },
     "execution_count": 40,
     "metadata": {},
     "output_type": "execute_result"
    }
   ],
   "source": [
    "data.head(20)"
   ]
  },
  {
   "attachments": {},
   "cell_type": "markdown",
   "id": "b9f2c107",
   "metadata": {
    "id": "1c12e233"
   },
   "source": [
    "**Задание 3. Выведите основную информацию о датафрейме с помощью метода `info()`.**"
   ]
  },
  {
   "cell_type": "code",
   "execution_count": 41,
   "id": "8a2713a1",
   "metadata": {
    "ExecuteTime": {
     "end_time": "2023-02-02T06:55:38.830787Z",
     "start_time": "2023-02-02T06:55:38.801670Z"
    },
    "id": "2b757bca",
    "outputId": "15376089-8dad-46c9-b520-c05248d43158",
    "scrolled": true
   },
   "outputs": [
    {
     "name": "stdout",
     "output_type": "stream",
     "text": [
      "<class 'pandas.core.frame.DataFrame'>\n",
      "RangeIndex: 21525 entries, 0 to 21524\n",
      "Data columns (total 12 columns):\n",
      " #   Column            Non-Null Count  Dtype  \n",
      "---  ------            --------------  -----  \n",
      " 0   children          21525 non-null  int64  \n",
      " 1   days_employed     19351 non-null  float64\n",
      " 2   dob_years         21525 non-null  int64  \n",
      " 3   education         21525 non-null  object \n",
      " 4   education_id      21525 non-null  int64  \n",
      " 5   family_status     21525 non-null  object \n",
      " 6   family_status_id  21525 non-null  int64  \n",
      " 7   gender            21525 non-null  object \n",
      " 8   income_type       21525 non-null  object \n",
      " 9   debt              21525 non-null  int64  \n",
      " 10  total_income      19351 non-null  float64\n",
      " 11  purpose           21525 non-null  object \n",
      "dtypes: float64(2), int64(5), object(5)\n",
      "memory usage: 2.0+ MB\n"
     ]
    }
   ],
   "source": [
    "data.info()"
   ]
  },
  {
   "attachments": {},
   "cell_type": "markdown",
   "id": "f1ea11e2",
   "metadata": {
    "id": "333ec665"
   },
   "source": [
    "## Предобработка данных"
   ]
  },
  {
   "attachments": {},
   "cell_type": "markdown",
   "id": "8ba7dca2",
   "metadata": {
    "id": "02d92d53"
   },
   "source": [
    "### Удаление пропусков"
   ]
  },
  {
   "attachments": {},
   "cell_type": "markdown",
   "id": "69ead9b5",
   "metadata": {
    "id": "cd84967c"
   },
   "source": [
    "**Задание 4. Выведите количество пропущенных значений для каждого столбца. Используйте комбинацию двух методов.**"
   ]
  },
  {
   "cell_type": "code",
   "execution_count": 42,
   "id": "b359d06e",
   "metadata": {
    "ExecuteTime": {
     "end_time": "2023-02-02T06:55:38.846745Z",
     "start_time": "2023-02-02T06:55:38.831785Z"
    },
    "id": "7f9b2309",
    "outputId": "81f4d817-781c-465c-ed15-91ce4446810d"
   },
   "outputs": [
    {
     "data": {
      "text/plain": [
       "children               0\n",
       "days_employed       2174\n",
       "dob_years              0\n",
       "education              0\n",
       "education_id           0\n",
       "family_status          0\n",
       "family_status_id       0\n",
       "gender                 0\n",
       "income_type            0\n",
       "debt                   0\n",
       "total_income        2174\n",
       "purpose                0\n",
       "dtype: int64"
      ]
     },
     "execution_count": 42,
     "metadata": {},
     "output_type": "execute_result"
    }
   ],
   "source": [
    "data.isna().sum()"
   ]
  },
  {
   "attachments": {},
   "cell_type": "markdown",
   "id": "32238980",
   "metadata": {
    "id": "db86e27b"
   },
   "source": [
    "**Задание 5. В двух столбцах есть пропущенные значения. Один из них — `days_employed`. Пропуски в этом столбце вы обработаете на следующем этапе. Другой столбец с пропущенными значениями — `total_income` — хранит данные о доходах. На сумму дохода сильнее всего влияет тип занятости, поэтому заполнить пропуски в этом столбце нужно медианным значением по каждому типу из столбца `income_type`. Например, у человека с типом занятости `сотрудник` пропуск в столбце `total_income` должен быть заполнен медианным доходом среди всех записей с тем же типом.**"
   ]
  },
  {
   "cell_type": "code",
   "execution_count": 43,
   "id": "f7259c1b",
   "metadata": {
    "ExecuteTime": {
     "end_time": "2023-02-02T06:55:38.876665Z",
     "start_time": "2023-02-02T06:55:38.847743Z"
    },
    "id": "42006a93"
   },
   "outputs": [],
   "source": [
    "for t in data['income_type'].unique():\n",
    "    data.loc[(data['income_type'] == t) & (data['total_income'].isna()), 'total_income'] = \\\n",
    "        data.loc[(data['income_type'] == t), 'total_income'].median()"
   ]
  },
  {
   "attachments": {},
   "cell_type": "markdown",
   "id": "8841286f",
   "metadata": {
    "id": "89da5ece"
   },
   "source": [
    "### Обработка аномальных значений"
   ]
  },
  {
   "attachments": {},
   "cell_type": "markdown",
   "id": "4a98e10e",
   "metadata": {
    "id": "57964554"
   },
   "source": [
    "**Задание 6. В данных могут встречаться артефакты (аномалии) — значения, которые не отражают действительность и появились по какой-то ошибке. таким артефактом будет отрицательное количество дней трудового стажа в столбце `days_employed`. Для реальных данных это нормально. Обработайте значения в этом столбце: замените все отрицательные значения положительными с помощью метода `abs()`.**"
   ]
  },
  {
   "cell_type": "code",
   "execution_count": 44,
   "id": "fb1831e9",
   "metadata": {
    "ExecuteTime": {
     "end_time": "2023-02-02T06:55:38.891625Z",
     "start_time": "2023-02-02T06:55:38.878659Z"
    },
    "id": "f6f055bf"
   },
   "outputs": [],
   "source": [
    "data['days_employed'] = data['days_employed'].abs()"
   ]
  },
  {
   "attachments": {},
   "cell_type": "markdown",
   "id": "1835e80b",
   "metadata": {
    "id": "6107dd2f"
   },
   "source": [
    "**Задание 7. Для каждого типа занятости выведите медианное значение трудового стажа `days_employed` в днях.**"
   ]
  },
  {
   "cell_type": "code",
   "execution_count": 45,
   "id": "2a863c16",
   "metadata": {
    "ExecuteTime": {
     "end_time": "2023-02-02T06:55:38.906585Z",
     "start_time": "2023-02-02T06:55:38.892623Z"
    },
    "id": "85a5faf6",
    "outputId": "801ef80e-522b-4668-f34e-565af7432bcf"
   },
   "outputs": [
    {
     "data": {
      "text/plain": [
       "income_type\n",
       "безработный        366413.652744\n",
       "в декрете            3296.759962\n",
       "госслужащий          2689.368353\n",
       "компаньон            1547.382223\n",
       "пенсионер          365213.306266\n",
       "предприниматель       520.848083\n",
       "сотрудник            1574.202821\n",
       "студент               578.751554\n",
       "Name: days_employed, dtype: float64"
      ]
     },
     "execution_count": 45,
     "metadata": {},
     "output_type": "execute_result"
    }
   ],
   "source": [
    "data.groupby('income_type')['days_employed'].agg('median')"
   ]
  },
  {
   "attachments": {},
   "cell_type": "markdown",
   "id": "8f4d6a32",
   "metadata": {
    "id": "38d1a030"
   },
   "source": [
    "У двух типов (безработные и пенсионеры) получатся аномально большие значения. Исправить такие значения сложно, поэтому оставьте их как есть. Тем более этот столбец не понадобится вам для исследования."
   ]
  },
  {
   "attachments": {},
   "cell_type": "markdown",
   "id": "22c0759e",
   "metadata": {
    "id": "d8a9f147"
   },
   "source": [
    "**Задание 8. Выведите перечень уникальных значений столбца `children`.**"
   ]
  },
  {
   "cell_type": "code",
   "execution_count": 46,
   "id": "cc9cf05e",
   "metadata": {
    "ExecuteTime": {
     "end_time": "2023-02-02T06:55:38.921545Z",
     "start_time": "2023-02-02T06:55:38.907582Z"
    },
    "id": "ef5056eb",
    "outputId": "6975b15c-7f95-4697-d16d-a0c79b657b03"
   },
   "outputs": [
    {
     "data": {
      "text/plain": [
       "array([ 1,  0,  3,  2, -1,  4, 20,  5], dtype=int64)"
      ]
     },
     "execution_count": 46,
     "metadata": {},
     "output_type": "execute_result"
    }
   ],
   "source": [
    "data['children'].unique()"
   ]
  },
  {
   "attachments": {},
   "cell_type": "markdown",
   "id": "594804b7",
   "metadata": {
    "id": "40b9ebf2"
   },
   "source": [
    "**Задание 9. В столбце `children` есть два аномальных значения. Удалите строки, в которых встречаются такие аномальные значения из датафрейма `data`.**"
   ]
  },
  {
   "cell_type": "code",
   "execution_count": 47,
   "id": "5fbe3323",
   "metadata": {
    "ExecuteTime": {
     "end_time": "2023-02-02T06:55:38.936505Z",
     "start_time": "2023-02-02T06:55:38.923540Z"
    },
    "id": "3ff9801d"
   },
   "outputs": [],
   "source": [
    "data = data[(data['children'] != -1) & (data['children'] != 20)]"
   ]
  },
  {
   "attachments": {},
   "cell_type": "markdown",
   "id": "85de74ff",
   "metadata": {
    "id": "bbc4d0ce"
   },
   "source": [
    "**Задание 10. Ещё раз выведите перечень уникальных значений столбца `children`, чтобы убедиться, что артефакты удалены.**"
   ]
  },
  {
   "cell_type": "code",
   "execution_count": 48,
   "id": "b9b39fa5",
   "metadata": {
    "ExecuteTime": {
     "end_time": "2023-02-02T06:55:38.951465Z",
     "start_time": "2023-02-02T06:55:38.937502Z"
    },
    "id": "ad4fa8b7",
    "outputId": "b2097101-d49d-44d9-901b-32a65c9463d1"
   },
   "outputs": [
    {
     "data": {
      "text/plain": [
       "array([1, 0, 3, 2, 4, 5], dtype=int64)"
      ]
     },
     "execution_count": 48,
     "metadata": {},
     "output_type": "execute_result"
    }
   ],
   "source": [
    "data['children'].unique()"
   ]
  },
  {
   "attachments": {},
   "cell_type": "markdown",
   "id": "d720326b",
   "metadata": {
    "id": "75440b63"
   },
   "source": [
    "### Удаление пропусков (продолжение)"
   ]
  },
  {
   "attachments": {},
   "cell_type": "markdown",
   "id": "6f66a0bb",
   "metadata": {
    "id": "f4ea573f"
   },
   "source": [
    "**Задание 11. Заполните пропуски в столбце `days_employed` медианными значениями по каждого типа занятости `income_type`.**"
   ]
  },
  {
   "cell_type": "code",
   "execution_count": 49,
   "id": "dea6f5b5",
   "metadata": {
    "ExecuteTime": {
     "end_time": "2023-02-02T06:55:38.981384Z",
     "start_time": "2023-02-02T06:55:38.952463Z"
    },
    "id": "af6b1a7e"
   },
   "outputs": [],
   "source": [
    "for t in data['income_type'].unique():\n",
    "    data.loc[(data['income_type'] == t) & (data['days_employed'].isna()), 'days_employed'] = \\\n",
    "        data.loc[(data['income_type'] == t), 'days_employed'].median()"
   ]
  },
  {
   "attachments": {},
   "cell_type": "markdown",
   "id": "54854e81",
   "metadata": {
    "id": "2753f40d"
   },
   "source": [
    "**Задание 12. Убедитесь, что все пропуски заполнены. Проверьте себя и ещё раз выведите количество пропущенных значений для каждого столбца с помощью двух методов.**"
   ]
  },
  {
   "cell_type": "code",
   "execution_count": 50,
   "id": "5dd8600f",
   "metadata": {
    "ExecuteTime": {
     "end_time": "2023-02-02T06:55:38.997342Z",
     "start_time": "2023-02-02T06:55:38.982382Z"
    },
    "id": "55f78bc2",
    "outputId": "8da1e4e1-358e-4e87-98c9-f261bce0a7b2"
   },
   "outputs": [
    {
     "data": {
      "text/plain": [
       "children            0\n",
       "days_employed       0\n",
       "dob_years           0\n",
       "education           0\n",
       "education_id        0\n",
       "family_status       0\n",
       "family_status_id    0\n",
       "gender              0\n",
       "income_type         0\n",
       "debt                0\n",
       "total_income        0\n",
       "purpose             0\n",
       "dtype: int64"
      ]
     },
     "execution_count": 50,
     "metadata": {},
     "output_type": "execute_result"
    }
   ],
   "source": [
    "data.isna().sum()"
   ]
  },
  {
   "attachments": {},
   "cell_type": "markdown",
   "id": "6c65d62d",
   "metadata": {
    "id": "ddc81e43"
   },
   "source": [
    "### Изменение типов данных"
   ]
  },
  {
   "attachments": {},
   "cell_type": "markdown",
   "id": "4dd04e81",
   "metadata": {
    "id": "42d19d24"
   },
   "source": [
    "**Задание 13. Замените вещественный тип данных в столбце `total_income` на целочисленный с помощью метода `astype()`.**"
   ]
  },
  {
   "cell_type": "code",
   "execution_count": 51,
   "id": "5daab526",
   "metadata": {
    "ExecuteTime": {
     "end_time": "2023-02-02T06:55:39.012301Z",
     "start_time": "2023-02-02T06:55:38.998340Z"
    },
    "id": "920b65ad"
   },
   "outputs": [],
   "source": [
    "data['total_income'] = data['total_income'].astype(int)"
   ]
  },
  {
   "attachments": {},
   "cell_type": "markdown",
   "id": "e3995862",
   "metadata": {
    "id": "80c420ba"
   },
   "source": [
    "### Обработка дубликатов"
   ]
  },
  {
   "attachments": {},
   "cell_type": "markdown",
   "id": "16f00366",
   "metadata": {},
   "source": [
    "**Задание 14. Обработайте неявные дубликаты в столбце `education`. В этом столбце есть одни и те же значения, но записанные по-разному: с использованием заглавных и строчных букв. Приведите их к нижнему регистру. Проверьте остальные столбцы.**"
   ]
  },
  {
   "cell_type": "code",
   "execution_count": 52,
   "id": "8964e596",
   "metadata": {
    "ExecuteTime": {
     "end_time": "2023-02-02T06:55:39.027261Z",
     "start_time": "2023-02-02T06:55:39.013300Z"
    }
   },
   "outputs": [],
   "source": [
    "data['education'] = data['education'].str.lower()"
   ]
  },
  {
   "attachments": {},
   "cell_type": "markdown",
   "id": "125e33fb",
   "metadata": {
    "id": "dc587695"
   },
   "source": [
    "**Задание 15. Выведите на экран количество строк-дубликатов в данных. Если такие строки присутствуют, удалите их.**"
   ]
  },
  {
   "cell_type": "code",
   "execution_count": 53,
   "id": "fa68ad21",
   "metadata": {
    "ExecuteTime": {
     "end_time": "2023-02-02T06:55:39.043221Z",
     "start_time": "2023-02-02T06:55:39.028259Z"
    },
    "id": "3ee445e4",
    "outputId": "9684deba-1934-42d1-99e1-cda61740f822"
   },
   "outputs": [
    {
     "data": {
      "text/plain": [
       "71"
      ]
     },
     "execution_count": 53,
     "metadata": {},
     "output_type": "execute_result"
    }
   ],
   "source": [
    "data.duplicated().sum()"
   ]
  },
  {
   "cell_type": "code",
   "execution_count": 54,
   "id": "6451e916",
   "metadata": {
    "ExecuteTime": {
     "end_time": "2023-02-02T06:55:39.073140Z",
     "start_time": "2023-02-02T06:55:39.044218Z"
    },
    "id": "8575fe05"
   },
   "outputs": [],
   "source": [
    "data = data.drop_duplicates()"
   ]
  },
  {
   "attachments": {},
   "cell_type": "markdown",
   "id": "f5cdaa08",
   "metadata": {
    "id": "9904cf55"
   },
   "source": [
    "### Категоризация данных"
   ]
  },
  {
   "attachments": {},
   "cell_type": "markdown",
   "id": "3a911474",
   "metadata": {
    "id": "72fcc8a2"
   },
   "source": [
    "**Задание 16. На основании диапазонов, указанных ниже, создайте в датафрейме `data` столбец `total_income_category` с категориями:**\n",
    "\n",
    "- 0–30000 — `'E'`;\n",
    "- 30001–50000 — `'D'`;\n",
    "- 50001–200000 — `'C'`;\n",
    "- 200001–1000000 — `'B'`;\n",
    "- 1000001 и выше — `'A'`.\n",
    "\n",
    "\n",
    "**Например, кредитополучателю с доходом 25000 нужно назначить категорию `'E'`, а клиенту, получающему 235000, — `'B'`. Используйте собственную функцию с именем `categorize_income()` и метод `apply()`.**"
   ]
  },
  {
   "cell_type": "code",
   "execution_count": 55,
   "id": "09004ab9",
   "metadata": {
    "ExecuteTime": {
     "end_time": "2023-02-02T06:55:39.088100Z",
     "start_time": "2023-02-02T06:55:39.074136Z"
    },
    "id": "e1771346"
   },
   "outputs": [],
   "source": [
    "def categorize_income(income):\n",
    "    try:\n",
    "        if 0 <= income <= 30000:\n",
    "            return 'E'\n",
    "        elif 30001 <= income <= 50000:\n",
    "            return 'D'\n",
    "        elif 50001 <= income <= 200000:\n",
    "            return 'C'\n",
    "        elif 200001 <= income <= 1000000:\n",
    "            return 'B'\n",
    "        elif income >= 1000001:\n",
    "            return 'A'\n",
    "    except:\n",
    "        pass"
   ]
  },
  {
   "cell_type": "code",
   "execution_count": 56,
   "id": "7f55a4d2",
   "metadata": {
    "ExecuteTime": {
     "end_time": "2023-02-02T06:55:39.104057Z",
     "start_time": "2023-02-02T06:55:39.089096Z"
    },
    "id": "d5f3586d"
   },
   "outputs": [],
   "source": [
    "data['total_income_category'] = data['total_income'].apply(categorize_income)"
   ]
  },
  {
   "attachments": {},
   "cell_type": "markdown",
   "id": "8ee0acab",
   "metadata": {
    "id": "dde49b5c"
   },
   "source": [
    "**Задание 17. Выведите на экран перечень уникальных целей взятия кредита из столбца `purpose`.**"
   ]
  },
  {
   "cell_type": "code",
   "execution_count": 57,
   "id": "d432e194",
   "metadata": {
    "ExecuteTime": {
     "end_time": "2023-02-02T06:55:39.119016Z",
     "start_time": "2023-02-02T06:55:39.105055Z"
    },
    "id": "f67ce9b3",
    "outputId": "673c12d9-7d7e-4ae0-9812-c622c89dd244"
   },
   "outputs": [
    {
     "data": {
      "text/plain": [
       "array(['покупка жилья', 'приобретение автомобиля',\n",
       "       'дополнительное образование', 'сыграть свадьбу',\n",
       "       'операции с жильем', 'образование', 'на проведение свадьбы',\n",
       "       'покупка жилья для семьи', 'покупка недвижимости',\n",
       "       'покупка коммерческой недвижимости', 'покупка жилой недвижимости',\n",
       "       'строительство собственной недвижимости', 'недвижимость',\n",
       "       'строительство недвижимости', 'на покупку подержанного автомобиля',\n",
       "       'на покупку своего автомобиля',\n",
       "       'операции с коммерческой недвижимостью',\n",
       "       'строительство жилой недвижимости', 'жилье',\n",
       "       'операции со своей недвижимостью', 'автомобили',\n",
       "       'заняться образованием', 'сделка с подержанным автомобилем',\n",
       "       'получение образования', 'автомобиль', 'свадьба',\n",
       "       'получение дополнительного образования', 'покупка своего жилья',\n",
       "       'операции с недвижимостью', 'получение высшего образования',\n",
       "       'свой автомобиль', 'сделка с автомобилем',\n",
       "       'профильное образование', 'высшее образование',\n",
       "       'покупка жилья для сдачи', 'на покупку автомобиля', 'ремонт жилью',\n",
       "       'заняться высшим образованием'], dtype=object)"
      ]
     },
     "execution_count": 57,
     "metadata": {},
     "output_type": "execute_result"
    }
   ],
   "source": [
    "data['purpose'].unique()"
   ]
  },
  {
   "attachments": {},
   "cell_type": "markdown",
   "id": "3936e6bf",
   "metadata": {
    "id": "85d0aef0"
   },
   "source": [
    "**Задание 18. Создайте функцию, которая на основании данных из столбца `purpose` сформирует новый столбец `purpose_category`, в который войдут следующие категории:**\n",
    "\n",
    "- `'операции с автомобилем'`,\n",
    "- `'операции с недвижимостью'`,\n",
    "- `'проведение свадьбы'`,\n",
    "- `'получение образования'`.\n",
    "\n",
    "**Например, если в столбце `purpose` находится подстрока `'на покупку автомобиля'`, то в столбце `purpose_category` должна появиться строка `'операции с автомобилем'`.**\n",
    "\n",
    "**Используйте собственную функцию с именем `categorize_purpose()` и метод `apply()`. Изучите данные в столбце `purpose` и определите, какие подстроки помогут вам правильно определить категорию.**"
   ]
  },
  {
   "cell_type": "code",
   "execution_count": 58,
   "id": "3665e878",
   "metadata": {
    "ExecuteTime": {
     "end_time": "2023-02-02T06:55:39.133976Z",
     "start_time": "2023-02-02T06:55:39.120014Z"
    },
    "id": "e149fab4"
   },
   "outputs": [],
   "source": [
    "def categorize_purpose(row):\n",
    "    try:\n",
    "        if 'автом' in row:\n",
    "            return 'операции с автомобилем'\n",
    "        elif 'жил' in row or 'недвиж' in row:\n",
    "            return 'операции с недвижимостью'\n",
    "        elif 'свад' in row:\n",
    "            return 'проведение свадьбы'\n",
    "        elif 'образов' in row:\n",
    "            return 'получение образования'\n",
    "    except:\n",
    "        return 'нет категории'"
   ]
  },
  {
   "cell_type": "code",
   "execution_count": 59,
   "id": "7b82b9e7",
   "metadata": {
    "ExecuteTime": {
     "end_time": "2023-02-02T06:55:39.149934Z",
     "start_time": "2023-02-02T06:55:39.135972Z"
    },
    "id": "bf36e69b"
   },
   "outputs": [],
   "source": [
    "data['purpose_category'] = data['purpose'].apply(categorize_purpose)"
   ]
  },
  {
   "attachments": {},
   "cell_type": "markdown",
   "id": "6f96b179",
   "metadata": {
    "id": "09b242bf"
   },
   "source": [
    "## Исследование данных и ответы на вопросы"
   ]
  },
  {
   "attachments": {},
   "cell_type": "markdown",
   "id": "07736511",
   "metadata": {},
   "source": [
    "Оценим общее количество записей в датафрейме и подключим необходимые для построения графиков библиотеки:"
   ]
  },
  {
   "cell_type": "code",
   "execution_count": 60,
   "id": "db9af148",
   "metadata": {
    "ExecuteTime": {
     "end_time": "2023-02-02T06:55:40.051360Z",
     "start_time": "2023-02-02T06:55:39.150932Z"
    },
    "id": "2cacfc4a"
   },
   "outputs": [
    {
     "name": "stdout",
     "output_type": "stream",
     "text": [
      "21331\n"
     ]
    }
   ],
   "source": [
    "# общее число записей в датафрейме\n",
    "import seaborn as sns\n",
    "import matplotlib.pyplot as plt\n",
    "print(len(data))\n",
    "# подключаем графические библиотеки"
   ]
  },
  {
   "attachments": {},
   "cell_type": "markdown",
   "id": "b013525e",
   "metadata": {
    "id": "c5d66278"
   },
   "source": [
    "### Есть ли зависимость между количеством детей и возвратом кредита в срок?"
   ]
  },
  {
   "attachments": {},
   "cell_type": "markdown",
   "id": "f8701412",
   "metadata": {},
   "source": [
    "Для вывления зависимости между количеством детей и фактом наличия долга/возврата кредита в срок сгруппируем данные по факту наличия детей `children` и найдем общее количество должников в каждой категории. Соберем полученный результат в сводную таблицу."
   ]
  },
  {
   "cell_type": "code",
   "execution_count": 61,
   "id": "97817c5a",
   "metadata": {
    "ExecuteTime": {
     "end_time": "2023-02-02T06:55:40.066772Z",
     "start_time": "2023-02-02T06:55:40.052773Z"
    }
   },
   "outputs": [
    {
     "data": {
      "text/html": [
       "<div>\n",
       "<style scoped>\n",
       "    .dataframe tbody tr th:only-of-type {\n",
       "        vertical-align: middle;\n",
       "    }\n",
       "\n",
       "    .dataframe tbody tr th {\n",
       "        vertical-align: top;\n",
       "    }\n",
       "\n",
       "    .dataframe thead th {\n",
       "        text-align: right;\n",
       "    }\n",
       "</style>\n",
       "<table border=\"1\" class=\"dataframe\">\n",
       "  <thead>\n",
       "    <tr style=\"text-align: right;\">\n",
       "      <th></th>\n",
       "      <th>Количество детей</th>\n",
       "      <th>Всего заемщиков</th>\n",
       "      <th>Количество невозвратов</th>\n",
       "      <th>Доля невозвратов в %</th>\n",
       "    </tr>\n",
       "  </thead>\n",
       "  <tbody>\n",
       "    <tr>\n",
       "      <th>0</th>\n",
       "      <td>0</td>\n",
       "      <td>14091</td>\n",
       "      <td>1063</td>\n",
       "      <td>7.543822</td>\n",
       "    </tr>\n",
       "    <tr>\n",
       "      <th>1</th>\n",
       "      <td>1</td>\n",
       "      <td>4808</td>\n",
       "      <td>444</td>\n",
       "      <td>9.234609</td>\n",
       "    </tr>\n",
       "    <tr>\n",
       "      <th>2</th>\n",
       "      <td>2</td>\n",
       "      <td>2052</td>\n",
       "      <td>194</td>\n",
       "      <td>9.454191</td>\n",
       "    </tr>\n",
       "    <tr>\n",
       "      <th>3</th>\n",
       "      <td>3</td>\n",
       "      <td>330</td>\n",
       "      <td>27</td>\n",
       "      <td>8.181818</td>\n",
       "    </tr>\n",
       "    <tr>\n",
       "      <th>4</th>\n",
       "      <td>4</td>\n",
       "      <td>41</td>\n",
       "      <td>4</td>\n",
       "      <td>9.756098</td>\n",
       "    </tr>\n",
       "    <tr>\n",
       "      <th>5</th>\n",
       "      <td>5</td>\n",
       "      <td>9</td>\n",
       "      <td>0</td>\n",
       "      <td>0.000000</td>\n",
       "    </tr>\n",
       "  </tbody>\n",
       "</table>\n",
       "</div>"
      ],
      "text/plain": [
       "   Количество детей  Всего заемщиков  Количество невозвратов   \n",
       "0                 0            14091                    1063  \\\n",
       "1                 1             4808                     444   \n",
       "2                 2             2052                     194   \n",
       "3                 3              330                      27   \n",
       "4                 4               41                       4   \n",
       "5                 5                9                       0   \n",
       "\n",
       "   Доля невозвратов в %  \n",
       "0              7.543822  \n",
       "1              9.234609  \n",
       "2              9.454191  \n",
       "3              8.181818  \n",
       "4              9.756098  \n",
       "5              0.000000  "
      ]
     },
     "execution_count": 61,
     "metadata": {},
     "output_type": "execute_result"
    }
   ],
   "source": [
    "children_pivot = data.groupby('children').agg(\n",
    "    {'debt': ['count', 'sum', 'mean']})\n",
    "children_pivot = children_pivot['debt']\n",
    "children_pivot['mean'] = 100*children_pivot['mean']\n",
    "children_pivot.reset_index(inplace=True)\n",
    "children_pivot.columns = ['Количество детей', 'Всего заемщиков',\n",
    "                          'Количество невозвратов', 'Доля невозвратов в %']\n",
    "children_pivot"
   ]
  },
  {
   "attachments": {},
   "cell_type": "markdown",
   "id": "30a4b914",
   "metadata": {},
   "source": [
    "\n",
    "Построим столбчатую диаграмму для визуализации результата:"
   ]
  },
  {
   "cell_type": "code",
   "execution_count": 62,
   "id": "73a2fe93",
   "metadata": {
    "ExecuteTime": {
     "end_time": "2023-02-02T06:55:40.192465Z",
     "start_time": "2023-02-02T06:55:40.067733Z"
    }
   },
   "outputs": [
    {
     "data": {
      "image/png": "[encoded data removed]",
      "text/plain": [
       "<Figure size 1000x400 with 1 Axes>"
      ]
     },
     "metadata": {},
     "output_type": "display_data"
    }
   ],
   "source": [
    "plt.figure(figsize=(10, 4))\n",
    "sns.barplot(data=children_pivot, x='Количество детей',\n",
    "            y='Доля невозвратов в %')\n",
    "plt.title('Зависимость между количеством детей и долей задолженности')\n",
    "plt.xticks(rotation=20)\n",
    "plt.show()"
   ]
  },
  {
   "attachments": {},
   "cell_type": "markdown",
   "id": "e5c417d1",
   "metadata": {},
   "source": [
    "Дополнительно проведем короткий анализ без учета количества детей:"
   ]
  },
  {
   "cell_type": "code",
   "execution_count": 63,
   "id": "76f07299",
   "metadata": {
    "ExecuteTime": {
     "end_time": "2023-02-02T06:55:40.207425Z",
     "start_time": "2023-02-02T06:55:40.194461Z"
    }
   },
   "outputs": [
    {
     "data": {
      "text/plain": [
       "0        есть\n",
       "1        есть\n",
       "2         нет\n",
       "3        есть\n",
       "4         нет\n",
       "         ... \n",
       "21520    есть\n",
       "21521     нет\n",
       "21522    есть\n",
       "21523    есть\n",
       "21524    есть\n",
       "Name: have_children, Length: 21331, dtype: object"
      ]
     },
     "execution_count": 63,
     "metadata": {},
     "output_type": "execute_result"
    }
   ],
   "source": [
    "# функция маркировки есть или нет дети\n",
    "def have_children(children):\n",
    "    if children >= 1:\n",
    "        return 'есть'\n",
    "    else:\n",
    "        return 'нет'\n",
    "\n",
    "\n",
    "# новый столбец со значениями 1 - есть, 0 - нет\n",
    "data['have_children'] = data['children'].apply(have_children)\n",
    "data['have_children']"
   ]
  },
  {
   "cell_type": "code",
   "execution_count": 64,
   "id": "6e159989",
   "metadata": {
    "ExecuteTime": {
     "end_time": "2023-02-02T06:55:40.222384Z",
     "start_time": "2023-02-02T06:55:40.208421Z"
    }
   },
   "outputs": [
    {
     "data": {
      "text/html": [
       "<div>\n",
       "<style scoped>\n",
       "    .dataframe tbody tr th:only-of-type {\n",
       "        vertical-align: middle;\n",
       "    }\n",
       "\n",
       "    .dataframe tbody tr th {\n",
       "        vertical-align: top;\n",
       "    }\n",
       "\n",
       "    .dataframe thead th {\n",
       "        text-align: right;\n",
       "    }\n",
       "</style>\n",
       "<table border=\"1\" class=\"dataframe\">\n",
       "  <thead>\n",
       "    <tr style=\"text-align: right;\">\n",
       "      <th></th>\n",
       "      <th>Дети</th>\n",
       "      <th>Всего заемщиков</th>\n",
       "      <th>Количество невозвратов</th>\n",
       "      <th>Доля невозвратов в %</th>\n",
       "    </tr>\n",
       "  </thead>\n",
       "  <tbody>\n",
       "    <tr>\n",
       "      <th>0</th>\n",
       "      <td>есть</td>\n",
       "      <td>7240</td>\n",
       "      <td>669</td>\n",
       "      <td>9.240331</td>\n",
       "    </tr>\n",
       "    <tr>\n",
       "      <th>1</th>\n",
       "      <td>нет</td>\n",
       "      <td>14091</td>\n",
       "      <td>1063</td>\n",
       "      <td>7.543822</td>\n",
       "    </tr>\n",
       "  </tbody>\n",
       "</table>\n",
       "</div>"
      ],
      "text/plain": [
       "   Дети  Всего заемщиков  Количество невозвратов  Доля невозвратов в %\n",
       "0  есть             7240                     669              9.240331\n",
       "1   нет            14091                    1063              7.543822"
      ]
     },
     "execution_count": 64,
     "metadata": {},
     "output_type": "execute_result"
    }
   ],
   "source": [
    "have_children_pivot = data.groupby('have_children').agg(\n",
    "    {'debt': ['count', 'sum', 'mean']})\n",
    "have_children_pivot = have_children_pivot['debt']\n",
    "have_children_pivot['mean'] = 100*have_children_pivot['mean']\n",
    "have_children_pivot.reset_index(inplace=True)\n",
    "have_children_pivot.columns = [\n",
    "    'Дети', 'Всего заемщиков', 'Количество невозвратов', 'Доля невозвратов в %']\n",
    "have_children_pivot"
   ]
  },
  {
   "cell_type": "code",
   "execution_count": 65,
   "id": "7b6e5208",
   "metadata": {
    "ExecuteTime": {
     "end_time": "2023-02-02T06:55:40.300176Z",
     "start_time": "2023-02-02T06:55:40.226374Z"
    }
   },
   "outputs": [
    {
     "data": {
      "image/png": "[encoded data removed]",
      "text/plain": [
       "<Figure size 600x400 with 1 Axes>"
      ]
     },
     "metadata": {},
     "output_type": "display_data"
    }
   ],
   "source": [
    "plt.figure(figsize=(6, 4))\n",
    "sns.barplot(data=have_children_pivot, x='Дети', y='Доля невозвратов в %')\n",
    "plt.title('Зависимость между наличием детей и долей задолженности')\n",
    "plt.xticks(rotation=20)\n",
    "plt.show()"
   ]
  },
  {
   "attachments": {},
   "cell_type": "markdown",
   "id": "162ce7e1",
   "metadata": {
    "id": "3a6b99ec"
   },
   "source": [
    "**Вывод:** Таким образом, можем выявить следующие зависимости между наличием детей и фактом задолженнности: \n",
    "1. Самыми надежными заемщиками являются клиенты без детей. Среди них 7.54% должников;\n",
    "2. К категориям риска стоит отнести заемщикой с 1, 2 и 4 детьми, у них 9.23%, 9.45% и 9.76% невозвратов соотвественно. Но выборка для клиентов с 4 детьми недостаточна для точной оценки;\n",
    "3. Клиенты с тремя детьми отличаются хорошим процентом невозвратов - 8.18%, что выпадает от большинства категорий заемщиков-родителей;\n",
    "4. Стоит отметить факт того, что в редких семьях с пятью детьми (таких всего 9), должников нет, что говорит о том, что, скорее всего, выборка недостаточна для данной категории.\n",
    "5. Если провести анализ без учета количества детей (только по факту их наличия), то однозначно более надежными заемщиками выглядят клиенты без детей с 7.54% невозвратов, тогда как у всех с детьми - 9.24%."
   ]
  },
  {
   "attachments": {},
   "cell_type": "markdown",
   "id": "07a2125f",
   "metadata": {
    "id": "97be82ca"
   },
   "source": [
    "### Есть ли зависимость между семейным положением и возвратом кредита в срок?"
   ]
  },
  {
   "attachments": {},
   "cell_type": "markdown",
   "id": "55570e38",
   "metadata": {},
   "source": [
    "Для вывления зависимости между семейным положением и фактом наличия долга/возврата кредита в срок сгруппируем данные по семейному положению `family_status` и найдем общее количество должников в каждой категории. Соберем полученный результат в сводную таблицу и построим столбчатую диаграмму:"
   ]
  },
  {
   "cell_type": "code",
   "execution_count": 66,
   "id": "295b7974",
   "metadata": {
    "ExecuteTime": {
     "end_time": "2023-02-02T06:55:40.315137Z",
     "start_time": "2023-02-02T06:55:40.301175Z"
    },
    "id": "dc3f7ee8"
   },
   "outputs": [
    {
     "data": {
      "text/html": [
       "<div>\n",
       "<style scoped>\n",
       "    .dataframe tbody tr th:only-of-type {\n",
       "        vertical-align: middle;\n",
       "    }\n",
       "\n",
       "    .dataframe tbody tr th {\n",
       "        vertical-align: top;\n",
       "    }\n",
       "\n",
       "    .dataframe thead th {\n",
       "        text-align: right;\n",
       "    }\n",
       "</style>\n",
       "<table border=\"1\" class=\"dataframe\">\n",
       "  <thead>\n",
       "    <tr style=\"text-align: right;\">\n",
       "      <th></th>\n",
       "      <th>Семейное положение</th>\n",
       "      <th>Всего заемщиков</th>\n",
       "      <th>Количество невозвратов</th>\n",
       "      <th>Доля невозвратов в %</th>\n",
       "    </tr>\n",
       "  </thead>\n",
       "  <tbody>\n",
       "    <tr>\n",
       "      <th>0</th>\n",
       "      <td>Не женат / не замужем</td>\n",
       "      <td>2796</td>\n",
       "      <td>273</td>\n",
       "      <td>9.763948</td>\n",
       "    </tr>\n",
       "    <tr>\n",
       "      <th>1</th>\n",
       "      <td>в разводе</td>\n",
       "      <td>1189</td>\n",
       "      <td>84</td>\n",
       "      <td>7.064760</td>\n",
       "    </tr>\n",
       "    <tr>\n",
       "      <th>2</th>\n",
       "      <td>вдовец / вдова</td>\n",
       "      <td>951</td>\n",
       "      <td>63</td>\n",
       "      <td>6.624606</td>\n",
       "    </tr>\n",
       "    <tr>\n",
       "      <th>3</th>\n",
       "      <td>гражданский брак</td>\n",
       "      <td>4134</td>\n",
       "      <td>385</td>\n",
       "      <td>9.313014</td>\n",
       "    </tr>\n",
       "    <tr>\n",
       "      <th>4</th>\n",
       "      <td>женат / замужем</td>\n",
       "      <td>12261</td>\n",
       "      <td>927</td>\n",
       "      <td>7.560558</td>\n",
       "    </tr>\n",
       "  </tbody>\n",
       "</table>\n",
       "</div>"
      ],
      "text/plain": [
       "      Семейное положение  Всего заемщиков  Количество невозвратов   \n",
       "0  Не женат / не замужем             2796                     273  \\\n",
       "1              в разводе             1189                      84   \n",
       "2         вдовец / вдова              951                      63   \n",
       "3       гражданский брак             4134                     385   \n",
       "4        женат / замужем            12261                     927   \n",
       "\n",
       "   Доля невозвратов в %  \n",
       "0              9.763948  \n",
       "1              7.064760  \n",
       "2              6.624606  \n",
       "3              9.313014  \n",
       "4              7.560558  "
      ]
     },
     "execution_count": 66,
     "metadata": {},
     "output_type": "execute_result"
    }
   ],
   "source": [
    "family_pivot = data.groupby('family_status').agg(\n",
    "    {'debt': ['count', 'sum', 'mean']})\n",
    "family_pivot = family_pivot['debt']\n",
    "family_pivot['mean'] = 100*family_pivot['mean']\n",
    "family_pivot.reset_index(inplace=True)\n",
    "family_pivot.columns = ['Семейное положение', 'Всего заемщиков',\n",
    "                        'Количество невозвратов', 'Доля невозвратов в %']\n",
    "family_pivot"
   ]
  },
  {
   "cell_type": "code",
   "execution_count": 67,
   "id": "5aa7686b",
   "metadata": {
    "ExecuteTime": {
     "end_time": "2023-02-02T06:55:40.406891Z",
     "start_time": "2023-02-02T06:55:40.316133Z"
    }
   },
   "outputs": [
    {
     "data": {
      "image/png": "[encoded data removed]",
      "text/plain": [
       "<Figure size 1000x400 with 1 Axes>"
      ]
     },
     "metadata": {},
     "output_type": "display_data"
    }
   ],
   "source": [
    "plt.figure(figsize=(10, 4))\n",
    "sns.barplot(data=family_pivot, x='Семейное положение',\n",
    "            y='Доля невозвратов в %')\n",
    "plt.title('Зависимость между семейным положением и долей задолженности')\n",
    "plt.xticks(rotation=20)\n",
    "plt.show()"
   ]
  },
  {
   "attachments": {},
   "cell_type": "markdown",
   "id": "270435cd",
   "metadata": {
    "id": "1cef7837"
   },
   "source": [
    "**Вывод:**  Таким образом, можем выявить следующие зависимости между семейным положением и фактом задолженнности: \n",
    "1. Самыми надежными заемщиками являются клиенты, утратившие супругов (вдовы и вдовцы). Среди них 6.62% должников.\n",
    "2. Также хорошей долей невозвратов обладают клиенты в разводе - 7.06%;\n",
    "3. Клиенты в официальном браке показывают чуть более плохой результат - 7.56% невозвратов;\n",
    "2. К категориям риска стоит отнести заемщиков без официально зарегистрированных отношений: не женатых и живущих в гражданском браке, у них 9.76% и 9.31% невозвратов соотвественно. \n"
   ]
  },
  {
   "attachments": {},
   "cell_type": "markdown",
   "id": "8d615e44",
   "metadata": {
    "id": "1e8b2fca"
   },
   "source": [
    "### Есть ли зависимость между уровнем дохода и возвратом кредита в срок?"
   ]
  },
  {
   "attachments": {},
   "cell_type": "markdown",
   "id": "2e610f0b",
   "metadata": {},
   "source": [
    "Для вывления зависимости между уровнем дохода и фактом наличия долга/возврата кредита в срок сгруппируем данные по категории доходов `total_income_category` и найдем общее количество должников в каждой категории. Соберем полученный результат в сводную таблицу и построим столбчатую диаграмму:"
   ]
  },
  {
   "cell_type": "code",
   "execution_count": 68,
   "id": "b02ddb94",
   "metadata": {
    "ExecuteTime": {
     "end_time": "2023-02-02T06:55:40.421851Z",
     "start_time": "2023-02-02T06:55:40.407889Z"
    },
    "id": "cd7e3720"
   },
   "outputs": [
    {
     "data": {
      "text/html": [
       "<div>\n",
       "<style scoped>\n",
       "    .dataframe tbody tr th:only-of-type {\n",
       "        vertical-align: middle;\n",
       "    }\n",
       "\n",
       "    .dataframe tbody tr th {\n",
       "        vertical-align: top;\n",
       "    }\n",
       "\n",
       "    .dataframe thead th {\n",
       "        text-align: right;\n",
       "    }\n",
       "</style>\n",
       "<table border=\"1\" class=\"dataframe\">\n",
       "  <thead>\n",
       "    <tr style=\"text-align: right;\">\n",
       "      <th></th>\n",
       "      <th>Категория доходов</th>\n",
       "      <th>Всего заемщиков</th>\n",
       "      <th>Количество невозвратов</th>\n",
       "      <th>Доля невозвратов в %</th>\n",
       "    </tr>\n",
       "  </thead>\n",
       "  <tbody>\n",
       "    <tr>\n",
       "      <th>0</th>\n",
       "      <td>A</td>\n",
       "      <td>25</td>\n",
       "      <td>2</td>\n",
       "      <td>8.000000</td>\n",
       "    </tr>\n",
       "    <tr>\n",
       "      <th>1</th>\n",
       "      <td>B</td>\n",
       "      <td>5014</td>\n",
       "      <td>354</td>\n",
       "      <td>7.060231</td>\n",
       "    </tr>\n",
       "    <tr>\n",
       "      <th>2</th>\n",
       "      <td>C</td>\n",
       "      <td>15921</td>\n",
       "      <td>1353</td>\n",
       "      <td>8.498210</td>\n",
       "    </tr>\n",
       "    <tr>\n",
       "      <th>3</th>\n",
       "      <td>D</td>\n",
       "      <td>349</td>\n",
       "      <td>21</td>\n",
       "      <td>6.017192</td>\n",
       "    </tr>\n",
       "    <tr>\n",
       "      <th>4</th>\n",
       "      <td>E</td>\n",
       "      <td>22</td>\n",
       "      <td>2</td>\n",
       "      <td>9.090909</td>\n",
       "    </tr>\n",
       "  </tbody>\n",
       "</table>\n",
       "</div>"
      ],
      "text/plain": [
       "  Категория доходов  Всего заемщиков  Количество невозвратов   \n",
       "0                 A               25                       2  \\\n",
       "1                 B             5014                     354   \n",
       "2                 C            15921                    1353   \n",
       "3                 D              349                      21   \n",
       "4                 E               22                       2   \n",
       "\n",
       "   Доля невозвратов в %  \n",
       "0              8.000000  \n",
       "1              7.060231  \n",
       "2              8.498210  \n",
       "3              6.017192  \n",
       "4              9.090909  "
      ]
     },
     "execution_count": 68,
     "metadata": {},
     "output_type": "execute_result"
    }
   ],
   "source": [
    "income_pivot = data.groupby('total_income_category').agg(\n",
    "    {'debt': ['count', 'sum', 'mean']})\n",
    "income_pivot = income_pivot['debt']\n",
    "income_pivot['mean'] = 100*income_pivot['mean']\n",
    "income_pivot.reset_index(inplace=True)\n",
    "income_pivot.columns = ['Категория доходов', 'Всего заемщиков',\n",
    "                        'Количество невозвратов', 'Доля невозвратов в %']\n",
    "income_pivot"
   ]
  },
  {
   "cell_type": "code",
   "execution_count": 69,
   "id": "d9893bff",
   "metadata": {
    "ExecuteTime": {
     "end_time": "2023-02-02T06:55:40.513606Z",
     "start_time": "2023-02-02T06:55:40.422885Z"
    }
   },
   "outputs": [
    {
     "data": {
      "image/png": "[encoded data removed]",
      "text/plain": [
       "<Figure size 1000x400 with 1 Axes>"
      ]
     },
     "metadata": {},
     "output_type": "display_data"
    }
   ],
   "source": [
    "plt.figure(figsize=(10, 4))\n",
    "sns.barplot(data=income_pivot, x='Категория доходов', y='Доля невозвратов в %')\n",
    "plt.title('Зависимость между уровнем доходов и долей задолженности')\n",
    "plt.xticks(rotation=20)\n",
    "plt.show()"
   ]
  },
  {
   "attachments": {},
   "cell_type": "markdown",
   "id": "a0d21e75",
   "metadata": {
    "id": "e8593def"
   },
   "source": [
    "**Вывод:** \n",
    "1. Лучшими с 6.02% должников идут люди с категорией дохода D;\n",
    "2. Наиболее вероятными должниками оказываются заемщики с уровнем дохода ниже 30000 (категория E), однако таких в датафрейме всего 22 записи;\n",
    "3. Также в категорию риска можно отнести заемщиков из группы C с 8.49% невозвратов;\n",
    "4. Интересно, что самые обеспеченные заемщики (категория A) являются менее надежными, чем менее обеспеченные (B,C,D).\n"
   ]
  },
  {
   "attachments": {},
   "cell_type": "markdown",
   "id": "d25e16cd",
   "metadata": {
    "id": "99ecbd1f"
   },
   "source": [
    "### Как разные цели кредита влияют на его возврат в срок?"
   ]
  },
  {
   "attachments": {},
   "cell_type": "markdown",
   "id": "1cea7120",
   "metadata": {},
   "source": [
    "Для вывления зависимости между целями кредитования и фактом наличия долга/возврата кредита в срок сгруппируем данные по цели получения займа `purpose_category` и найдем общее количество должников в каждой категории. Соберем полученный результат в сводную таблицу и построим столбчатую диаграмму:"
   ]
  },
  {
   "cell_type": "code",
   "execution_count": 70,
   "id": "6da74a67",
   "metadata": {
    "ExecuteTime": {
     "end_time": "2023-02-02T06:55:40.529563Z",
     "start_time": "2023-02-02T06:55:40.514603Z"
    },
    "id": "2b687290"
   },
   "outputs": [
    {
     "data": {
      "text/html": [
       "<div>\n",
       "<style scoped>\n",
       "    .dataframe tbody tr th:only-of-type {\n",
       "        vertical-align: middle;\n",
       "    }\n",
       "\n",
       "    .dataframe tbody tr th {\n",
       "        vertical-align: top;\n",
       "    }\n",
       "\n",
       "    .dataframe thead th {\n",
       "        text-align: right;\n",
       "    }\n",
       "</style>\n",
       "<table border=\"1\" class=\"dataframe\">\n",
       "  <thead>\n",
       "    <tr style=\"text-align: right;\">\n",
       "      <th></th>\n",
       "      <th>Цель займа</th>\n",
       "      <th>Всего заемщиков</th>\n",
       "      <th>Количество невозвратов</th>\n",
       "      <th>Доля невозвратов в %</th>\n",
       "    </tr>\n",
       "  </thead>\n",
       "  <tbody>\n",
       "    <tr>\n",
       "      <th>0</th>\n",
       "      <td>операции с автомобилем</td>\n",
       "      <td>4279</td>\n",
       "      <td>400</td>\n",
       "      <td>9.347978</td>\n",
       "    </tr>\n",
       "    <tr>\n",
       "      <th>1</th>\n",
       "      <td>операции с недвижимостью</td>\n",
       "      <td>10751</td>\n",
       "      <td>780</td>\n",
       "      <td>7.255139</td>\n",
       "    </tr>\n",
       "    <tr>\n",
       "      <th>2</th>\n",
       "      <td>получение образования</td>\n",
       "      <td>3988</td>\n",
       "      <td>369</td>\n",
       "      <td>9.252758</td>\n",
       "    </tr>\n",
       "    <tr>\n",
       "      <th>3</th>\n",
       "      <td>проведение свадьбы</td>\n",
       "      <td>2313</td>\n",
       "      <td>183</td>\n",
       "      <td>7.911803</td>\n",
       "    </tr>\n",
       "  </tbody>\n",
       "</table>\n",
       "</div>"
      ],
      "text/plain": [
       "                 Цель займа  Всего заемщиков  Количество невозвратов   \n",
       "0    операции с автомобилем             4279                     400  \\\n",
       "1  операции с недвижимостью            10751                     780   \n",
       "2     получение образования             3988                     369   \n",
       "3        проведение свадьбы             2313                     183   \n",
       "\n",
       "   Доля невозвратов в %  \n",
       "0              9.347978  \n",
       "1              7.255139  \n",
       "2              9.252758  \n",
       "3              7.911803  "
      ]
     },
     "execution_count": 70,
     "metadata": {},
     "output_type": "execute_result"
    }
   ],
   "source": [
    "purpose_pivot = data.groupby('purpose_category').agg(\n",
    "    {'debt': ['count', 'sum', 'mean']})\n",
    "purpose_pivot = purpose_pivot['debt']\n",
    "purpose_pivot['mean'] = 100*purpose_pivot['mean']\n",
    "purpose_pivot.reset_index(inplace=True)\n",
    "purpose_pivot.columns = ['Цель займа', 'Всего заемщиков',\n",
    "                         'Количество невозвратов', 'Доля невозвратов в %']\n",
    "purpose_pivot"
   ]
  },
  {
   "cell_type": "code",
   "execution_count": 71,
   "id": "b1fd06dd",
   "metadata": {
    "ExecuteTime": {
     "end_time": "2023-02-02T06:55:40.620818Z",
     "start_time": "2023-02-02T06:55:40.530561Z"
    }
   },
   "outputs": [
    {
     "data": {
      "image/png": "[encoded data removed]",
      "text/plain": [
       "<Figure size 1000x400 with 1 Axes>"
      ]
     },
     "metadata": {},
     "output_type": "display_data"
    }
   ],
   "source": [
    "plt.figure(figsize=(10, 4))\n",
    "sns.barplot(data=purpose_pivot, x='Цель займа', y='Доля невозвратов в %')\n",
    "plt.title('Зависимость между целью займа и долей задолженности')\n",
    "plt.xticks(rotation=20)\n",
    "plt.show()"
   ]
  },
  {
   "attachments": {},
   "cell_type": "markdown",
   "id": "12b3c039",
   "metadata": {
    "id": "b4bb2ce6"
   },
   "source": [
    "**Вывод:**\n",
    "1. Самые надежные заемщики берут деньги на `операции с недвижимостью`. Процент невозврата 7.25%;\n",
    "2. В группые риска стоит отнести `операции с автомобилем` и `получение образования` с 9.34% и 9.25% невозвратов соотвественно."
   ]
  },
  {
   "attachments": {},
   "cell_type": "markdown",
   "id": "c2b9f84a",
   "metadata": {
    "id": "09c3ac4c"
   },
   "source": [
    "### Приведите возможные причины появления пропусков в исходных данных."
   ]
  },
  {
   "attachments": {},
   "cell_type": "markdown",
   "id": "5a2b757c",
   "metadata": {
    "id": "9da2ceda"
   },
   "source": [
    "*Ответ:* Самое частое явление - человеческий фактор (ошибка оператора). Реже - технологические баги и недоработки (допустим, веб-приложение пропустило в форму неверные параметры или что-то утерялось)."
   ]
  },
  {
   "attachments": {},
   "cell_type": "markdown",
   "id": "06c8edaa",
   "metadata": {
    "id": "7b0487d6"
   },
   "source": [
    "### Объясните, почему заполнить пропуски медианным значением — лучшее решение для количественных переменных."
   ]
  },
  {
   "attachments": {},
   "cell_type": "markdown",
   "id": "d4355b2e",
   "metadata": {
    "id": "7ecf2b8e"
   },
   "source": [
    "*Ответ:* При заполнении пропусков медианным значением медианное значение новой выборки не изменяется. Если же заполнять средним, то медиана сдвинется. Например, в статистике зарплат в РФ зачастую средняя зарплата выше медианной на существенную величину. Если заполнять пропуски в таких данные средним значением, то медианная зарплата вырастет и не будет отображать действительность."
   ]
  },
  {
   "attachments": {},
   "cell_type": "markdown",
   "id": "dfc0f405",
   "metadata": {
    "id": "6db5255a"
   },
   "source": [
    "### Общий вывод"
   ]
  },
  {
   "attachments": {},
   "cell_type": "markdown",
   "id": "9cb70b04",
   "metadata": {},
   "source": [
    "Повторно отобразим все полученные сводные таблицы:"
   ]
  },
  {
   "cell_type": "code",
   "execution_count": 72,
   "id": "09c71bfb",
   "metadata": {
    "ExecuteTime": {
     "end_time": "2023-02-02T06:55:40.635779Z",
     "start_time": "2023-02-02T06:55:40.621818Z"
    }
   },
   "outputs": [
    {
     "data": {
      "text/html": [
       "<div>\n",
       "<style scoped>\n",
       "    .dataframe tbody tr th:only-of-type {\n",
       "        vertical-align: middle;\n",
       "    }\n",
       "\n",
       "    .dataframe tbody tr th {\n",
       "        vertical-align: top;\n",
       "    }\n",
       "\n",
       "    .dataframe thead th {\n",
       "        text-align: right;\n",
       "    }\n",
       "</style>\n",
       "<table border=\"1\" class=\"dataframe\">\n",
       "  <thead>\n",
       "    <tr style=\"text-align: right;\">\n",
       "      <th></th>\n",
       "      <th>Количество детей</th>\n",
       "      <th>Всего заемщиков</th>\n",
       "      <th>Количество невозвратов</th>\n",
       "      <th>Доля невозвратов в %</th>\n",
       "    </tr>\n",
       "  </thead>\n",
       "  <tbody>\n",
       "    <tr>\n",
       "      <th>0</th>\n",
       "      <td>0</td>\n",
       "      <td>14091</td>\n",
       "      <td>1063</td>\n",
       "      <td>7.543822</td>\n",
       "    </tr>\n",
       "    <tr>\n",
       "      <th>1</th>\n",
       "      <td>1</td>\n",
       "      <td>4808</td>\n",
       "      <td>444</td>\n",
       "      <td>9.234609</td>\n",
       "    </tr>\n",
       "    <tr>\n",
       "      <th>2</th>\n",
       "      <td>2</td>\n",
       "      <td>2052</td>\n",
       "      <td>194</td>\n",
       "      <td>9.454191</td>\n",
       "    </tr>\n",
       "    <tr>\n",
       "      <th>3</th>\n",
       "      <td>3</td>\n",
       "      <td>330</td>\n",
       "      <td>27</td>\n",
       "      <td>8.181818</td>\n",
       "    </tr>\n",
       "    <tr>\n",
       "      <th>4</th>\n",
       "      <td>4</td>\n",
       "      <td>41</td>\n",
       "      <td>4</td>\n",
       "      <td>9.756098</td>\n",
       "    </tr>\n",
       "    <tr>\n",
       "      <th>5</th>\n",
       "      <td>5</td>\n",
       "      <td>9</td>\n",
       "      <td>0</td>\n",
       "      <td>0.000000</td>\n",
       "    </tr>\n",
       "  </tbody>\n",
       "</table>\n",
       "</div>"
      ],
      "text/plain": [
       "   Количество детей  Всего заемщиков  Количество невозвратов   \n",
       "0                 0            14091                    1063  \\\n",
       "1                 1             4808                     444   \n",
       "2                 2             2052                     194   \n",
       "3                 3              330                      27   \n",
       "4                 4               41                       4   \n",
       "5                 5                9                       0   \n",
       "\n",
       "   Доля невозвратов в %  \n",
       "0              7.543822  \n",
       "1              9.234609  \n",
       "2              9.454191  \n",
       "3              8.181818  \n",
       "4              9.756098  \n",
       "5              0.000000  "
      ]
     },
     "execution_count": 72,
     "metadata": {},
     "output_type": "execute_result"
    }
   ],
   "source": [
    "children_pivot"
   ]
  },
  {
   "cell_type": "code",
   "execution_count": 73,
   "id": "544feee7",
   "metadata": {
    "ExecuteTime": {
     "end_time": "2023-02-02T06:55:40.650740Z",
     "start_time": "2023-02-02T06:55:40.636779Z"
    }
   },
   "outputs": [
    {
     "data": {
      "text/html": [
       "<div>\n",
       "<style scoped>\n",
       "    .dataframe tbody tr th:only-of-type {\n",
       "        vertical-align: middle;\n",
       "    }\n",
       "\n",
       "    .dataframe tbody tr th {\n",
       "        vertical-align: top;\n",
       "    }\n",
       "\n",
       "    .dataframe thead th {\n",
       "        text-align: right;\n",
       "    }\n",
       "</style>\n",
       "<table border=\"1\" class=\"dataframe\">\n",
       "  <thead>\n",
       "    <tr style=\"text-align: right;\">\n",
       "      <th></th>\n",
       "      <th>Семейное положение</th>\n",
       "      <th>Всего заемщиков</th>\n",
       "      <th>Количество невозвратов</th>\n",
       "      <th>Доля невозвратов в %</th>\n",
       "    </tr>\n",
       "  </thead>\n",
       "  <tbody>\n",
       "    <tr>\n",
       "      <th>0</th>\n",
       "      <td>Не женат / не замужем</td>\n",
       "      <td>2796</td>\n",
       "      <td>273</td>\n",
       "      <td>9.763948</td>\n",
       "    </tr>\n",
       "    <tr>\n",
       "      <th>1</th>\n",
       "      <td>в разводе</td>\n",
       "      <td>1189</td>\n",
       "      <td>84</td>\n",
       "      <td>7.064760</td>\n",
       "    </tr>\n",
       "    <tr>\n",
       "      <th>2</th>\n",
       "      <td>вдовец / вдова</td>\n",
       "      <td>951</td>\n",
       "      <td>63</td>\n",
       "      <td>6.624606</td>\n",
       "    </tr>\n",
       "    <tr>\n",
       "      <th>3</th>\n",
       "      <td>гражданский брак</td>\n",
       "      <td>4134</td>\n",
       "      <td>385</td>\n",
       "      <td>9.313014</td>\n",
       "    </tr>\n",
       "    <tr>\n",
       "      <th>4</th>\n",
       "      <td>женат / замужем</td>\n",
       "      <td>12261</td>\n",
       "      <td>927</td>\n",
       "      <td>7.560558</td>\n",
       "    </tr>\n",
       "  </tbody>\n",
       "</table>\n",
       "</div>"
      ],
      "text/plain": [
       "      Семейное положение  Всего заемщиков  Количество невозвратов   \n",
       "0  Не женат / не замужем             2796                     273  \\\n",
       "1              в разводе             1189                      84   \n",
       "2         вдовец / вдова              951                      63   \n",
       "3       гражданский брак             4134                     385   \n",
       "4        женат / замужем            12261                     927   \n",
       "\n",
       "   Доля невозвратов в %  \n",
       "0              9.763948  \n",
       "1              7.064760  \n",
       "2              6.624606  \n",
       "3              9.313014  \n",
       "4              7.560558  "
      ]
     },
     "execution_count": 73,
     "metadata": {},
     "output_type": "execute_result"
    }
   ],
   "source": [
    "family_pivot"
   ]
  },
  {
   "cell_type": "code",
   "execution_count": 74,
   "id": "094aabc6",
   "metadata": {
    "ExecuteTime": {
     "end_time": "2023-02-02T06:55:40.666697Z",
     "start_time": "2023-02-02T06:55:40.651738Z"
    }
   },
   "outputs": [
    {
     "data": {
      "text/html": [
       "<div>\n",
       "<style scoped>\n",
       "    .dataframe tbody tr th:only-of-type {\n",
       "        vertical-align: middle;\n",
       "    }\n",
       "\n",
       "    .dataframe tbody tr th {\n",
       "        vertical-align: top;\n",
       "    }\n",
       "\n",
       "    .dataframe thead th {\n",
       "        text-align: right;\n",
       "    }\n",
       "</style>\n",
       "<table border=\"1\" class=\"dataframe\">\n",
       "  <thead>\n",
       "    <tr style=\"text-align: right;\">\n",
       "      <th></th>\n",
       "      <th>Категория доходов</th>\n",
       "      <th>Всего заемщиков</th>\n",
       "      <th>Количество невозвратов</th>\n",
       "      <th>Доля невозвратов в %</th>\n",
       "    </tr>\n",
       "  </thead>\n",
       "  <tbody>\n",
       "    <tr>\n",
       "      <th>0</th>\n",
       "      <td>A</td>\n",
       "      <td>25</td>\n",
       "      <td>2</td>\n",
       "      <td>8.000000</td>\n",
       "    </tr>\n",
       "    <tr>\n",
       "      <th>1</th>\n",
       "      <td>B</td>\n",
       "      <td>5014</td>\n",
       "      <td>354</td>\n",
       "      <td>7.060231</td>\n",
       "    </tr>\n",
       "    <tr>\n",
       "      <th>2</th>\n",
       "      <td>C</td>\n",
       "      <td>15921</td>\n",
       "      <td>1353</td>\n",
       "      <td>8.498210</td>\n",
       "    </tr>\n",
       "    <tr>\n",
       "      <th>3</th>\n",
       "      <td>D</td>\n",
       "      <td>349</td>\n",
       "      <td>21</td>\n",
       "      <td>6.017192</td>\n",
       "    </tr>\n",
       "    <tr>\n",
       "      <th>4</th>\n",
       "      <td>E</td>\n",
       "      <td>22</td>\n",
       "      <td>2</td>\n",
       "      <td>9.090909</td>\n",
       "    </tr>\n",
       "  </tbody>\n",
       "</table>\n",
       "</div>"
      ],
      "text/plain": [
       "  Категория доходов  Всего заемщиков  Количество невозвратов   \n",
       "0                 A               25                       2  \\\n",
       "1                 B             5014                     354   \n",
       "2                 C            15921                    1353   \n",
       "3                 D              349                      21   \n",
       "4                 E               22                       2   \n",
       "\n",
       "   Доля невозвратов в %  \n",
       "0              8.000000  \n",
       "1              7.060231  \n",
       "2              8.498210  \n",
       "3              6.017192  \n",
       "4              9.090909  "
      ]
     },
     "execution_count": 74,
     "metadata": {},
     "output_type": "execute_result"
    }
   ],
   "source": [
    "income_pivot"
   ]
  },
  {
   "cell_type": "code",
   "execution_count": 75,
   "id": "3975bce8",
   "metadata": {
    "ExecuteTime": {
     "end_time": "2023-02-02T06:55:40.681657Z",
     "start_time": "2023-02-02T06:55:40.667695Z"
    },
    "scrolled": true
   },
   "outputs": [
    {
     "data": {
      "text/html": [
       "<div>\n",
       "<style scoped>\n",
       "    .dataframe tbody tr th:only-of-type {\n",
       "        vertical-align: middle;\n",
       "    }\n",
       "\n",
       "    .dataframe tbody tr th {\n",
       "        vertical-align: top;\n",
       "    }\n",
       "\n",
       "    .dataframe thead th {\n",
       "        text-align: right;\n",
       "    }\n",
       "</style>\n",
       "<table border=\"1\" class=\"dataframe\">\n",
       "  <thead>\n",
       "    <tr style=\"text-align: right;\">\n",
       "      <th></th>\n",
       "      <th>Цель займа</th>\n",
       "      <th>Всего заемщиков</th>\n",
       "      <th>Количество невозвратов</th>\n",
       "      <th>Доля невозвратов в %</th>\n",
       "    </tr>\n",
       "  </thead>\n",
       "  <tbody>\n",
       "    <tr>\n",
       "      <th>0</th>\n",
       "      <td>операции с автомобилем</td>\n",
       "      <td>4279</td>\n",
       "      <td>400</td>\n",
       "      <td>9.347978</td>\n",
       "    </tr>\n",
       "    <tr>\n",
       "      <th>1</th>\n",
       "      <td>операции с недвижимостью</td>\n",
       "      <td>10751</td>\n",
       "      <td>780</td>\n",
       "      <td>7.255139</td>\n",
       "    </tr>\n",
       "    <tr>\n",
       "      <th>2</th>\n",
       "      <td>получение образования</td>\n",
       "      <td>3988</td>\n",
       "      <td>369</td>\n",
       "      <td>9.252758</td>\n",
       "    </tr>\n",
       "    <tr>\n",
       "      <th>3</th>\n",
       "      <td>проведение свадьбы</td>\n",
       "      <td>2313</td>\n",
       "      <td>183</td>\n",
       "      <td>7.911803</td>\n",
       "    </tr>\n",
       "  </tbody>\n",
       "</table>\n",
       "</div>"
      ],
      "text/plain": [
       "                 Цель займа  Всего заемщиков  Количество невозвратов   \n",
       "0    операции с автомобилем             4279                     400  \\\n",
       "1  операции с недвижимостью            10751                     780   \n",
       "2     получение образования             3988                     369   \n",
       "3        проведение свадьбы             2313                     183   \n",
       "\n",
       "   Доля невозвратов в %  \n",
       "0              9.347978  \n",
       "1              7.255139  \n",
       "2              9.252758  \n",
       "3              7.911803  "
      ]
     },
     "execution_count": 75,
     "metadata": {},
     "output_type": "execute_result"
    }
   ],
   "source": [
    "purpose_pivot"
   ]
  },
  {
   "attachments": {},
   "cell_type": "markdown",
   "id": "43818674",
   "metadata": {
    "id": "bad65432"
   },
   "source": [
    "**Итак:**\n",
    "1. Самыми надежными заемщиками являются ипотечные клиенты - 7.25% невозвратов;\n",
    "2. Самыми ненадежными заемщиками являются неженатые/незамужние люди с 9.76% невозвратов;\n",
    "3. В целом, к хорошим заемщикам можно отнести семейных/разведенных/овдовевших людей, но, при этом, наличие детей повышает риск невозврата;\n",
    "4. Операции с авто и кредиты на учебы - наиболее рискованные категории кредитования, недвижимость и свадьбы - надежнее;\n",
    "5. При ранжировании людей по доходам возникает интересный \"обратный\" эффект: при очень высоком уровне дохода кредитная отвественность ниже;\n",
    "3. Впоследствии, стоит провести более глубокий анализ датафрейма и строить зависимости не от индивидуальных факторов, а от их комбинаций. Чем больше факторов будет учтено и, тем самым, создано больше комбинированных категорий, тем точнее будет анализ."
   ]
  }
 ],
 "metadata": {
  "ExecuteTimeLog": [
   {
    "duration": 499,
    "start_time": "2022-12-06T07:00:28.692Z"
   },
   {
    "duration": 22,
    "start_time": "2022-12-06T07:00:29.192Z"
   },
   {
    "duration": 19,
    "start_time": "2022-12-06T07:00:29.215Z"
   },
   {
    "duration": 12,
    "start_time": "2022-12-06T07:00:29.236Z"
   },
   {
    "duration": 43,
    "start_time": "2022-12-06T07:00:29.249Z"
   },
   {
    "duration": 3,
    "start_time": "2022-12-06T07:00:29.294Z"
   },
   {
    "duration": 23,
    "start_time": "2022-12-06T07:00:29.298Z"
   },
   {
    "duration": 8,
    "start_time": "2022-12-06T07:00:29.323Z"
   },
   {
    "duration": 19,
    "start_time": "2022-12-06T07:00:29.333Z"
   },
   {
    "duration": 6,
    "start_time": "2022-12-06T07:00:29.355Z"
   },
   {
    "duration": 59,
    "start_time": "2022-12-06T07:00:29.363Z"
   },
   {
    "duration": 13,
    "start_time": "2022-12-06T07:00:29.423Z"
   },
   {
    "duration": 25,
    "start_time": "2022-12-06T07:00:29.437Z"
   },
   {
    "duration": 15,
    "start_time": "2022-12-06T07:00:29.463Z"
   },
   {
    "duration": 20,
    "start_time": "2022-12-06T07:00:29.480Z"
   },
   {
    "duration": 15,
    "start_time": "2022-12-06T07:00:29.502Z"
   },
   {
    "duration": 4,
    "start_time": "2022-12-06T07:00:29.519Z"
   },
   {
    "duration": 14,
    "start_time": "2022-12-06T07:00:29.524Z"
   },
   {
    "duration": 6,
    "start_time": "2022-12-06T07:00:29.540Z"
   },
   {
    "duration": 21,
    "start_time": "2022-12-06T07:00:29.548Z"
   },
   {
    "duration": 24,
    "start_time": "2022-12-06T07:00:29.571Z"
   },
   {
    "duration": 198,
    "start_time": "2022-12-06T07:00:29.596Z"
   },
   {
    "duration": 0,
    "start_time": "2022-12-06T07:00:29.795Z"
   },
   {
    "duration": 0,
    "start_time": "2022-12-06T07:00:29.796Z"
   },
   {
    "duration": 0,
    "start_time": "2022-12-06T07:00:29.797Z"
   },
   {
    "duration": 1009,
    "start_time": "2022-12-06T07:00:55.272Z"
   },
   {
    "duration": 13,
    "start_time": "2022-12-06T07:01:22.718Z"
   },
   {
    "duration": 341,
    "start_time": "2022-12-06T07:01:28.346Z"
   },
   {
    "duration": 148,
    "start_time": "2022-12-06T07:04:35.766Z"
   },
   {
    "duration": 145,
    "start_time": "2022-12-06T07:05:28.789Z"
   },
   {
    "duration": 768,
    "start_time": "2022-12-06T07:05:43.606Z"
   },
   {
    "duration": 5,
    "start_time": "2022-12-06T07:05:52.790Z"
   },
   {
    "duration": 49,
    "start_time": "2022-12-06T07:06:04.514Z"
   },
   {
    "duration": 15,
    "start_time": "2022-12-06T07:06:06.877Z"
   },
   {
    "duration": 7,
    "start_time": "2022-12-06T07:08:47.260Z"
   },
   {
    "duration": 15,
    "start_time": "2022-12-06T07:09:52.410Z"
   },
   {
    "duration": 13,
    "start_time": "2022-12-06T07:09:56.897Z"
   },
   {
    "duration": 24,
    "start_time": "2022-12-06T07:10:13.556Z"
   },
   {
    "duration": 5,
    "start_time": "2022-12-06T07:11:51.091Z"
   },
   {
    "duration": 166,
    "start_time": "2022-12-06T07:12:26.982Z"
   },
   {
    "duration": 162,
    "start_time": "2022-12-06T07:14:40.470Z"
   },
   {
    "duration": 140,
    "start_time": "2022-12-06T07:14:44.063Z"
   },
   {
    "duration": 104,
    "start_time": "2022-12-06T07:14:48.086Z"
   },
   {
    "duration": 17,
    "start_time": "2022-12-06T07:16:10.366Z"
   },
   {
    "duration": 6,
    "start_time": "2022-12-06T07:16:15.041Z"
   },
   {
    "duration": 7,
    "start_time": "2022-12-06T07:16:49.706Z"
   },
   {
    "duration": 7,
    "start_time": "2022-12-06T07:17:02.289Z"
   },
   {
    "duration": 7,
    "start_time": "2022-12-06T07:17:18.623Z"
   },
   {
    "duration": 16,
    "start_time": "2022-12-06T07:17:29.423Z"
   },
   {
    "duration": 47,
    "start_time": "2022-12-06T07:17:49.586Z"
   },
   {
    "duration": 3,
    "start_time": "2022-12-06T07:17:51.392Z"
   },
   {
    "duration": 7,
    "start_time": "2022-12-06T07:18:24.589Z"
   },
   {
    "duration": 7,
    "start_time": "2022-12-06T07:18:26.584Z"
   },
   {
    "duration": 3,
    "start_time": "2022-12-06T07:18:39.341Z"
   },
   {
    "duration": 9,
    "start_time": "2022-12-06T07:20:26.624Z"
   },
   {
    "duration": 5,
    "start_time": "2022-12-06T07:20:57.269Z"
   },
   {
    "duration": 5,
    "start_time": "2022-12-06T07:21:05.662Z"
   },
   {
    "duration": 57,
    "start_time": "2022-12-06T07:21:25.454Z"
   },
   {
    "duration": 42,
    "start_time": "2022-12-06T07:23:34.859Z"
   },
   {
    "duration": 45,
    "start_time": "2022-12-06T07:23:39.584Z"
   },
   {
    "duration": 11,
    "start_time": "2022-12-06T07:23:50.770Z"
   },
   {
    "duration": 5,
    "start_time": "2022-12-06T07:23:58.941Z"
   },
   {
    "duration": 4,
    "start_time": "2022-12-06T07:24:11.947Z"
   },
   {
    "duration": 6,
    "start_time": "2022-12-06T07:24:29.104Z"
   },
   {
    "duration": 4,
    "start_time": "2022-12-06T07:24:32.916Z"
   },
   {
    "duration": 6,
    "start_time": "2022-12-06T07:24:41.425Z"
   },
   {
    "duration": 7,
    "start_time": "2022-12-06T07:25:34.864Z"
   },
   {
    "duration": 10,
    "start_time": "2022-12-06T07:25:37.657Z"
   },
   {
    "duration": 8,
    "start_time": "2022-12-06T07:26:14.154Z"
   },
   {
    "duration": 4,
    "start_time": "2022-12-06T07:26:42.954Z"
   },
   {
    "duration": 6,
    "start_time": "2022-12-06T07:26:46.116Z"
   },
   {
    "duration": 339,
    "start_time": "2022-12-06T07:28:20.273Z"
   },
   {
    "duration": 6,
    "start_time": "2022-12-06T07:33:59.140Z"
   },
   {
    "duration": 6,
    "start_time": "2022-12-06T07:34:27.594Z"
   },
   {
    "duration": 6,
    "start_time": "2022-12-06T07:34:56.256Z"
   },
   {
    "duration": 10,
    "start_time": "2022-12-06T07:35:04.090Z"
   },
   {
    "duration": 11,
    "start_time": "2022-12-06T07:35:15.085Z"
   },
   {
    "duration": 404,
    "start_time": "2022-12-06T07:36:28.091Z"
   },
   {
    "duration": 56,
    "start_time": "2022-12-06T07:36:58.812Z"
   },
   {
    "duration": 66,
    "start_time": "2022-12-06T07:39:39.173Z"
   },
   {
    "duration": 6,
    "start_time": "2022-12-06T07:39:48.016Z"
   },
   {
    "duration": 145,
    "start_time": "2022-12-06T07:40:23.792Z"
   },
   {
    "duration": 0,
    "start_time": "2022-12-06T07:41:51.334Z"
   },
   {
    "duration": 159,
    "start_time": "2022-12-06T07:42:00.561Z"
   },
   {
    "duration": 126,
    "start_time": "2022-12-06T07:42:37.770Z"
   },
   {
    "duration": 137,
    "start_time": "2022-12-06T07:44:22.753Z"
   },
   {
    "duration": 5,
    "start_time": "2022-12-06T07:44:41.474Z"
   },
   {
    "duration": 7,
    "start_time": "2022-12-06T07:44:45.559Z"
   },
   {
    "duration": 122,
    "start_time": "2022-12-06T07:45:21.251Z"
   },
   {
    "duration": 135,
    "start_time": "2022-12-06T07:46:11.502Z"
   },
   {
    "duration": 123,
    "start_time": "2022-12-06T07:46:18.608Z"
   },
   {
    "duration": 133,
    "start_time": "2022-12-06T07:46:22.099Z"
   },
   {
    "duration": 119,
    "start_time": "2022-12-06T07:46:39.508Z"
   },
   {
    "duration": 134,
    "start_time": "2022-12-06T07:46:42.930Z"
   },
   {
    "duration": 139,
    "start_time": "2022-12-06T07:46:53.235Z"
   },
   {
    "duration": 325,
    "start_time": "2022-12-06T07:47:21.632Z"
   },
   {
    "duration": 168,
    "start_time": "2022-12-06T07:47:30.491Z"
   },
   {
    "duration": 156,
    "start_time": "2022-12-06T07:47:48.005Z"
   },
   {
    "duration": 152,
    "start_time": "2022-12-06T07:47:52.191Z"
   },
   {
    "duration": 136,
    "start_time": "2022-12-06T07:48:20.580Z"
   },
   {
    "duration": 127,
    "start_time": "2022-12-06T07:50:04.429Z"
   },
   {
    "duration": 140,
    "start_time": "2022-12-06T07:51:04.150Z"
   },
   {
    "duration": 45,
    "start_time": "2022-12-06T07:51:58.108Z"
   },
   {
    "duration": 10,
    "start_time": "2022-12-06T07:52:21.427Z"
   },
   {
    "duration": 52,
    "start_time": "2022-12-06T07:53:03.734Z"
   },
   {
    "duration": 8,
    "start_time": "2022-12-06T07:53:37.739Z"
   },
   {
    "duration": 11,
    "start_time": "2022-12-06T07:53:52.301Z"
   },
   {
    "duration": 13,
    "start_time": "2022-12-06T07:54:09.608Z"
   },
   {
    "duration": 8,
    "start_time": "2022-12-06T07:54:39.100Z"
   },
   {
    "duration": 8,
    "start_time": "2022-12-06T07:55:19.970Z"
   },
   {
    "duration": 7,
    "start_time": "2022-12-06T07:55:33.740Z"
   },
   {
    "duration": 9,
    "start_time": "2022-12-06T07:55:42.428Z"
   },
   {
    "duration": 8,
    "start_time": "2022-12-06T07:55:46.912Z"
   },
   {
    "duration": 12,
    "start_time": "2022-12-06T07:56:08.726Z"
   },
   {
    "duration": 313,
    "start_time": "2022-12-06T07:56:47.747Z"
   },
   {
    "duration": 320,
    "start_time": "2022-12-06T07:57:09.413Z"
   },
   {
    "duration": 72,
    "start_time": "2022-12-06T08:21:36.324Z"
   },
   {
    "duration": 15,
    "start_time": "2022-12-06T08:21:36.397Z"
   },
   {
    "duration": 55,
    "start_time": "2022-12-06T08:21:36.413Z"
   },
   {
    "duration": 42,
    "start_time": "2022-12-06T08:21:36.470Z"
   },
   {
    "duration": 64,
    "start_time": "2022-12-06T08:21:36.513Z"
   },
   {
    "duration": 6,
    "start_time": "2022-12-06T08:21:36.579Z"
   },
   {
    "duration": 16,
    "start_time": "2022-12-06T08:21:36.586Z"
   },
   {
    "duration": 8,
    "start_time": "2022-12-06T08:21:36.604Z"
   },
   {
    "duration": 8,
    "start_time": "2022-12-06T08:21:36.614Z"
   },
   {
    "duration": 19,
    "start_time": "2022-12-06T08:21:36.624Z"
   },
   {
    "duration": 36,
    "start_time": "2022-12-06T08:21:36.644Z"
   },
   {
    "duration": 9,
    "start_time": "2022-12-06T08:21:36.681Z"
   },
   {
    "duration": 30,
    "start_time": "2022-12-06T08:21:36.692Z"
   },
   {
    "duration": 38,
    "start_time": "2022-12-06T08:21:36.723Z"
   },
   {
    "duration": 28,
    "start_time": "2022-12-06T08:21:36.763Z"
   },
   {
    "duration": 33,
    "start_time": "2022-12-06T08:21:36.792Z"
   },
   {
    "duration": 6,
    "start_time": "2022-12-06T08:21:36.827Z"
   },
   {
    "duration": 41,
    "start_time": "2022-12-06T08:21:36.835Z"
   },
   {
    "duration": 29,
    "start_time": "2022-12-06T08:21:36.877Z"
   },
   {
    "duration": 41,
    "start_time": "2022-12-06T08:21:36.908Z"
   },
   {
    "duration": 42,
    "start_time": "2022-12-06T08:21:36.951Z"
   },
   {
    "duration": 22,
    "start_time": "2022-12-06T08:21:36.994Z"
   },
   {
    "duration": 31,
    "start_time": "2022-12-06T08:21:37.018Z"
   },
   {
    "duration": 40,
    "start_time": "2022-12-06T08:21:37.050Z"
   },
   {
    "duration": 360,
    "start_time": "2022-12-06T08:21:37.092Z"
   },
   {
    "duration": 7,
    "start_time": "2022-12-06T08:21:37.454Z"
   },
   {
    "duration": 41,
    "start_time": "2022-12-06T08:21:37.462Z"
   },
   {
    "duration": 323,
    "start_time": "2022-12-06T08:21:37.506Z"
   },
   {
    "duration": 134,
    "start_time": "2022-12-06T08:21:37.831Z"
   },
   {
    "duration": 10,
    "start_time": "2022-12-06T08:21:37.966Z"
   },
   {
    "duration": 23,
    "start_time": "2022-12-06T08:21:37.978Z"
   },
   {
    "duration": 33,
    "start_time": "2022-12-06T08:21:38.002Z"
   },
   {
    "duration": 26,
    "start_time": "2022-12-06T08:21:38.036Z"
   },
   {
    "duration": 319,
    "start_time": "2022-12-06T08:21:38.063Z"
   },
   {
    "duration": 8,
    "start_time": "2022-12-06T08:21:38.384Z"
   },
   {
    "duration": 27,
    "start_time": "2022-12-06T08:21:38.394Z"
   },
   {
    "duration": 322,
    "start_time": "2022-12-06T08:21:38.422Z"
   },
   {
    "duration": 51,
    "start_time": "2022-12-06T08:23:45.222Z"
   },
   {
    "duration": 7,
    "start_time": "2022-12-06T08:25:00.084Z"
   },
   {
    "duration": 70,
    "start_time": "2022-12-06T08:26:08.887Z"
   },
   {
    "duration": 15,
    "start_time": "2022-12-06T08:26:08.959Z"
   },
   {
    "duration": 15,
    "start_time": "2022-12-06T08:26:08.976Z"
   },
   {
    "duration": 36,
    "start_time": "2022-12-06T08:26:08.993Z"
   },
   {
    "duration": 31,
    "start_time": "2022-12-06T08:26:09.031Z"
   },
   {
    "duration": 4,
    "start_time": "2022-12-06T08:26:09.063Z"
   },
   {
    "duration": 13,
    "start_time": "2022-12-06T08:26:09.068Z"
   },
   {
    "duration": 5,
    "start_time": "2022-12-06T08:26:09.082Z"
   },
   {
    "duration": 15,
    "start_time": "2022-12-06T08:26:09.089Z"
   },
   {
    "duration": 17,
    "start_time": "2022-12-06T08:26:09.107Z"
   },
   {
    "duration": 41,
    "start_time": "2022-12-06T08:26:09.125Z"
   },
   {
    "duration": 9,
    "start_time": "2022-12-06T08:26:09.168Z"
   },
   {
    "duration": 5,
    "start_time": "2022-12-06T08:26:09.179Z"
   },
   {
    "duration": 13,
    "start_time": "2022-12-06T08:26:09.185Z"
   },
   {
    "duration": 32,
    "start_time": "2022-12-06T08:26:09.200Z"
   },
   {
    "duration": 16,
    "start_time": "2022-12-06T08:26:09.234Z"
   },
   {
    "duration": 3,
    "start_time": "2022-12-06T08:26:09.252Z"
   },
   {
    "duration": 13,
    "start_time": "2022-12-06T08:26:09.257Z"
   },
   {
    "duration": 6,
    "start_time": "2022-12-06T08:26:09.272Z"
   },
   {
    "duration": 4,
    "start_time": "2022-12-06T08:26:09.280Z"
   },
   {
    "duration": 37,
    "start_time": "2022-12-06T08:26:09.285Z"
   },
   {
    "duration": 3,
    "start_time": "2022-12-06T08:26:09.324Z"
   },
   {
    "duration": 8,
    "start_time": "2022-12-06T08:26:09.328Z"
   },
   {
    "duration": 7,
    "start_time": "2022-12-06T08:26:09.338Z"
   },
   {
    "duration": 357,
    "start_time": "2022-12-06T08:26:09.347Z"
   },
   {
    "duration": 15,
    "start_time": "2022-12-06T08:26:09.706Z"
   },
   {
    "duration": 10,
    "start_time": "2022-12-06T08:26:09.722Z"
   },
   {
    "duration": 333,
    "start_time": "2022-12-06T08:26:09.735Z"
   },
   {
    "duration": 131,
    "start_time": "2022-12-06T08:26:10.069Z"
   },
   {
    "duration": 21,
    "start_time": "2022-12-06T08:26:10.202Z"
   },
   {
    "duration": 12,
    "start_time": "2022-12-06T08:26:10.224Z"
   },
   {
    "duration": 6,
    "start_time": "2022-12-06T08:26:10.237Z"
   },
   {
    "duration": 9,
    "start_time": "2022-12-06T08:26:10.244Z"
   },
   {
    "duration": 331,
    "start_time": "2022-12-06T08:26:10.254Z"
   },
   {
    "duration": 12,
    "start_time": "2022-12-06T08:26:10.586Z"
   },
   {
    "duration": 26,
    "start_time": "2022-12-06T08:26:10.600Z"
   },
   {
    "duration": 310,
    "start_time": "2022-12-06T08:26:10.628Z"
   },
   {
    "duration": 77,
    "start_time": "2022-12-06T08:26:11.932Z"
   },
   {
    "duration": 15,
    "start_time": "2022-12-06T08:26:12.011Z"
   },
   {
    "duration": 16,
    "start_time": "2022-12-06T08:26:12.028Z"
   },
   {
    "duration": 11,
    "start_time": "2022-12-06T08:26:12.046Z"
   },
   {
    "duration": 34,
    "start_time": "2022-12-06T08:26:12.059Z"
   },
   {
    "duration": 4,
    "start_time": "2022-12-06T08:26:12.095Z"
   },
   {
    "duration": 27,
    "start_time": "2022-12-06T08:26:12.100Z"
   },
   {
    "duration": 9,
    "start_time": "2022-12-06T08:26:12.128Z"
   },
   {
    "duration": 12,
    "start_time": "2022-12-06T08:26:12.139Z"
   },
   {
    "duration": 5,
    "start_time": "2022-12-06T08:26:12.154Z"
   },
   {
    "duration": 37,
    "start_time": "2022-12-06T08:26:12.160Z"
   },
   {
    "duration": 24,
    "start_time": "2022-12-06T08:26:12.199Z"
   },
   {
    "duration": 4,
    "start_time": "2022-12-06T08:26:12.224Z"
   },
   {
    "duration": 14,
    "start_time": "2022-12-06T08:26:12.229Z"
   },
   {
    "duration": 20,
    "start_time": "2022-12-06T08:26:12.244Z"
   },
   {
    "duration": 15,
    "start_time": "2022-12-06T08:26:12.265Z"
   },
   {
    "duration": 3,
    "start_time": "2022-12-06T08:26:12.282Z"
   },
   {
    "duration": 39,
    "start_time": "2022-12-06T08:26:12.287Z"
   },
   {
    "duration": 6,
    "start_time": "2022-12-06T08:26:12.327Z"
   },
   {
    "duration": 5,
    "start_time": "2022-12-06T08:26:12.334Z"
   },
   {
    "duration": 11,
    "start_time": "2022-12-06T08:26:12.341Z"
   },
   {
    "duration": 6,
    "start_time": "2022-12-06T08:26:12.353Z"
   },
   {
    "duration": 11,
    "start_time": "2022-12-06T08:26:12.361Z"
   },
   {
    "duration": 11,
    "start_time": "2022-12-06T08:26:12.374Z"
   },
   {
    "duration": 365,
    "start_time": "2022-12-06T08:26:12.387Z"
   },
   {
    "duration": 7,
    "start_time": "2022-12-06T08:26:12.754Z"
   },
   {
    "duration": 11,
    "start_time": "2022-12-06T08:26:12.762Z"
   },
   {
    "duration": 365,
    "start_time": "2022-12-06T08:26:12.777Z"
   },
   {
    "duration": 132,
    "start_time": "2022-12-06T08:26:13.144Z"
   },
   {
    "duration": 9,
    "start_time": "2022-12-06T08:26:13.278Z"
   },
   {
    "duration": 9,
    "start_time": "2022-12-06T08:26:13.289Z"
   },
   {
    "duration": 22,
    "start_time": "2022-12-06T08:26:13.300Z"
   },
   {
    "duration": 9,
    "start_time": "2022-12-06T08:26:13.323Z"
   },
   {
    "duration": 310,
    "start_time": "2022-12-06T08:26:13.333Z"
   },
   {
    "duration": 7,
    "start_time": "2022-12-06T08:26:13.644Z"
   },
   {
    "duration": 14,
    "start_time": "2022-12-06T08:26:13.653Z"
   },
   {
    "duration": 305,
    "start_time": "2022-12-06T08:26:13.669Z"
   },
   {
    "duration": 42,
    "start_time": "2022-12-06T10:38:42.875Z"
   },
   {
    "duration": 521,
    "start_time": "2022-12-06T10:38:48.629Z"
   },
   {
    "duration": 32,
    "start_time": "2022-12-06T10:38:49.153Z"
   },
   {
    "duration": 38,
    "start_time": "2022-12-06T10:38:49.188Z"
   },
   {
    "duration": 21,
    "start_time": "2022-12-06T10:38:49.228Z"
   },
   {
    "duration": 69,
    "start_time": "2022-12-06T10:38:49.250Z"
   },
   {
    "duration": 4,
    "start_time": "2022-12-06T10:38:49.320Z"
   },
   {
    "duration": 29,
    "start_time": "2022-12-06T10:38:49.325Z"
   },
   {
    "duration": 12,
    "start_time": "2022-12-06T10:38:49.356Z"
   },
   {
    "duration": 24,
    "start_time": "2022-12-06T10:38:49.369Z"
   },
   {
    "duration": 13,
    "start_time": "2022-12-06T10:38:49.396Z"
   },
   {
    "duration": 34,
    "start_time": "2022-12-06T10:38:49.411Z"
   },
   {
    "duration": 10,
    "start_time": "2022-12-06T10:38:49.446Z"
   },
   {
    "duration": 17,
    "start_time": "2022-12-06T10:38:49.457Z"
   },
   {
    "duration": 13,
    "start_time": "2022-12-06T10:38:49.475Z"
   },
   {
    "duration": 21,
    "start_time": "2022-12-06T10:38:49.489Z"
   },
   {
    "duration": 22,
    "start_time": "2022-12-06T10:38:49.511Z"
   },
   {
    "duration": 4,
    "start_time": "2022-12-06T10:38:49.534Z"
   },
   {
    "duration": 11,
    "start_time": "2022-12-06T10:38:49.539Z"
   },
   {
    "duration": 11,
    "start_time": "2022-12-06T10:38:49.551Z"
   },
   {
    "duration": 4,
    "start_time": "2022-12-06T10:38:49.564Z"
   },
   {
    "duration": 14,
    "start_time": "2022-12-06T10:38:49.570Z"
   },
   {
    "duration": 8,
    "start_time": "2022-12-06T10:38:49.586Z"
   },
   {
    "duration": 7,
    "start_time": "2022-12-06T10:38:49.596Z"
   },
   {
    "duration": 21,
    "start_time": "2022-12-06T10:38:49.605Z"
   },
   {
    "duration": 888,
    "start_time": "2022-12-06T10:38:49.628Z"
   },
   {
    "duration": 0,
    "start_time": "2022-12-06T10:38:50.518Z"
   },
   {
    "duration": 0,
    "start_time": "2022-12-06T10:38:50.520Z"
   },
   {
    "duration": 0,
    "start_time": "2022-12-06T10:38:50.526Z"
   },
   {
    "duration": 0,
    "start_time": "2022-12-06T10:38:50.527Z"
   },
   {
    "duration": 0,
    "start_time": "2022-12-06T10:38:50.528Z"
   },
   {
    "duration": 0,
    "start_time": "2022-12-06T10:38:50.529Z"
   },
   {
    "duration": 0,
    "start_time": "2022-12-06T10:38:50.530Z"
   },
   {
    "duration": 0,
    "start_time": "2022-12-06T10:38:50.531Z"
   },
   {
    "duration": 0,
    "start_time": "2022-12-06T10:38:50.532Z"
   },
   {
    "duration": 0,
    "start_time": "2022-12-06T10:38:50.533Z"
   },
   {
    "duration": 0,
    "start_time": "2022-12-06T10:38:50.534Z"
   },
   {
    "duration": 0,
    "start_time": "2022-12-06T10:38:50.536Z"
   },
   {
    "duration": 11,
    "start_time": "2022-12-06T10:38:56.086Z"
   },
   {
    "duration": 8,
    "start_time": "2022-12-06T10:39:02.509Z"
   },
   {
    "duration": 338,
    "start_time": "2022-12-06T10:39:07.256Z"
   },
   {
    "duration": 310,
    "start_time": "2022-12-06T10:39:12.395Z"
   },
   {
    "duration": 341,
    "start_time": "2022-12-06T10:39:55.826Z"
   },
   {
    "duration": 313,
    "start_time": "2022-12-06T10:40:08.192Z"
   },
   {
    "duration": 340,
    "start_time": "2022-12-06T10:40:17.258Z"
   },
   {
    "duration": 308,
    "start_time": "2022-12-06T10:40:23.287Z"
   },
   {
    "duration": 320,
    "start_time": "2022-12-06T10:41:33.256Z"
   },
   {
    "duration": 438,
    "start_time": "2022-12-06T10:41:45.320Z"
   },
   {
    "duration": 339,
    "start_time": "2022-12-06T10:42:19.489Z"
   },
   {
    "duration": 337,
    "start_time": "2022-12-06T10:42:32.121Z"
   },
   {
    "duration": 336,
    "start_time": "2022-12-06T11:12:27.338Z"
   },
   {
    "duration": 353,
    "start_time": "2022-12-06T11:12:34.607Z"
   },
   {
    "duration": 70,
    "start_time": "2022-12-06T11:13:38.988Z"
   },
   {
    "duration": 15,
    "start_time": "2022-12-06T11:13:43.723Z"
   },
   {
    "duration": 4,
    "start_time": "2022-12-06T11:14:15.499Z"
   },
   {
    "duration": 12,
    "start_time": "2022-12-06T11:14:17.999Z"
   },
   {
    "duration": 9,
    "start_time": "2022-12-06T11:14:38.970Z"
   },
   {
    "duration": 15,
    "start_time": "2022-12-06T11:14:49.117Z"
   },
   {
    "duration": 9,
    "start_time": "2022-12-06T11:15:41.696Z"
   },
   {
    "duration": 8,
    "start_time": "2022-12-06T11:15:45.061Z"
   },
   {
    "duration": 12,
    "start_time": "2022-12-06T11:15:49.822Z"
   },
   {
    "duration": 1124,
    "start_time": "2022-12-06T11:16:31.276Z"
   },
   {
    "duration": 1156,
    "start_time": "2022-12-06T11:16:33.058Z"
   },
   {
    "duration": 1172,
    "start_time": "2022-12-06T11:16:40.610Z"
   },
   {
    "duration": 1135,
    "start_time": "2022-12-06T11:16:44.015Z"
   },
   {
    "duration": 1109,
    "start_time": "2022-12-06T11:16:58.382Z"
   },
   {
    "duration": 1127,
    "start_time": "2022-12-06T11:17:00.594Z"
   },
   {
    "duration": 1121,
    "start_time": "2022-12-06T11:18:13.007Z"
   },
   {
    "duration": 7,
    "start_time": "2022-12-06T11:18:16.855Z"
   },
   {
    "duration": 12,
    "start_time": "2022-12-06T11:18:22.156Z"
   },
   {
    "duration": 17,
    "start_time": "2022-12-06T11:18:48.461Z"
   },
   {
    "duration": 11,
    "start_time": "2022-12-06T11:18:51.840Z"
   },
   {
    "duration": 69,
    "start_time": "2022-12-06T11:21:18.880Z"
   },
   {
    "duration": 3,
    "start_time": "2022-12-06T11:21:44.753Z"
   },
   {
    "duration": 13,
    "start_time": "2022-12-06T11:23:11.395Z"
   },
   {
    "duration": 7,
    "start_time": "2022-12-06T11:24:02.663Z"
   },
   {
    "duration": 13,
    "start_time": "2022-12-06T11:24:05.414Z"
   },
   {
    "duration": 1069,
    "start_time": "2022-12-06T11:24:11.836Z"
   },
   {
    "duration": 7,
    "start_time": "2022-12-06T11:24:19.720Z"
   },
   {
    "duration": 7,
    "start_time": "2022-12-06T11:24:30.758Z"
   },
   {
    "duration": 72,
    "start_time": "2022-12-06T11:25:15.178Z"
   },
   {
    "duration": 3,
    "start_time": "2022-12-06T11:26:18.861Z"
   },
   {
    "duration": 13,
    "start_time": "2022-12-06T11:26:30.752Z"
   },
   {
    "duration": 15,
    "start_time": "2022-12-06T11:28:06.398Z"
   },
   {
    "duration": 14,
    "start_time": "2022-12-06T11:28:14.574Z"
   },
   {
    "duration": 14,
    "start_time": "2022-12-06T11:28:19.699Z"
   },
   {
    "duration": 10,
    "start_time": "2022-12-06T11:28:23.182Z"
   },
   {
    "duration": 15,
    "start_time": "2022-12-06T11:28:29.702Z"
   },
   {
    "duration": 13,
    "start_time": "2022-12-06T11:28:35.902Z"
   },
   {
    "duration": 17,
    "start_time": "2022-12-06T11:28:59.719Z"
   },
   {
    "duration": 15,
    "start_time": "2022-12-06T11:29:54.690Z"
   },
   {
    "duration": 12,
    "start_time": "2022-12-06T11:30:07.696Z"
   },
   {
    "duration": 8,
    "start_time": "2022-12-06T11:30:25.943Z"
   },
   {
    "duration": 14,
    "start_time": "2022-12-06T11:30:29.881Z"
   },
   {
    "duration": 16,
    "start_time": "2022-12-06T11:30:39.812Z"
   },
   {
    "duration": 15,
    "start_time": "2022-12-06T11:30:44.119Z"
   },
   {
    "duration": 9,
    "start_time": "2022-12-06T11:32:06.524Z"
   },
   {
    "duration": 9,
    "start_time": "2022-12-06T11:32:20.070Z"
   },
   {
    "duration": 9,
    "start_time": "2022-12-06T11:32:31.127Z"
   },
   {
    "duration": 12,
    "start_time": "2022-12-06T11:32:35.365Z"
   },
   {
    "duration": 14,
    "start_time": "2022-12-06T11:32:56.998Z"
   },
   {
    "duration": 10,
    "start_time": "2022-12-06T11:33:02.012Z"
   },
   {
    "duration": 7,
    "start_time": "2022-12-06T11:34:22.586Z"
   },
   {
    "duration": 7,
    "start_time": "2022-12-06T11:34:25.221Z"
   },
   {
    "duration": 355,
    "start_time": "2022-12-06T11:34:41.428Z"
   },
   {
    "duration": 327,
    "start_time": "2022-12-06T11:34:58.313Z"
   },
   {
    "duration": 8,
    "start_time": "2022-12-06T11:38:54.045Z"
   },
   {
    "duration": 15,
    "start_time": "2022-12-06T11:38:58.362Z"
   },
   {
    "duration": 388,
    "start_time": "2022-12-06T11:43:58.127Z"
   },
   {
    "duration": 1186,
    "start_time": "2022-12-06T11:45:51.240Z"
   },
   {
    "duration": 20,
    "start_time": "2022-12-06T11:46:06.285Z"
   },
   {
    "duration": 66,
    "start_time": "2022-12-06T11:46:57.022Z"
   },
   {
    "duration": 3,
    "start_time": "2022-12-06T11:47:00.605Z"
   },
   {
    "duration": 12,
    "start_time": "2022-12-06T11:47:16.006Z"
   },
   {
    "duration": 13,
    "start_time": "2022-12-06T11:47:19.833Z"
   },
   {
    "duration": 13,
    "start_time": "2022-12-06T11:47:40.015Z"
   },
   {
    "duration": 12,
    "start_time": "2022-12-06T11:47:56.760Z"
   },
   {
    "duration": 18,
    "start_time": "2022-12-06T11:48:52.863Z"
   },
   {
    "duration": 18,
    "start_time": "2022-12-06T11:49:01.311Z"
   },
   {
    "duration": 10,
    "start_time": "2022-12-06T11:49:25.269Z"
   },
   {
    "duration": 16,
    "start_time": "2022-12-06T11:49:28.004Z"
   },
   {
    "duration": 14,
    "start_time": "2022-12-06T11:49:39.873Z"
   },
   {
    "duration": 9,
    "start_time": "2022-12-06T11:49:46.414Z"
   },
   {
    "duration": 13,
    "start_time": "2022-12-06T11:49:49.619Z"
   },
   {
    "duration": 13,
    "start_time": "2022-12-06T11:51:11.492Z"
   },
   {
    "duration": 300,
    "start_time": "2022-12-06T11:52:42.593Z"
   },
   {
    "duration": 19,
    "start_time": "2022-12-06T11:52:46.816Z"
   },
   {
    "duration": 15,
    "start_time": "2022-12-06T11:53:45.892Z"
   },
   {
    "duration": 13,
    "start_time": "2022-12-06T11:55:50.192Z"
   },
   {
    "duration": 14,
    "start_time": "2022-12-06T11:55:54.510Z"
   },
   {
    "duration": 12,
    "start_time": "2022-12-06T11:56:18.267Z"
   },
   {
    "duration": 1133,
    "start_time": "2022-12-06T11:58:28.970Z"
   },
   {
    "duration": 12,
    "start_time": "2022-12-06T11:58:39.504Z"
   },
   {
    "duration": 13,
    "start_time": "2022-12-06T11:58:54.004Z"
   },
   {
    "duration": 12,
    "start_time": "2022-12-06T11:59:11.558Z"
   },
   {
    "duration": 9,
    "start_time": "2022-12-06T11:59:16.067Z"
   },
   {
    "duration": 9,
    "start_time": "2022-12-06T11:59:18.134Z"
   },
   {
    "duration": 13,
    "start_time": "2022-12-06T11:59:28.309Z"
   },
   {
    "duration": 12,
    "start_time": "2022-12-06T11:59:40.379Z"
   },
   {
    "duration": 10,
    "start_time": "2022-12-06T12:00:41.779Z"
   },
   {
    "duration": 14,
    "start_time": "2022-12-06T12:00:46.552Z"
   },
   {
    "duration": 15,
    "start_time": "2022-12-06T12:01:14.492Z"
   },
   {
    "duration": 16,
    "start_time": "2022-12-06T12:01:31.015Z"
   },
   {
    "duration": 153,
    "start_time": "2022-12-06T12:01:39.057Z"
   },
   {
    "duration": 186,
    "start_time": "2022-12-06T12:02:00.807Z"
   },
   {
    "duration": 1161,
    "start_time": "2022-12-06T12:02:50.800Z"
   },
   {
    "duration": 1123,
    "start_time": "2022-12-06T12:02:52.570Z"
   },
   {
    "duration": 1193,
    "start_time": "2022-12-06T12:02:59.607Z"
   },
   {
    "duration": 19,
    "start_time": "2022-12-06T12:03:03.888Z"
   },
   {
    "duration": 17,
    "start_time": "2022-12-06T12:03:33.208Z"
   },
   {
    "duration": 18,
    "start_time": "2022-12-06T12:03:49.118Z"
   },
   {
    "duration": 18,
    "start_time": "2022-12-06T12:03:52.568Z"
   },
   {
    "duration": 14,
    "start_time": "2022-12-06T12:04:07.636Z"
   },
   {
    "duration": 17,
    "start_time": "2022-12-06T12:04:48.418Z"
   },
   {
    "duration": 114,
    "start_time": "2022-12-06T12:04:53.440Z"
   },
   {
    "duration": 223,
    "start_time": "2022-12-06T12:09:41.241Z"
   },
   {
    "duration": 10,
    "start_time": "2022-12-06T12:10:04.784Z"
   },
   {
    "duration": 22,
    "start_time": "2022-12-06T12:10:06.022Z"
   },
   {
    "duration": 95,
    "start_time": "2022-12-06T12:10:08.243Z"
   },
   {
    "duration": 15,
    "start_time": "2022-12-06T12:10:20.668Z"
   },
   {
    "duration": 13,
    "start_time": "2022-12-06T12:10:24.014Z"
   },
   {
    "duration": 130,
    "start_time": "2022-12-06T12:10:29.966Z"
   },
   {
    "duration": 77,
    "start_time": "2022-12-06T12:11:18.370Z"
   },
   {
    "duration": 14,
    "start_time": "2022-12-06T12:12:22.977Z"
   },
   {
    "duration": 14,
    "start_time": "2022-12-06T12:12:29.180Z"
   },
   {
    "duration": 14,
    "start_time": "2022-12-06T12:12:47.272Z"
   },
   {
    "duration": 121,
    "start_time": "2022-12-06T12:12:55.801Z"
   },
   {
    "duration": 134,
    "start_time": "2022-12-06T12:13:27.307Z"
   },
   {
    "duration": 130,
    "start_time": "2022-12-06T12:13:33.264Z"
   },
   {
    "duration": 135,
    "start_time": "2022-12-06T12:13:59.130Z"
   },
   {
    "duration": 96,
    "start_time": "2022-12-06T12:14:11.957Z"
   },
   {
    "duration": 140,
    "start_time": "2022-12-06T12:14:17.081Z"
   },
   {
    "duration": 1407,
    "start_time": "2022-12-06T12:20:32.097Z"
   },
   {
    "duration": 14,
    "start_time": "2022-12-06T12:20:42.089Z"
   },
   {
    "duration": 149,
    "start_time": "2022-12-06T12:21:31.400Z"
   },
   {
    "duration": 147,
    "start_time": "2022-12-06T12:21:40.099Z"
   },
   {
    "duration": 1225,
    "start_time": "2022-12-06T12:26:34.541Z"
   },
   {
    "duration": 15,
    "start_time": "2022-12-06T12:26:37.240Z"
   },
   {
    "duration": 19,
    "start_time": "2022-12-06T12:26:48.184Z"
   },
   {
    "duration": 12,
    "start_time": "2022-12-06T12:27:10.579Z"
   },
   {
    "duration": 118,
    "start_time": "2022-12-06T12:27:16.985Z"
   },
   {
    "duration": 199,
    "start_time": "2022-12-06T12:27:28.352Z"
   },
   {
    "duration": 6,
    "start_time": "2022-12-06T12:30:35.190Z"
   },
   {
    "duration": 8,
    "start_time": "2022-12-06T12:31:01.585Z"
   },
   {
    "duration": 8,
    "start_time": "2022-12-06T12:31:06.855Z"
   },
   {
    "duration": 7,
    "start_time": "2022-12-06T12:31:12.187Z"
   },
   {
    "duration": 91,
    "start_time": "2022-12-06T12:31:40.374Z"
   },
   {
    "duration": 3,
    "start_time": "2022-12-06T12:42:13.429Z"
   },
   {
    "duration": 4,
    "start_time": "2022-12-06T12:42:15.243Z"
   },
   {
    "duration": 0,
    "start_time": "2022-12-06T12:42:31.277Z"
   },
   {
    "duration": 1389,
    "start_time": "2022-12-06T12:42:36.531Z"
   },
   {
    "duration": 1361,
    "start_time": "2022-12-06T12:43:22.579Z"
   },
   {
    "duration": 706,
    "start_time": "2022-12-06T12:43:30.921Z"
   },
   {
    "duration": 13,
    "start_time": "2022-12-06T12:43:36.834Z"
   },
   {
    "duration": 7,
    "start_time": "2022-12-06T12:43:38.678Z"
   },
   {
    "duration": 5,
    "start_time": "2022-12-06T12:43:53.660Z"
   },
   {
    "duration": 5,
    "start_time": "2022-12-06T12:44:41.886Z"
   },
   {
    "duration": 1756,
    "start_time": "2022-12-06T12:45:02.668Z"
   },
   {
    "duration": 1384,
    "start_time": "2022-12-06T12:45:42.155Z"
   },
   {
    "duration": 1389,
    "start_time": "2022-12-06T12:45:53.960Z"
   },
   {
    "duration": 10,
    "start_time": "2022-12-06T12:46:02.554Z"
   },
   {
    "duration": 21,
    "start_time": "2022-12-06T12:46:40.141Z"
   },
   {
    "duration": 10,
    "start_time": "2022-12-06T12:47:03.793Z"
   },
   {
    "duration": 26,
    "start_time": "2022-12-06T12:48:42.944Z"
   },
   {
    "duration": 20,
    "start_time": "2022-12-06T12:48:55.760Z"
   },
   {
    "duration": 14,
    "start_time": "2022-12-06T12:49:01.901Z"
   },
   {
    "duration": 95,
    "start_time": "2022-12-06T12:49:36.254Z"
   },
   {
    "duration": 11,
    "start_time": "2022-12-06T12:49:37.570Z"
   },
   {
    "duration": 0,
    "start_time": "2022-12-06T12:52:21.893Z"
   },
   {
    "duration": 127,
    "start_time": "2022-12-06T12:53:01.227Z"
   },
   {
    "duration": 1524,
    "start_time": "2022-12-06T12:53:05.459Z"
   },
   {
    "duration": 63,
    "start_time": "2022-12-06T12:53:28.383Z"
   },
   {
    "duration": 3153,
    "start_time": "2022-12-06T12:53:37.567Z"
   },
   {
    "duration": 0,
    "start_time": "2022-12-06T12:57:02.452Z"
   },
   {
    "duration": 13800,
    "start_time": "2022-12-06T12:57:03.915Z"
   },
   {
    "duration": 0,
    "start_time": "2022-12-06T12:57:17.716Z"
   },
   {
    "duration": 8,
    "start_time": "2022-12-06T12:57:25.909Z"
   },
   {
    "duration": 48452,
    "start_time": "2022-12-06T12:57:28.021Z"
   },
   {
    "duration": 27,
    "start_time": "2022-12-06T12:58:21.224Z"
   },
   {
    "duration": 3121,
    "start_time": "2022-12-06T12:58:37.888Z"
   },
   {
    "duration": 3063,
    "start_time": "2022-12-06T12:58:42.399Z"
   },
   {
    "duration": 16,
    "start_time": "2022-12-06T12:59:18.860Z"
   },
   {
    "duration": 3486,
    "start_time": "2022-12-06T12:59:23.500Z"
   },
   {
    "duration": 90,
    "start_time": "2022-12-06T12:59:27.260Z"
   },
   {
    "duration": 3490,
    "start_time": "2022-12-06T12:59:30.526Z"
   },
   {
    "duration": 3442,
    "start_time": "2022-12-06T12:59:55.336Z"
   },
   {
    "duration": 3439,
    "start_time": "2022-12-06T13:00:36.818Z"
   },
   {
    "duration": 3154,
    "start_time": "2022-12-06T13:00:56.003Z"
   },
   {
    "duration": 3257,
    "start_time": "2022-12-06T13:01:55.068Z"
   },
   {
    "duration": 5,
    "start_time": "2022-12-06T13:02:03.064Z"
   },
   {
    "duration": 3485,
    "start_time": "2022-12-06T13:02:06.168Z"
   },
   {
    "duration": 1478,
    "start_time": "2022-12-06T13:02:39.607Z"
   },
   {
    "duration": 105,
    "start_time": "2022-12-06T13:02:49.018Z"
   },
   {
    "duration": 3220,
    "start_time": "2022-12-06T13:02:56.654Z"
   },
   {
    "duration": 48056,
    "start_time": "2022-12-06T13:04:34.519Z"
   },
   {
    "duration": 0,
    "start_time": "2022-12-06T13:05:22.577Z"
   },
   {
    "duration": 5,
    "start_time": "2022-12-06T13:05:25.821Z"
   },
   {
    "duration": 4,
    "start_time": "2022-12-06T13:05:28.171Z"
   },
   {
    "duration": 81,
    "start_time": "2022-12-06T13:05:59.072Z"
   }
  ],
  "colab": {
   "name": "dpp_template_part2.ipynb",
   "provenance": []
  },
  "kernelspec": {
   "display_name": "Python 3 (ipykernel)",
   "language": "python",
   "name": "python3"
  },
  "language_info": {
   "codemirror_mode": {
    "name": "ipython",
    "version": 3
   },
   "file_extension": ".py",
   "mimetype": "text/x-python",
   "name": "python",
   "nbconvert_exporter": "python",
   "pygments_lexer": "ipython3",
   "version": "3.10.9"
  },
  "toc": {
   "base_numbering": 1,
   "nav_menu": {},
   "number_sections": true,
   "sideBar": true,
   "skip_h1_title": true,
   "title_cell": "Содержание проекта",
   "title_sidebar": "Contents",
   "toc_cell": true,
   "toc_position": {
    "height": "calc(100% - 180px)",
    "left": "10px",
    "top": "150px",
    "width": "421px"
   },
   "toc_section_display": true,
   "toc_window_display": true
  },
  "varInspector": {
   "cols": {
    "lenName": 16,
    "lenType": 16,
    "lenVar": 40
   },
   "kernels_config": {
    "python": {
     "delete_cmd_postfix": "",
     "delete_cmd_prefix": "del ",
     "library": "var_list.py",
     "varRefreshCmd": "print(var_dic_list())"
    },
    "r": {
     "delete_cmd_postfix": ") ",
     "delete_cmd_prefix": "rm(",
     "library": "var_list.r",
     "varRefreshCmd": "cat(var_dic_list()) "
    }
   },
   "types_to_exclude": [
    "module",
    "function",
    "builtin_function_or_method",
    "instance",
    "_Feature"
   ],
   "window_display": false
  }
 },
 "nbformat": 4,
 "nbformat_minor": 5
}
