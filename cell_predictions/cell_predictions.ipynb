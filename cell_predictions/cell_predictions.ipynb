{
 "cells": [
  {
   "cell_type": "markdown",
   "metadata": {
    "toc": true
   },
   "source": [
    "<h1>Содержание проекта<span class=\"tocSkip\"></span></h1>\n",
    "<div class=\"toc\"><ul class=\"toc-item\"><li><span><a href=\"#Откройте-и-изучите-файл\" data-toc-modified-id=\"Откройте-и-изучите-файл-1\"><span class=\"toc-item-num\">1&nbsp;&nbsp;</span>Откройте и изучите файл</a></span></li><li><span><a href=\"#Разбейте-данные-на-выборки\" data-toc-modified-id=\"Разбейте-данные-на-выборки-2\"><span class=\"toc-item-num\">2&nbsp;&nbsp;</span>Разбейте данные на выборки</a></span></li><li><span><a href=\"#Исследуйте-модели\" data-toc-modified-id=\"Исследуйте-модели-3\"><span class=\"toc-item-num\">3&nbsp;&nbsp;</span>Исследуйте модели</a></span><ul class=\"toc-item\"><li><span><a href=\"#DecisionTreeClassifier\" data-toc-modified-id=\"DecisionTreeClassifier-3.1\"><span class=\"toc-item-num\">3.1&nbsp;&nbsp;</span>DecisionTreeClassifier</a></span></li><li><span><a href=\"#RandomForestClassifier\" data-toc-modified-id=\"RandomForestClassifier-3.2\"><span class=\"toc-item-num\">3.2&nbsp;&nbsp;</span>RandomForestClassifier</a></span></li><li><span><a href=\"#LogisticRegression\" data-toc-modified-id=\"LogisticRegression-3.3\"><span class=\"toc-item-num\">3.3&nbsp;&nbsp;</span>LogisticRegression</a></span></li></ul></li><li><span><a href=\"#Проверьте-модель-на-тестовой-выборке\" data-toc-modified-id=\"Проверьте-модель-на-тестовой-выборке-4\"><span class=\"toc-item-num\">4&nbsp;&nbsp;</span>Проверьте модель на тестовой выборке</a></span></li><li><span><a href=\"#(бонус)-Проверьте-модели-на-адекватность\" data-toc-modified-id=\"(бонус)-Проверьте-модели-на-адекватность-5\"><span class=\"toc-item-num\">5&nbsp;&nbsp;</span>(бонус) Проверьте модели на адекватность</a></span></li><li><span><a href=\"#Общие-выводы\" data-toc-modified-id=\"Общие-выводы-6\"><span class=\"toc-item-num\">6&nbsp;&nbsp;</span>Общие выводы</a></span></li><li><span><a href=\"#Чек-лист-готовности-проекта\" data-toc-modified-id=\"Чек-лист-готовности-проекта-7\"><span class=\"toc-item-num\">7&nbsp;&nbsp;</span>Чек-лист готовности проекта</a></span></li></ul></div>"
   ]
  },
  {
   "cell_type": "markdown",
   "metadata": {},
   "source": [
    "# Рекомендация тарифов"
   ]
  },
  {
   "cell_type": "markdown",
   "metadata": {},
   "source": [
    "В вашем распоряжении данные о поведении клиентов, которые уже перешли на эти тарифы (из проекта курса «Статистический анализ данных»). Нужно построить модель для задачи классификации, которая выберет подходящий тариф. Предобработка данных не понадобится — вы её уже сделали.\n",
    "\n",
    "Постройте модель с максимально большим значением *accuracy*. Чтобы сдать проект успешно, нужно довести долю правильных ответов по крайней мере до 0.75. Проверьте *accuracy* на тестовой выборке самостоятельно."
   ]
  },
  {
   "cell_type": "markdown",
   "metadata": {},
   "source": [
    "## Откройте и изучите файл"
   ]
  },
  {
   "cell_type": "markdown",
   "metadata": {},
   "source": [
    "Импортируем библиотеки для работы:"
   ]
  },
  {
   "cell_type": "code",
   "execution_count": 1,
   "metadata": {
    "ExecuteTime": {
     "end_time": "2023-05-10T03:20:28.343900Z",
     "start_time": "2023-05-10T03:20:24.989557Z"
    }
   },
   "outputs": [
    {
     "name": "stdout",
     "output_type": "stream",
     "text": [
      "Defaulting to user installation because normal site-packages is not writeable\n",
      "Requirement already satisfied: fast_ml in c:\\users\\mx\\appdata\\roaming\\python\\python310\\site-packages (3.68)\n"
     ]
    }
   ],
   "source": [
    "!pip install fast_ml"
   ]
  },
  {
   "cell_type": "code",
   "execution_count": 2,
   "metadata": {
    "ExecuteTime": {
     "end_time": "2023-05-10T03:20:29.576981Z",
     "start_time": "2023-05-10T03:20:28.344765Z"
    }
   },
   "outputs": [],
   "source": [
    "import pandas as pd\n",
    "from matplotlib import pyplot as plt\n",
    "from sklearn.model_selection import train_test_split\n",
    "from sklearn.tree import DecisionTreeClassifier\n",
    "from sklearn.ensemble import RandomForestClassifier\n",
    "from sklearn.linear_model import LogisticRegression\n",
    "from sklearn.metrics import accuracy_score\n",
    "from scipy import stats as st\n",
    "import numpy as np\n",
    "from fast_ml.model_development import train_valid_test_split"
   ]
  },
  {
   "cell_type": "code",
   "execution_count": 3,
   "metadata": {
    "ExecuteTime": {
     "end_time": "2023-05-10T03:20:30.097272Z",
     "start_time": "2023-05-10T03:20:29.578975Z"
    }
   },
   "outputs": [],
   "source": [
    "data = pd.read_csv('./datasets/users_behavior.csv')"
   ]
  },
  {
   "cell_type": "code",
   "execution_count": 4,
   "metadata": {
    "ExecuteTime": {
     "end_time": "2023-05-10T03:20:30.113229Z",
     "start_time": "2023-05-10T03:20:30.098269Z"
    }
   },
   "outputs": [
    {
     "data": {
      "text/html": [
       "<div>\n",
       "<style scoped>\n",
       "    .dataframe tbody tr th:only-of-type {\n",
       "        vertical-align: middle;\n",
       "    }\n",
       "\n",
       "    .dataframe tbody tr th {\n",
       "        vertical-align: top;\n",
       "    }\n",
       "\n",
       "    .dataframe thead th {\n",
       "        text-align: right;\n",
       "    }\n",
       "</style>\n",
       "<table border=\"1\" class=\"dataframe\">\n",
       "  <thead>\n",
       "    <tr style=\"text-align: right;\">\n",
       "      <th></th>\n",
       "      <th>calls</th>\n",
       "      <th>minutes</th>\n",
       "      <th>messages</th>\n",
       "      <th>mb_used</th>\n",
       "      <th>is_ultra</th>\n",
       "    </tr>\n",
       "  </thead>\n",
       "  <tbody>\n",
       "    <tr>\n",
       "      <th>0</th>\n",
       "      <td>40.0</td>\n",
       "      <td>311.90</td>\n",
       "      <td>83.0</td>\n",
       "      <td>19915.42</td>\n",
       "      <td>0</td>\n",
       "    </tr>\n",
       "    <tr>\n",
       "      <th>1</th>\n",
       "      <td>85.0</td>\n",
       "      <td>516.75</td>\n",
       "      <td>56.0</td>\n",
       "      <td>22696.96</td>\n",
       "      <td>0</td>\n",
       "    </tr>\n",
       "    <tr>\n",
       "      <th>2</th>\n",
       "      <td>77.0</td>\n",
       "      <td>467.66</td>\n",
       "      <td>86.0</td>\n",
       "      <td>21060.45</td>\n",
       "      <td>0</td>\n",
       "    </tr>\n",
       "    <tr>\n",
       "      <th>3</th>\n",
       "      <td>106.0</td>\n",
       "      <td>745.53</td>\n",
       "      <td>81.0</td>\n",
       "      <td>8437.39</td>\n",
       "      <td>1</td>\n",
       "    </tr>\n",
       "    <tr>\n",
       "      <th>4</th>\n",
       "      <td>66.0</td>\n",
       "      <td>418.74</td>\n",
       "      <td>1.0</td>\n",
       "      <td>14502.75</td>\n",
       "      <td>0</td>\n",
       "    </tr>\n",
       "    <tr>\n",
       "      <th>...</th>\n",
       "      <td>...</td>\n",
       "      <td>...</td>\n",
       "      <td>...</td>\n",
       "      <td>...</td>\n",
       "      <td>...</td>\n",
       "    </tr>\n",
       "    <tr>\n",
       "      <th>3209</th>\n",
       "      <td>122.0</td>\n",
       "      <td>910.98</td>\n",
       "      <td>20.0</td>\n",
       "      <td>35124.90</td>\n",
       "      <td>1</td>\n",
       "    </tr>\n",
       "    <tr>\n",
       "      <th>3210</th>\n",
       "      <td>25.0</td>\n",
       "      <td>190.36</td>\n",
       "      <td>0.0</td>\n",
       "      <td>3275.61</td>\n",
       "      <td>0</td>\n",
       "    </tr>\n",
       "    <tr>\n",
       "      <th>3211</th>\n",
       "      <td>97.0</td>\n",
       "      <td>634.44</td>\n",
       "      <td>70.0</td>\n",
       "      <td>13974.06</td>\n",
       "      <td>0</td>\n",
       "    </tr>\n",
       "    <tr>\n",
       "      <th>3212</th>\n",
       "      <td>64.0</td>\n",
       "      <td>462.32</td>\n",
       "      <td>90.0</td>\n",
       "      <td>31239.78</td>\n",
       "      <td>0</td>\n",
       "    </tr>\n",
       "    <tr>\n",
       "      <th>3213</th>\n",
       "      <td>80.0</td>\n",
       "      <td>566.09</td>\n",
       "      <td>6.0</td>\n",
       "      <td>29480.52</td>\n",
       "      <td>1</td>\n",
       "    </tr>\n",
       "  </tbody>\n",
       "</table>\n",
       "<p>3214 rows × 5 columns</p>\n",
       "</div>"
      ],
      "text/plain": [
       "      calls  minutes  messages   mb_used  is_ultra\n",
       "0      40.0   311.90      83.0  19915.42         0\n",
       "1      85.0   516.75      56.0  22696.96         0\n",
       "2      77.0   467.66      86.0  21060.45         0\n",
       "3     106.0   745.53      81.0   8437.39         1\n",
       "4      66.0   418.74       1.0  14502.75         0\n",
       "...     ...      ...       ...       ...       ...\n",
       "3209  122.0   910.98      20.0  35124.90         1\n",
       "3210   25.0   190.36       0.0   3275.61         0\n",
       "3211   97.0   634.44      70.0  13974.06         0\n",
       "3212   64.0   462.32      90.0  31239.78         0\n",
       "3213   80.0   566.09       6.0  29480.52         1\n",
       "\n",
       "[3214 rows x 5 columns]"
      ]
     },
     "execution_count": 4,
     "metadata": {},
     "output_type": "execute_result"
    }
   ],
   "source": [
    "data"
   ]
  },
  {
   "cell_type": "code",
   "execution_count": 5,
   "metadata": {
    "ExecuteTime": {
     "end_time": "2023-05-10T03:20:30.129187Z",
     "start_time": "2023-05-10T03:20:30.114228Z"
    },
    "scrolled": true
   },
   "outputs": [
    {
     "data": {
      "text/plain": [
       "calls       float64\n",
       "minutes     float64\n",
       "messages    float64\n",
       "mb_used     float64\n",
       "is_ultra      int64\n",
       "dtype: object"
      ]
     },
     "execution_count": 5,
     "metadata": {},
     "output_type": "execute_result"
    }
   ],
   "source": [
    "data.dtypes"
   ]
  },
  {
   "cell_type": "markdown",
   "metadata": {},
   "source": [
    "Предобработка выполнена в одном из предыдущих проектов, целевой столбец для классификации `is_ultra`. Признаки - `calls`, `minutes`, `messages`, `mb_used`"
   ]
  },
  {
   "cell_type": "markdown",
   "metadata": {},
   "source": [
    "По предварительному анализу данных и проверке гипотез были сделаны следующие выводы:\n",
    "- средняя выручка пользователей тарифов «Ультра» и «Смарт» различаются\n",
    "- пользователи из Москвы приносят не больше выручки, чем пользователи из других городов\n",
    "\n",
    "Таким образом, мы заинтересованы в новых \"ультра\"-клиентах по всей РФ"
   ]
  },
  {
   "cell_type": "markdown",
   "metadata": {},
   "source": [
    "## Разбейте данные на выборки"
   ]
  },
  {
   "cell_type": "markdown",
   "metadata": {},
   "source": [
    "По правилу долей 3 к 1 к 1 выделим 20% данных на тестовую выборку и 20% данных на валидационную, для фиксированного результата работы генератора псевдослучайных чисел примем константой `random_state`=555:"
   ]
  },
  {
   "cell_type": "code",
   "execution_count": 6,
   "metadata": {
    "ExecuteTime": {
     "end_time": "2023-05-10T03:20:30.145144Z",
     "start_time": "2023-05-10T03:20:30.130183Z"
    }
   },
   "outputs": [],
   "source": [
    "data_temp, data_test = train_test_split(data, test_size=0.2, random_state=555)"
   ]
  },
  {
   "cell_type": "code",
   "execution_count": 7,
   "metadata": {
    "ExecuteTime": {
     "end_time": "2023-05-10T03:20:30.161109Z",
     "start_time": "2023-05-10T03:20:30.146141Z"
    }
   },
   "outputs": [
    {
     "data": {
      "text/html": [
       "<div>\n",
       "<style scoped>\n",
       "    .dataframe tbody tr th:only-of-type {\n",
       "        vertical-align: middle;\n",
       "    }\n",
       "\n",
       "    .dataframe tbody tr th {\n",
       "        vertical-align: top;\n",
       "    }\n",
       "\n",
       "    .dataframe thead th {\n",
       "        text-align: right;\n",
       "    }\n",
       "</style>\n",
       "<table border=\"1\" class=\"dataframe\">\n",
       "  <thead>\n",
       "    <tr style=\"text-align: right;\">\n",
       "      <th></th>\n",
       "      <th>calls</th>\n",
       "      <th>minutes</th>\n",
       "      <th>messages</th>\n",
       "      <th>mb_used</th>\n",
       "      <th>is_ultra</th>\n",
       "    </tr>\n",
       "  </thead>\n",
       "  <tbody>\n",
       "    <tr>\n",
       "      <th>1100</th>\n",
       "      <td>61.0</td>\n",
       "      <td>443.13</td>\n",
       "      <td>45.0</td>\n",
       "      <td>15349.65</td>\n",
       "      <td>0</td>\n",
       "    </tr>\n",
       "    <tr>\n",
       "      <th>549</th>\n",
       "      <td>81.0</td>\n",
       "      <td>560.68</td>\n",
       "      <td>21.0</td>\n",
       "      <td>16369.73</td>\n",
       "      <td>0</td>\n",
       "    </tr>\n",
       "    <tr>\n",
       "      <th>223</th>\n",
       "      <td>110.0</td>\n",
       "      <td>881.06</td>\n",
       "      <td>72.0</td>\n",
       "      <td>11441.18</td>\n",
       "      <td>0</td>\n",
       "    </tr>\n",
       "    <tr>\n",
       "      <th>1122</th>\n",
       "      <td>50.0</td>\n",
       "      <td>345.79</td>\n",
       "      <td>0.0</td>\n",
       "      <td>18908.64</td>\n",
       "      <td>0</td>\n",
       "    </tr>\n",
       "    <tr>\n",
       "      <th>992</th>\n",
       "      <td>82.0</td>\n",
       "      <td>569.13</td>\n",
       "      <td>24.0</td>\n",
       "      <td>18749.93</td>\n",
       "      <td>0</td>\n",
       "    </tr>\n",
       "    <tr>\n",
       "      <th>...</th>\n",
       "      <td>...</td>\n",
       "      <td>...</td>\n",
       "      <td>...</td>\n",
       "      <td>...</td>\n",
       "      <td>...</td>\n",
       "    </tr>\n",
       "    <tr>\n",
       "      <th>2493</th>\n",
       "      <td>67.0</td>\n",
       "      <td>492.40</td>\n",
       "      <td>16.0</td>\n",
       "      <td>22783.19</td>\n",
       "      <td>0</td>\n",
       "    </tr>\n",
       "    <tr>\n",
       "      <th>497</th>\n",
       "      <td>36.0</td>\n",
       "      <td>239.79</td>\n",
       "      <td>0.0</td>\n",
       "      <td>14611.03</td>\n",
       "      <td>0</td>\n",
       "    </tr>\n",
       "    <tr>\n",
       "      <th>2164</th>\n",
       "      <td>73.0</td>\n",
       "      <td>559.08</td>\n",
       "      <td>31.0</td>\n",
       "      <td>22763.31</td>\n",
       "      <td>0</td>\n",
       "    </tr>\n",
       "    <tr>\n",
       "      <th>2134</th>\n",
       "      <td>48.0</td>\n",
       "      <td>289.40</td>\n",
       "      <td>84.0</td>\n",
       "      <td>15696.86</td>\n",
       "      <td>1</td>\n",
       "    </tr>\n",
       "    <tr>\n",
       "      <th>2634</th>\n",
       "      <td>74.0</td>\n",
       "      <td>472.44</td>\n",
       "      <td>18.0</td>\n",
       "      <td>16081.14</td>\n",
       "      <td>0</td>\n",
       "    </tr>\n",
       "  </tbody>\n",
       "</table>\n",
       "<p>643 rows × 5 columns</p>\n",
       "</div>"
      ],
      "text/plain": [
       "      calls  minutes  messages   mb_used  is_ultra\n",
       "1100   61.0   443.13      45.0  15349.65         0\n",
       "549    81.0   560.68      21.0  16369.73         0\n",
       "223   110.0   881.06      72.0  11441.18         0\n",
       "1122   50.0   345.79       0.0  18908.64         0\n",
       "992    82.0   569.13      24.0  18749.93         0\n",
       "...     ...      ...       ...       ...       ...\n",
       "2493   67.0   492.40      16.0  22783.19         0\n",
       "497    36.0   239.79       0.0  14611.03         0\n",
       "2164   73.0   559.08      31.0  22763.31         0\n",
       "2134   48.0   289.40      84.0  15696.86         1\n",
       "2634   74.0   472.44      18.0  16081.14         0\n",
       "\n",
       "[643 rows x 5 columns]"
      ]
     },
     "execution_count": 7,
     "metadata": {},
     "output_type": "execute_result"
    }
   ],
   "source": [
    "data_test"
   ]
  },
  {
   "cell_type": "code",
   "execution_count": 8,
   "metadata": {
    "ExecuteTime": {
     "end_time": "2023-05-10T03:20:30.177059Z",
     "start_time": "2023-05-10T03:20:30.162100Z"
    }
   },
   "outputs": [],
   "source": [
    "data_train, data_valid = train_test_split(\n",
    "    data_temp, test_size=0.25, random_state=555)"
   ]
  },
  {
   "cell_type": "code",
   "execution_count": 9,
   "metadata": {
    "ExecuteTime": {
     "end_time": "2023-05-10T03:20:30.193016Z",
     "start_time": "2023-05-10T03:20:30.179054Z"
    }
   },
   "outputs": [
    {
     "data": {
      "text/html": [
       "<div>\n",
       "<style scoped>\n",
       "    .dataframe tbody tr th:only-of-type {\n",
       "        vertical-align: middle;\n",
       "    }\n",
       "\n",
       "    .dataframe tbody tr th {\n",
       "        vertical-align: top;\n",
       "    }\n",
       "\n",
       "    .dataframe thead th {\n",
       "        text-align: right;\n",
       "    }\n",
       "</style>\n",
       "<table border=\"1\" class=\"dataframe\">\n",
       "  <thead>\n",
       "    <tr style=\"text-align: right;\">\n",
       "      <th></th>\n",
       "      <th>calls</th>\n",
       "      <th>minutes</th>\n",
       "      <th>messages</th>\n",
       "      <th>mb_used</th>\n",
       "      <th>is_ultra</th>\n",
       "    </tr>\n",
       "  </thead>\n",
       "  <tbody>\n",
       "    <tr>\n",
       "      <th>1538</th>\n",
       "      <td>49.0</td>\n",
       "      <td>323.04</td>\n",
       "      <td>0.0</td>\n",
       "      <td>21078.02</td>\n",
       "      <td>0</td>\n",
       "    </tr>\n",
       "    <tr>\n",
       "      <th>127</th>\n",
       "      <td>68.0</td>\n",
       "      <td>444.41</td>\n",
       "      <td>35.0</td>\n",
       "      <td>26460.37</td>\n",
       "      <td>1</td>\n",
       "    </tr>\n",
       "    <tr>\n",
       "      <th>2300</th>\n",
       "      <td>5.0</td>\n",
       "      <td>40.85</td>\n",
       "      <td>1.0</td>\n",
       "      <td>0.01</td>\n",
       "      <td>0</td>\n",
       "    </tr>\n",
       "    <tr>\n",
       "      <th>505</th>\n",
       "      <td>169.0</td>\n",
       "      <td>1111.51</td>\n",
       "      <td>53.0</td>\n",
       "      <td>27728.78</td>\n",
       "      <td>1</td>\n",
       "    </tr>\n",
       "    <tr>\n",
       "      <th>413</th>\n",
       "      <td>67.0</td>\n",
       "      <td>424.20</td>\n",
       "      <td>37.0</td>\n",
       "      <td>31466.89</td>\n",
       "      <td>1</td>\n",
       "    </tr>\n",
       "    <tr>\n",
       "      <th>...</th>\n",
       "      <td>...</td>\n",
       "      <td>...</td>\n",
       "      <td>...</td>\n",
       "      <td>...</td>\n",
       "      <td>...</td>\n",
       "    </tr>\n",
       "    <tr>\n",
       "      <th>1709</th>\n",
       "      <td>41.0</td>\n",
       "      <td>233.75</td>\n",
       "      <td>24.0</td>\n",
       "      <td>15252.74</td>\n",
       "      <td>0</td>\n",
       "    </tr>\n",
       "    <tr>\n",
       "      <th>446</th>\n",
       "      <td>93.0</td>\n",
       "      <td>680.59</td>\n",
       "      <td>70.0</td>\n",
       "      <td>16376.46</td>\n",
       "      <td>1</td>\n",
       "    </tr>\n",
       "    <tr>\n",
       "      <th>1194</th>\n",
       "      <td>105.0</td>\n",
       "      <td>830.37</td>\n",
       "      <td>21.0</td>\n",
       "      <td>21165.03</td>\n",
       "      <td>1</td>\n",
       "    </tr>\n",
       "    <tr>\n",
       "      <th>2061</th>\n",
       "      <td>66.0</td>\n",
       "      <td>478.48</td>\n",
       "      <td>0.0</td>\n",
       "      <td>16962.58</td>\n",
       "      <td>0</td>\n",
       "    </tr>\n",
       "    <tr>\n",
       "      <th>177</th>\n",
       "      <td>110.0</td>\n",
       "      <td>801.62</td>\n",
       "      <td>37.0</td>\n",
       "      <td>5426.56</td>\n",
       "      <td>1</td>\n",
       "    </tr>\n",
       "  </tbody>\n",
       "</table>\n",
       "<p>643 rows × 5 columns</p>\n",
       "</div>"
      ],
      "text/plain": [
       "      calls  minutes  messages   mb_used  is_ultra\n",
       "1538   49.0   323.04       0.0  21078.02         0\n",
       "127    68.0   444.41      35.0  26460.37         1\n",
       "2300    5.0    40.85       1.0      0.01         0\n",
       "505   169.0  1111.51      53.0  27728.78         1\n",
       "413    67.0   424.20      37.0  31466.89         1\n",
       "...     ...      ...       ...       ...       ...\n",
       "1709   41.0   233.75      24.0  15252.74         0\n",
       "446    93.0   680.59      70.0  16376.46         1\n",
       "1194  105.0   830.37      21.0  21165.03         1\n",
       "2061   66.0   478.48       0.0  16962.58         0\n",
       "177   110.0   801.62      37.0   5426.56         1\n",
       "\n",
       "[643 rows x 5 columns]"
      ]
     },
     "execution_count": 9,
     "metadata": {},
     "output_type": "execute_result"
    }
   ],
   "source": [
    "data_valid"
   ]
  },
  {
   "cell_type": "code",
   "execution_count": 10,
   "metadata": {
    "ExecuteTime": {
     "end_time": "2023-05-10T03:20:30.208974Z",
     "start_time": "2023-05-10T03:20:30.194015Z"
    }
   },
   "outputs": [
    {
     "data": {
      "text/html": [
       "<div>\n",
       "<style scoped>\n",
       "    .dataframe tbody tr th:only-of-type {\n",
       "        vertical-align: middle;\n",
       "    }\n",
       "\n",
       "    .dataframe tbody tr th {\n",
       "        vertical-align: top;\n",
       "    }\n",
       "\n",
       "    .dataframe thead th {\n",
       "        text-align: right;\n",
       "    }\n",
       "</style>\n",
       "<table border=\"1\" class=\"dataframe\">\n",
       "  <thead>\n",
       "    <tr style=\"text-align: right;\">\n",
       "      <th></th>\n",
       "      <th>calls</th>\n",
       "      <th>minutes</th>\n",
       "      <th>messages</th>\n",
       "      <th>mb_used</th>\n",
       "      <th>is_ultra</th>\n",
       "    </tr>\n",
       "  </thead>\n",
       "  <tbody>\n",
       "    <tr>\n",
       "      <th>1318</th>\n",
       "      <td>128.0</td>\n",
       "      <td>846.50</td>\n",
       "      <td>50.0</td>\n",
       "      <td>19450.33</td>\n",
       "      <td>1</td>\n",
       "    </tr>\n",
       "    <tr>\n",
       "      <th>1182</th>\n",
       "      <td>61.0</td>\n",
       "      <td>431.24</td>\n",
       "      <td>7.0</td>\n",
       "      <td>8977.45</td>\n",
       "      <td>0</td>\n",
       "    </tr>\n",
       "    <tr>\n",
       "      <th>1649</th>\n",
       "      <td>0.0</td>\n",
       "      <td>0.00</td>\n",
       "      <td>211.0</td>\n",
       "      <td>27695.86</td>\n",
       "      <td>1</td>\n",
       "    </tr>\n",
       "    <tr>\n",
       "      <th>1037</th>\n",
       "      <td>56.0</td>\n",
       "      <td>357.36</td>\n",
       "      <td>0.0</td>\n",
       "      <td>12965.49</td>\n",
       "      <td>0</td>\n",
       "    </tr>\n",
       "    <tr>\n",
       "      <th>2737</th>\n",
       "      <td>30.0</td>\n",
       "      <td>155.05</td>\n",
       "      <td>23.0</td>\n",
       "      <td>21850.31</td>\n",
       "      <td>0</td>\n",
       "    </tr>\n",
       "    <tr>\n",
       "      <th>...</th>\n",
       "      <td>...</td>\n",
       "      <td>...</td>\n",
       "      <td>...</td>\n",
       "      <td>...</td>\n",
       "      <td>...</td>\n",
       "    </tr>\n",
       "    <tr>\n",
       "      <th>1007</th>\n",
       "      <td>73.0</td>\n",
       "      <td>550.58</td>\n",
       "      <td>25.0</td>\n",
       "      <td>18322.63</td>\n",
       "      <td>0</td>\n",
       "    </tr>\n",
       "    <tr>\n",
       "      <th>1977</th>\n",
       "      <td>76.0</td>\n",
       "      <td>500.53</td>\n",
       "      <td>0.0</td>\n",
       "      <td>14620.28</td>\n",
       "      <td>0</td>\n",
       "    </tr>\n",
       "    <tr>\n",
       "      <th>930</th>\n",
       "      <td>103.0</td>\n",
       "      <td>730.61</td>\n",
       "      <td>154.0</td>\n",
       "      <td>18565.13</td>\n",
       "      <td>1</td>\n",
       "    </tr>\n",
       "    <tr>\n",
       "      <th>1769</th>\n",
       "      <td>50.0</td>\n",
       "      <td>320.63</td>\n",
       "      <td>60.0</td>\n",
       "      <td>19331.57</td>\n",
       "      <td>0</td>\n",
       "    </tr>\n",
       "    <tr>\n",
       "      <th>160</th>\n",
       "      <td>61.0</td>\n",
       "      <td>495.11</td>\n",
       "      <td>8.0</td>\n",
       "      <td>10891.23</td>\n",
       "      <td>0</td>\n",
       "    </tr>\n",
       "  </tbody>\n",
       "</table>\n",
       "<p>1928 rows × 5 columns</p>\n",
       "</div>"
      ],
      "text/plain": [
       "      calls  minutes  messages   mb_used  is_ultra\n",
       "1318  128.0   846.50      50.0  19450.33         1\n",
       "1182   61.0   431.24       7.0   8977.45         0\n",
       "1649    0.0     0.00     211.0  27695.86         1\n",
       "1037   56.0   357.36       0.0  12965.49         0\n",
       "2737   30.0   155.05      23.0  21850.31         0\n",
       "...     ...      ...       ...       ...       ...\n",
       "1007   73.0   550.58      25.0  18322.63         0\n",
       "1977   76.0   500.53       0.0  14620.28         0\n",
       "930   103.0   730.61     154.0  18565.13         1\n",
       "1769   50.0   320.63      60.0  19331.57         0\n",
       "160    61.0   495.11       8.0  10891.23         0\n",
       "\n",
       "[1928 rows x 5 columns]"
      ]
     },
     "execution_count": 10,
     "metadata": {},
     "output_type": "execute_result"
    }
   ],
   "source": [
    "data_train"
   ]
  },
  {
   "cell_type": "markdown",
   "metadata": {},
   "source": [
    "Выделим признаки для каждой из выборок:"
   ]
  },
  {
   "cell_type": "code",
   "execution_count": 11,
   "metadata": {
    "ExecuteTime": {
     "end_time": "2023-05-10T03:20:30.224931Z",
     "start_time": "2023-05-10T03:20:30.209972Z"
    }
   },
   "outputs": [],
   "source": [
    "# целевой признак is_ultra\n",
    "target_train = data_train['is_ultra']\n",
    "target_valid = data_valid['is_ultra']\n",
    "target_test = data_test['is_ultra']\n",
    "# остальные признаки для классификации\n",
    "features_train = data_train.drop('is_ultra', axis=1)\n",
    "features_valid = data_valid.drop('is_ultra', axis=1)\n",
    "features_test = data_test.drop('is_ultra', axis=1)"
   ]
  },
  {
   "cell_type": "code",
   "execution_count": 12,
   "metadata": {
    "ExecuteTime": {
     "end_time": "2023-05-10T03:20:30.240888Z",
     "start_time": "2023-05-10T03:20:30.225928Z"
    }
   },
   "outputs": [
    {
     "data": {
      "text/plain": [
       "(1928, 5)"
      ]
     },
     "execution_count": 12,
     "metadata": {},
     "output_type": "execute_result"
    }
   ],
   "source": [
    "train_, valid_, test_ = np.split(data.sample(frac=1, random_state=821), [\n",
    "                                 int(.6*len(data)), int(.8*len(data))])\n",
    "train_.shape"
   ]
  },
  {
   "cell_type": "code",
   "execution_count": 13,
   "metadata": {
    "ExecuteTime": {
     "end_time": "2023-05-10T03:20:30.256845Z",
     "start_time": "2023-05-10T03:20:30.241886Z"
    }
   },
   "outputs": [
    {
     "data": {
      "text/plain": [
       "(643, 5)"
      ]
     },
     "execution_count": 13,
     "metadata": {},
     "output_type": "execute_result"
    }
   ],
   "source": [
    "valid_.shape"
   ]
  },
  {
   "cell_type": "code",
   "execution_count": 14,
   "metadata": {
    "ExecuteTime": {
     "end_time": "2023-05-10T03:20:30.272803Z",
     "start_time": "2023-05-10T03:20:30.257844Z"
    }
   },
   "outputs": [
    {
     "data": {
      "text/plain": [
       "(643, 5)"
      ]
     },
     "execution_count": 14,
     "metadata": {},
     "output_type": "execute_result"
    }
   ],
   "source": [
    "test_.shape"
   ]
  },
  {
   "cell_type": "code",
   "execution_count": 15,
   "metadata": {
    "ExecuteTime": {
     "end_time": "2023-05-10T03:20:30.288760Z",
     "start_time": "2023-05-10T03:20:30.273800Z"
    }
   },
   "outputs": [
    {
     "data": {
      "text/html": [
       "<div>\n",
       "<style scoped>\n",
       "    .dataframe tbody tr th:only-of-type {\n",
       "        vertical-align: middle;\n",
       "    }\n",
       "\n",
       "    .dataframe tbody tr th {\n",
       "        vertical-align: top;\n",
       "    }\n",
       "\n",
       "    .dataframe thead th {\n",
       "        text-align: right;\n",
       "    }\n",
       "</style>\n",
       "<table border=\"1\" class=\"dataframe\">\n",
       "  <thead>\n",
       "    <tr style=\"text-align: right;\">\n",
       "      <th></th>\n",
       "      <th>calls</th>\n",
       "      <th>minutes</th>\n",
       "      <th>messages</th>\n",
       "      <th>mb_used</th>\n",
       "      <th>is_ultra</th>\n",
       "    </tr>\n",
       "  </thead>\n",
       "  <tbody>\n",
       "    <tr>\n",
       "      <th>1100</th>\n",
       "      <td>61.0</td>\n",
       "      <td>443.13</td>\n",
       "      <td>45.0</td>\n",
       "      <td>15349.65</td>\n",
       "      <td>0</td>\n",
       "    </tr>\n",
       "    <tr>\n",
       "      <th>549</th>\n",
       "      <td>81.0</td>\n",
       "      <td>560.68</td>\n",
       "      <td>21.0</td>\n",
       "      <td>16369.73</td>\n",
       "      <td>0</td>\n",
       "    </tr>\n",
       "    <tr>\n",
       "      <th>223</th>\n",
       "      <td>110.0</td>\n",
       "      <td>881.06</td>\n",
       "      <td>72.0</td>\n",
       "      <td>11441.18</td>\n",
       "      <td>0</td>\n",
       "    </tr>\n",
       "    <tr>\n",
       "      <th>1122</th>\n",
       "      <td>50.0</td>\n",
       "      <td>345.79</td>\n",
       "      <td>0.0</td>\n",
       "      <td>18908.64</td>\n",
       "      <td>0</td>\n",
       "    </tr>\n",
       "    <tr>\n",
       "      <th>992</th>\n",
       "      <td>82.0</td>\n",
       "      <td>569.13</td>\n",
       "      <td>24.0</td>\n",
       "      <td>18749.93</td>\n",
       "      <td>0</td>\n",
       "    </tr>\n",
       "    <tr>\n",
       "      <th>...</th>\n",
       "      <td>...</td>\n",
       "      <td>...</td>\n",
       "      <td>...</td>\n",
       "      <td>...</td>\n",
       "      <td>...</td>\n",
       "    </tr>\n",
       "    <tr>\n",
       "      <th>2628</th>\n",
       "      <td>89.0</td>\n",
       "      <td>635.86</td>\n",
       "      <td>0.0</td>\n",
       "      <td>8417.03</td>\n",
       "      <td>1</td>\n",
       "    </tr>\n",
       "    <tr>\n",
       "      <th>1057</th>\n",
       "      <td>81.0</td>\n",
       "      <td>516.56</td>\n",
       "      <td>2.0</td>\n",
       "      <td>19457.42</td>\n",
       "      <td>1</td>\n",
       "    </tr>\n",
       "    <tr>\n",
       "      <th>3049</th>\n",
       "      <td>58.0</td>\n",
       "      <td>402.10</td>\n",
       "      <td>0.0</td>\n",
       "      <td>22313.53</td>\n",
       "      <td>0</td>\n",
       "    </tr>\n",
       "    <tr>\n",
       "      <th>686</th>\n",
       "      <td>79.0</td>\n",
       "      <td>562.99</td>\n",
       "      <td>19.0</td>\n",
       "      <td>25508.19</td>\n",
       "      <td>1</td>\n",
       "    </tr>\n",
       "    <tr>\n",
       "      <th>2458</th>\n",
       "      <td>5.0</td>\n",
       "      <td>37.36</td>\n",
       "      <td>1.0</td>\n",
       "      <td>407.66</td>\n",
       "      <td>0</td>\n",
       "    </tr>\n",
       "  </tbody>\n",
       "</table>\n",
       "<p>3214 rows × 5 columns</p>\n",
       "</div>"
      ],
      "text/plain": [
       "      calls  minutes  messages   mb_used  is_ultra\n",
       "1100   61.0   443.13      45.0  15349.65         0\n",
       "549    81.0   560.68      21.0  16369.73         0\n",
       "223   110.0   881.06      72.0  11441.18         0\n",
       "1122   50.0   345.79       0.0  18908.64         0\n",
       "992    82.0   569.13      24.0  18749.93         0\n",
       "...     ...      ...       ...       ...       ...\n",
       "2628   89.0   635.86       0.0   8417.03         1\n",
       "1057   81.0   516.56       2.0  19457.42         1\n",
       "3049   58.0   402.10       0.0  22313.53         0\n",
       "686    79.0   562.99      19.0  25508.19         1\n",
       "2458    5.0    37.36       1.0    407.66         0\n",
       "\n",
       "[3214 rows x 5 columns]"
      ]
     },
     "execution_count": 15,
     "metadata": {},
     "output_type": "execute_result"
    }
   ],
   "source": [
    "data.sample(frac=1, random_state=555)"
   ]
  },
  {
   "cell_type": "code",
   "execution_count": 16,
   "metadata": {
    "ExecuteTime": {
     "end_time": "2023-05-10T03:20:30.304717Z",
     "start_time": "2023-05-10T03:20:30.289757Z"
    }
   },
   "outputs": [],
   "source": [
    "features_train, target_train, features_valid, target_valid, features_test, target_test =\\\n",
    "    train_valid_test_split(data, target='is_ultra',\n",
    "                           train_size=0.6, valid_size=0.2, test_size=0.2)"
   ]
  },
  {
   "cell_type": "code",
   "execution_count": 17,
   "metadata": {
    "ExecuteTime": {
     "end_time": "2023-05-10T03:20:30.320674Z",
     "start_time": "2023-05-10T03:20:30.305715Z"
    }
   },
   "outputs": [
    {
     "data": {
      "text/plain": [
       "(1928, 4)"
      ]
     },
     "execution_count": 17,
     "metadata": {},
     "output_type": "execute_result"
    }
   ],
   "source": [
    "features_train.shape"
   ]
  },
  {
   "cell_type": "markdown",
   "metadata": {},
   "source": [
    "## Исследуйте модели"
   ]
  },
  {
   "cell_type": "markdown",
   "metadata": {},
   "source": [
    "Для задачи классификации в текущем спринте применялись три алгоритма с различными гиперпараметрами:\n",
    "- Дерево решений (DecisionTreeClassifier)\n",
    "- Случайный лес (RandomForestClassifier)\n",
    "- Логистическая регрессия (LogisticRegression)\n"
   ]
  },
  {
   "cell_type": "markdown",
   "metadata": {},
   "source": [
    "### DecisionTreeClassifier"
   ]
  },
  {
   "cell_type": "markdown",
   "metadata": {},
   "source": [
    "Нужно перебрать в алгоритме обучения разные варианты глубины дерева, ограничимся максимальным значением `total_models` = 40:"
   ]
  },
  {
   "cell_type": "code",
   "execution_count": 18,
   "metadata": {
    "ExecuteTime": {
     "end_time": "2023-05-10T03:20:30.574994Z",
     "start_time": "2023-05-10T03:20:30.321680Z"
    }
   },
   "outputs": [
    {
     "name": "stdout",
     "output_type": "stream",
     "text": [
      "Модель с наивысшей точностью: DecisionTreeClassifier(max_depth=10, random_state=555)\n",
      "Точность модели 0.7807153965785381\n"
     ]
    }
   ],
   "source": [
    "total_models = 40\n",
    "accuracy_list = []\n",
    "depth_list = [i for i in range(1, total_models+1)]\n",
    "threshold_list = [0.75 for i in range(1, total_models+1)]\n",
    "best_result = 0\n",
    "for depth in range(1, total_models+1):\n",
    "    model = DecisionTreeClassifier(random_state=555, max_depth=depth)\n",
    "    model.fit(features_train, target_train)\n",
    "    predictions_valid = model.predict(features_valid)\n",
    "    accuracy = accuracy_score(target_valid, predictions_valid)\n",
    "    accuracy_list.append(accuracy)\n",
    "    if accuracy > best_result:\n",
    "        best_model_tree = model\n",
    "        best_result = accuracy\n",
    "print(f'Модель с наивысшей точностью: {best_model_tree}')\n",
    "print(f'Точность модели {best_result}')"
   ]
  },
  {
   "cell_type": "markdown",
   "metadata": {},
   "source": [
    "Для наглядности отобразим в виде графика:"
   ]
  },
  {
   "cell_type": "code",
   "execution_count": 19,
   "metadata": {
    "ExecuteTime": {
     "end_time": "2023-05-10T03:20:30.761956Z",
     "start_time": "2023-05-10T03:20:30.575992Z"
    }
   },
   "outputs": [
    {
     "data": {
      "image/png": "[encoded data removed]",
      "text/plain": [
       "<Figure size 1000x400 with 1 Axes>"
      ]
     },
     "metadata": {},
     "output_type": "display_data"
    }
   ],
   "source": [
    "acc_depth = pd.DataFrame(\n",
    "    {'depth': depth_list, 'accuracy': accuracy_list, 'accuracy_threshold': threshold_list})\n",
    "ax = acc_depth.plot(x=\"depth\", y=\"accuracy\",\n",
    "                    marker=\"o\",\n",
    "                    figsize=(10, 4),\n",
    "                    ylim=(0.7, 0.85))\n",
    "acc_depth.plot(x=\"depth\", y=\"accuracy_threshold\",\n",
    "               title='Зависимость метрики accuracy от глубины дерева DecisionTreeClassifier',\n",
    "               xlabel='Глубина дерева',\n",
    "               ylabel='Метрика accuracy',\n",
    "               ax=ax)\n",
    "plt.show()"
   ]
  },
  {
   "cell_type": "markdown",
   "metadata": {},
   "source": [
    "**Вывод**\n",
    "\n",
    "Самая высокая метрика `accuracy` = 0.7978227060653188 для глубины дерева `max_depth` = 6.\n",
    "\n",
    "По условиям задачи необходимо получить `accuracy` хотя бы 0.75: при глубине дерева больше 15 видим выход за допустимую погрешность. А начиная с глубины дерева 26 `accuracy` ложится на асимптоту.\n",
    "\n",
    "График выглядит логично, так как у нас всего 4 признака, по которым строится дерево, а решения по классификации бинарные. С некоторого момента просто отпадает смысл ветвиться дальше.\n",
    "\n"
   ]
  },
  {
   "cell_type": "markdown",
   "metadata": {},
   "source": [
    "### RandomForestClassifier"
   ]
  },
  {
   "cell_type": "markdown",
   "metadata": {},
   "source": [
    "Нужно перебрать в алгоритме обучения разные значения `n_estimators`, ограничимся максимальным значением `total_models` = 40:"
   ]
  },
  {
   "cell_type": "code",
   "execution_count": 20,
   "metadata": {
    "ExecuteTime": {
     "end_time": "2023-05-10T03:20:32.833133Z",
     "start_time": "2023-05-10T03:20:30.762952Z"
    }
   },
   "outputs": [
    {
     "name": "stdout",
     "output_type": "stream",
     "text": [
      "Модель с наивысшей точностью: RandomForestClassifier(n_estimators=26, random_state=555)\n",
      "Точность модели 0.7962674961119751\n"
     ]
    }
   ],
   "source": [
    "total_models = 40\n",
    "accuracy_list = []\n",
    "estim_list = [i for i in range(1, total_models+1)]\n",
    "threshold_list = [0.75 for i in range(1, total_models+1)]\n",
    "best_result = 0\n",
    "for est in range(1, total_models+1):\n",
    "    model = RandomForestClassifier(random_state=555, n_estimators=est)\n",
    "    model.fit(features_train, target_train)\n",
    "    predictions_valid = model.predict(features_valid)\n",
    "    accuracy = accuracy_score(target_valid, predictions_valid)\n",
    "    accuracy_list.append(accuracy)\n",
    "    if accuracy > best_result:\n",
    "        best_model_forest = model\n",
    "        best_result = accuracy\n",
    "print(f'Модель с наивысшей точностью: {best_model_forest}')\n",
    "print(f'Точность модели {best_result}')"
   ]
  },
  {
   "cell_type": "code",
   "execution_count": 21,
   "metadata": {
    "ExecuteTime": {
     "end_time": "2023-05-10T03:20:32.976749Z",
     "start_time": "2023-05-10T03:20:32.834130Z"
    }
   },
   "outputs": [
    {
     "data": {
      "image/png": "[encoded data removed]",
      "text/plain": [
       "<Figure size 1000x400 with 1 Axes>"
      ]
     },
     "metadata": {},
     "output_type": "display_data"
    }
   ],
   "source": [
    "acc_estim = pd.DataFrame({'estimators_number': estim_list,\n",
    "                         'accuracy': accuracy_list, 'accuracy_threshold': threshold_list})\n",
    "ax = acc_estim.plot(x=\"estimators_number\", y=\"accuracy\",\n",
    "                    marker=\"o\",\n",
    "                    figsize=(10, 4),\n",
    "                    ylim=(0.7, 0.85))\n",
    "acc_estim.plot(x=\"estimators_number\", y=\"accuracy_threshold\",\n",
    "               title='Зависимость метрики accuracy от параметра estimators метода RandomForestClassifier',\n",
    "               xlabel='Число estimators',\n",
    "               ylabel='Метрика accuracy',\n",
    "               ax=ax)\n",
    "plt.show()"
   ]
  },
  {
   "cell_type": "markdown",
   "metadata": {},
   "source": [
    "**Вывод**\n",
    "\n",
    "Фактически самая высокая метрика `accuracy` = 0.8040435458786936 для параметра `n_estimators` = 34.\n",
    "\n",
    "По условиям задачи необходимо получить `accuracy` хотя бы 0.75: начиная с количества \"деревьев\" от 2 уже получаем достаточную точность, а с отметки 15 график выходит на асимптоту, что в условиях слабого железа/необходимости сэкономить время, может позволить ускорить расчеты и получить достаточную точность"
   ]
  },
  {
   "cell_type": "markdown",
   "metadata": {},
   "source": [
    "### LogisticRegression"
   ]
  },
  {
   "cell_type": "markdown",
   "metadata": {},
   "source": [
    "Для логистической регрессии основным изменяемым гиперпараметром является число итераций `iter`. Проведем анализ по аналогии с пунктами 3.1 и 3.2. Число итераций будем брать кратным 50."
   ]
  },
  {
   "cell_type": "code",
   "execution_count": 22,
   "metadata": {
    "ExecuteTime": {
     "end_time": "2023-05-10T03:20:33.164247Z",
     "start_time": "2023-05-10T03:20:32.977747Z"
    }
   },
   "outputs": [
    {
     "name": "stdout",
     "output_type": "stream",
     "text": [
      "Модель с наивысшей точностью: LogisticRegression(max_iter=50, random_state=555)\n",
      "Точность модели 0.7091757387247278\n"
     ]
    }
   ],
   "source": [
    "total_models = 20\n",
    "accuracy_list = []\n",
    "iter_list = [i*50 for i in range(1, total_models+1)]\n",
    "threshold_list = [0.75 for i in range(1, total_models+1)]\n",
    "best_result = 0\n",
    "for iter_ in range(1, total_models+1):\n",
    "    iter = iter_*50\n",
    "    model = LogisticRegression(random_state=555, solver='lbfgs', max_iter=iter)\n",
    "    model.fit(features_train, target_train)\n",
    "    predictions_valid = model.predict(features_valid)\n",
    "    accuracy = accuracy_score(target_valid, predictions_valid)\n",
    "    accuracy_list.append(accuracy)\n",
    "    if accuracy > best_result:\n",
    "        best_model_logistic = model\n",
    "        best_result = accuracy\n",
    "print(f'Модель с наивысшей точностью: {best_model_logistic}')\n",
    "print(f'Точность модели {best_result}')"
   ]
  },
  {
   "cell_type": "code",
   "execution_count": 23,
   "metadata": {
    "ExecuteTime": {
     "end_time": "2023-05-10T03:20:33.304869Z",
     "start_time": "2023-05-10T03:20:33.165245Z"
    }
   },
   "outputs": [
    {
     "data": {
      "image/png": "[encoded data removed]",
      "text/plain": [
       "<Figure size 1000x400 with 1 Axes>"
      ]
     },
     "metadata": {},
     "output_type": "display_data"
    }
   ],
   "source": [
    "acc_iter = pd.DataFrame({'iterations_number': iter_list,\n",
    "                        'accuracy': accuracy_list, 'accuracy_threshold': threshold_list})\n",
    "ax = acc_iter.plot(x=\"iterations_number\", y=\"accuracy\",\n",
    "                   marker=\"o\",\n",
    "                   figsize=(10, 4),\n",
    "                   ylim=(0.65, 0.85))\n",
    "acc_iter.plot(x=\"iterations_number\", y=\"accuracy_threshold\",\n",
    "              title='Зависимость метрики accuracy от числа итераций метода LogisticRegression',\n",
    "              xlabel='Число итераций',\n",
    "              ylabel='Метрика accuracy',\n",
    "              ax=ax)\n",
    "plt.show()"
   ]
  },
  {
   "cell_type": "markdown",
   "metadata": {},
   "source": [
    "**Вывод**\n",
    "\n",
    "- В настоящей задаче кластеризации клиентов по тарифам обучение методом логистической регрессии не дает достаточно точного результата\n",
    "- Максимальная точность достигается на малом количестве итераций и является константной. Метрика `accuracy` = 0.713841368584759\n",
    "- Возможно стоило бы попробовать другие `solver`, например более простой спуск по градиенту - но квази-ньютоновский алгоритм lbfgs (Broyden–Fletcher–Goldfarb–Shanno в условиях ограниченной памяти) считается наиболее универсальным для большинства выборок. И если он не дал достаточного решения, то не даст и упрощение"
   ]
  },
  {
   "cell_type": "markdown",
   "metadata": {},
   "source": [
    "## Проверьте модель на тестовой выборке"
   ]
  },
  {
   "cell_type": "markdown",
   "metadata": {},
   "source": [
    "Проверим лучшие модели из категорий RandomForestClassifier и DecisionTreeClassifier"
   ]
  },
  {
   "cell_type": "code",
   "execution_count": 24,
   "metadata": {
    "ExecuteTime": {
     "end_time": "2023-05-10T03:20:33.319830Z",
     "start_time": "2023-05-10T03:20:33.305868Z"
    }
   },
   "outputs": [
    {
     "data": {
      "text/html": [
       "<style>#sk-container-id-1 {color: black;background-color: white;}#sk-container-id-1 pre{padding: 0;}#sk-container-id-1 div.sk-toggleable {background-color: white;}#sk-container-id-1 label.sk-toggleable__label {cursor: pointer;display: block;width: 100%;margin-bottom: 0;padding: 0.3em;box-sizing: border-box;text-align: center;}#sk-container-id-1 label.sk-toggleable__label-arrow:before {content: \"▸\";float: left;margin-right: 0.25em;color: #696969;}#sk-container-id-1 label.sk-toggleable__label-arrow:hover:before {color: black;}#sk-container-id-1 div.sk-estimator:hover label.sk-toggleable__label-arrow:before {color: black;}#sk-container-id-1 div.sk-toggleable__content {max-height: 0;max-width: 0;overflow: hidden;text-align: left;background-color: #f0f8ff;}#sk-container-id-1 div.sk-toggleable__content pre {margin: 0.2em;color: black;border-radius: 0.25em;background-color: #f0f8ff;}#sk-container-id-1 input.sk-toggleable__control:checked~div.sk-toggleable__content {max-height: 200px;max-width: 100%;overflow: auto;}#sk-container-id-1 input.sk-toggleable__control:checked~label.sk-toggleable__label-arrow:before {content: \"▾\";}#sk-container-id-1 div.sk-estimator input.sk-toggleable__control:checked~label.sk-toggleable__label {background-color: #d4ebff;}#sk-container-id-1 div.sk-label input.sk-toggleable__control:checked~label.sk-toggleable__label {background-color: #d4ebff;}#sk-container-id-1 input.sk-hidden--visually {border: 0;clip: rect(1px 1px 1px 1px);clip: rect(1px, 1px, 1px, 1px);height: 1px;margin: -1px;overflow: hidden;padding: 0;position: absolute;width: 1px;}#sk-container-id-1 div.sk-estimator {font-family: monospace;background-color: #f0f8ff;border: 1px dotted black;border-radius: 0.25em;box-sizing: border-box;margin-bottom: 0.5em;}#sk-container-id-1 div.sk-estimator:hover {background-color: #d4ebff;}#sk-container-id-1 div.sk-parallel-item::after {content: \"\";width: 100%;border-bottom: 1px solid gray;flex-grow: 1;}#sk-container-id-1 div.sk-label:hover label.sk-toggleable__label {background-color: #d4ebff;}#sk-container-id-1 div.sk-serial::before {content: \"\";position: absolute;border-left: 1px solid gray;box-sizing: border-box;top: 0;bottom: 0;left: 50%;z-index: 0;}#sk-container-id-1 div.sk-serial {display: flex;flex-direction: column;align-items: center;background-color: white;padding-right: 0.2em;padding-left: 0.2em;position: relative;}#sk-container-id-1 div.sk-item {position: relative;z-index: 1;}#sk-container-id-1 div.sk-parallel {display: flex;align-items: stretch;justify-content: center;background-color: white;position: relative;}#sk-container-id-1 div.sk-item::before, #sk-container-id-1 div.sk-parallel-item::before {content: \"\";position: absolute;border-left: 1px solid gray;box-sizing: border-box;top: 0;bottom: 0;left: 50%;z-index: -1;}#sk-container-id-1 div.sk-parallel-item {display: flex;flex-direction: column;z-index: 1;position: relative;background-color: white;}#sk-container-id-1 div.sk-parallel-item:first-child::after {align-self: flex-end;width: 50%;}#sk-container-id-1 div.sk-parallel-item:last-child::after {align-self: flex-start;width: 50%;}#sk-container-id-1 div.sk-parallel-item:only-child::after {width: 0;}#sk-container-id-1 div.sk-dashed-wrapped {border: 1px dashed gray;margin: 0 0.4em 0.5em 0.4em;box-sizing: border-box;padding-bottom: 0.4em;background-color: white;}#sk-container-id-1 div.sk-label label {font-family: monospace;font-weight: bold;display: inline-block;line-height: 1.2em;}#sk-container-id-1 div.sk-label-container {text-align: center;}#sk-container-id-1 div.sk-container {/* jupyter's `normalize.less` sets `[hidden] { display: none; }` but bootstrap.min.css set `[hidden] { display: none !important; }` so we also need the `!important` here to be able to override the default hidden behavior on the sphinx rendered scikit-learn.org. See: https://github.com/scikit-learn/scikit-learn/issues/21755 */display: inline-block !important;position: relative;}#sk-container-id-1 div.sk-text-repr-fallback {display: none;}</style><div id=\"sk-container-id-1\" class=\"sk-top-container\"><div class=\"sk-text-repr-fallback\"><pre>DecisionTreeClassifier(max_depth=10, random_state=555)</pre><b>In a Jupyter environment, please rerun this cell to show the HTML representation or trust the notebook. <br />On GitHub, the HTML representation is unable to render, please try loading this page with nbviewer.org.</b></div><div class=\"sk-container\" hidden><div class=\"sk-item\"><div class=\"sk-estimator sk-toggleable\"><input class=\"sk-toggleable__control sk-hidden--visually\" id=\"sk-estimator-id-1\" type=\"checkbox\" checked><label for=\"sk-estimator-id-1\" class=\"sk-toggleable__label sk-toggleable__label-arrow\">DecisionTreeClassifier</label><div class=\"sk-toggleable__content\"><pre>DecisionTreeClassifier(max_depth=10, random_state=555)</pre></div></div></div></div></div>"
      ],
      "text/plain": [
       "DecisionTreeClassifier(max_depth=10, random_state=555)"
      ]
     },
     "execution_count": 24,
     "metadata": {},
     "output_type": "execute_result"
    }
   ],
   "source": [
    "best_model_tree"
   ]
  },
  {
   "cell_type": "code",
   "execution_count": 25,
   "metadata": {
    "ExecuteTime": {
     "end_time": "2023-05-10T03:20:33.335787Z",
     "start_time": "2023-05-10T03:20:33.320827Z"
    }
   },
   "outputs": [],
   "source": [
    "predictions_test_tree = best_model_tree.predict(features_test)"
   ]
  },
  {
   "cell_type": "code",
   "execution_count": 26,
   "metadata": {
    "ExecuteTime": {
     "end_time": "2023-05-10T03:20:33.351744Z",
     "start_time": "2023-05-10T03:20:33.336786Z"
    }
   },
   "outputs": [
    {
     "data": {
      "text/plain": [
       "0.8009331259720062"
      ]
     },
     "execution_count": 26,
     "metadata": {},
     "output_type": "execute_result"
    }
   ],
   "source": [
    "accuracy_test_tree = accuracy_score(target_test, predictions_test_tree)\n",
    "accuracy_test_tree"
   ]
  },
  {
   "cell_type": "code",
   "execution_count": 27,
   "metadata": {
    "ExecuteTime": {
     "end_time": "2023-05-10T03:20:33.367736Z",
     "start_time": "2023-05-10T03:20:33.355734Z"
    }
   },
   "outputs": [
    {
     "data": {
      "text/html": [
       "<style>#sk-container-id-2 {color: black;background-color: white;}#sk-container-id-2 pre{padding: 0;}#sk-container-id-2 div.sk-toggleable {background-color: white;}#sk-container-id-2 label.sk-toggleable__label {cursor: pointer;display: block;width: 100%;margin-bottom: 0;padding: 0.3em;box-sizing: border-box;text-align: center;}#sk-container-id-2 label.sk-toggleable__label-arrow:before {content: \"▸\";float: left;margin-right: 0.25em;color: #696969;}#sk-container-id-2 label.sk-toggleable__label-arrow:hover:before {color: black;}#sk-container-id-2 div.sk-estimator:hover label.sk-toggleable__label-arrow:before {color: black;}#sk-container-id-2 div.sk-toggleable__content {max-height: 0;max-width: 0;overflow: hidden;text-align: left;background-color: #f0f8ff;}#sk-container-id-2 div.sk-toggleable__content pre {margin: 0.2em;color: black;border-radius: 0.25em;background-color: #f0f8ff;}#sk-container-id-2 input.sk-toggleable__control:checked~div.sk-toggleable__content {max-height: 200px;max-width: 100%;overflow: auto;}#sk-container-id-2 input.sk-toggleable__control:checked~label.sk-toggleable__label-arrow:before {content: \"▾\";}#sk-container-id-2 div.sk-estimator input.sk-toggleable__control:checked~label.sk-toggleable__label {background-color: #d4ebff;}#sk-container-id-2 div.sk-label input.sk-toggleable__control:checked~label.sk-toggleable__label {background-color: #d4ebff;}#sk-container-id-2 input.sk-hidden--visually {border: 0;clip: rect(1px 1px 1px 1px);clip: rect(1px, 1px, 1px, 1px);height: 1px;margin: -1px;overflow: hidden;padding: 0;position: absolute;width: 1px;}#sk-container-id-2 div.sk-estimator {font-family: monospace;background-color: #f0f8ff;border: 1px dotted black;border-radius: 0.25em;box-sizing: border-box;margin-bottom: 0.5em;}#sk-container-id-2 div.sk-estimator:hover {background-color: #d4ebff;}#sk-container-id-2 div.sk-parallel-item::after {content: \"\";width: 100%;border-bottom: 1px solid gray;flex-grow: 1;}#sk-container-id-2 div.sk-label:hover label.sk-toggleable__label {background-color: #d4ebff;}#sk-container-id-2 div.sk-serial::before {content: \"\";position: absolute;border-left: 1px solid gray;box-sizing: border-box;top: 0;bottom: 0;left: 50%;z-index: 0;}#sk-container-id-2 div.sk-serial {display: flex;flex-direction: column;align-items: center;background-color: white;padding-right: 0.2em;padding-left: 0.2em;position: relative;}#sk-container-id-2 div.sk-item {position: relative;z-index: 1;}#sk-container-id-2 div.sk-parallel {display: flex;align-items: stretch;justify-content: center;background-color: white;position: relative;}#sk-container-id-2 div.sk-item::before, #sk-container-id-2 div.sk-parallel-item::before {content: \"\";position: absolute;border-left: 1px solid gray;box-sizing: border-box;top: 0;bottom: 0;left: 50%;z-index: -1;}#sk-container-id-2 div.sk-parallel-item {display: flex;flex-direction: column;z-index: 1;position: relative;background-color: white;}#sk-container-id-2 div.sk-parallel-item:first-child::after {align-self: flex-end;width: 50%;}#sk-container-id-2 div.sk-parallel-item:last-child::after {align-self: flex-start;width: 50%;}#sk-container-id-2 div.sk-parallel-item:only-child::after {width: 0;}#sk-container-id-2 div.sk-dashed-wrapped {border: 1px dashed gray;margin: 0 0.4em 0.5em 0.4em;box-sizing: border-box;padding-bottom: 0.4em;background-color: white;}#sk-container-id-2 div.sk-label label {font-family: monospace;font-weight: bold;display: inline-block;line-height: 1.2em;}#sk-container-id-2 div.sk-label-container {text-align: center;}#sk-container-id-2 div.sk-container {/* jupyter's `normalize.less` sets `[hidden] { display: none; }` but bootstrap.min.css set `[hidden] { display: none !important; }` so we also need the `!important` here to be able to override the default hidden behavior on the sphinx rendered scikit-learn.org. See: https://github.com/scikit-learn/scikit-learn/issues/21755 */display: inline-block !important;position: relative;}#sk-container-id-2 div.sk-text-repr-fallback {display: none;}</style><div id=\"sk-container-id-2\" class=\"sk-top-container\"><div class=\"sk-text-repr-fallback\"><pre>RandomForestClassifier(n_estimators=26, random_state=555)</pre><b>In a Jupyter environment, please rerun this cell to show the HTML representation or trust the notebook. <br />On GitHub, the HTML representation is unable to render, please try loading this page with nbviewer.org.</b></div><div class=\"sk-container\" hidden><div class=\"sk-item\"><div class=\"sk-estimator sk-toggleable\"><input class=\"sk-toggleable__control sk-hidden--visually\" id=\"sk-estimator-id-2\" type=\"checkbox\" checked><label for=\"sk-estimator-id-2\" class=\"sk-toggleable__label sk-toggleable__label-arrow\">RandomForestClassifier</label><div class=\"sk-toggleable__content\"><pre>RandomForestClassifier(n_estimators=26, random_state=555)</pre></div></div></div></div></div>"
      ],
      "text/plain": [
       "RandomForestClassifier(n_estimators=26, random_state=555)"
      ]
     },
     "execution_count": 27,
     "metadata": {},
     "output_type": "execute_result"
    }
   ],
   "source": [
    "best_model_forest"
   ]
  },
  {
   "cell_type": "code",
   "execution_count": 28,
   "metadata": {
    "ExecuteTime": {
     "end_time": "2023-05-10T03:20:33.383570Z",
     "start_time": "2023-05-10T03:20:33.368732Z"
    }
   },
   "outputs": [],
   "source": [
    "predictions_test_forest = best_model_forest.predict(features_test)"
   ]
  },
  {
   "cell_type": "code",
   "execution_count": 29,
   "metadata": {
    "ExecuteTime": {
     "end_time": "2023-05-10T03:20:33.399532Z",
     "start_time": "2023-05-10T03:20:33.384567Z"
    }
   },
   "outputs": [
    {
     "data": {
      "text/plain": [
       "0.8009331259720062"
      ]
     },
     "execution_count": 29,
     "metadata": {},
     "output_type": "execute_result"
    }
   ],
   "source": [
    "accuracy_test_forest = accuracy_score(target_test, predictions_test_forest)\n",
    "accuracy_test_forest"
   ]
  },
  {
   "cell_type": "markdown",
   "metadata": {},
   "source": [
    "**Вывод**\n",
    "- Обе модели проходят отсечку 0.75 по метрике `accuracy` и для тестовой выборки данных\n",
    "- Лучшей из всех является модель классификатора DecisionTreeClassifier с `accuracy` = 0.7822706065318819"
   ]
  },
  {
   "cell_type": "markdown",
   "metadata": {},
   "source": [
    "## (бонус) Проверьте модели на адекватность"
   ]
  },
  {
   "cell_type": "markdown",
   "metadata": {},
   "source": [
    "Из Википедии:\n",
    "\n",
    "Адекватность модели — совпадение свойств (функций/параметров/характеристик и т. п.) модели и соответствующих свойств моделируемого объекта. Адекватностью называется совпадение модели моделируемой системы в отношении цели моделирования.\n",
    "\n",
    "Оценка адекватности модели — проверка соответствия модели реальной системе. Оценка адекватности модели реальному объекту оценивается по близости результатов расчетов экспериментальным данным.\n",
    "\n",
    "Два основных подхода к оценке адекватности:\n",
    "\n",
    "1) по средним значениям откликов модели и системы\n",
    "\n",
    "Проверяется гипотеза о близости средних значений каждой n-й компоненты откликов модели Yn известным средним значениям n-й компоненты откликов реальной систем.\n",
    "\n",
    "2) по дисперсиям отклонений откликов модели от среднего значения откликов систем\n",
    "\n",
    "Сравнение дисперсии проводят с помощью критерия F (проверяют гипотезы о согласованности), с помощью критерия согласия χ 2 \\chi ^{2} (при больших выборках, n>100), критерия Колмогорова-Смирнова (при малых выборках, известны средняя и дисперсия совокупности), Кохрена и др. "
   ]
  },
  {
   "cell_type": "markdown",
   "metadata": {},
   "source": [
    "*Если верно понял данный текст, то можно попробовать проверить проверить гипотезу о совпадении средних между фактическими значениями `is_ultra` в тестовой выборке и предсказанными значениями `is_ultra` в ней же (или нет? :())*"
   ]
  },
  {
   "cell_type": "code",
   "execution_count": 30,
   "metadata": {
    "ExecuteTime": {
     "end_time": "2023-05-10T03:20:33.415570Z",
     "start_time": "2023-05-10T03:20:33.400530Z"
    }
   },
   "outputs": [],
   "source": [
    "is_ultra_fact = data_test['is_ultra']\n",
    "is_ultra_pred = predictions_test_forest"
   ]
  },
  {
   "cell_type": "code",
   "execution_count": 31,
   "metadata": {
    "ExecuteTime": {
     "end_time": "2023-05-10T03:20:33.431634Z",
     "start_time": "2023-05-10T03:20:33.416567Z"
    }
   },
   "outputs": [
    {
     "data": {
      "text/plain": [
       "0.29704510108864696"
      ]
     },
     "execution_count": 31,
     "metadata": {},
     "output_type": "execute_result"
    }
   ],
   "source": [
    "is_ultra_fact.mean()"
   ]
  },
  {
   "cell_type": "code",
   "execution_count": 32,
   "metadata": {
    "ExecuteTime": {
     "end_time": "2023-05-10T03:20:33.447564Z",
     "start_time": "2023-05-10T03:20:33.432604Z"
    }
   },
   "outputs": [
    {
     "data": {
      "text/plain": [
       "0.2534992223950233"
      ]
     },
     "execution_count": 32,
     "metadata": {},
     "output_type": "execute_result"
    }
   ],
   "source": [
    "is_ultra_pred.mean()"
   ]
  },
  {
   "cell_type": "markdown",
   "metadata": {},
   "source": [
    "Гипотезы:\n",
    "- H0 - средние выборок равны\n",
    "- H1 - средний выборок не равны\n",
    "alpha = 0.05"
   ]
  },
  {
   "cell_type": "code",
   "execution_count": 33,
   "metadata": {
    "ExecuteTime": {
     "end_time": "2023-05-10T03:20:33.463522Z",
     "start_time": "2023-05-10T03:20:33.448561Z"
    }
   },
   "outputs": [
    {
     "name": "stdout",
     "output_type": "stream",
     "text": [
      "P-value гипотезы: 0.08055994952251486\n",
      "Не получилось отвергнуть нулевую гипотезу \n"
     ]
    }
   ],
   "source": [
    "results = st.ttest_ind(is_ultra_fact, is_ultra_pred, equal_var=False)\n",
    "\n",
    "alpha = 0.05\n",
    "\n",
    "print(f'P-value гипотезы: {results.pvalue}')\n",
    "\n",
    "# проверяем равенство средних\n",
    "if results.pvalue < alpha:\n",
    "    print('Отвергаем нулевую гипотезу')\n",
    "else:\n",
    "    print('Не получилось отвергнуть нулевую гипотезу ')"
   ]
  },
  {
   "cell_type": "markdown",
   "metadata": {},
   "source": [
    "**Вывод**\n",
    "\n",
    "- По результатам теста p-value пришлось отвертгнуть нулевую гипотезу о равенстве выборочных средних\n",
    "- *Верно или нет, не знаю* :)"
   ]
  },
  {
   "cell_type": "markdown",
   "metadata": {},
   "source": [
    "## Общие выводы"
   ]
  },
  {
   "cell_type": "markdown",
   "metadata": {},
   "source": [
    "- В модели дерева решений самая высокая метрика accuracy = 0.7978227060653188 для глубины дерева max_depth = 6.\n",
    "- В модели случайного леса фактически самая высокая метрика accuracy = 0.8040435458786936 для параметра n_estimators = 34, однако по условиям задачи необходимо получить accuracy хотя бы 0.75: начиная с количества \"деревьев\" от 2 уже получаем достаточную точность.\n",
    "- Обучение методом логистической регрессии не дает достаточно точного результата: максимальная точность достигается на малом количестве итераций и является константной = 0.713841368584759\n",
    "- Итак, 2 из 3 методик (дерево решений, случайный) лес пригодны для решений данной задачи с заявленной точностью 0.75\n",
    "- *По результатам теста p-value пришлось отвертгнуть нулевую гипотезу о равенстве выборочных средних для тестовых откликов и реальных, что может говорить о недостаточной общей точности полученных моделей*"
   ]
  },
  {
   "cell_type": "code",
   "execution_count": null,
   "metadata": {},
   "outputs": [],
   "source": []
  }
 ],
 "metadata": {
  "ExecuteTimeLog": [
   {
    "duration": 2490,
    "start_time": "2023-02-01T16:04:50.933Z"
   },
   {
    "duration": 29,
    "start_time": "2023-02-01T16:04:53.425Z"
   },
   {
    "duration": 19,
    "start_time": "2023-02-01T16:04:53.456Z"
   },
   {
    "duration": 6,
    "start_time": "2023-02-01T16:04:53.476Z"
   },
   {
    "duration": 17,
    "start_time": "2023-02-01T16:04:53.485Z"
   },
   {
    "duration": 17,
    "start_time": "2023-02-01T16:04:53.504Z"
   },
   {
    "duration": 21,
    "start_time": "2023-02-01T16:04:53.523Z"
   },
   {
    "duration": 25,
    "start_time": "2023-02-01T16:04:53.546Z"
   },
   {
    "duration": 12,
    "start_time": "2023-02-01T16:04:53.573Z"
   },
   {
    "duration": 428,
    "start_time": "2023-02-01T16:04:53.588Z"
   },
   {
    "duration": 4,
    "start_time": "2023-02-01T16:04:54.018Z"
   },
   {
    "duration": 229,
    "start_time": "2023-02-01T16:04:54.024Z"
   },
   {
    "duration": 3413,
    "start_time": "2023-02-01T16:04:54.255Z"
   },
   {
    "duration": 4,
    "start_time": "2023-02-01T16:04:57.671Z"
   },
   {
    "duration": 220,
    "start_time": "2023-02-01T16:04:57.677Z"
   },
   {
    "duration": 419,
    "start_time": "2023-02-01T16:04:57.899Z"
   },
   {
    "duration": 5,
    "start_time": "2023-02-01T16:04:58.322Z"
   },
   {
    "duration": 254,
    "start_time": "2023-02-01T16:04:58.336Z"
   },
   {
    "duration": 5,
    "start_time": "2023-02-01T16:04:58.592Z"
   },
   {
    "duration": 10,
    "start_time": "2023-02-01T16:04:58.600Z"
   },
   {
    "duration": 25,
    "start_time": "2023-02-01T16:04:58.612Z"
   },
   {
    "duration": 4,
    "start_time": "2023-02-01T16:04:58.639Z"
   },
   {
    "duration": 17,
    "start_time": "2023-02-01T16:04:58.645Z"
   },
   {
    "duration": 5,
    "start_time": "2023-02-01T16:04:58.663Z"
   },
   {
    "duration": 5,
    "start_time": "2023-02-01T16:04:58.670Z"
   },
   {
    "duration": 8,
    "start_time": "2023-02-01T16:04:58.677Z"
   },
   {
    "duration": 13,
    "start_time": "2023-02-01T16:04:58.686Z"
   },
   {
    "duration": 6,
    "start_time": "2023-02-01T16:04:58.701Z"
   }
  ],
  "kernelspec": {
   "display_name": "Python 3 (ipykernel)",
   "language": "python",
   "name": "python3"
  },
  "language_info": {
   "codemirror_mode": {
    "name": "ipython",
    "version": 3
   },
   "file_extension": ".py",
   "mimetype": "text/x-python",
   "name": "python",
   "nbconvert_exporter": "python",
   "pygments_lexer": "ipython3",
   "version": "3.10.9"
  },
  "toc": {
   "base_numbering": 1,
   "nav_menu": {},
   "number_sections": true,
   "sideBar": true,
   "skip_h1_title": true,
   "title_cell": "Содержание проекта",
   "title_sidebar": "Содержание",
   "toc_cell": true,
   "toc_position": {
    "height": "calc(100% - 180px)",
    "left": "10px",
    "top": "150px",
    "width": "512px"
   },
   "toc_section_display": true,
   "toc_window_display": true
  },
  "varInspector": {
   "cols": {
    "lenName": 16,
    "lenType": 16,
    "lenVar": 40
   },
   "kernels_config": {
    "python": {
     "delete_cmd_postfix": "",
     "delete_cmd_prefix": "del ",
     "library": "var_list.py",
     "varRefreshCmd": "print(var_dic_list())"
    },
    "r": {
     "delete_cmd_postfix": ") ",
     "delete_cmd_prefix": "rm(",
     "library": "var_list.r",
     "varRefreshCmd": "cat(var_dic_list()) "
    }
   },
   "types_to_exclude": [
    "module",
    "function",
    "builtin_function_or_method",
    "instance",
    "_Feature"
   ],
   "window_display": false
  }
 },
 "nbformat": 4,
 "nbformat_minor": 2
}
