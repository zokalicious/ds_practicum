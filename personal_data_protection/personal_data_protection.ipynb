{
 "cells": [
  {
   "cell_type": "markdown",
   "metadata": {
    "toc": true
   },
   "source": [
    "<h1>Содержание<span class=\"tocSkip\"></span></h1>\n",
    "<div class=\"toc\"><ul class=\"toc-item\"><li><span><a href=\"#Загрузка-данных\" data-toc-modified-id=\"Загрузка-данных-1\"><span class=\"toc-item-num\">1&nbsp;&nbsp;</span>Загрузка данных</a></span></li><li><span><a href=\"#Умножение-матриц\" data-toc-modified-id=\"Умножение-матриц-2\"><span class=\"toc-item-num\">2&nbsp;&nbsp;</span>Умножение матриц</a></span></li><li><span><a href=\"#Алгоритм-преобразования\" data-toc-modified-id=\"Алгоритм-преобразования-3\"><span class=\"toc-item-num\">3&nbsp;&nbsp;</span>Алгоритм преобразования</a></span></li><li><span><a href=\"#Проверка-алгоритма\" data-toc-modified-id=\"Проверка-алгоритма-4\"><span class=\"toc-item-num\">4&nbsp;&nbsp;</span>Проверка алгоритма</a></span></li><li><span><a href=\"#Общий-вывод\" data-toc-modified-id=\"Общий-вывод-5\"><span class=\"toc-item-num\">5&nbsp;&nbsp;</span>Общий вывод</a></span></li><li><span><a href=\"#Чек-лист-проверки\" data-toc-modified-id=\"Чек-лист-проверки-6\"><span class=\"toc-item-num\">6&nbsp;&nbsp;</span>Чек-лист проверки</a></span></li></ul></div>"
   ]
  },
  {
   "cell_type": "markdown",
   "metadata": {},
   "source": [
    "# Защита персональных данных клиентов"
   ]
  },
  {
   "cell_type": "markdown",
   "metadata": {},
   "source": [
    "Нам нужно защитить данные клиентов страховой компании «Хоть потоп». Разработаем такой метод преобразования данных, чтобы по ним было сложно восстановить персональную информацию. Обоснуем корректность его работы.\n",
    "\n",
    "Нужно защитить данные, чтобы при преобразовании качество моделей машинного обучения не ухудшилось. Подбирать наилучшую модель не требуется."
   ]
  },
  {
   "cell_type": "markdown",
   "metadata": {},
   "source": [
    "## Загрузка данных"
   ]
  },
  {
   "cell_type": "markdown",
   "metadata": {},
   "source": [
    "Фиксируем параметры:"
   ]
  },
  {
   "cell_type": "code",
   "execution_count": 1,
   "metadata": {
    "ExecuteTime": {
     "end_time": "2023-04-12T06:18:13.518390Z",
     "start_time": "2023-04-12T06:18:13.503429Z"
    }
   },
   "outputs": [],
   "source": [
    "#random seed\n",
    "SEED = 12345\n",
    "#all cores but one\n",
    "NJOBS = -2"
   ]
  },
  {
   "cell_type": "markdown",
   "metadata": {},
   "source": [
    "Подключаем библиотеки для работы:"
   ]
  },
  {
   "cell_type": "code",
   "execution_count": 2,
   "metadata": {
    "ExecuteTime": {
     "end_time": "2023-04-12T06:18:15.304076Z",
     "start_time": "2023-04-12T06:18:13.519386Z"
    }
   },
   "outputs": [],
   "source": [
    "import pandas as pd\n",
    "import numpy as np\n",
    "import seaborn as sns\n",
    "from matplotlib import pyplot as plt\n",
    "from sklearn.preprocessing import StandardScaler\n",
    "from sklearn.model_selection import train_test_split\n",
    "from sklearn.linear_model import LinearRegression\n",
    "from sklearn.metrics import r2_score"
   ]
  },
  {
   "cell_type": "markdown",
   "metadata": {
    "ExecuteTime": {
     "end_time": "2023-03-27T11:40:51.763242Z",
     "start_time": "2023-03-27T11:40:51.746906Z"
    }
   },
   "source": [
    "Загружаем датасет в пандас:"
   ]
  },
  {
   "cell_type": "code",
   "execution_count": 3,
   "metadata": {
    "ExecuteTime": {
     "end_time": "2023-04-12T06:18:15.335991Z",
     "start_time": "2023-04-12T06:18:15.305074Z"
    },
    "scrolled": true
   },
   "outputs": [],
   "source": [
    "df = pd.read_csv('./datasets/insurance.csv')"
   ]
  },
  {
   "cell_type": "markdown",
   "metadata": {},
   "source": [
    "Просмотрим кратко информацию, первые строки и статистику:"
   ]
  },
  {
   "cell_type": "code",
   "execution_count": 4,
   "metadata": {
    "ExecuteTime": {
     "end_time": "2023-04-12T06:18:15.351948Z",
     "start_time": "2023-04-12T06:18:15.336988Z"
    }
   },
   "outputs": [
    {
     "name": "stdout",
     "output_type": "stream",
     "text": [
      "<class 'pandas.core.frame.DataFrame'>\n",
      "RangeIndex: 5000 entries, 0 to 4999\n",
      "Data columns (total 5 columns):\n",
      " #   Column             Non-Null Count  Dtype  \n",
      "---  ------             --------------  -----  \n",
      " 0   Пол                5000 non-null   int64  \n",
      " 1   Возраст            5000 non-null   float64\n",
      " 2   Зарплата           5000 non-null   float64\n",
      " 3   Члены семьи        5000 non-null   int64  \n",
      " 4   Страховые выплаты  5000 non-null   int64  \n",
      "dtypes: float64(2), int64(3)\n",
      "memory usage: 195.4 KB\n"
     ]
    }
   ],
   "source": [
    "df.info()"
   ]
  },
  {
   "cell_type": "code",
   "execution_count": 5,
   "metadata": {
    "ExecuteTime": {
     "end_time": "2023-04-12T06:18:15.367906Z",
     "start_time": "2023-04-12T06:18:15.352945Z"
    }
   },
   "outputs": [
    {
     "data": {
      "text/html": [
       "<div>\n",
       "<style scoped>\n",
       "    .dataframe tbody tr th:only-of-type {\n",
       "        vertical-align: middle;\n",
       "    }\n",
       "\n",
       "    .dataframe tbody tr th {\n",
       "        vertical-align: top;\n",
       "    }\n",
       "\n",
       "    .dataframe thead th {\n",
       "        text-align: right;\n",
       "    }\n",
       "</style>\n",
       "<table border=\"1\" class=\"dataframe\">\n",
       "  <thead>\n",
       "    <tr style=\"text-align: right;\">\n",
       "      <th></th>\n",
       "      <th>Пол</th>\n",
       "      <th>Возраст</th>\n",
       "      <th>Зарплата</th>\n",
       "      <th>Члены семьи</th>\n",
       "      <th>Страховые выплаты</th>\n",
       "    </tr>\n",
       "  </thead>\n",
       "  <tbody>\n",
       "    <tr>\n",
       "      <th>0</th>\n",
       "      <td>1</td>\n",
       "      <td>41.0</td>\n",
       "      <td>49600.0</td>\n",
       "      <td>1</td>\n",
       "      <td>0</td>\n",
       "    </tr>\n",
       "    <tr>\n",
       "      <th>1</th>\n",
       "      <td>0</td>\n",
       "      <td>46.0</td>\n",
       "      <td>38000.0</td>\n",
       "      <td>1</td>\n",
       "      <td>1</td>\n",
       "    </tr>\n",
       "    <tr>\n",
       "      <th>2</th>\n",
       "      <td>0</td>\n",
       "      <td>29.0</td>\n",
       "      <td>21000.0</td>\n",
       "      <td>0</td>\n",
       "      <td>0</td>\n",
       "    </tr>\n",
       "    <tr>\n",
       "      <th>3</th>\n",
       "      <td>0</td>\n",
       "      <td>21.0</td>\n",
       "      <td>41700.0</td>\n",
       "      <td>2</td>\n",
       "      <td>0</td>\n",
       "    </tr>\n",
       "    <tr>\n",
       "      <th>4</th>\n",
       "      <td>1</td>\n",
       "      <td>28.0</td>\n",
       "      <td>26100.0</td>\n",
       "      <td>0</td>\n",
       "      <td>0</td>\n",
       "    </tr>\n",
       "  </tbody>\n",
       "</table>\n",
       "</div>"
      ],
      "text/plain": [
       "   Пол  Возраст  Зарплата  Члены семьи  Страховые выплаты\n",
       "0    1     41.0   49600.0            1                  0\n",
       "1    0     46.0   38000.0            1                  1\n",
       "2    0     29.0   21000.0            0                  0\n",
       "3    0     21.0   41700.0            2                  0\n",
       "4    1     28.0   26100.0            0                  0"
      ]
     },
     "execution_count": 5,
     "metadata": {},
     "output_type": "execute_result"
    }
   ],
   "source": [
    "df.head()"
   ]
  },
  {
   "cell_type": "code",
   "execution_count": 6,
   "metadata": {
    "ExecuteTime": {
     "end_time": "2023-04-12T06:18:15.383893Z",
     "start_time": "2023-04-12T06:18:15.368903Z"
    },
    "scrolled": true
   },
   "outputs": [
    {
     "data": {
      "text/html": [
       "<div>\n",
       "<style scoped>\n",
       "    .dataframe tbody tr th:only-of-type {\n",
       "        vertical-align: middle;\n",
       "    }\n",
       "\n",
       "    .dataframe tbody tr th {\n",
       "        vertical-align: top;\n",
       "    }\n",
       "\n",
       "    .dataframe thead th {\n",
       "        text-align: right;\n",
       "    }\n",
       "</style>\n",
       "<table border=\"1\" class=\"dataframe\">\n",
       "  <thead>\n",
       "    <tr style=\"text-align: right;\">\n",
       "      <th></th>\n",
       "      <th>Пол</th>\n",
       "      <th>Возраст</th>\n",
       "      <th>Зарплата</th>\n",
       "      <th>Члены семьи</th>\n",
       "      <th>Страховые выплаты</th>\n",
       "    </tr>\n",
       "  </thead>\n",
       "  <tbody>\n",
       "    <tr>\n",
       "      <th>count</th>\n",
       "      <td>5000.000000</td>\n",
       "      <td>5000.000000</td>\n",
       "      <td>5000.000000</td>\n",
       "      <td>5000.000000</td>\n",
       "      <td>5000.000000</td>\n",
       "    </tr>\n",
       "    <tr>\n",
       "      <th>mean</th>\n",
       "      <td>0.499000</td>\n",
       "      <td>30.952800</td>\n",
       "      <td>39916.360000</td>\n",
       "      <td>1.194200</td>\n",
       "      <td>0.148000</td>\n",
       "    </tr>\n",
       "    <tr>\n",
       "      <th>std</th>\n",
       "      <td>0.500049</td>\n",
       "      <td>8.440807</td>\n",
       "      <td>9900.083569</td>\n",
       "      <td>1.091387</td>\n",
       "      <td>0.463183</td>\n",
       "    </tr>\n",
       "    <tr>\n",
       "      <th>min</th>\n",
       "      <td>0.000000</td>\n",
       "      <td>18.000000</td>\n",
       "      <td>5300.000000</td>\n",
       "      <td>0.000000</td>\n",
       "      <td>0.000000</td>\n",
       "    </tr>\n",
       "    <tr>\n",
       "      <th>25%</th>\n",
       "      <td>0.000000</td>\n",
       "      <td>24.000000</td>\n",
       "      <td>33300.000000</td>\n",
       "      <td>0.000000</td>\n",
       "      <td>0.000000</td>\n",
       "    </tr>\n",
       "    <tr>\n",
       "      <th>50%</th>\n",
       "      <td>0.000000</td>\n",
       "      <td>30.000000</td>\n",
       "      <td>40200.000000</td>\n",
       "      <td>1.000000</td>\n",
       "      <td>0.000000</td>\n",
       "    </tr>\n",
       "    <tr>\n",
       "      <th>75%</th>\n",
       "      <td>1.000000</td>\n",
       "      <td>37.000000</td>\n",
       "      <td>46600.000000</td>\n",
       "      <td>2.000000</td>\n",
       "      <td>0.000000</td>\n",
       "    </tr>\n",
       "    <tr>\n",
       "      <th>max</th>\n",
       "      <td>1.000000</td>\n",
       "      <td>65.000000</td>\n",
       "      <td>79000.000000</td>\n",
       "      <td>6.000000</td>\n",
       "      <td>5.000000</td>\n",
       "    </tr>\n",
       "  </tbody>\n",
       "</table>\n",
       "</div>"
      ],
      "text/plain": [
       "               Пол      Возраст      Зарплата  Члены семьи  Страховые выплаты\n",
       "count  5000.000000  5000.000000   5000.000000  5000.000000        5000.000000\n",
       "mean      0.499000    30.952800  39916.360000     1.194200           0.148000\n",
       "std       0.500049     8.440807   9900.083569     1.091387           0.463183\n",
       "min       0.000000    18.000000   5300.000000     0.000000           0.000000\n",
       "25%       0.000000    24.000000  33300.000000     0.000000           0.000000\n",
       "50%       0.000000    30.000000  40200.000000     1.000000           0.000000\n",
       "75%       1.000000    37.000000  46600.000000     2.000000           0.000000\n",
       "max       1.000000    65.000000  79000.000000     6.000000           5.000000"
      ]
     },
     "execution_count": 6,
     "metadata": {},
     "output_type": "execute_result"
    }
   ],
   "source": [
    "df.describe()"
   ]
  },
  {
   "cell_type": "markdown",
   "metadata": {},
   "source": [
    "Проверим на пропуски и дубликаты:"
   ]
  },
  {
   "cell_type": "code",
   "execution_count": 7,
   "metadata": {
    "ExecuteTime": {
     "end_time": "2023-04-12T06:18:15.399852Z",
     "start_time": "2023-04-12T06:18:15.384860Z"
    }
   },
   "outputs": [
    {
     "data": {
      "text/plain": [
       "Пол                  0\n",
       "Возраст              0\n",
       "Зарплата             0\n",
       "Члены семьи          0\n",
       "Страховые выплаты    0\n",
       "dtype: int64"
      ]
     },
     "execution_count": 7,
     "metadata": {},
     "output_type": "execute_result"
    }
   ],
   "source": [
    "df.isna().sum()"
   ]
  },
  {
   "cell_type": "code",
   "execution_count": 8,
   "metadata": {
    "ExecuteTime": {
     "end_time": "2023-04-12T06:18:15.431765Z",
     "start_time": "2023-04-12T06:18:15.400819Z"
    }
   },
   "outputs": [
    {
     "data": {
      "text/plain": [
       "153"
      ]
     },
     "execution_count": 8,
     "metadata": {},
     "output_type": "execute_result"
    }
   ],
   "source": [
    "df.duplicated().sum()"
   ]
  },
  {
   "cell_type": "markdown",
   "metadata": {},
   "source": [
    "Выбросим явные дубликаты:"
   ]
  },
  {
   "cell_type": "code",
   "execution_count": 9,
   "metadata": {
    "ExecuteTime": {
     "end_time": "2023-04-12T06:18:15.447724Z",
     "start_time": "2023-04-12T06:18:15.433763Z"
    }
   },
   "outputs": [],
   "source": [
    "df = df.drop_duplicates(ignore_index=True)"
   ]
  },
  {
   "cell_type": "markdown",
   "metadata": {},
   "source": [
    "Оценим гистограммы распределения параметров:"
   ]
  },
  {
   "cell_type": "code",
   "execution_count": 10,
   "metadata": {
    "ExecuteTime": {
     "end_time": "2023-04-12T06:18:16.193035Z",
     "start_time": "2023-04-12T06:18:15.448691Z"
    }
   },
   "outputs": [
    {
     "data": {
      "image/png": "[encoded data removed]",
      "text/plain": [
       "<Figure size 1500x300 with 5 Axes>"
      ]
     },
     "metadata": {},
     "output_type": "display_data"
    }
   ],
   "source": [
    "# изуально оценим гистограммы распределения параметров\n",
    "df.hist(figsize=(15, 3),\n",
    "        color='grey',\n",
    "        bins=40,\n",
    "        layout=(1, 5));"
   ]
  },
  {
   "cell_type": "markdown",
   "metadata": {},
   "source": [
    "**Выводы**\n",
    "- Зарплата имеет нормальное распределение\n",
    "- Возраст распределен нормально с выбросами, которые стоило бы изучить при необходимости обучать более качественные модели, но по условию ТЗ мы разрабатываем алгоритм шифрования, а не занимаемся faeture-engineering\n",
    "- Пол распределен равномерно\n",
    "- Подавляющее большинство клиентов выплаты не получало. *Страховые компании всегда в плюсе* :)"
   ]
  },
  {
   "cell_type": "markdown",
   "metadata": {},
   "source": [
    "Для красоты приведем типы данных:"
   ]
  },
  {
   "cell_type": "code",
   "execution_count": 11,
   "metadata": {
    "ExecuteTime": {
     "end_time": "2023-04-12T06:18:16.207995Z",
     "start_time": "2023-04-12T06:18:16.194033Z"
    }
   },
   "outputs": [
    {
     "data": {
      "text/plain": [
       "Пол                  int64\n",
       "Возраст              int32\n",
       "Зарплата             int32\n",
       "Члены семьи          int64\n",
       "Страховые выплаты    int64\n",
       "dtype: object"
      ]
     },
     "execution_count": 11,
     "metadata": {},
     "output_type": "execute_result"
    }
   ],
   "source": [
    "df['Возраст'] = df['Возраст'].astype(int)\n",
    "df['Зарплата'] = df['Зарплата'].astype(int)\n",
    "df.dtypes"
   ]
  },
  {
   "cell_type": "markdown",
   "metadata": {},
   "source": [
    "Подготовим выборки для обучения моделей:"
   ]
  },
  {
   "cell_type": "code",
   "execution_count": 12,
   "metadata": {
    "ExecuteTime": {
     "end_time": "2023-04-12T06:18:16.222955Z",
     "start_time": "2023-04-12T06:18:16.208994Z"
    }
   },
   "outputs": [
    {
     "name": "stdout",
     "output_type": "stream",
     "text": [
      "(4847, 4) (4847,)\n"
     ]
    }
   ],
   "source": [
    "features = df.drop('Страховые выплаты', axis=1)\n",
    "target = df['Страховые выплаты']\n",
    "print(features.shape, target.shape)"
   ]
  },
  {
   "cell_type": "markdown",
   "metadata": {},
   "source": [
    "Разделим выборки на обучающую и тестовую:"
   ]
  },
  {
   "cell_type": "code",
   "execution_count": 13,
   "metadata": {
    "ExecuteTime": {
     "end_time": "2023-04-12T06:18:16.237914Z",
     "start_time": "2023-04-12T06:18:16.223954Z"
    }
   },
   "outputs": [
    {
     "name": "stdout",
     "output_type": "stream",
     "text": [
      "(3877, 4) (3877,) (970, 4) (970,)\n"
     ]
    }
   ],
   "source": [
    "features_train, features_test, target_train, target_test = train_test_split(\n",
    "    features, target, test_size=0.2, random_state=SEED)\n",
    "print(features_train.shape, target_train.shape, features_test.shape, target_test.shape)"
   ]
  },
  {
   "cell_type": "markdown",
   "metadata": {},
   "source": [
    "Подготовим скелер для фич:"
   ]
  },
  {
   "cell_type": "code",
   "execution_count": 14,
   "metadata": {
    "ExecuteTime": {
     "end_time": "2023-04-12T06:18:16.253874Z",
     "start_time": "2023-04-12T06:18:16.238913Z"
    }
   },
   "outputs": [],
   "source": [
    "#учим скелер на трейн фичах\n",
    "scaler = StandardScaler()\n",
    "scaler.fit(features_train) \n",
    "#и применяем ко всем\n",
    "features_train = scaler.transform(features_train)\n",
    "features_test = scaler.transform(features_test)"
   ]
  },
  {
   "cell_type": "markdown",
   "metadata": {},
   "source": [
    "## Умножение матриц"
   ]
  },
  {
   "cell_type": "markdown",
   "metadata": {},
   "source": [
    "Обозначения:\n",
    "\n",
    "- $X$ — матрица признаков (нулевой столбец состоит из единиц)\n",
    "\n",
    "- $y$ — вектор целевого признака\n",
    "\n",
    "- $Z$ — матрица, на которую умножаются признаки\n",
    "\n",
    "- $w$ — вектор весов линейной регрессии (нулевой элемент равен сдвигу)"
   ]
  },
  {
   "cell_type": "markdown",
   "metadata": {},
   "source": [
    "Предсказания:\n",
    "\n",
    "$$\n",
    "a = Xw\n",
    "$$\n",
    "\n",
    "Задача обучения:\n",
    "\n",
    "$$\n",
    "w = \\arg\\min_w MSE(Xw, y)\n",
    "$$\n",
    "\n",
    "Формула обучения:\n",
    "\n",
    "$$\n",
    "w = (X^T X)^{-1} X^T y\n",
    "$$"
   ]
  },
  {
   "cell_type": "markdown",
   "metadata": {},
   "source": [
    "**Задача:**\n",
    "\n",
    "Ответьте на вопрос и обоснуйте решение: признаки умножают на обратимую матрицу. Изменится ли качество линейной регрессии? (Её можно обучить заново)\n",
    "- a) Изменится. Приведите примеры матриц.\n",
    "- b) Не изменится. Укажите, как связаны параметры линейной регрессии в исходной задаче и в преобразованной."
   ]
  },
  {
   "cell_type": "markdown",
   "metadata": {
    "ExecuteTime": {
     "end_time": "2023-03-28T02:12:17.085736Z",
     "start_time": "2023-03-28T02:12:17.061794Z"
    }
   },
   "source": [
    "**Решение**\n",
    "\n",
    "Для проверки утверждения подставим в формулу обучения (расчета) весов линейной регрессии вместо исходной матрицы $X$, произведение $XZ$, где $Z$ - некоторая обратимая матрица. \n",
    "\n",
    "Обратимость означает:\n",
    "- Матрица является квадратной\n",
    "- Существует матрица, обратная заданной\n",
    "- Произведение матрицу на обратную дает в результате единичную матрицу\n",
    "\n",
    "Таким образом, новые коэффициенты $w$:\n",
    "\n",
    "$$\n",
    "w = ((X Z)^T X Z)^{-1} (X Z)^T y\n",
    "$$\n",
    "\n",
    "\n",
    "Первое произведение $ (XZ)^T $ по правилу *`транспонированное произведение матриц равно произведению транспонированных матриц, взятых в обратном порядке`*:\n",
    "\n",
    "$$\n",
    "(XZ)^T = Z^T X^T\n",
    "$$\n",
    "\n",
    "\n",
    "$$\n",
    "w = (Z^T X^T X Z)^{-1} Z^T X^T y\n",
    "$$\n",
    "\n",
    "После перегруппировки множителей в скобках:\n",
    "\n",
    "$$\n",
    "w = (Z^T (X^T X) Z)^{-1} Z^T X^T y\n",
    "$$\n",
    "\n",
    "Для обратной матрицы произведения действует то же правило, что и для транспонирования: *`обратное произведение матриц равно произведению обратных матриц, взятых в обратном порядке`*\n",
    "\n",
    "Таким образом:\n",
    "\n",
    "$$\n",
    "(Z^T (X^T X) Z)^{-1} = ((X^T X) Z)^{-1} (Z^T)^{-1}\n",
    "$$\n",
    "\n",
    "Далее:\n",
    "\n",
    "$$\n",
    "((X^T X) Z)^{-1} (Z^T)^{-1} = Z^{-1} (X^T X)^{-1} (Z^T)^{-1}\n",
    "$$\n",
    "\n",
    "При подстановке в формулу весов:\n",
    "\n",
    "$$\n",
    "w = Z^{-1} (X^T X)^{-1} (Z^T)^{-1} Z^T X^T y\n",
    "$$\n",
    "\n",
    "Из определения обратимой матрицы $Z$ следует, что произведение $(Z^T)^{-1} Z^T$ равно единичной матрице $E$.\n",
    "\n",
    "Тогда:\n",
    "\n",
    "$$\n",
    "w = Z^{-1} (X^T X)^{-1} E X^T y = Z^{-1} (X^T X)^{-1} X^T y\n",
    "$$\n",
    "\n",
    "Можно заметить, что окончательно получилась *`формула для исходных весов обучения`* $w = (X^T X)^{-1} X^T y$.\n",
    "\n",
    "Переназовем новые веса $w1$ для наглядности и получаем:\n",
    "\n",
    "$$\n",
    "w1 = Z^{-1} w\n",
    "$$\n",
    "\n",
    "Подставляем пересчитанное значение весов  𝑤1 в формулу для предсказаний линейной регрессии $a = Xw$:\n",
    "\n",
    "Новые предсказания $a1$:\n",
    "\n",
    "$$\n",
    "a1 = (XZ) w1 = X Z Z^{-1} w\n",
    "$$\n",
    "\n",
    "Из условия обратимости $Z$ , произведение $Z Z^{-1}$ равно единичной матрице $E$:\n",
    "\n",
    "$$\n",
    "a1 = X Z Z^{-1} w = X E w = X w = a\n",
    "$$\n",
    "\n",
    "Таким образом, мы показали, что предсказания $a1$ для матрицы признаков, умноженных на обратимую матрицу $Z$ **`равны`** предсказаниям $a$."
   ]
  },
  {
   "cell_type": "markdown",
   "metadata": {},
   "source": [
    "**Ответ:** \n",
    "- Итак, верный ответ b)\n",
    "- Мы показали, что предсказания $a = a1$ не изменяются, что позволяет шифровать персональные данные\n",
    "- Однако, так как $w1 = Z^{-1} w$, модель необходимо будет переучить для новых закодированных трейн фичей (сам вектор весов изменяется)"
   ]
  },
  {
   "cell_type": "markdown",
   "metadata": {},
   "source": [
    "## Алгоритм преобразования"
   ]
  },
  {
   "cell_type": "markdown",
   "metadata": {},
   "source": [
    "**Алгоритм**\n",
    "\n",
    "Исходя из доказательства в пункте 2, нам необходимо подготовить некоторую (случайную) обратимую матрицу квадратную размера **количество_фич + 1** (для свободного члена сдвига):"
   ]
  },
  {
   "cell_type": "code",
   "execution_count": 15,
   "metadata": {
    "ExecuteTime": {
     "end_time": "2023-04-12T06:18:16.269830Z",
     "start_time": "2023-04-12T06:18:16.254872Z"
    }
   },
   "outputs": [
    {
     "data": {
      "text/plain": [
       "4"
      ]
     },
     "execution_count": 15,
     "metadata": {},
     "output_type": "execute_result"
    }
   ],
   "source": [
    "features.shape[1]"
   ]
  },
  {
   "cell_type": "markdown",
   "metadata": {},
   "source": [
    "Для воспроизводимости результатов работаем с фиксированным сидом (при реальном шифровании нам нужно сохранить матрицу $Z$, чтоб была возможность восстановить фичи:"
   ]
  },
  {
   "cell_type": "code",
   "execution_count": 16,
   "metadata": {
    "ExecuteTime": {
     "end_time": "2023-04-12T06:18:16.285787Z",
     "start_time": "2023-04-12T06:18:16.270828Z"
    }
   },
   "outputs": [],
   "source": [
    "np.random.seed(seed=SEED)"
   ]
  },
  {
   "cell_type": "code",
   "execution_count": 17,
   "metadata": {
    "ExecuteTime": {
     "end_time": "2023-04-12T06:18:16.301744Z",
     "start_time": "2023-04-12T06:18:16.286785Z"
    }
   },
   "outputs": [
    {
     "data": {
      "text/plain": [
       "array([[0.92961609, 0.31637555, 0.18391881, 0.20456028, 0.56772503],\n",
       "       [0.5955447 , 0.96451452, 0.6531771 , 0.74890664, 0.65356987],\n",
       "       [0.74771481, 0.96130674, 0.0083883 , 0.10644438, 0.29870371],\n",
       "       [0.65641118, 0.80981255, 0.87217591, 0.9646476 , 0.72368535],\n",
       "       [0.64247533, 0.71745362, 0.46759901, 0.32558468, 0.43964461]])"
      ]
     },
     "execution_count": 17,
     "metadata": {},
     "output_type": "execute_result"
    }
   ],
   "source": [
    "encryption_matrix = np.random.rand(features.shape[1]+1, features.shape[1]+1)\n",
    "encryption_matrix"
   ]
  },
  {
   "cell_type": "markdown",
   "metadata": {},
   "source": [
    "Проблем с обратимостью не должно быть, но проверим:"
   ]
  },
  {
   "cell_type": "code",
   "execution_count": 18,
   "metadata": {
    "ExecuteTime": {
     "end_time": "2023-04-12T06:18:16.316731Z",
     "start_time": "2023-04-12T06:18:16.302744Z"
    }
   },
   "outputs": [
    {
     "data": {
      "text/plain": [
       "array([[ 0.05300921, -5.42869373,  1.95811063,  3.90519895,  0.24316421],\n",
       "       [-0.79259668,  1.5545168 ,  0.45507685, -1.23780401,  0.44089954],\n",
       "       [-1.01469721, -1.86006878, -1.52718938,  0.22954762,  4.73521289],\n",
       "       [-0.39405943, -3.28917676,  2.59124521,  4.86014825, -4.36217887],\n",
       "       [ 2.58701085,  9.81060585, -3.8988123 , -7.53029379, -0.60611279]])"
      ]
     },
     "execution_count": 18,
     "metadata": {},
     "output_type": "execute_result"
    }
   ],
   "source": [
    "encryption_matrix_inverted = np.linalg.inv(encryption_matrix)\n",
    "encryption_matrix_inverted "
   ]
  },
  {
   "cell_type": "markdown",
   "metadata": {},
   "source": [
    "Домножим матрицу на обратную и получим $E$:"
   ]
  },
  {
   "cell_type": "code",
   "execution_count": 19,
   "metadata": {
    "ExecuteTime": {
     "end_time": "2023-04-12T06:18:16.332691Z",
     "start_time": "2023-04-12T06:18:16.317699Z"
    }
   },
   "outputs": [
    {
     "data": {
      "text/plain": [
       "array([[ 1., -0., -0.,  0., -0.],\n",
       "       [ 0.,  1., -0., -0., -0.],\n",
       "       [-0.,  0.,  1.,  0., -0.],\n",
       "       [ 0.,  0., -0.,  1., -0.],\n",
       "       [ 0.,  0., -0., -0.,  1.]])"
      ]
     },
     "execution_count": 19,
     "metadata": {},
     "output_type": "execute_result"
    }
   ],
   "source": [
    "np.round(encryption_matrix @ encryption_matrix_inverted, 2)"
   ]
  },
  {
   "cell_type": "markdown",
   "metadata": {},
   "source": [
    "Промоделируем предсказания по формулам из пункта 2 с учетом свободного члена:"
   ]
  },
  {
   "cell_type": "code",
   "execution_count": 20,
   "metadata": {
    "ExecuteTime": {
     "end_time": "2023-04-12T06:18:16.348617Z",
     "start_time": "2023-04-12T06:18:16.333657Z"
    }
   },
   "outputs": [
    {
     "data": {
      "text/plain": [
       "(3877, 5)"
      ]
     },
     "execution_count": 20,
     "metadata": {},
     "output_type": "execute_result"
    }
   ],
   "source": [
    "features_train_shift = np.concatenate((np.ones((features_train.shape[0], 1)), features_train), axis=1)\n",
    "features_train_shift.shape"
   ]
  },
  {
   "cell_type": "markdown",
   "metadata": {},
   "source": [
    "Также заранее добавим сдвиг в тестовые фичи:"
   ]
  },
  {
   "cell_type": "code",
   "execution_count": 21,
   "metadata": {
    "ExecuteTime": {
     "end_time": "2023-04-12T06:18:16.396519Z",
     "start_time": "2023-04-12T06:18:16.349616Z"
    }
   },
   "outputs": [
    {
     "data": {
      "text/plain": [
       "(970, 5)"
      ]
     },
     "execution_count": 21,
     "metadata": {},
     "output_type": "execute_result"
    }
   ],
   "source": [
    "features_test_shift = np.concatenate((np.ones((features_test.shape[0], 1)), features_test), axis=1)\n",
    "features_test_shift.shape"
   ]
  },
  {
   "cell_type": "markdown",
   "metadata": {},
   "source": [
    "Рассчитаем веса w по формуле обучения $w = (X^T X)^{-1} X^T y$:"
   ]
  },
  {
   "cell_type": "code",
   "execution_count": 22,
   "metadata": {
    "ExecuteTime": {
     "end_time": "2023-04-12T06:18:16.412447Z",
     "start_time": "2023-04-12T06:18:16.397487Z"
    }
   },
   "outputs": [
    {
     "data": {
      "text/plain": [
       "array([ 0.15398504,  0.00762637,  0.30962457,  0.0017981 , -0.01546259])"
      ]
     },
     "execution_count": 22,
     "metadata": {},
     "output_type": "execute_result"
    }
   ],
   "source": [
    "weights = np.linalg.inv(features_train_shift.T @ features_train_shift) @ features_train_shift.T @ target_train\n",
    "weights"
   ]
  },
  {
   "cell_type": "markdown",
   "metadata": {},
   "source": [
    "Рассчитаем вектор предсказаний по формуле $a = Xw$:"
   ]
  },
  {
   "cell_type": "code",
   "execution_count": 23,
   "metadata": {
    "ExecuteTime": {
     "end_time": "2023-04-12T06:18:16.428403Z",
     "start_time": "2023-04-12T06:18:16.413443Z"
    }
   },
   "outputs": [
    {
     "data": {
      "text/plain": [
       "array([ 0.05201493, -0.03009608,  0.41993373, ..., -0.23868148,\n",
       "        0.23710286,  0.50094371])"
      ]
     },
     "execution_count": 23,
     "metadata": {},
     "output_type": "execute_result"
    }
   ],
   "source": [
    "predictions = features_train_shift @ weights\n",
    "predictions"
   ]
  },
  {
   "cell_type": "markdown",
   "metadata": {
    "ExecuteTime": {
     "end_time": "2023-03-28T06:02:10.754382Z",
     "start_time": "2023-03-28T06:02:10.740258Z"
    }
   },
   "source": [
    "Рассчитаем веса для матрицы домноженной на обратимую $Z$ по формуле $w = ((X Z)^T X Z)^{-1} (X Z)^T y$:"
   ]
  },
  {
   "cell_type": "code",
   "execution_count": 24,
   "metadata": {
    "ExecuteTime": {
     "end_time": "2023-04-12T06:18:16.489241Z",
     "start_time": "2023-04-12T06:18:16.429400Z"
    }
   },
   "outputs": [
    {
     "data": {
      "text/plain": [
       "array([ 0.57630258,  0.02166711, -0.71609504,  0.7927391 , -0.738156  ])"
      ]
     },
     "execution_count": 24,
     "metadata": {},
     "output_type": "execute_result"
    }
   ],
   "source": [
    "weights_encryption = np.linalg.inv((features_train_shift @ encryption_matrix).T @ features_train_shift @ encryption_matrix) @\\\n",
    "                (features_train_shift @ encryption_matrix).T @ target_train\n",
    "weights_encryption"
   ]
  },
  {
   "cell_type": "markdown",
   "metadata": {},
   "source": [
    "И новые предсказания:"
   ]
  },
  {
   "cell_type": "code",
   "execution_count": 25,
   "metadata": {
    "ExecuteTime": {
     "end_time": "2023-04-12T06:18:16.505199Z",
     "start_time": "2023-04-12T06:18:16.490238Z"
    }
   },
   "outputs": [
    {
     "data": {
      "text/plain": [
       "array([ 0.05201493, -0.03009608,  0.41993373, ..., -0.23868148,\n",
       "        0.23710286,  0.50094371])"
      ]
     },
     "execution_count": 25,
     "metadata": {},
     "output_type": "execute_result"
    }
   ],
   "source": [
    "predictions_encryption = features_train_shift @ encryption_matrix @ weights_encryption\n",
    "predictions_encryption"
   ]
  },
  {
   "cell_type": "code",
   "execution_count": 26,
   "metadata": {
    "ExecuteTime": {
     "end_time": "2023-04-12T06:18:16.521156Z",
     "start_time": "2023-04-12T06:18:16.506195Z"
    }
   },
   "outputs": [
    {
     "data": {
      "text/plain": [
       "1.0"
      ]
     },
     "execution_count": 26,
     "metadata": {},
     "output_type": "execute_result"
    }
   ],
   "source": [
    "np.isclose(predictions, predictions_encryption).mean()"
   ]
  },
  {
   "cell_type": "markdown",
   "metadata": {},
   "source": [
    "Отобразим полученные веса на графике:"
   ]
  },
  {
   "cell_type": "code",
   "execution_count": 27,
   "metadata": {
    "ExecuteTime": {
     "end_time": "2023-04-12T06:18:16.711680Z",
     "start_time": "2023-04-12T06:18:16.526142Z"
    }
   },
   "outputs": [
    {
     "data": {
      "image/png": "[encoded data removed]",
      "text/plain": [
       "<Figure size 1000x400 with 1 Axes>"
      ]
     },
     "metadata": {},
     "output_type": "display_data"
    }
   ],
   "source": [
    "plt.figure(figsize=(10,4))\n",
    "ax = sns.lineplot(weights, label='weights')\n",
    "sns.lineplot(weights_encryption,\n",
    "             label='weights_encryption',\n",
    "             ax=ax)\n",
    "plt.legend(prop={'size': 9})\n",
    "plt.title('LR weights / LR encrypted weights');"
   ]
  },
  {
   "cell_type": "markdown",
   "metadata": {},
   "source": [
    "И первые 100 точек из обоих векторов предсказаний:"
   ]
  },
  {
   "cell_type": "code",
   "execution_count": 28,
   "metadata": {
    "ExecuteTime": {
     "end_time": "2023-04-12T06:18:16.885213Z",
     "start_time": "2023-04-12T06:18:16.712643Z"
    }
   },
   "outputs": [
    {
     "data": {
      "image/png": "[encoded data removed]",
      "text/plain": [
       "<Figure size 1000x400 with 1 Axes>"
      ]
     },
     "metadata": {},
     "output_type": "display_data"
    }
   ],
   "source": [
    "plt.figure(figsize=(10,4))\n",
    "ax = sns.scatterplot(predictions[0:100],\n",
    "                     label='predictions',\n",
    "                     marker='o'\n",
    "                  )\n",
    "sns.scatterplot(predictions_encryption[0:100],\n",
    "             label='predictions_encryption',\n",
    "             ax=ax,\n",
    "             marker='.')\n",
    "plt.legend(prop={'size': 9})\n",
    "plt.title('LR predictions / LR encrypted predictions');"
   ]
  },
  {
   "cell_type": "markdown",
   "metadata": {},
   "source": [
    "**Вывод**\n",
    "Таким образом, доказанная формула проверена для произвольной матрицы $Z$ и фич features_train"
   ]
  },
  {
   "cell_type": "markdown",
   "metadata": {},
   "source": [
    "## Проверка алгоритма"
   ]
  },
  {
   "cell_type": "markdown",
   "metadata": {
    "ExecuteTime": {
     "end_time": "2023-03-28T06:12:32.845984Z",
     "start_time": "2023-03-28T06:12:32.837596Z"
    }
   },
   "source": [
    "Будем обучать две модели линейной регрессии:"
   ]
  },
  {
   "cell_type": "code",
   "execution_count": 29,
   "metadata": {
    "ExecuteTime": {
     "end_time": "2023-04-12T06:18:16.901169Z",
     "start_time": "2023-04-12T06:18:16.886179Z"
    }
   },
   "outputs": [],
   "source": [
    "lr = LinearRegression(n_jobs=NJOBS)\n",
    "lr_encryption = LinearRegression(n_jobs=NJOBS)"
   ]
  },
  {
   "cell_type": "code",
   "execution_count": 30,
   "metadata": {
    "ExecuteTime": {
     "end_time": "2023-04-12T06:18:16.933054Z",
     "start_time": "2023-04-12T06:18:16.902136Z"
    }
   },
   "outputs": [
    {
     "name": "stdout",
     "output_type": "stream",
     "text": [
      "r2 score 0.4160549229827962\n"
     ]
    }
   ],
   "source": [
    "lr.fit(features_train, target_train)\n",
    "predictions_test = lr.predict(features_test)\n",
    "print('r2 score', r2_score(target_test, predictions_test))"
   ]
  },
  {
   "cell_type": "code",
   "execution_count": 31,
   "metadata": {
    "ExecuteTime": {
     "end_time": "2023-04-12T06:18:16.949012Z",
     "start_time": "2023-04-12T06:18:16.934051Z"
    }
   },
   "outputs": [
    {
     "name": "stdout",
     "output_type": "stream",
     "text": [
      "r2 score 0.4159821422185458\n"
     ]
    }
   ],
   "source": [
    "lr_encryption.fit(features_train_shift @ encryption_matrix, target_train)\n",
    "predictions_test_encryption = lr_encryption.predict(features_test_shift @ encryption_matrix)\n",
    "print('r2 score', r2_score(target_test, predictions_test_encryption))"
   ]
  },
  {
   "cell_type": "code",
   "execution_count": 32,
   "metadata": {
    "ExecuteTime": {
     "end_time": "2023-04-12T06:18:16.964969Z",
     "start_time": "2023-04-12T06:18:16.950008Z"
    }
   },
   "outputs": [
    {
     "data": {
      "text/plain": [
       "0.0"
      ]
     },
     "execution_count": 32,
     "metadata": {},
     "output_type": "execute_result"
    }
   ],
   "source": [
    "np.isclose(predictions_test, predictions_test_encryption).mean()"
   ]
  },
  {
   "cell_type": "markdown",
   "metadata": {},
   "source": [
    "**Вывод**\n",
    "- r2 score обеих моделей совпадают\n",
    "- Предсказания обеих моделей совпадают"
   ]
  },
  {
   "cell_type": "markdown",
   "metadata": {
    "ExecuteTime": {
     "end_time": "2023-03-28T06:15:57.385507Z",
     "start_time": "2023-03-28T06:15:57.370209Z"
    }
   },
   "source": [
    "## Общий вывод"
   ]
  },
  {
   "cell_type": "markdown",
   "metadata": {},
   "source": [
    "- Предложен и опробован алгоритм шифрования данных клиентов перед применением модели линейной регрессии\n",
    "- Стоит отметить, что чем больше фич представлено, тем сложнее будет потенциальному взломщику подобрать матрицу для восстановления персональных данных\n",
    "- Необходимо применять OHE-кодирование категориальных фич (пол клиента). Однако в датасете, по сути, это кодирование уже предвыполнено"
   ]
  }
 ],
 "metadata": {
  "kernelspec": {
   "display_name": "Python 3 (ipykernel)",
   "language": "python",
   "name": "python3"
  },
  "language_info": {
   "codemirror_mode": {
    "name": "ipython",
    "version": 3
   },
   "file_extension": ".py",
   "mimetype": "text/x-python",
   "name": "python",
   "nbconvert_exporter": "python",
   "pygments_lexer": "ipython3",
   "version": "3.10.9"
  },
  "toc": {
   "base_numbering": 1,
   "nav_menu": {},
   "number_sections": true,
   "sideBar": true,
   "skip_h1_title": true,
   "title_cell": "Содержание",
   "title_sidebar": "Contents",
   "toc_cell": true,
   "toc_position": {
    "height": "1099.33px",
    "left": "40px",
    "top": "200px",
    "width": "419px"
   },
   "toc_section_display": true,
   "toc_window_display": true
  },
  "varInspector": {
   "cols": {
    "lenName": 16,
    "lenType": 16,
    "lenVar": 40
   },
   "kernels_config": {
    "python": {
     "delete_cmd_postfix": "",
     "delete_cmd_prefix": "del ",
     "library": "var_list.py",
     "varRefreshCmd": "print(var_dic_list())"
    },
    "r": {
     "delete_cmd_postfix": ") ",
     "delete_cmd_prefix": "rm(",
     "library": "var_list.r",
     "varRefreshCmd": "cat(var_dic_list()) "
    }
   },
   "types_to_exclude": [
    "module",
    "function",
    "builtin_function_or_method",
    "instance",
    "_Feature"
   ],
   "window_display": false
  }
 },
 "nbformat": 4,
 "nbformat_minor": 2
}
