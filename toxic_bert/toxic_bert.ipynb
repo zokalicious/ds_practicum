{
 "cells": [
  {
   "attachments": {},
   "cell_type": "markdown",
   "metadata": {
    "toc": true
   },
   "source": [
    "<h1>Содержание<span class=\"tocSkip\"></span></h1>\n",
    "<div class=\"toc\"><ul class=\"toc-item\"><li><span><a href=\"#Подготовка\" data-toc-modified-id=\"Подготовка-1\"><span class=\"toc-item-num\">1&nbsp;&nbsp;</span>Подготовка</a></span><ul class=\"toc-item\"><li><span><a href=\"#Глобальные-параметры\" data-toc-modified-id=\"Глобальные-параметры-1.1\"><span class=\"toc-item-num\">1.1&nbsp;&nbsp;</span>Глобальные параметры</a></span></li><li><span><a href=\"#Библиотеки-для-работы\" data-toc-modified-id=\"Библиотеки-для-работы-1.2\"><span class=\"toc-item-num\">1.2&nbsp;&nbsp;</span>Библиотеки для работы</a></span></li><li><span><a href=\"#Загрузка-датасета\" data-toc-modified-id=\"Загрузка-датасета-1.3\"><span class=\"toc-item-num\">1.3&nbsp;&nbsp;</span>Загрузка датасета</a></span></li><li><span><a href=\"#Оценка-баланса-классов-в-таргете\" data-toc-modified-id=\"Оценка-баланса-классов-в-таргете-1.4\"><span class=\"toc-item-num\">1.4&nbsp;&nbsp;</span>Оценка баланса классов в таргете</a></span></li><li><span><a href=\"#Лемматизация\" data-toc-modified-id=\"Лемматизация-1.5\"><span class=\"toc-item-num\">1.5&nbsp;&nbsp;</span>Лемматизация</a></span></li><li><span><a href=\"#Проверка-на-дубликаты-и-пропуски-в-лемматизированном-датасете\" data-toc-modified-id=\"Проверка-на-дубликаты-и-пропуски-в-лемматизированном-датасете-1.6\"><span class=\"toc-item-num\">1.6&nbsp;&nbsp;</span>Проверка на дубликаты и пропуски в лемматизированном датасете</a></span></li><li><span><a href=\"#Итоговый-датасет-перед-обучением-моделей\" data-toc-modified-id=\"Итоговый-датасет-перед-обучением-моделей-1.7\"><span class=\"toc-item-num\">1.7&nbsp;&nbsp;</span>Итоговый датасет перед обучением моделей</a></span></li></ul></li><li><span><a href=\"#Обучение\" data-toc-modified-id=\"Обучение-2\"><span class=\"toc-item-num\">2&nbsp;&nbsp;</span>Обучение</a></span><ul class=\"toc-item\"><li><span><a href=\"#CatBoost-+-TF-IDF-pipeline\" data-toc-modified-id=\"CatBoost-+-TF-IDF-pipeline-2.1\"><span class=\"toc-item-num\">2.1&nbsp;&nbsp;</span>CatBoost + TF-IDF pipeline</a></span></li><li><span><a href=\"#BERT-Embedding\" data-toc-modified-id=\"BERT-Embedding-2.2\"><span class=\"toc-item-num\">2.2&nbsp;&nbsp;</span>BERT Embedding</a></span></li><li><span><a href=\"#CatBoost-+-BERT\" data-toc-modified-id=\"CatBoost-+-BERT-2.3\"><span class=\"toc-item-num\">2.3&nbsp;&nbsp;</span>CatBoost + BERT</a></span></li><li><span><a href=\"#Сравнение-результатов-обучения\" data-toc-modified-id=\"Сравнение-результатов-обучения-2.4\"><span class=\"toc-item-num\">2.4&nbsp;&nbsp;</span>Сравнение результатов обучения</a></span></li></ul></li><li><span><a href=\"#Проверка-на-тесте\" data-toc-modified-id=\"Проверка-на-тесте-3\"><span class=\"toc-item-num\">3&nbsp;&nbsp;</span>Проверка на тесте</a></span></li><li><span><a href=\"#Выводы\" data-toc-modified-id=\"Выводы-4\"><span class=\"toc-item-num\">4&nbsp;&nbsp;</span>Выводы</a></span></li></ul></div>"
   ]
  },
  {
   "cell_type": "code",
   "execution_count": 1,
   "metadata": {
    "ExecuteTime": {
     "end_time": "2023-05-18T07:05:46.361629Z",
     "start_time": "2023-05-18T07:05:46.321824Z"
    }
   },
   "outputs": [
    {
     "name": "stdout",
     "output_type": "stream",
     "text": [
      "Python 3.11.3\n"
     ]
    }
   ],
   "source": [
    "!python --version"
   ]
  },
  {
   "attachments": {},
   "cell_type": "markdown",
   "metadata": {},
   "source": [
    "# Проект для «Викишоп» с BERT"
   ]
  },
  {
   "attachments": {},
   "cell_type": "markdown",
   "metadata": {},
   "source": [
    "Интернет-магазин «Викишоп» запускает новый сервис. Теперь пользователи могут редактировать и дополнять описания товаров, как в вики-сообществах. То есть клиенты предлагают свои правки и комментируют изменения других. Магазину нужен инструмент, который будет искать токсичные комментарии и отправлять их на модерацию. \n",
    "\n",
    "Обучите модель классифицировать комментарии на позитивные и негативные. В вашем распоряжении набор данных с разметкой о токсичности правок.\n",
    "\n",
    "Постройте модель со значением метрики качества *F1* не меньше 0.75. \n",
    "\n",
    "**Инструкция по выполнению проекта**\n",
    "\n",
    "1. Загрузите и подготовьте данные.\n",
    "2. Обучите разные модели. \n",
    "3. Сделайте выводы.\n",
    "\n",
    "Для выполнения проекта применять *BERT* необязательно, но вы можете попробовать.\n",
    "\n",
    "**Описание данных**\n",
    "\n",
    "Данные находятся в файле `toxic_comments.csv`. Столбец *text* в нём содержит текст комментария, а *toxic* — целевой признак."
   ]
  },
  {
   "attachments": {},
   "cell_type": "markdown",
   "metadata": {},
   "source": [
    "## Подготовка"
   ]
  },
  {
   "attachments": {},
   "cell_type": "markdown",
   "metadata": {
    "ExecuteTime": {
     "end_time": "2023-05-01T09:08:20.292958Z",
     "start_time": "2023-05-01T09:08:20.276662Z"
    }
   },
   "source": [
    "### Глобальные параметры"
   ]
  },
  {
   "cell_type": "code",
   "execution_count": 2,
   "metadata": {
    "ExecuteTime": {
     "end_time": "2023-05-18T07:05:46.377144Z",
     "start_time": "2023-05-18T07:05:46.363633Z"
    }
   },
   "outputs": [],
   "source": [
    "SEED = 12345 #random_state\n",
    "ITERATIONS = 5 # iterations"
   ]
  },
  {
   "attachments": {},
   "cell_type": "markdown",
   "metadata": {
    "ExecuteTime": {
     "end_time": "2023-05-01T09:05:57.428000Z",
     "start_time": "2023-05-01T09:05:57.424258Z"
    }
   },
   "source": [
    "### Библиотеки для работы"
   ]
  },
  {
   "attachments": {},
   "cell_type": "markdown",
   "metadata": {},
   "source": [
    "- `catboost` - основной классификатор с возможностью запуска на GPU, что выгодно для больших матриц\n",
    "- `nltk` - работа с лемматизацией и словарем\n",
    "- `numpy`, `pandas`, `torch` - датасеты, массивы, тензоры\n",
    "- `re` - регулярные выражения\n",
    "- `sklearn` - работа с выборками и моделями МО\n",
    "- `matplotlib`, `seaborn` - графики\n",
    "- `transformers` - работа с моделью BERT\n",
    "- `tqdm` - таймер циклов"
   ]
  },
  {
   "cell_type": "code",
   "execution_count": 3,
   "metadata": {
    "ExecuteTime": {
     "end_time": "2023-05-18T07:05:50.964345Z",
     "start_time": "2023-05-18T07:05:46.378995Z"
    }
   },
   "outputs": [],
   "source": [
    "from catboost import CatBoostClassifier\n",
    "import gc\n",
    "import matplotlib.pyplot as plt\n",
    "import nltk\n",
    "from nltk.corpus import stopwords as nltk_stopwords\n",
    "import numpy as np\n",
    "import pandas as pd\n",
    "import re\n",
    "import seaborn as sns\n",
    "from sklearn.feature_extraction.text import TfidfVectorizer \n",
    "from sklearn.model_selection import train_test_split, RandomizedSearchCV\n",
    "from sklearn.metrics import f1_score\n",
    "from sklearn.pipeline import Pipeline\n",
    "import spacy\n",
    "import torch\n",
    "import transformers\n",
    "from tqdm import tqdm"
   ]
  },
  {
   "cell_type": "code",
   "execution_count": 4,
   "metadata": {
    "ExecuteTime": {
     "end_time": "2023-05-18T07:05:50.978399Z",
     "start_time": "2023-05-18T07:05:50.964345Z"
    }
   },
   "outputs": [
    {
     "data": {
      "text/plain": [
       "device(type='cuda', index=0)"
      ]
     },
     "execution_count": 4,
     "metadata": {},
     "output_type": "execute_result"
    }
   ],
   "source": [
    "device = torch.device(\"cuda:0\") if torch.cuda.is_available() else torch.device(\"cpu\")\n",
    "device"
   ]
  },
  {
   "attachments": {},
   "cell_type": "markdown",
   "metadata": {},
   "source": [
    "### Загрузка датасета"
   ]
  },
  {
   "attachments": {},
   "cell_type": "markdown",
   "metadata": {
    "ExecuteTime": {
     "end_time": "2023-05-02T13:04:07.286762Z",
     "start_time": "2023-05-02T13:04:07.276969Z"
    }
   },
   "source": [
    "Грузим с сервера данные:"
   ]
  },
  {
   "cell_type": "code",
   "execution_count": 5,
   "metadata": {
    "ExecuteTime": {
     "end_time": "2023-05-18T07:05:53.979464Z",
     "start_time": "2023-05-18T07:05:50.978399Z"
    }
   },
   "outputs": [],
   "source": [
    "df = pd.read_csv('https://code.s3.yandex.net/datasets/toxic_comments.csv', index_col=[0]).reset_index(drop=True)\n",
    "#df = df.sample(2000, random_state=SEED).reset_index(drop=True)"
   ]
  },
  {
   "attachments": {},
   "cell_type": "markdown",
   "metadata": {},
   "source": [
    "И смотрим на формат строк:"
   ]
  },
  {
   "cell_type": "code",
   "execution_count": 6,
   "metadata": {
    "ExecuteTime": {
     "end_time": "2023-05-18T07:05:53.993675Z",
     "start_time": "2023-05-18T07:05:53.979464Z"
    }
   },
   "outputs": [
    {
     "data": {
      "text/html": [
       "<div>\n",
       "<style scoped>\n",
       "    .dataframe tbody tr th:only-of-type {\n",
       "        vertical-align: middle;\n",
       "    }\n",
       "\n",
       "    .dataframe tbody tr th {\n",
       "        vertical-align: top;\n",
       "    }\n",
       "\n",
       "    .dataframe thead th {\n",
       "        text-align: right;\n",
       "    }\n",
       "</style>\n",
       "<table border=\"1\" class=\"dataframe\">\n",
       "  <thead>\n",
       "    <tr style=\"text-align: right;\">\n",
       "      <th></th>\n",
       "      <th>text</th>\n",
       "      <th>toxic</th>\n",
       "    </tr>\n",
       "  </thead>\n",
       "  <tbody>\n",
       "    <tr>\n",
       "      <th>0</th>\n",
       "      <td>Explanation\\nWhy the edits made under my usern...</td>\n",
       "      <td>0</td>\n",
       "    </tr>\n",
       "    <tr>\n",
       "      <th>1</th>\n",
       "      <td>D'aww! He matches this background colour I'm s...</td>\n",
       "      <td>0</td>\n",
       "    </tr>\n",
       "    <tr>\n",
       "      <th>2</th>\n",
       "      <td>Hey man, I'm really not trying to edit war. It...</td>\n",
       "      <td>0</td>\n",
       "    </tr>\n",
       "  </tbody>\n",
       "</table>\n",
       "</div>"
      ],
      "text/plain": [
       "                                                text  toxic\n",
       "0  Explanation\\nWhy the edits made under my usern...      0\n",
       "1  D'aww! He matches this background colour I'm s...      0\n",
       "2  Hey man, I'm really not trying to edit war. It...      0"
      ]
     },
     "execution_count": 6,
     "metadata": {},
     "output_type": "execute_result"
    }
   ],
   "source": [
    "df.head(3)"
   ]
  },
  {
   "attachments": {},
   "cell_type": "markdown",
   "metadata": {
    "ExecuteTime": {
     "end_time": "2023-05-01T09:42:35.827998Z",
     "start_time": "2023-05-01T09:42:35.814035Z"
    }
   },
   "source": [
    "### Оценка баланса классов в таргете"
   ]
  },
  {
   "cell_type": "code",
   "execution_count": 7,
   "metadata": {
    "ExecuteTime": {
     "end_time": "2023-05-18T07:05:54.085625Z",
     "start_time": "2023-05-18T07:05:53.993675Z"
    }
   },
   "outputs": [
    {
     "data": {
      "image/png": "[encoded data removed]",
      "text/plain": [
       "<Figure size 500x100 with 1 Axes>"
      ]
     },
     "metadata": {},
     "output_type": "display_data"
    }
   ],
   "source": [
    "plt.figure(figsize=(5,1))\n",
    "sns.countplot(data=df,\n",
    "              x='toxic');"
   ]
  },
  {
   "cell_type": "code",
   "execution_count": 8,
   "metadata": {
    "ExecuteTime": {
     "end_time": "2023-05-18T07:05:54.099826Z",
     "start_time": "2023-05-18T07:05:54.085625Z"
    }
   },
   "outputs": [
    {
     "data": {
      "text/plain": [
       "toxic\n",
       "0    0.898388\n",
       "1    0.101612\n",
       "Name: proportion, dtype: float64"
      ]
     },
     "execution_count": 8,
     "metadata": {},
     "output_type": "execute_result"
    }
   ],
   "source": [
    "df['toxic'].value_counts(normalize=True)"
   ]
  },
  {
   "attachments": {},
   "cell_type": "markdown",
   "metadata": {},
   "source": [
    "Задаем параметр баланса классов для CatBoostClassifier:"
   ]
  },
  {
   "cell_type": "code",
   "execution_count": 9,
   "metadata": {
    "ExecuteTime": {
     "end_time": "2023-05-18T07:05:54.115478Z",
     "start_time": "2023-05-18T07:05:54.100618Z"
    }
   },
   "outputs": [
    {
     "data": {
      "text/plain": [
       "9.841344371679229"
      ]
     },
     "execution_count": 9,
     "metadata": {},
     "output_type": "execute_result"
    }
   ],
   "source": [
    "SCALE = 1/(df['toxic'].value_counts(normalize=True)[1])\n",
    "SCALE"
   ]
  },
  {
   "attachments": {},
   "cell_type": "markdown",
   "metadata": {
    "ExecuteTime": {
     "end_time": "2023-05-01T09:15:26.534231Z",
     "start_time": "2023-05-01T09:15:26.526683Z"
    }
   },
   "source": [
    "### Лемматизация"
   ]
  },
  {
   "attachments": {},
   "cell_type": "markdown",
   "metadata": {},
   "source": [
    "Инициируем лемматизацию `spaCy`:"
   ]
  },
  {
   "cell_type": "code",
   "execution_count": 10,
   "metadata": {
    "ExecuteTime": {
     "end_time": "2023-05-18T07:05:54.693308Z",
     "start_time": "2023-05-18T07:05:54.116484Z"
    }
   },
   "outputs": [],
   "source": [
    "nlp = spacy.load('en_core_web_sm', disable=['parser', 'ner'])"
   ]
  },
  {
   "cell_type": "code",
   "execution_count": 11,
   "metadata": {
    "ExecuteTime": {
     "end_time": "2023-05-18T07:05:54.709621Z",
     "start_time": "2023-05-18T07:05:54.693308Z"
    }
   },
   "outputs": [],
   "source": [
    "def lemmatize(text):\n",
    "    # лемматизируем каждый из них\n",
    "    lemmatized_tokens = ' '.join([token.lemma_ for token in nlp(text)])\n",
    "    return lemmatized_tokens"
   ]
  },
  {
   "cell_type": "code",
   "execution_count": 12,
   "metadata": {
    "ExecuteTime": {
     "end_time": "2023-05-18T07:05:54.725742Z",
     "start_time": "2023-05-18T07:05:54.709621Z"
    }
   },
   "outputs": [],
   "source": [
    "def clear_text(text):\n",
    "    # оставляем только латинницу\n",
    "    text = text.lower()\n",
    "    text = ' '.join(re.sub(r'[^a-z]', ' ', text).split()) \n",
    "    #text = ' '.join(re.sub(r'[^a-zA-Z]', ' ', text).split()) \n",
    "    # убираем артикли\n",
    "    text = text.replace(' the ', ' ') \n",
    "    text = text.replace('the ', '') \n",
    "    text = text.replace(' a ', ' ' )\n",
    "    text = text.replace('a ', '')\n",
    "    # убираем повторные пробелы и пробелы в начале и конце строк\n",
    "    text = re.sub(' +', ' ', text)\n",
    "    text = text.strip()\n",
    "    return text"
   ]
  },
  {
   "attachments": {},
   "cell_type": "markdown",
   "metadata": {},
   "source": [
    "Очищаем текст от знаков препинания, артиклей и пробелов:"
   ]
  },
  {
   "cell_type": "code",
   "execution_count": 13,
   "metadata": {
    "ExecuteTime": {
     "end_time": "2023-05-18T07:05:59.565969Z",
     "start_time": "2023-05-18T07:05:54.727628Z"
    }
   },
   "outputs": [
    {
     "name": "stderr",
     "output_type": "stream",
     "text": [
      "100%|██████████| 159292/159292 [00:04<00:00, 35486.19it/s]\n"
     ]
    }
   ],
   "source": [
    "df['clear'] = [clear_text(text) for text in tqdm(df['text'])]"
   ]
  },
  {
   "attachments": {},
   "cell_type": "markdown",
   "metadata": {},
   "source": [
    "Проводим лемматизацию форм:"
   ]
  },
  {
   "cell_type": "code",
   "execution_count": 14,
   "metadata": {
    "ExecuteTime": {
     "end_time": "2023-05-18T07:06:00.486131Z",
     "start_time": "2023-05-18T07:05:59.568013Z"
    }
   },
   "outputs": [
    {
     "name": "stdout",
     "output_type": "stream",
     "text": [
      "CPU times: total: 406 ms\n",
      "Wall time: 911 ms\n"
     ]
    }
   ],
   "source": [
    "%%time\n",
    "try:\n",
    "    df = pd.read_csv('./datasets/lemm_text.csv')\n",
    "except:\n",
    "    df['lemm'] = [lemmatize(text) for text in tqdm(df['clear'])]\n",
    "    df.to_csv('./datasets/lemm_text.csv', index=False)"
   ]
  },
  {
   "cell_type": "code",
   "execution_count": 15,
   "metadata": {
    "ExecuteTime": {
     "end_time": "2023-05-18T07:06:00.501375Z",
     "start_time": "2023-05-18T07:06:00.486689Z"
    }
   },
   "outputs": [],
   "source": [
    "df = df[['lemm', 'text', 'toxic']]"
   ]
  },
  {
   "attachments": {},
   "cell_type": "markdown",
   "metadata": {
    "ExecuteTime": {
     "end_time": "2023-05-02T05:11:44.313030Z",
     "start_time": "2023-05-02T05:11:44.313030Z"
    }
   },
   "source": [
    "### Проверка на дубликаты и пропуски в лемматизированном датасете"
   ]
  },
  {
   "cell_type": "code",
   "execution_count": 16,
   "metadata": {
    "ExecuteTime": {
     "end_time": "2023-05-18T07:06:00.840005Z",
     "start_time": "2023-05-18T07:06:00.502168Z"
    }
   },
   "outputs": [
    {
     "name": "stdout",
     "output_type": "stream",
     "text": [
      "0\n"
     ]
    }
   ],
   "source": [
    "# полные дубликаты\n",
    "print(df.duplicated().sum())\n",
    "df = df.drop_duplicates()"
   ]
  },
  {
   "cell_type": "code",
   "execution_count": 17,
   "metadata": {
    "ExecuteTime": {
     "end_time": "2023-05-18T07:06:00.883893Z",
     "start_time": "2023-05-18T07:06:00.840748Z"
    },
    "scrolled": true
   },
   "outputs": [
    {
     "name": "stdout",
     "output_type": "stream",
     "text": [
      "lemm     11\n",
      "text      0\n",
      "toxic     0\n",
      "dtype: int64\n"
     ]
    }
   ],
   "source": [
    "# пропуски\n",
    "print(df.isna().sum())\n",
    "df = df.dropna()"
   ]
  },
  {
   "attachments": {},
   "cell_type": "markdown",
   "metadata": {
    "ExecuteTime": {
     "end_time": "2023-05-02T12:57:34.130079Z",
     "start_time": "2023-05-02T12:57:34.124658Z"
    }
   },
   "source": [
    "### Итоговый датасет перед обучением моделей"
   ]
  },
  {
   "cell_type": "code",
   "execution_count": 18,
   "metadata": {
    "ExecuteTime": {
     "end_time": "2023-05-18T07:06:00.898211Z",
     "start_time": "2023-05-18T07:06:00.883893Z"
    }
   },
   "outputs": [
    {
     "data": {
      "text/html": [
       "<div>\n",
       "<style scoped>\n",
       "    .dataframe tbody tr th:only-of-type {\n",
       "        vertical-align: middle;\n",
       "    }\n",
       "\n",
       "    .dataframe tbody tr th {\n",
       "        vertical-align: top;\n",
       "    }\n",
       "\n",
       "    .dataframe thead th {\n",
       "        text-align: right;\n",
       "    }\n",
       "</style>\n",
       "<table border=\"1\" class=\"dataframe\">\n",
       "  <thead>\n",
       "    <tr style=\"text-align: right;\">\n",
       "      <th></th>\n",
       "      <th>lemm</th>\n",
       "      <th>text</th>\n",
       "      <th>toxic</th>\n",
       "    </tr>\n",
       "  </thead>\n",
       "  <tbody>\n",
       "    <tr>\n",
       "      <th>0</th>\n",
       "      <td>explanation why edit make under my username ha...</td>\n",
       "      <td>Explanation\\nWhy the edits made under my usern...</td>\n",
       "      <td>0</td>\n",
       "    </tr>\n",
       "    <tr>\n",
       "      <th>1</th>\n",
       "      <td>d aww he match this background colour I m seem...</td>\n",
       "      <td>D'aww! He matches this background colour I'm s...</td>\n",
       "      <td>0</td>\n",
       "    </tr>\n",
       "    <tr>\n",
       "      <th>2</th>\n",
       "      <td>hey man I m really not try to edit war it s ju...</td>\n",
       "      <td>Hey man, I'm really not trying to edit war. It...</td>\n",
       "      <td>0</td>\n",
       "    </tr>\n",
       "  </tbody>\n",
       "</table>\n",
       "</div>"
      ],
      "text/plain": [
       "                                                lemm   \n",
       "0  explanation why edit make under my username ha...  \\\n",
       "1  d aww he match this background colour I m seem...   \n",
       "2  hey man I m really not try to edit war it s ju...   \n",
       "\n",
       "                                                text  toxic  \n",
       "0  Explanation\\nWhy the edits made under my usern...      0  \n",
       "1  D'aww! He matches this background colour I'm s...      0  \n",
       "2  Hey man, I'm really not trying to edit war. It...      0  "
      ]
     },
     "execution_count": 18,
     "metadata": {},
     "output_type": "execute_result"
    }
   ],
   "source": [
    "df.head(3)"
   ]
  },
  {
   "attachments": {},
   "cell_type": "markdown",
   "metadata": {},
   "source": [
    "## Обучение"
   ]
  },
  {
   "attachments": {},
   "cell_type": "markdown",
   "metadata": {},
   "source": [
    "Разбивка на трейн и тест:"
   ]
  },
  {
   "cell_type": "code",
   "execution_count": 19,
   "metadata": {
    "ExecuteTime": {
     "end_time": "2023-05-18T07:06:00.914478Z",
     "start_time": "2023-05-18T07:06:00.898815Z"
    }
   },
   "outputs": [],
   "source": [
    "train, test = train_test_split(df, test_size=0.25, random_state=SEED)"
   ]
  },
  {
   "attachments": {},
   "cell_type": "markdown",
   "metadata": {},
   "source": [
    "Таргетные столбцы для моделей:"
   ]
  },
  {
   "cell_type": "code",
   "execution_count": 20,
   "metadata": {
    "ExecuteTime": {
     "end_time": "2023-05-18T07:06:00.928870Z",
     "start_time": "2023-05-18T07:06:00.915610Z"
    }
   },
   "outputs": [],
   "source": [
    "x_train = train['lemm']\n",
    "x_test = test['lemm']\n",
    "y_train = train['toxic']\n",
    "y_test = test['toxic']"
   ]
  },
  {
   "attachments": {},
   "cell_type": "markdown",
   "metadata": {
    "ExecuteTime": {
     "end_time": "2023-05-01T10:00:48.515717Z",
     "start_time": "2023-05-01T10:00:48.515717Z"
    }
   },
   "source": [
    "### CatBoost + TF-IDF pipeline"
   ]
  },
  {
   "cell_type": "code",
   "execution_count": 21,
   "metadata": {
    "ExecuteTime": {
     "end_time": "2023-05-18T07:06:01.271462Z",
     "start_time": "2023-05-18T07:06:00.929877Z"
    },
    "scrolled": true
   },
   "outputs": [
    {
     "name": "stderr",
     "output_type": "stream",
     "text": [
      "[nltk_data] Downloading package stopwords to\n",
      "[nltk_data]     C:\\Users\\mx\\AppData\\Roaming\\nltk_data...\n",
      "[nltk_data]   Package stopwords is already up-to-date!\n"
     ]
    }
   ],
   "source": [
    "# фильтр стоп слов\n",
    "nltk.download('stopwords')\n",
    "stopwords = nltk_stopwords.words('english')"
   ]
  },
  {
   "attachments": {},
   "cell_type": "markdown",
   "metadata": {
    "ExecuteTime": {
     "end_time": "2023-05-01T09:50:35.893388Z",
     "start_time": "2023-05-01T09:50:35.876889Z"
    }
   },
   "source": [
    "Подготовим пайплайн с фичами `TF-IDF`:"
   ]
  },
  {
   "cell_type": "code",
   "execution_count": 22,
   "metadata": {
    "ExecuteTime": {
     "end_time": "2023-05-18T07:06:01.287473Z",
     "start_time": "2023-05-18T07:06:01.271462Z"
    }
   },
   "outputs": [],
   "source": [
    "cb_pipe = Pipeline([\n",
    "    ('tfidf', TfidfVectorizer()),\n",
    "    ('cb', CatBoostClassifier(random_state=SEED,\n",
    "                              task_type='GPU',\n",
    "                              scale_pos_weight=SCALE,\n",
    "                              verbose=500,\n",
    "                              iterations=1000,\n",
    "                              eval_metric='F1'))\n",
    "])"
   ]
  },
  {
   "attachments": {},
   "cell_type": "markdown",
   "metadata": {},
   "source": [
    "Задаем сетку параметров и тип поиска:"
   ]
  },
  {
   "cell_type": "code",
   "execution_count": 23,
   "metadata": {
    "ExecuteTime": {
     "end_time": "2023-05-18T07:06:01.303516Z",
     "start_time": "2023-05-18T07:06:01.287473Z"
    }
   },
   "outputs": [],
   "source": [
    "param_grid = {\n",
    "    'tfidf__max_features': [5000, 10000],\n",
    "    'tfidf__ngram_range': [(1, 1), (1, 2), (1, 3)],\n",
    "    'cb__learning_rate': [0.01, 0.05, 0.1, 0.2],\n",
    "    'cb__max_depth': [2, 4, 8],\n",
    "    'cb__l2_leaf_reg': [1, 3]\n",
    "}"
   ]
  },
  {
   "cell_type": "code",
   "execution_count": 24,
   "metadata": {
    "ExecuteTime": {
     "end_time": "2023-05-18T07:06:01.317929Z",
     "start_time": "2023-05-18T07:06:01.304211Z"
    }
   },
   "outputs": [],
   "source": [
    "cb_rs = RandomizedSearchCV(cb_pipe,\n",
    "                           param_distributions=param_grid,\n",
    "                           scoring='f1',\n",
    "                           cv=4,\n",
    "                           n_iter=ITERATIONS,\n",
    "                           random_state=SEED,\n",
    "                           verbose=3)"
   ]
  },
  {
   "cell_type": "code",
   "execution_count": 25,
   "metadata": {
    "ExecuteTime": {
     "start_time": "2023-05-18T07:05:51.093Z"
    },
    "scrolled": false
   },
   "outputs": [
    {
     "name": "stdout",
     "output_type": "stream",
     "text": [
      "Fitting 4 folds for each of 5 candidates, totalling 20 fits\n",
      "0:\tlearn: 0.6624323\ttotal: 89.3ms\tremaining: 1m 29s\n",
      "500:\tlearn: 0.9675995\ttotal: 35.8s\tremaining: 35.7s\n",
      "999:\tlearn: 0.9848038\ttotal: 1m 10s\tremaining: 0us\n",
      "[CV 1/4] END cb__l2_leaf_reg=1, cb__learning_rate=0.1, cb__max_depth=8, tfidf__max_features=10000, tfidf__ngram_range=(1, 1);, score=0.757 total time= 1.3min\n",
      "0:\tlearn: 0.6973446\ttotal: 175ms\tremaining: 2m 55s\n",
      "500:\tlearn: 0.9684383\ttotal: 32.3s\tremaining: 32.2s\n",
      "999:\tlearn: 0.9851110\ttotal: 1m 3s\tremaining: 0us\n",
      "[CV 2/4] END cb__l2_leaf_reg=1, cb__learning_rate=0.1, cb__max_depth=8, tfidf__max_features=10000, tfidf__ngram_range=(1, 1);, score=0.756 total time= 1.2min\n",
      "0:\tlearn: 0.6619302\ttotal: 166ms\tremaining: 2m 45s\n",
      "500:\tlearn: 0.9687838\ttotal: 32.4s\tremaining: 32.3s\n",
      "999:\tlearn: 0.9847969\ttotal: 1m 3s\tremaining: 0us\n",
      "[CV 3/4] END cb__l2_leaf_reg=1, cb__learning_rate=0.1, cb__max_depth=8, tfidf__max_features=10000, tfidf__ngram_range=(1, 1);, score=0.754 total time= 1.2min\n",
      "0:\tlearn: 0.7056000\ttotal: 185ms\tremaining: 3m 4s\n",
      "500:\tlearn: 0.9684438\ttotal: 32s\tremaining: 31.9s\n",
      "999:\tlearn: 0.9850045\ttotal: 1m 2s\tremaining: 0us\n",
      "[CV 4/4] END cb__l2_leaf_reg=1, cb__learning_rate=0.1, cb__max_depth=8, tfidf__max_features=10000, tfidf__ngram_range=(1, 1);, score=0.760 total time= 1.2min\n",
      "0:\tlearn: 0.7045194\ttotal: 261ms\tremaining: 4m 21s\n",
      "500:\tlearn: 0.8700881\ttotal: 1m 5s\tremaining: 1m 4s\n",
      "999:\tlearn: 0.8958654\ttotal: 2m 2s\tremaining: 0us\n",
      "[CV 1/4] END cb__l2_leaf_reg=1, cb__learning_rate=0.01, cb__max_depth=8, tfidf__max_features=10000, tfidf__ngram_range=(1, 2);, score=0.654 total time= 2.3min\n",
      "0:\tlearn: 0.7556871\ttotal: 161ms\tremaining: 2m 40s\n",
      "500:\tlearn: 0.8693854\ttotal: 1m 13s\tremaining: 1m 12s\n",
      "999:\tlearn: 0.8958126\ttotal: 2m 18s\tremaining: 0us\n",
      "[CV 2/4] END cb__l2_leaf_reg=1, cb__learning_rate=0.01, cb__max_depth=8, tfidf__max_features=10000, tfidf__ngram_range=(1, 2);, score=0.650 total time= 2.5min\n",
      "0:\tlearn: 0.7151667\ttotal: 160ms\tremaining: 2m 39s\n",
      "500:\tlearn: 0.8700776\ttotal: 1m 12s\tremaining: 1m 12s\n",
      "999:\tlearn: 0.8963584\ttotal: 2m 10s\tremaining: 0us\n",
      "[CV 3/4] END cb__l2_leaf_reg=1, cb__learning_rate=0.01, cb__max_depth=8, tfidf__max_features=10000, tfidf__ngram_range=(1, 2);, score=0.650 total time= 2.4min\n",
      "0:\tlearn: 0.7001005\ttotal: 189ms\tremaining: 3m 9s\n",
      "500:\tlearn: 0.8688718\ttotal: 1m 4s\tremaining: 1m 3s\n",
      "999:\tlearn: 0.8967464\ttotal: 2m\tremaining: 0us\n",
      "[CV 4/4] END cb__l2_leaf_reg=1, cb__learning_rate=0.01, cb__max_depth=8, tfidf__max_features=10000, tfidf__ngram_range=(1, 2);, score=0.652 total time= 2.2min\n",
      "0:\tlearn: 0.6159101\ttotal: 10.4ms\tremaining: 10.3s\n",
      "500:\tlearn: 0.9083625\ttotal: 5.14s\tremaining: 5.12s\n",
      "999:\tlearn: 0.9318217\ttotal: 10.2s\tremaining: 0us\n",
      "[CV 1/4] END cb__l2_leaf_reg=3, cb__learning_rate=0.2, cb__max_depth=2, tfidf__max_features=5000, tfidf__ngram_range=(1, 2);, score=0.679 total time=  21.7s\n",
      "0:\tlearn: 0.6216819\ttotal: 10.4ms\tremaining: 10.4s\n",
      "500:\tlearn: 0.9086414\ttotal: 5.11s\tremaining: 5.08s\n",
      "999:\tlearn: 0.9305697\ttotal: 10.1s\tremaining: 0us\n",
      "[CV 2/4] END cb__l2_leaf_reg=3, cb__learning_rate=0.2, cb__max_depth=2, tfidf__max_features=5000, tfidf__ngram_range=(1, 2);, score=0.672 total time=  21.6s\n",
      "0:\tlearn: 0.6312782\ttotal: 10.2ms\tremaining: 10.2s\n",
      "500:\tlearn: 0.9083639\ttotal: 5.13s\tremaining: 5.11s\n",
      "999:\tlearn: 0.9306961\ttotal: 10.2s\tremaining: 0us\n",
      "[CV 3/4] END cb__l2_leaf_reg=3, cb__learning_rate=0.2, cb__max_depth=2, tfidf__max_features=5000, tfidf__ngram_range=(1, 2);, score=0.679 total time=  21.6s\n",
      "0:\tlearn: 0.6271119\ttotal: 10.7ms\tremaining: 10.7s\n",
      "500:\tlearn: 0.9110867\ttotal: 5.1s\tremaining: 5.08s\n",
      "999:\tlearn: 0.9323344\ttotal: 10.1s\tremaining: 0us\n",
      "[CV 4/4] END cb__l2_leaf_reg=3, cb__learning_rate=0.2, cb__max_depth=2, tfidf__max_features=5000, tfidf__ngram_range=(1, 2);, score=0.683 total time=  21.7s\n",
      "0:\tlearn: 0.7276113\ttotal: 57.8ms\tremaining: 57.7s\n",
      "500:\tlearn: 0.8976686\ttotal: 15.8s\tremaining: 15.8s\n",
      "999:\tlearn: 0.9196372\ttotal: 32s\tremaining: 0us\n",
      "[CV 1/4] END cb__l2_leaf_reg=1, cb__learning_rate=0.05, cb__max_depth=4, tfidf__max_features=10000, tfidf__ngram_range=(1, 2);, score=0.681 total time=  44.6s\n",
      "0:\tlearn: 0.6433289\ttotal: 35ms\tremaining: 35s\n",
      "500:\tlearn: 0.8983845\ttotal: 15.6s\tremaining: 15.6s\n",
      "999:\tlearn: 0.9185213\ttotal: 30.6s\tremaining: 0us\n",
      "[CV 2/4] END cb__l2_leaf_reg=1, cb__learning_rate=0.05, cb__max_depth=4, tfidf__max_features=10000, tfidf__ngram_range=(1, 2);, score=0.677 total time=  43.3s\n",
      "0:\tlearn: 0.6585935\ttotal: 32.5ms\tremaining: 32.4s\n",
      "500:\tlearn: 0.8989911\ttotal: 15.4s\tremaining: 15.3s\n",
      "999:\tlearn: 0.9200163\ttotal: 30.6s\tremaining: 0us\n",
      "[CV 3/4] END cb__l2_leaf_reg=1, cb__learning_rate=0.05, cb__max_depth=4, tfidf__max_features=10000, tfidf__ngram_range=(1, 2);, score=0.680 total time=  43.5s\n",
      "0:\tlearn: 0.6304343\ttotal: 41.4ms\tremaining: 41.3s\n",
      "500:\tlearn: 0.8993066\ttotal: 15.4s\tremaining: 15.3s\n",
      "999:\tlearn: 0.9194769\ttotal: 30.1s\tremaining: 0us\n",
      "[CV 4/4] END cb__l2_leaf_reg=1, cb__learning_rate=0.05, cb__max_depth=4, tfidf__max_features=10000, tfidf__ngram_range=(1, 2);, score=0.679 total time=  43.2s\n",
      "0:\tlearn: 0.6624323\ttotal: 131ms\tremaining: 2m 11s\n",
      "500:\tlearn: 0.9839687\ttotal: 32s\tremaining: 31.9s\n",
      "999:\tlearn: 0.9926787\ttotal: 1m 3s\tremaining: 0us\n",
      "[CV 1/4] END cb__l2_leaf_reg=1, cb__learning_rate=0.2, cb__max_depth=8, tfidf__max_features=10000, tfidf__ngram_range=(1, 1);, score=0.772 total time= 1.2min\n",
      "0:\tlearn: 0.6973446\ttotal: 91.4ms\tremaining: 1m 31s\n",
      "500:\tlearn: 0.9841566\ttotal: 31.6s\tremaining: 31.5s\n",
      "999:\tlearn: 0.9930626\ttotal: 1m 2s\tremaining: 0us\n",
      "[CV 2/4] END cb__l2_leaf_reg=1, cb__learning_rate=0.2, cb__max_depth=8, tfidf__max_features=10000, tfidf__ngram_range=(1, 1);, score=0.775 total time= 1.1min\n",
      "0:\tlearn: 0.6619302\ttotal: 164ms\tremaining: 2m 43s\n",
      "500:\tlearn: 0.9837045\ttotal: 32.6s\tremaining: 32.5s\n",
      "999:\tlearn: 0.9926402\ttotal: 1m 4s\tremaining: 0us\n",
      "[CV 3/4] END cb__l2_leaf_reg=1, cb__learning_rate=0.2, cb__max_depth=8, tfidf__max_features=10000, tfidf__ngram_range=(1, 1);, score=0.775 total time= 1.2min\n",
      "0:\tlearn: 0.7056000\ttotal: 129ms\tremaining: 2m 8s\n",
      "500:\tlearn: 0.9839688\ttotal: 32.2s\tremaining: 32.1s\n",
      "999:\tlearn: 0.9925583\ttotal: 1m 3s\tremaining: 0us\n",
      "[CV 4/4] END cb__l2_leaf_reg=1, cb__learning_rate=0.2, cb__max_depth=8, tfidf__max_features=10000, tfidf__ngram_range=(1, 1);, score=0.773 total time= 1.2min\n",
      "0:\tlearn: 0.7182775\ttotal: 230ms\tremaining: 3m 49s\n",
      "500:\tlearn: 0.9799748\ttotal: 37.6s\tremaining: 37.5s\n",
      "999:\tlearn: 0.9899433\ttotal: 1m 14s\tremaining: 0us\n",
      "CPU times: total: 16min 4s\n",
      "Wall time: 24min 32s\n"
     ]
    },
    {
     "data": {
      "text/html": [
       "<style>#sk-container-id-1 {color: black;background-color: white;}#sk-container-id-1 pre{padding: 0;}#sk-container-id-1 div.sk-toggleable {background-color: white;}#sk-container-id-1 label.sk-toggleable__label {cursor: pointer;display: block;width: 100%;margin-bottom: 0;padding: 0.3em;box-sizing: border-box;text-align: center;}#sk-container-id-1 label.sk-toggleable__label-arrow:before {content: \"▸\";float: left;margin-right: 0.25em;color: #696969;}#sk-container-id-1 label.sk-toggleable__label-arrow:hover:before {color: black;}#sk-container-id-1 div.sk-estimator:hover label.sk-toggleable__label-arrow:before {color: black;}#sk-container-id-1 div.sk-toggleable__content {max-height: 0;max-width: 0;overflow: hidden;text-align: left;background-color: #f0f8ff;}#sk-container-id-1 div.sk-toggleable__content pre {margin: 0.2em;color: black;border-radius: 0.25em;background-color: #f0f8ff;}#sk-container-id-1 input.sk-toggleable__control:checked~div.sk-toggleable__content {max-height: 200px;max-width: 100%;overflow: auto;}#sk-container-id-1 input.sk-toggleable__control:checked~label.sk-toggleable__label-arrow:before {content: \"▾\";}#sk-container-id-1 div.sk-estimator input.sk-toggleable__control:checked~label.sk-toggleable__label {background-color: #d4ebff;}#sk-container-id-1 div.sk-label input.sk-toggleable__control:checked~label.sk-toggleable__label {background-color: #d4ebff;}#sk-container-id-1 input.sk-hidden--visually {border: 0;clip: rect(1px 1px 1px 1px);clip: rect(1px, 1px, 1px, 1px);height: 1px;margin: -1px;overflow: hidden;padding: 0;position: absolute;width: 1px;}#sk-container-id-1 div.sk-estimator {font-family: monospace;background-color: #f0f8ff;border: 1px dotted black;border-radius: 0.25em;box-sizing: border-box;margin-bottom: 0.5em;}#sk-container-id-1 div.sk-estimator:hover {background-color: #d4ebff;}#sk-container-id-1 div.sk-parallel-item::after {content: \"\";width: 100%;border-bottom: 1px solid gray;flex-grow: 1;}#sk-container-id-1 div.sk-label:hover label.sk-toggleable__label {background-color: #d4ebff;}#sk-container-id-1 div.sk-serial::before {content: \"\";position: absolute;border-left: 1px solid gray;box-sizing: border-box;top: 0;bottom: 0;left: 50%;z-index: 0;}#sk-container-id-1 div.sk-serial {display: flex;flex-direction: column;align-items: center;background-color: white;padding-right: 0.2em;padding-left: 0.2em;position: relative;}#sk-container-id-1 div.sk-item {position: relative;z-index: 1;}#sk-container-id-1 div.sk-parallel {display: flex;align-items: stretch;justify-content: center;background-color: white;position: relative;}#sk-container-id-1 div.sk-item::before, #sk-container-id-1 div.sk-parallel-item::before {content: \"\";position: absolute;border-left: 1px solid gray;box-sizing: border-box;top: 0;bottom: 0;left: 50%;z-index: -1;}#sk-container-id-1 div.sk-parallel-item {display: flex;flex-direction: column;z-index: 1;position: relative;background-color: white;}#sk-container-id-1 div.sk-parallel-item:first-child::after {align-self: flex-end;width: 50%;}#sk-container-id-1 div.sk-parallel-item:last-child::after {align-self: flex-start;width: 50%;}#sk-container-id-1 div.sk-parallel-item:only-child::after {width: 0;}#sk-container-id-1 div.sk-dashed-wrapped {border: 1px dashed gray;margin: 0 0.4em 0.5em 0.4em;box-sizing: border-box;padding-bottom: 0.4em;background-color: white;}#sk-container-id-1 div.sk-label label {font-family: monospace;font-weight: bold;display: inline-block;line-height: 1.2em;}#sk-container-id-1 div.sk-label-container {text-align: center;}#sk-container-id-1 div.sk-container {/* jupyter's `normalize.less` sets `[hidden] { display: none; }` but bootstrap.min.css set `[hidden] { display: none !important; }` so we also need the `!important` here to be able to override the default hidden behavior on the sphinx rendered scikit-learn.org. See: https://github.com/scikit-learn/scikit-learn/issues/21755 */display: inline-block !important;position: relative;}#sk-container-id-1 div.sk-text-repr-fallback {display: none;}</style><div id=\"sk-container-id-1\" class=\"sk-top-container\"><div class=\"sk-text-repr-fallback\"><pre>RandomizedSearchCV(cv=4,\n",
       "                   estimator=Pipeline(steps=[(&#x27;tfidf&#x27;, TfidfVectorizer()),\n",
       "                                             (&#x27;cb&#x27;,\n",
       "                                              &lt;catboost.core.CatBoostClassifier object at 0x000001ADD3BC4A50&gt;)]),\n",
       "                   n_iter=5,\n",
       "                   param_distributions={&#x27;cb__l2_leaf_reg&#x27;: [1, 3],\n",
       "                                        &#x27;cb__learning_rate&#x27;: [0.01, 0.05, 0.1,\n",
       "                                                              0.2],\n",
       "                                        &#x27;cb__max_depth&#x27;: [2, 4, 8],\n",
       "                                        &#x27;tfidf__max_features&#x27;: [5000, 10000],\n",
       "                                        &#x27;tfidf__ngram_range&#x27;: [(1, 1), (1, 2),\n",
       "                                                               (1, 3)]},\n",
       "                   random_state=12345, scoring=&#x27;f1&#x27;, verbose=3)</pre><b>In a Jupyter environment, please rerun this cell to show the HTML representation or trust the notebook. <br />On GitHub, the HTML representation is unable to render, please try loading this page with nbviewer.org.</b></div><div class=\"sk-container\" hidden><div class=\"sk-item sk-dashed-wrapped\"><div class=\"sk-label-container\"><div class=\"sk-label sk-toggleable\"><input class=\"sk-toggleable__control sk-hidden--visually\" id=\"sk-estimator-id-1\" type=\"checkbox\" ><label for=\"sk-estimator-id-1\" class=\"sk-toggleable__label sk-toggleable__label-arrow\">RandomizedSearchCV</label><div class=\"sk-toggleable__content\"><pre>RandomizedSearchCV(cv=4,\n",
       "                   estimator=Pipeline(steps=[(&#x27;tfidf&#x27;, TfidfVectorizer()),\n",
       "                                             (&#x27;cb&#x27;,\n",
       "                                              &lt;catboost.core.CatBoostClassifier object at 0x000001ADD3BC4A50&gt;)]),\n",
       "                   n_iter=5,\n",
       "                   param_distributions={&#x27;cb__l2_leaf_reg&#x27;: [1, 3],\n",
       "                                        &#x27;cb__learning_rate&#x27;: [0.01, 0.05, 0.1,\n",
       "                                                              0.2],\n",
       "                                        &#x27;cb__max_depth&#x27;: [2, 4, 8],\n",
       "                                        &#x27;tfidf__max_features&#x27;: [5000, 10000],\n",
       "                                        &#x27;tfidf__ngram_range&#x27;: [(1, 1), (1, 2),\n",
       "                                                               (1, 3)]},\n",
       "                   random_state=12345, scoring=&#x27;f1&#x27;, verbose=3)</pre></div></div></div><div class=\"sk-parallel\"><div class=\"sk-parallel-item\"><div class=\"sk-item\"><div class=\"sk-label-container\"><div class=\"sk-label sk-toggleable\"><input class=\"sk-toggleable__control sk-hidden--visually\" id=\"sk-estimator-id-2\" type=\"checkbox\" ><label for=\"sk-estimator-id-2\" class=\"sk-toggleable__label sk-toggleable__label-arrow\">estimator: Pipeline</label><div class=\"sk-toggleable__content\"><pre>Pipeline(steps=[(&#x27;tfidf&#x27;, TfidfVectorizer()),\n",
       "                (&#x27;cb&#x27;,\n",
       "                 &lt;catboost.core.CatBoostClassifier object at 0x000001ADD3BC4A50&gt;)])</pre></div></div></div><div class=\"sk-serial\"><div class=\"sk-item\"><div class=\"sk-serial\"><div class=\"sk-item\"><div class=\"sk-estimator sk-toggleable\"><input class=\"sk-toggleable__control sk-hidden--visually\" id=\"sk-estimator-id-3\" type=\"checkbox\" ><label for=\"sk-estimator-id-3\" class=\"sk-toggleable__label sk-toggleable__label-arrow\">TfidfVectorizer</label><div class=\"sk-toggleable__content\"><pre>TfidfVectorizer()</pre></div></div></div><div class=\"sk-item\"><div class=\"sk-estimator sk-toggleable\"><input class=\"sk-toggleable__control sk-hidden--visually\" id=\"sk-estimator-id-4\" type=\"checkbox\" ><label for=\"sk-estimator-id-4\" class=\"sk-toggleable__label sk-toggleable__label-arrow\">CatBoostClassifier</label><div class=\"sk-toggleable__content\"><pre>&lt;catboost.core.CatBoostClassifier object at 0x000001ADD3BC4A50&gt;</pre></div></div></div></div></div></div></div></div></div></div></div></div>"
      ],
      "text/plain": [
       "RandomizedSearchCV(cv=4,\n",
       "                   estimator=Pipeline(steps=[('tfidf', TfidfVectorizer()),\n",
       "                                             ('cb',\n",
       "                                              <catboost.core.CatBoostClassifier object at 0x000001ADD3BC4A50>)]),\n",
       "                   n_iter=5,\n",
       "                   param_distributions={'cb__l2_leaf_reg': [1, 3],\n",
       "                                        'cb__learning_rate': [0.01, 0.05, 0.1,\n",
       "                                                              0.2],\n",
       "                                        'cb__max_depth': [2, 4, 8],\n",
       "                                        'tfidf__max_features': [5000, 10000],\n",
       "                                        'tfidf__ngram_range': [(1, 1), (1, 2),\n",
       "                                                               (1, 3)]},\n",
       "                   random_state=12345, scoring='f1', verbose=3)"
      ]
     },
     "execution_count": 25,
     "metadata": {},
     "output_type": "execute_result"
    }
   ],
   "source": [
    "%%time\n",
    "cb_rs.fit(x_train, y_train)"
   ]
  },
  {
   "cell_type": "code",
   "execution_count": 26,
   "metadata": {
    "ExecuteTime": {
     "start_time": "2023-05-18T07:05:51.093Z"
    }
   },
   "outputs": [
    {
     "data": {
      "text/plain": [
       "{'tfidf__ngram_range': (1, 1),\n",
       " 'tfidf__max_features': 10000,\n",
       " 'cb__max_depth': 8,\n",
       " 'cb__learning_rate': 0.2,\n",
       " 'cb__l2_leaf_reg': 1}"
      ]
     },
     "execution_count": 26,
     "metadata": {},
     "output_type": "execute_result"
    }
   ],
   "source": [
    "cb_rs.best_params_"
   ]
  },
  {
   "cell_type": "code",
   "execution_count": 27,
   "metadata": {
    "ExecuteTime": {
     "start_time": "2023-05-18T07:05:51.094Z"
    }
   },
   "outputs": [
    {
     "data": {
      "text/plain": [
       "0.7739454140760829"
      ]
     },
     "execution_count": 27,
     "metadata": {},
     "output_type": "execute_result"
    }
   ],
   "source": [
    "cb_rs.best_score_"
   ]
  },
  {
   "cell_type": "code",
   "execution_count": 28,
   "metadata": {
    "ExecuteTime": {
     "start_time": "2023-05-18T07:05:51.095Z"
    }
   },
   "outputs": [
    {
     "name": "stdout",
     "output_type": "stream",
     "text": [
      "Метрика F1 для кросс-валидации CatBoost + TF-IDF 0.7739454140760829\n"
     ]
    }
   ],
   "source": [
    "print(f'Метрика F1 для кросс-валидации CatBoost + TF-IDF', cb_rs.best_score_)"
   ]
  },
  {
   "attachments": {},
   "cell_type": "markdown",
   "metadata": {
    "ExecuteTime": {
     "end_time": "2023-05-02T05:11:44.294944Z",
     "start_time": "2023-05-02T05:11:44.294944Z"
    }
   },
   "source": [
    "### BERT Embedding"
   ]
  },
  {
   "attachments": {},
   "cell_type": "markdown",
   "metadata": {
    "ExecuteTime": {
     "end_time": "2023-05-02T05:27:42.947705Z",
     "start_time": "2023-05-02T05:27:42.936324Z"
    }
   },
   "source": [
    "Будем использовать предобученную модель `unitary/toxic-bert`:"
   ]
  },
  {
   "cell_type": "code",
   "execution_count": 29,
   "metadata": {
    "ExecuteTime": {
     "start_time": "2023-05-18T07:05:51.096Z"
    }
   },
   "outputs": [
    {
     "name": "stderr",
     "output_type": "stream",
     "text": [
      "Some weights of the model checkpoint at unitary/toxic-bert were not used when initializing BertModel: ['classifier.bias', 'classifier.weight']\n",
      "- This IS expected if you are initializing BertModel from the checkpoint of a model trained on another task or with another architecture (e.g. initializing a BertForSequenceClassification model from a BertForPreTraining model).\n",
      "- This IS NOT expected if you are initializing BertModel from the checkpoint of a model that you expect to be exactly identical (initializing a BertForSequenceClassification model from a BertForSequenceClassification model).\n"
     ]
    }
   ],
   "source": [
    "model_name = 'unitary/toxic-bert'\n",
    "tokenizer = transformers.AutoTokenizer.from_pretrained(model_name)\n",
    "model = transformers.AutoModel.from_pretrained(model_name)"
   ]
  },
  {
   "attachments": {},
   "cell_type": "markdown",
   "metadata": {},
   "source": [
    "Готовим список инпутов и attention_masks для каждого предложения столбца `lemm` в датафрейме df. Берем сырой текст без предобработки. На выходе два тензора для передачи в модель BERT:\n",
    "- Ограничим длину строки max_length = 256\n",
    "- Добавляем специальные токены начала и конца предложения\n",
    "- Выполняем паддинг и возвращаем данные в виде тензоров `PyTorch`"
   ]
  },
  {
   "cell_type": "code",
   "execution_count": 30,
   "metadata": {
    "ExecuteTime": {
     "start_time": "2023-05-18T07:05:51.097Z"
    }
   },
   "outputs": [
    {
     "name": "stderr",
     "output_type": "stream",
     "text": [
      "  0%|          | 0/159281 [00:00<?, ?it/s]c:\\ProgramData\\anaconda3\\envs\\py311\\Lib\\site-packages\\transformers\\tokenization_utils_base.py:2364: FutureWarning: The `pad_to_max_length` argument is deprecated and will be removed in a future version, use `padding=True` or `padding='longest'` to pad to the longest sequence in the batch, or use `padding='max_length'` to pad to a max length. In this case, you can give a specific length with `max_length` (e.g. `max_length=45`) or leave max_length to None to pad to the maximal input size of the model (e.g. 512 for Bert).\n",
      "  warnings.warn(\n",
      "100%|██████████| 159281/159281 [01:11<00:00, 2231.90it/s]\n"
     ]
    },
    {
     "name": "stdout",
     "output_type": "stream",
     "text": [
      "CPU times: total: 31 s\n",
      "Wall time: 1min 11s\n"
     ]
    },
    {
     "data": {
      "text/plain": [
       "(torch.Size([159281, 256]), torch.Size([159281, 256]))"
      ]
     },
     "execution_count": 30,
     "metadata": {},
     "output_type": "execute_result"
    }
   ],
   "source": [
    "%%time\n",
    "input_ids = []\n",
    "attention_masks = []\n",
    "\n",
    "for sentence in tqdm(df['text']):\n",
    "    encoded_dict = tokenizer.encode_plus(\n",
    "        sentence,\n",
    "        add_special_tokens=True,\n",
    "        max_length=256,\n",
    "        truncation=True,\n",
    "        pad_to_max_length='longest',\n",
    "        return_attention_mask=True,\n",
    "        return_tensors='pt'\n",
    "    )\n",
    "    input_ids.append(encoded_dict['input_ids'])\n",
    "    attention_masks.append(encoded_dict['attention_mask'])\n",
    "\n",
    "input_ids = torch.cat(input_ids, dim=0)\n",
    "attention_masks = torch.cat(attention_masks, dim=0)\n",
    "input_ids.shape, attention_masks.shape"
   ]
  },
  {
   "attachments": {},
   "cell_type": "markdown",
   "metadata": {},
   "source": [
    "Собираем эмбеддинги из тензора `PyTorch` в датафрейм features:"
   ]
  },
  {
   "cell_type": "code",
   "execution_count": 31,
   "metadata": {
    "ExecuteTime": {
     "start_time": "2023-05-18T07:05:51.098Z"
    }
   },
   "outputs": [
    {
     "name": "stderr",
     "output_type": "stream",
     "text": [
      "100%|██████████| 107/107 [07:28<00:00,  4.19s/it]\n"
     ]
    },
    {
     "name": "stdout",
     "output_type": "stream",
     "text": [
      "CPU times: total: 4min 9s\n",
      "Wall time: 7min 28s\n"
     ]
    }
   ],
   "source": [
    "%%time\n",
    "batch_size = 1500\n",
    "embeddings = []\n",
    "with torch.no_grad():\n",
    "    for i in tqdm(range(0, len(df), batch_size)):\n",
    "        input_ids_batch = input_ids[i:i+batch_size].to(device)\n",
    "        attention_masks_batch = attention_masks[i:i+batch_size].to(device)\n",
    "        embeddings_batch = model.to(device)(input_ids_batch, attention_mask=attention_masks_batch)\n",
    "        embeddings.append(embeddings_batch[0][:,0,:].cpu().numpy())\n",
    "        del input_ids_batch\n",
    "        del attention_masks_batch\n",
    "        del embeddings_batch\n",
    "features = np.concatenate(embeddings)\n",
    "# clear gpu memory and embeddings cache\n",
    "torch.cuda.empty_cache()\n",
    "gc.collect()\n",
    "del embeddings"
   ]
  },
  {
   "attachments": {},
   "cell_type": "markdown",
   "metadata": {},
   "source": [
    "Готовим выборки фич на основе BERT:"
   ]
  },
  {
   "cell_type": "code",
   "execution_count": 32,
   "metadata": {
    "ExecuteTime": {
     "start_time": "2023-05-18T07:05:51.098Z"
    }
   },
   "outputs": [
    {
     "data": {
      "text/plain": [
       "((119460, 768), (39821, 768))"
      ]
     },
     "execution_count": 32,
     "metadata": {},
     "output_type": "execute_result"
    }
   ],
   "source": [
    "x_train_bert, x_test_bert = train_test_split(features, test_size=0.25, random_state=SEED)\n",
    "x_train_bert.shape, x_test_bert.shape"
   ]
  },
  {
   "attachments": {},
   "cell_type": "markdown",
   "metadata": {
    "ExecuteTime": {
     "end_time": "2023-05-02T10:25:22.549216Z",
     "start_time": "2023-05-02T10:25:22.539510Z"
    }
   },
   "source": [
    "### CatBoost + BERT"
   ]
  },
  {
   "attachments": {},
   "cell_type": "markdown",
   "metadata": {},
   "source": [
    "Повторяем рандом серч с фичами BERT:"
   ]
  },
  {
   "cell_type": "code",
   "execution_count": 33,
   "metadata": {
    "ExecuteTime": {
     "start_time": "2023-05-18T07:05:51.100Z"
    }
   },
   "outputs": [],
   "source": [
    "cbc_bert = CatBoostClassifier(random_state=SEED,\n",
    "                         task_type='GPU',\n",
    "                         scale_pos_weight=SCALE,\n",
    "                         verbose=500,\n",
    "                         iterations=1000,\n",
    "                         eval_metric='F1')"
   ]
  },
  {
   "cell_type": "code",
   "execution_count": 34,
   "metadata": {
    "ExecuteTime": {
     "start_time": "2023-05-18T07:05:51.100Z"
    }
   },
   "outputs": [],
   "source": [
    "parameters = {'learning_rate': [0.01, 0.05, 0.1, 0.2],\n",
    "              'max_depth': [2, 4, 8],\n",
    "              'l2_leaf_reg': [1, 3]\n",
    "              }"
   ]
  },
  {
   "cell_type": "code",
   "execution_count": 35,
   "metadata": {
    "ExecuteTime": {
     "start_time": "2023-05-18T07:05:51.101Z"
    },
    "scrolled": false
   },
   "outputs": [
    {
     "name": "stdout",
     "output_type": "stream",
     "text": [
      "0:\tlearn: 0.9808045\ttest: 0.9806757\tbest: 0.9806757 (0)\ttotal: 33.6ms\tremaining: 33.6s\n",
      "500:\tlearn: 0.9910606\ttest: 0.9829804\tbest: 0.9838235 (92)\ttotal: 18s\tremaining: 17.9s\n",
      "999:\tlearn: 0.9922121\ttest: 0.9831425\tbest: 0.9838235 (92)\ttotal: 35.8s\tremaining: 0us\n",
      "bestTest = 0.9838234613\n",
      "bestIteration = 92\n",
      "0:\tloss: 0.9838235\tbest: 0.9838235 (0)\ttotal: 36.6s\tremaining: 2m 26s\n",
      "0:\tlearn: 0.9830986\ttest: 0.9810707\tbest: 0.9810707 (0)\ttotal: 180ms\tremaining: 2m 59s\n",
      "500:\tlearn: 0.9889259\ttest: 0.9834237\tbest: 0.9834686 (366)\ttotal: 1m 33s\tremaining: 1m 33s\n",
      "999:\tlearn: 0.9918848\ttest: 0.9827641\tbest: 0.9836960 (522)\ttotal: 3m 9s\tremaining: 0us\n",
      "bestTest = 0.9836959897\n",
      "bestIteration = 522\n",
      "1:\tloss: 0.9836960\tbest: 0.9838235 (0)\ttotal: 3m 45s\tremaining: 5m 38s\n",
      "0:\tlearn: 0.9830986\ttest: 0.9810707\tbest: 0.9810707 (0)\ttotal: 191ms\tremaining: 3m 11s\n",
      "500:\tlearn: 0.9945154\ttest: 0.9819946\tbest: 0.9835377 (20)\ttotal: 1m 36s\tremaining: 1m 35s\n",
      "999:\tlearn: 0.9957227\ttest: 0.9802992\tbest: 0.9835377 (20)\ttotal: 3m 13s\tremaining: 0us\n",
      "bestTest = 0.9835376847\n",
      "bestIteration = 20\n",
      "2:\tloss: 0.9835377\tbest: 0.9838235 (0)\ttotal: 6m 59s\tremaining: 4m 39s\n",
      "0:\tlearn: 0.9830986\ttest: 0.9810707\tbest: 0.9810707 (0)\ttotal: 191ms\tremaining: 3m 10s\n",
      "500:\tlearn: 0.9959800\ttest: 0.9807103\tbest: 0.9831964 (18)\ttotal: 2m 5s\tremaining: 2m 5s\n",
      "999:\tlearn: 0.9967989\ttest: 0.9782478\tbest: 0.9831964 (18)\ttotal: 3m 49s\tremaining: 0us\n",
      "bestTest = 0.9831963919\n",
      "bestIteration = 18\n",
      "3:\tloss: 0.9831964\tbest: 0.9838235 (0)\ttotal: 10m 49s\tremaining: 2m 42s\n",
      "0:\tlearn: 0.9831351\ttest: 0.9812607\tbest: 0.9812607 (0)\ttotal: 177ms\tremaining: 2m 56s\n",
      "500:\tlearn: 0.9938795\ttest: 0.9820859\tbest: 0.9829110 (37)\ttotal: 1m 30s\tremaining: 1m 30s\n",
      "999:\tlearn: 0.9946848\ttest: 0.9815415\tbest: 0.9829110 (37)\ttotal: 3m\tremaining: 0us\n",
      "bestTest = 0.9829110029\n",
      "bestIteration = 37\n",
      "4:\tloss: 0.9829110\tbest: 0.9838235 (0)\ttotal: 13m 50s\tremaining: 0us\n",
      "Estimating final quality...\n",
      "Training on fold [0/4]\n",
      "0:\tlearn: 0.9811510\ttest: 0.9815135\tbest: 0.9815135 (0)\ttotal: 38.3ms\tremaining: 38.3s\n",
      "500:\tlearn: 0.9914461\ttest: 0.9837851\tbest: 0.9839709 (452)\ttotal: 17.8s\tremaining: 17.7s\n",
      "999:\tlearn: 0.9928373\ttest: 0.9839274\tbest: 0.9843784 (823)\ttotal: 35.4s\tremaining: 0us\n",
      "bestTest = 0.984378424\n",
      "bestIteration = 823\n",
      "Training on fold [1/4]\n",
      "0:\tlearn: 0.9817948\ttest: 0.9781483\tbest: 0.9781483 (0)\ttotal: 32.8ms\tremaining: 32.8s\n",
      "500:\tlearn: 0.9916707\ttest: 0.9802435\tbest: 0.9814559 (105)\ttotal: 17.7s\tremaining: 17.6s\n",
      "999:\tlearn: 0.9930833\ttest: 0.9799525\tbest: 0.9814559 (105)\ttotal: 35.1s\tremaining: 0us\n",
      "bestTest = 0.9814559317\n",
      "bestIteration = 105\n",
      "Training on fold [2/4]\n",
      "0:\tlearn: 0.9810035\ttest: 0.9804207\tbest: 0.9804207 (0)\ttotal: 34ms\tremaining: 34s\n",
      "500:\tlearn: 0.9906299\ttest: 0.9844263\tbest: 0.9844804 (333)\ttotal: 17.8s\tremaining: 17.7s\n",
      "999:\tlearn: 0.9923770\ttest: 0.9843040\tbest: 0.9845713 (823)\ttotal: 35.2s\tremaining: 0us\n",
      "bestTest = 0.9845713301\n",
      "bestIteration = 823\n",
      "Training on fold [3/4]\n",
      "0:\tlearn: 0.9808175\ttest: 0.9815426\tbest: 0.9815426 (0)\ttotal: 32.4ms\tremaining: 32.4s\n",
      "500:\tlearn: 0.9911067\ttest: 0.9837796\tbest: 0.9842778 (74)\ttotal: 18.1s\tremaining: 18s\n",
      "999:\tlearn: 0.9922511\ttest: 0.9833724\tbest: 0.9842778 (74)\ttotal: 36s\tremaining: 0us\n",
      "bestTest = 0.9842777875\n",
      "bestIteration = 74\n",
      "CPU times: total: 8min 57s\n",
      "Wall time: 16min 27s\n"
     ]
    }
   ],
   "source": [
    "%%time\n",
    "cbc_bert_rs = cbc_bert.randomized_search(parameters,\n",
    "                                         X=x_train_bert,\n",
    "                                         y=y_train,\n",
    "                                         n_iter=ITERATIONS,\n",
    "                                         cv=4,\n",
    "                                         partition_random_seed=SEED,\n",
    "                                         verbose=1)"
   ]
  },
  {
   "cell_type": "code",
   "execution_count": 36,
   "metadata": {
    "ExecuteTime": {
     "start_time": "2023-05-18T07:05:51.102Z"
    }
   },
   "outputs": [
    {
     "data": {
      "text/plain": [
       "{'depth': 4, 'l2_leaf_reg': 3, 'learning_rate': 0.05}"
      ]
     },
     "execution_count": 36,
     "metadata": {},
     "output_type": "execute_result"
    }
   ],
   "source": [
    "cbc_bert_rs['params']"
   ]
  },
  {
   "cell_type": "code",
   "execution_count": 37,
   "metadata": {
    "ExecuteTime": {
     "start_time": "2023-05-18T07:05:51.102Z"
    }
   },
   "outputs": [
    {
     "name": "stdout",
     "output_type": "stream",
     "text": [
      "Метрика F1 для кросс-валидации CatBoostClassifier+BERT 0.9832038647250886\n"
     ]
    }
   ],
   "source": [
    "print(f'Метрика F1 для кросс-валидации CatBoostClassifier+BERT', max(cbc_bert_rs['cv_results']['test-F1-mean']))"
   ]
  },
  {
   "attachments": {},
   "cell_type": "markdown",
   "metadata": {},
   "source": [
    "### Сравнение результатов обучения"
   ]
  },
  {
   "cell_type": "code",
   "execution_count": 38,
   "metadata": {
    "ExecuteTime": {
     "start_time": "2023-05-18T07:05:51.103Z"
    },
    "scrolled": true
   },
   "outputs": [
    {
     "data": {
      "text/html": [
       "<div>\n",
       "<style scoped>\n",
       "    .dataframe tbody tr th:only-of-type {\n",
       "        vertical-align: middle;\n",
       "    }\n",
       "\n",
       "    .dataframe tbody tr th {\n",
       "        vertical-align: top;\n",
       "    }\n",
       "\n",
       "    .dataframe thead th {\n",
       "        text-align: right;\n",
       "    }\n",
       "</style>\n",
       "<table border=\"1\" class=\"dataframe\">\n",
       "  <thead>\n",
       "    <tr style=\"text-align: right;\">\n",
       "      <th></th>\n",
       "      <th>F1-score</th>\n",
       "    </tr>\n",
       "  </thead>\n",
       "  <tbody>\n",
       "    <tr>\n",
       "      <th>CB+TFIDF</th>\n",
       "      <td>0.773945</td>\n",
       "    </tr>\n",
       "    <tr>\n",
       "      <th>CB+BERT</th>\n",
       "      <td>0.983204</td>\n",
       "    </tr>\n",
       "  </tbody>\n",
       "</table>\n",
       "</div>"
      ],
      "text/plain": [
       "            F1-score\n",
       "LGBM+TFIDF  0.773945\n",
       "CB+BERT     0.983204"
      ]
     },
     "execution_count": 38,
     "metadata": {},
     "output_type": "execute_result"
    }
   ],
   "source": [
    "result = pd.DataFrame({'F1-score' : [cb_rs.best_score_, max(cbc_bert_rs['cv_results']['test-F1-mean'])]},\n",
    "                                     index=['CB+TFIDF', 'CB+BERT'])\n",
    "result"
   ]
  },
  {
   "attachments": {},
   "cell_type": "markdown",
   "metadata": {},
   "source": [
    "С фичами BERT валидационный скор выше."
   ]
  },
  {
   "attachments": {},
   "cell_type": "markdown",
   "metadata": {},
   "source": [
    "## Проверка на тесте"
   ]
  },
  {
   "attachments": {},
   "cell_type": "markdown",
   "metadata": {
    "ExecuteTime": {
     "end_time": "2023-05-03T08:48:32.167076Z",
     "start_time": "2023-05-03T08:48:32.148635Z"
    }
   },
   "source": [
    "Лучшей моделью по валидации выбрана CatBoostClassifier + Bert Embedding:"
   ]
  },
  {
   "cell_type": "code",
   "execution_count": 39,
   "metadata": {
    "ExecuteTime": {
     "start_time": "2023-05-18T07:05:51.104Z"
    }
   },
   "outputs": [],
   "source": [
    "cbc_bert = CatBoostClassifier(iterations=1000,\n",
    "                              random_state=SEED,\n",
    "                              task_type='GPU',\n",
    "                              scale_pos_weight=SCALE,\n",
    "                              verbose=False,\n",
    "                              eval_metric='F1',\n",
    "                              **cbc_bert_rs['params'])"
   ]
  },
  {
   "cell_type": "code",
   "execution_count": 40,
   "metadata": {
    "ExecuteTime": {
     "start_time": "2023-05-18T07:05:51.106Z"
    }
   },
   "outputs": [
    {
     "data": {
      "application/vnd.jupyter.widget-view+json": {
       "model_id": "27cfd987e4404c74be02e5a1c4a71871",
       "version_major": 2,
       "version_minor": 0
      },
      "text/plain": [
       "MetricVisualizer(layout=Layout(align_self='stretch', height='500px'))"
      ]
     },
     "metadata": {},
     "output_type": "display_data"
    },
    {
     "name": "stdout",
     "output_type": "stream",
     "text": [
      "0:\tlearn: 0.9811808\ttest: 0.9793088\tbest: 0.9793088 (0)\ttotal: 7.45ms\tremaining: 7.44s\n",
      "200:\tlearn: 0.9869334\ttest: 0.9809753\tbest: 0.9821268 (9)\ttotal: 1.27s\tremaining: 5.04s\n",
      "400:\tlearn: 0.9901533\ttest: 0.9808246\tbest: 0.9821268 (9)\ttotal: 2.54s\tremaining: 3.79s\n",
      "600:\tlearn: 0.9923747\ttest: 0.9810953\tbest: 0.9821268 (9)\ttotal: 3.79s\tremaining: 2.52s\n",
      "800:\tlearn: 0.9934723\ttest: 0.9807795\tbest: 0.9821268 (9)\ttotal: 5.05s\tremaining: 1.25s\n",
      "999:\tlearn: 0.9941021\ttest: 0.9799980\tbest: 0.9821268 (9)\ttotal: 6.3s\tremaining: 0us\n",
      "bestTest = 0.9821267821\n",
      "bestIteration = 9\n",
      "Shrink model to first 10 iterations.\n"
     ]
    },
    {
     "data": {
      "text/plain": [
       "<catboost.core.CatBoostClassifier at 0x1ae1a9e63d0>"
      ]
     },
     "execution_count": 40,
     "metadata": {},
     "output_type": "execute_result"
    }
   ],
   "source": [
    "cbc_bert.fit(x_train_bert, y_train, eval_set=(x_test_bert, y_test), verbose=200, plot=True)"
   ]
  },
  {
   "cell_type": "code",
   "execution_count": 41,
   "metadata": {
    "ExecuteTime": {
     "start_time": "2023-05-18T07:05:51.107Z"
    }
   },
   "outputs": [
    {
     "data": {
      "text/plain": [
       "0.9821267820768207"
      ]
     },
     "execution_count": 41,
     "metadata": {},
     "output_type": "execute_result"
    }
   ],
   "source": [
    "cbc_bert.best_score_['validation']['F1']"
   ]
  },
  {
   "attachments": {},
   "cell_type": "markdown",
   "metadata": {
    "ExecuteTime": {
     "end_time": "2023-05-02T11:02:46.839417Z",
     "start_time": "2023-05-02T11:02:46.839417Z"
    }
   },
   "source": [
    "**Модель CatBoost + BERT прошла проверку на F1 > 0.75**"
   ]
  },
  {
   "attachments": {},
   "cell_type": "markdown",
   "metadata": {},
   "source": [
    "## Выводы"
   ]
  },
  {
   "attachments": {},
   "cell_type": "markdown",
   "metadata": {},
   "source": [
    "**Выводы** \n",
    "- Протестированы два подхода к созданию фич для NLP: TF-IDF, BERT эмбеддинг\n",
    "- Обучены модели с применением рандом-серча параметров и кросс-валидации\n",
    "- Лучшей моделью показала себя CatBoostClassifier + Bert Embedding с тестовым скором 0.88"
   ]
  },
  {
   "cell_type": "code",
   "execution_count": null,
   "metadata": {},
   "outputs": [],
   "source": []
  }
 ],
 "metadata": {
  "kernelspec": {
   "display_name": "Python 3 (ipykernel)",
   "language": "python",
   "name": "python3"
  },
  "language_info": {
   "codemirror_mode": {
    "name": "ipython",
    "version": 3
   },
   "file_extension": ".py",
   "mimetype": "text/x-python",
   "name": "python",
   "nbconvert_exporter": "python",
   "pygments_lexer": "ipython3",
   "version": "3.11.3"
  },
  "toc": {
   "base_numbering": 1,
   "nav_menu": {},
   "number_sections": true,
   "sideBar": true,
   "skip_h1_title": true,
   "title_cell": "Содержание",
   "title_sidebar": "Contents",
   "toc_cell": true,
   "toc_position": {
    "height": "1109.33px",
    "left": "34px",
    "top": "110.229px",
    "width": "445.625px"
   },
   "toc_section_display": true,
   "toc_window_display": true
  },
  "varInspector": {
   "cols": {
    "lenName": 16,
    "lenType": 16,
    "lenVar": 40
   },
   "kernels_config": {
    "python": {
     "delete_cmd_postfix": "",
     "delete_cmd_prefix": "del ",
     "library": "var_list.py",
     "varRefreshCmd": "print(var_dic_list())"
    },
    "r": {
     "delete_cmd_postfix": ") ",
     "delete_cmd_prefix": "rm(",
     "library": "var_list.r",
     "varRefreshCmd": "cat(var_dic_list()) "
    }
   },
   "types_to_exclude": [
    "module",
    "function",
    "builtin_function_or_method",
    "instance",
    "_Feature"
   ],
   "window_display": false
  }
 },
 "nbformat": 4,
 "nbformat_minor": 2
}
