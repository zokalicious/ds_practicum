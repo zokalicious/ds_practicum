{
 "cells": [
  {
   "cell_type": "markdown",
   "metadata": {
    "toc": true
   },
   "source": [
    "<h1>Содержание<span class=\"tocSkip\"></span></h1>\n",
    "<div class=\"toc\"><ul class=\"toc-item\"><li><span><a href=\"#Подготовка\" data-toc-modified-id=\"Подготовка-1\"><span class=\"toc-item-num\">1&nbsp;&nbsp;</span>Подготовка</a></span><ul class=\"toc-item\"><li><span><a href=\"#Глобальные-параметры\" data-toc-modified-id=\"Глобальные-параметры-1.1\"><span class=\"toc-item-num\">1.1&nbsp;&nbsp;</span>Глобальные параметры</a></span></li><li><span><a href=\"#Библиотеки-для-работы\" data-toc-modified-id=\"Библиотеки-для-работы-1.2\"><span class=\"toc-item-num\">1.2&nbsp;&nbsp;</span>Библиотеки для работы</a></span></li><li><span><a href=\"#Загрузка-датасета\" data-toc-modified-id=\"Загрузка-датасета-1.3\"><span class=\"toc-item-num\">1.3&nbsp;&nbsp;</span>Загрузка датасета</a></span></li><li><span><a href=\"#Оценка-баланса-классов-в-таргете\" data-toc-modified-id=\"Оценка-баланса-классов-в-таргете-1.4\"><span class=\"toc-item-num\">1.4&nbsp;&nbsp;</span>Оценка баланса классов в таргете</a></span></li><li><span><a href=\"#Лемматизация\" data-toc-modified-id=\"Лемматизация-1.5\"><span class=\"toc-item-num\">1.5&nbsp;&nbsp;</span>Лемматизация</a></span></li><li><span><a href=\"#Проверка-на-дубликаты-и-пропуски-в-лемматизированном-датасете\" data-toc-modified-id=\"Проверка-на-дубликаты-и-пропуски-в-лемматизированном-датасете-1.6\"><span class=\"toc-item-num\">1.6&nbsp;&nbsp;</span>Проверка на дубликаты и пропуски в лемматизированном датасете</a></span></li><li><span><a href=\"#Итоговый-датасет-перед-обучением-моделей\" data-toc-modified-id=\"Итоговый-датасет-перед-обучением-моделей-1.7\"><span class=\"toc-item-num\">1.7&nbsp;&nbsp;</span>Итоговый датасет перед обучением моделей</a></span></li></ul></li><li><span><a href=\"#Обучение\" data-toc-modified-id=\"Обучение-2\"><span class=\"toc-item-num\">2&nbsp;&nbsp;</span>Обучение</a></span><ul class=\"toc-item\"><li><span><a href=\"#Подготовка-фич-через-TF-IDF\" data-toc-modified-id=\"Подготовка-фич-через-TF-IDF-2.1\"><span class=\"toc-item-num\">2.1&nbsp;&nbsp;</span>Подготовка фич через TF-IDF</a></span></li><li><span><a href=\"#CatBoost-+-TF-IDF\" data-toc-modified-id=\"CatBoost-+-TF-IDF-2.2\"><span class=\"toc-item-num\">2.2&nbsp;&nbsp;</span>CatBoost + TF-IDF</a></span></li><li><span><a href=\"#BERT-Embedding\" data-toc-modified-id=\"BERT-Embedding-2.3\"><span class=\"toc-item-num\">2.3&nbsp;&nbsp;</span>BERT Embedding</a></span></li><li><span><a href=\"#CatBoost-+-BERT\" data-toc-modified-id=\"CatBoost-+-BERT-2.4\"><span class=\"toc-item-num\">2.4&nbsp;&nbsp;</span>CatBoost + BERT</a></span></li><li><span><a href=\"#Сравнение-результатов-обучения\" data-toc-modified-id=\"Сравнение-результатов-обучения-2.5\"><span class=\"toc-item-num\">2.5&nbsp;&nbsp;</span>Сравнение результатов обучения</a></span></li></ul></li><li><span><a href=\"#Проверка-на-тесте\" data-toc-modified-id=\"Проверка-на-тесте-3\"><span class=\"toc-item-num\">3&nbsp;&nbsp;</span>Проверка на тесте</a></span></li><li><span><a href=\"#Выводы\" data-toc-modified-id=\"Выводы-4\"><span class=\"toc-item-num\">4&nbsp;&nbsp;</span>Выводы</a></span></li></ul></div>"
   ]
  },
  {
   "cell_type": "markdown",
   "metadata": {},
   "source": [
    "# Проект для «Викишоп» с BERT"
   ]
  },
  {
   "cell_type": "markdown",
   "metadata": {},
   "source": [
    "Интернет-магазин «Викишоп» запускает новый сервис. Теперь пользователи могут редактировать и дополнять описания товаров, как в вики-сообществах. То есть клиенты предлагают свои правки и комментируют изменения других. Магазину нужен инструмент, который будет искать токсичные комментарии и отправлять их на модерацию. \n",
    "\n",
    "Обучите модель классифицировать комментарии на позитивные и негативные. В вашем распоряжении набор данных с разметкой о токсичности правок.\n",
    "\n",
    "Постройте модель со значением метрики качества *F1* не меньше 0.75. \n",
    "\n",
    "**Инструкция по выполнению проекта**\n",
    "\n",
    "1. Загрузите и подготовьте данные.\n",
    "2. Обучите разные модели. \n",
    "3. Сделайте выводы.\n",
    "\n",
    "Для выполнения проекта применять *BERT* необязательно, но вы можете попробовать.\n",
    "\n",
    "**Описание данных**\n",
    "\n",
    "Данные находятся в файле `toxic_comments.csv`. Столбец *text* в нём содержит текст комментария, а *toxic* — целевой признак."
   ]
  },
  {
   "cell_type": "markdown",
   "metadata": {},
   "source": [
    "## Подготовка"
   ]
  },
  {
   "cell_type": "markdown",
   "metadata": {
    "ExecuteTime": {
     "end_time": "2023-05-01T09:08:20.292958Z",
     "start_time": "2023-05-01T09:08:20.276662Z"
    }
   },
   "source": [
    "### Глобальные параметры"
   ]
  },
  {
   "cell_type": "code",
   "execution_count": 1,
   "metadata": {
    "ExecuteTime": {
     "end_time": "2023-05-08T05:09:59.269681Z",
     "start_time": "2023-05-08T05:09:59.255634Z"
    }
   },
   "outputs": [],
   "source": [
    "SEED = 12345 #random_state\n",
    "ITERATIONS = 5 # iterations"
   ]
  },
  {
   "cell_type": "markdown",
   "metadata": {
    "ExecuteTime": {
     "end_time": "2023-05-01T09:05:57.428000Z",
     "start_time": "2023-05-01T09:05:57.424258Z"
    }
   },
   "source": [
    "### Библиотеки для работы"
   ]
  },
  {
   "cell_type": "markdown",
   "metadata": {},
   "source": [
    "- `catboost` - основной классификатор с возможностью запуска на GPU, что выгодно для больших матриц\n",
    "- `nltk` - работа с лемматизацией и словарем\n",
    "- `numpy`, `pandas`, `torch` - датасеты, массивы, тензоры\n",
    "- `re` - регулярные выражения\n",
    "- `sklearn` - работа с выборками и моделями МО\n",
    "- `matplotlib`, `seaborn` - графики\n",
    "- `transformers` - работа с моделью BERT\n",
    "- `tqdm` - таймер циклов"
   ]
  },
  {
   "cell_type": "code",
   "execution_count": 2,
   "metadata": {
    "ExecuteTime": {
     "end_time": "2023-05-08T05:10:03.880814Z",
     "start_time": "2023-05-08T05:09:59.270654Z"
    }
   },
   "outputs": [],
   "source": [
    "from catboost import CatBoostClassifier\n",
    "import matplotlib.pyplot as plt\n",
    "import nltk\n",
    "from nltk.corpus import stopwords as nltk_stopwords\n",
    "import numpy as np\n",
    "import pandas as pd\n",
    "import re\n",
    "import seaborn as sns\n",
    "from sklearn.feature_extraction.text import TfidfVectorizer \n",
    "from sklearn.model_selection import train_test_split, RandomizedSearchCV\n",
    "from sklearn.metrics import f1_score\n",
    "import spacy\n",
    "import torch\n",
    "import transformers\n",
    "from tqdm import tqdm"
   ]
  },
  {
   "cell_type": "code",
   "execution_count": 3,
   "metadata": {
    "ExecuteTime": {
     "end_time": "2023-05-08T05:10:03.896917Z",
     "start_time": "2023-05-08T05:10:03.881816Z"
    }
   },
   "outputs": [
    {
     "data": {
      "text/plain": [
       "device(type='cuda', index=0)"
      ]
     },
     "execution_count": 3,
     "metadata": {},
     "output_type": "execute_result"
    }
   ],
   "source": [
    "device = torch.device(\"cuda:0\") if torch.cuda.is_available() else torch.device(\"cpu\")\n",
    "device"
   ]
  },
  {
   "cell_type": "markdown",
   "metadata": {},
   "source": [
    "### Загрузка датасета"
   ]
  },
  {
   "cell_type": "markdown",
   "metadata": {
    "ExecuteTime": {
     "end_time": "2023-05-02T13:04:07.286762Z",
     "start_time": "2023-05-02T13:04:07.276969Z"
    }
   },
   "source": [
    "Грузим с сервера данные:"
   ]
  },
  {
   "cell_type": "code",
   "execution_count": 4,
   "metadata": {
    "ExecuteTime": {
     "end_time": "2023-05-08T05:10:07.018404Z",
     "start_time": "2023-05-08T05:10:03.897886Z"
    }
   },
   "outputs": [],
   "source": [
    "df = pd.read_csv('./datasets/toxic_comments.csv', index_col=[0]).reset_index(drop=True)"
   ]
  },
  {
   "cell_type": "markdown",
   "metadata": {},
   "source": [
    "И смотрим на формат строк:"
   ]
  },
  {
   "cell_type": "code",
   "execution_count": 5,
   "metadata": {
    "ExecuteTime": {
     "end_time": "2023-05-08T05:10:07.033842Z",
     "start_time": "2023-05-08T05:10:07.019267Z"
    }
   },
   "outputs": [
    {
     "data": {
      "text/html": [
       "<div>\n",
       "<style scoped>\n",
       "    .dataframe tbody tr th:only-of-type {\n",
       "        vertical-align: middle;\n",
       "    }\n",
       "\n",
       "    .dataframe tbody tr th {\n",
       "        vertical-align: top;\n",
       "    }\n",
       "\n",
       "    .dataframe thead th {\n",
       "        text-align: right;\n",
       "    }\n",
       "</style>\n",
       "<table border=\"1\" class=\"dataframe\">\n",
       "  <thead>\n",
       "    <tr style=\"text-align: right;\">\n",
       "      <th></th>\n",
       "      <th>text</th>\n",
       "      <th>toxic</th>\n",
       "    </tr>\n",
       "  </thead>\n",
       "  <tbody>\n",
       "    <tr>\n",
       "      <th>0</th>\n",
       "      <td>Explanation\\nWhy the edits made under my usern...</td>\n",
       "      <td>0</td>\n",
       "    </tr>\n",
       "    <tr>\n",
       "      <th>1</th>\n",
       "      <td>D'aww! He matches this background colour I'm s...</td>\n",
       "      <td>0</td>\n",
       "    </tr>\n",
       "    <tr>\n",
       "      <th>2</th>\n",
       "      <td>Hey man, I'm really not trying to edit war. It...</td>\n",
       "      <td>0</td>\n",
       "    </tr>\n",
       "  </tbody>\n",
       "</table>\n",
       "</div>"
      ],
      "text/plain": [
       "                                                text  toxic\n",
       "0  Explanation\\nWhy the edits made under my usern...      0\n",
       "1  D'aww! He matches this background colour I'm s...      0\n",
       "2  Hey man, I'm really not trying to edit war. It...      0"
      ]
     },
     "execution_count": 5,
     "metadata": {},
     "output_type": "execute_result"
    }
   ],
   "source": [
    "df.head(3)"
   ]
  },
  {
   "cell_type": "markdown",
   "metadata": {
    "ExecuteTime": {
     "end_time": "2023-05-01T09:42:35.827998Z",
     "start_time": "2023-05-01T09:42:35.814035Z"
    }
   },
   "source": [
    "### Оценка баланса классов в таргете"
   ]
  },
  {
   "cell_type": "code",
   "execution_count": 6,
   "metadata": {
    "ExecuteTime": {
     "end_time": "2023-05-08T05:10:07.111583Z",
     "start_time": "2023-05-08T05:10:07.034672Z"
    }
   },
   "outputs": [
    {
     "data": {
      "image/png": "[encoded data removed]",
      "text/plain": [
       "<Figure size 500x100 with 1 Axes>"
      ]
     },
     "metadata": {},
     "output_type": "display_data"
    }
   ],
   "source": [
    "plt.figure(figsize=(5,1))\n",
    "sns.countplot(data=df,\n",
    "              x='toxic');"
   ]
  },
  {
   "cell_type": "code",
   "execution_count": 7,
   "metadata": {
    "ExecuteTime": {
     "end_time": "2023-05-08T05:10:07.127509Z",
     "start_time": "2023-05-08T05:10:07.112548Z"
    }
   },
   "outputs": [
    {
     "data": {
      "text/plain": [
       "toxic\n",
       "0    0.898388\n",
       "1    0.101612\n",
       "Name: proportion, dtype: float64"
      ]
     },
     "execution_count": 7,
     "metadata": {},
     "output_type": "execute_result"
    }
   ],
   "source": [
    "df['toxic'].value_counts(normalize=True)"
   ]
  },
  {
   "cell_type": "markdown",
   "metadata": {},
   "source": [
    "Задаем параметр баланса классов для CatBoostClassifier:"
   ]
  },
  {
   "cell_type": "code",
   "execution_count": 8,
   "metadata": {
    "ExecuteTime": {
     "end_time": "2023-05-08T05:10:07.142479Z",
     "start_time": "2023-05-08T05:10:07.128506Z"
    }
   },
   "outputs": [
    {
     "data": {
      "text/plain": [
       "9.841344371679229"
      ]
     },
     "execution_count": 8,
     "metadata": {},
     "output_type": "execute_result"
    }
   ],
   "source": [
    "SCALE = 1/(df['toxic'].value_counts(normalize=True)[1])\n",
    "SCALE"
   ]
  },
  {
   "cell_type": "markdown",
   "metadata": {
    "ExecuteTime": {
     "end_time": "2023-05-01T09:15:26.534231Z",
     "start_time": "2023-05-01T09:15:26.526683Z"
    }
   },
   "source": [
    "### Лемматизация"
   ]
  },
  {
   "cell_type": "markdown",
   "metadata": {},
   "source": [
    "Инициируем лемматизацию `spaCy`:"
   ]
  },
  {
   "cell_type": "code",
   "execution_count": 9,
   "metadata": {
    "ExecuteTime": {
     "end_time": "2023-05-08T05:10:07.722675Z",
     "start_time": "2023-05-08T05:10:07.144474Z"
    }
   },
   "outputs": [],
   "source": [
    "nlp = spacy.load('en_core_web_sm', disable=['parser', 'ner'])"
   ]
  },
  {
   "cell_type": "code",
   "execution_count": 10,
   "metadata": {
    "ExecuteTime": {
     "end_time": "2023-05-08T05:10:07.738595Z",
     "start_time": "2023-05-08T05:10:07.723689Z"
    }
   },
   "outputs": [],
   "source": [
    "def lemmatize(text):\n",
    "    # лемматизируем каждый из них\n",
    "    lemmatized_tokens = ' '.join([token.lemma_ for token in nlp(text)])\n",
    "    return lemmatized_tokens"
   ]
  },
  {
   "cell_type": "code",
   "execution_count": 11,
   "metadata": {
    "ExecuteTime": {
     "end_time": "2023-05-08T05:10:07.753657Z",
     "start_time": "2023-05-08T05:10:07.739563Z"
    }
   },
   "outputs": [],
   "source": [
    "def clear_text(text):\n",
    "    # оставляем только латинницу\n",
    "    text = text.lower()\n",
    "    text = ' '.join(re.sub(r'[^a-z]', ' ', text).split()) \n",
    "    #text = ' '.join(re.sub(r'[^a-zA-Z]', ' ', text).split()) \n",
    "    # убираем артикли\n",
    "    text = text.replace(' the ', ' ') \n",
    "    text = text.replace('the ', '') \n",
    "    text = text.replace(' a ', ' ' )\n",
    "    text = text.replace('a ', '')\n",
    "    # убираем повторные пробелы и пробелы в начале и конце строк\n",
    "    text = re.sub(' +', ' ', text)\n",
    "    text = text.strip()\n",
    "    return text"
   ]
  },
  {
   "cell_type": "markdown",
   "metadata": {},
   "source": [
    "Очищаем текст от знаков препинания, артиклей и пробелов:"
   ]
  },
  {
   "cell_type": "code",
   "execution_count": 12,
   "metadata": {
    "ExecuteTime": {
     "end_time": "2023-05-08T05:10:12.413042Z",
     "start_time": "2023-05-08T05:10:07.754623Z"
    }
   },
   "outputs": [],
   "source": [
    "df['clear'] = df['text'].apply(clear_text)"
   ]
  },
  {
   "cell_type": "markdown",
   "metadata": {},
   "source": [
    "Проводим лемматизацию форм:"
   ]
  },
  {
   "cell_type": "code",
   "execution_count": 13,
   "metadata": {
    "ExecuteTime": {
     "end_time": "2023-05-08T05:18:05.962897Z",
     "start_time": "2023-05-08T05:10:12.413655Z"
    },
    "scrolled": true
   },
   "outputs": [
    {
     "name": "stdout",
     "output_type": "stream",
     "text": [
      "CPU times: total: 7min 28s\n",
      "Wall time: 7min 53s\n"
     ]
    }
   ],
   "source": [
    "%%time\n",
    "df['lemm'] = df['clear'].apply(lemmatize)"
   ]
  },
  {
   "cell_type": "code",
   "execution_count": 14,
   "metadata": {
    "ExecuteTime": {
     "end_time": "2023-05-08T05:18:05.994466Z",
     "start_time": "2023-05-08T05:18:05.962897Z"
    }
   },
   "outputs": [],
   "source": [
    "df = df[['lemm', 'text', 'toxic']]"
   ]
  },
  {
   "cell_type": "markdown",
   "metadata": {
    "ExecuteTime": {
     "end_time": "2023-05-02T05:11:44.313030Z",
     "start_time": "2023-05-02T05:11:44.313030Z"
    }
   },
   "source": [
    "### Проверка на дубликаты и пропуски в лемматизированном датасете"
   ]
  },
  {
   "cell_type": "code",
   "execution_count": 15,
   "metadata": {
    "ExecuteTime": {
     "end_time": "2023-05-08T05:18:06.491210Z",
     "start_time": "2023-05-08T05:18:05.994466Z"
    }
   },
   "outputs": [
    {
     "name": "stdout",
     "output_type": "stream",
     "text": [
      "0\n"
     ]
    }
   ],
   "source": [
    "# полные дубликаты\n",
    "print(df.duplicated().sum())\n",
    "df = df.drop_duplicates()"
   ]
  },
  {
   "cell_type": "code",
   "execution_count": 16,
   "metadata": {
    "ExecuteTime": {
     "end_time": "2023-05-08T05:18:06.538362Z",
     "start_time": "2023-05-08T05:18:06.491210Z"
    },
    "scrolled": true
   },
   "outputs": [
    {
     "name": "stdout",
     "output_type": "stream",
     "text": [
      "lemm     0\n",
      "text     0\n",
      "toxic    0\n",
      "dtype: int64\n"
     ]
    }
   ],
   "source": [
    "# пропуски\n",
    "print(df.isna().sum())\n",
    "df = df.dropna()"
   ]
  },
  {
   "cell_type": "markdown",
   "metadata": {
    "ExecuteTime": {
     "end_time": "2023-05-02T12:57:34.130079Z",
     "start_time": "2023-05-02T12:57:34.124658Z"
    }
   },
   "source": [
    "### Итоговый датасет перед обучением моделей"
   ]
  },
  {
   "cell_type": "code",
   "execution_count": 17,
   "metadata": {
    "ExecuteTime": {
     "end_time": "2023-05-08T05:18:06.553985Z",
     "start_time": "2023-05-08T05:18:06.538362Z"
    }
   },
   "outputs": [
    {
     "data": {
      "text/html": [
       "<div>\n",
       "<style scoped>\n",
       "    .dataframe tbody tr th:only-of-type {\n",
       "        vertical-align: middle;\n",
       "    }\n",
       "\n",
       "    .dataframe tbody tr th {\n",
       "        vertical-align: top;\n",
       "    }\n",
       "\n",
       "    .dataframe thead th {\n",
       "        text-align: right;\n",
       "    }\n",
       "</style>\n",
       "<table border=\"1\" class=\"dataframe\">\n",
       "  <thead>\n",
       "    <tr style=\"text-align: right;\">\n",
       "      <th></th>\n",
       "      <th>lemm</th>\n",
       "      <th>text</th>\n",
       "      <th>toxic</th>\n",
       "    </tr>\n",
       "  </thead>\n",
       "  <tbody>\n",
       "    <tr>\n",
       "      <th>0</th>\n",
       "      <td>explanation why edit make under my username ha...</td>\n",
       "      <td>Explanation\\nWhy the edits made under my usern...</td>\n",
       "      <td>0</td>\n",
       "    </tr>\n",
       "    <tr>\n",
       "      <th>1</th>\n",
       "      <td>d aww he match this background colour I m seem...</td>\n",
       "      <td>D'aww! He matches this background colour I'm s...</td>\n",
       "      <td>0</td>\n",
       "    </tr>\n",
       "    <tr>\n",
       "      <th>2</th>\n",
       "      <td>hey man I m really not try to edit war it s ju...</td>\n",
       "      <td>Hey man, I'm really not trying to edit war. It...</td>\n",
       "      <td>0</td>\n",
       "    </tr>\n",
       "  </tbody>\n",
       "</table>\n",
       "</div>"
      ],
      "text/plain": [
       "                                                lemm   \n",
       "0  explanation why edit make under my username ha...  \\\n",
       "1  d aww he match this background colour I m seem...   \n",
       "2  hey man I m really not try to edit war it s ju...   \n",
       "\n",
       "                                                text  toxic  \n",
       "0  Explanation\\nWhy the edits made under my usern...      0  \n",
       "1  D'aww! He matches this background colour I'm s...      0  \n",
       "2  Hey man, I'm really not trying to edit war. It...      0  "
      ]
     },
     "execution_count": 17,
     "metadata": {},
     "output_type": "execute_result"
    }
   ],
   "source": [
    "df.head(3)"
   ]
  },
  {
   "cell_type": "markdown",
   "metadata": {},
   "source": [
    "## Обучение"
   ]
  },
  {
   "cell_type": "markdown",
   "metadata": {},
   "source": [
    "Разбивка на трейн и тест:"
   ]
  },
  {
   "cell_type": "code",
   "execution_count": 18,
   "metadata": {
    "ExecuteTime": {
     "end_time": "2023-05-08T05:18:06.569605Z",
     "start_time": "2023-05-08T05:18:06.553985Z"
    }
   },
   "outputs": [],
   "source": [
    "train, test = train_test_split(df, test_size=0.25, random_state=SEED)"
   ]
  },
  {
   "cell_type": "markdown",
   "metadata": {},
   "source": [
    "Таргетные столбцы для моделей:"
   ]
  },
  {
   "cell_type": "code",
   "execution_count": 19,
   "metadata": {
    "ExecuteTime": {
     "end_time": "2023-05-08T05:18:06.585227Z",
     "start_time": "2023-05-08T05:18:06.569605Z"
    }
   },
   "outputs": [],
   "source": [
    "y_train = train['toxic'] \n",
    "y_test = test['toxic']"
   ]
  },
  {
   "cell_type": "markdown",
   "metadata": {
    "ExecuteTime": {
     "end_time": "2023-05-01T09:09:42.756289Z",
     "start_time": "2023-05-01T09:09:42.747601Z"
    }
   },
   "source": [
    "### Подготовка фич через TF-IDF"
   ]
  },
  {
   "cell_type": "markdown",
   "metadata": {
    "ExecuteTime": {
     "end_time": "2023-05-01T09:50:35.893388Z",
     "start_time": "2023-05-01T09:50:35.876889Z"
    }
   },
   "source": [
    "Подготовим фичи через `TF-IDF`:"
   ]
  },
  {
   "cell_type": "code",
   "execution_count": 20,
   "metadata": {
    "ExecuteTime": {
     "end_time": "2023-05-08T05:18:06.600848Z",
     "start_time": "2023-05-08T05:18:06.585227Z"
    }
   },
   "outputs": [],
   "source": [
    "# корпуса\n",
    "corpus_train = train['lemm']\n",
    "corpus_test = test['lemm']"
   ]
  },
  {
   "cell_type": "code",
   "execution_count": 21,
   "metadata": {
    "ExecuteTime": {
     "end_time": "2023-05-08T05:18:06.959972Z",
     "start_time": "2023-05-08T05:18:06.600848Z"
    },
    "scrolled": true
   },
   "outputs": [
    {
     "name": "stderr",
     "output_type": "stream",
     "text": [
      "[nltk_data] Downloading package stopwords to\n",
      "[nltk_data]     C:\\Users\\mx\\AppData\\Roaming\\nltk_data...\n",
      "[nltk_data]   Package stopwords is already up-to-date!\n"
     ]
    }
   ],
   "source": [
    "# фильтр стоп слов\n",
    "nltk.download('stopwords')\n",
    "stopwords = nltk_stopwords.words('english')"
   ]
  },
  {
   "cell_type": "markdown",
   "metadata": {},
   "source": [
    "При запуске векторизации для экономии памяти и времени установим параметр `max_feautures` = 500:"
   ]
  },
  {
   "cell_type": "code",
   "execution_count": 22,
   "metadata": {
    "ExecuteTime": {
     "end_time": "2023-05-08T05:18:06.975897Z",
     "start_time": "2023-05-08T05:18:06.959972Z"
    }
   },
   "outputs": [],
   "source": [
    "count_tf_idf = TfidfVectorizer(stop_words=stopwords,\n",
    "                               max_features=500) "
   ]
  },
  {
   "cell_type": "markdown",
   "metadata": {},
   "source": [
    "Обучающая и тестовая выборки:"
   ]
  },
  {
   "cell_type": "code",
   "execution_count": 23,
   "metadata": {
    "ExecuteTime": {
     "end_time": "2023-05-08T05:18:10.969909Z",
     "start_time": "2023-05-08T05:18:06.975897Z"
    }
   },
   "outputs": [],
   "source": [
    "x_train_tfidf = count_tf_idf.fit_transform(corpus_train)\n",
    "x_test_tfidf = count_tf_idf.transform(corpus_test)"
   ]
  },
  {
   "cell_type": "code",
   "execution_count": 24,
   "metadata": {
    "ExecuteTime": {
     "end_time": "2023-05-08T05:18:10.985943Z",
     "start_time": "2023-05-08T05:18:10.969909Z"
    }
   },
   "outputs": [
    {
     "data": {
      "text/plain": [
       "(119469, 500)"
      ]
     },
     "execution_count": 24,
     "metadata": {},
     "output_type": "execute_result"
    }
   ],
   "source": [
    "x_train_tfidf.shape"
   ]
  },
  {
   "cell_type": "markdown",
   "metadata": {
    "ExecuteTime": {
     "end_time": "2023-05-01T10:00:48.515717Z",
     "start_time": "2023-05-01T10:00:48.515717Z"
    }
   },
   "source": [
    "### CatBoost + TF-IDF"
   ]
  },
  {
   "cell_type": "markdown",
   "metadata": {},
   "source": [
    "Делаем рандом-серч c поиском лучших `iterations`, `learning_rate`, `depth`, `l2_leaf_reg`. Для учета дисбаланса классов выставляем `scale_pos_weight` = SCALE:"
   ]
  },
  {
   "cell_type": "code",
   "execution_count": 25,
   "metadata": {
    "ExecuteTime": {
     "end_time": "2023-05-08T05:18:11.001734Z",
     "start_time": "2023-05-08T05:18:10.985943Z"
    }
   },
   "outputs": [],
   "source": [
    "cbc_tfidf = CatBoostClassifier(random_state=SEED,\n",
    "                         task_type='GPU',\n",
    "                         scale_pos_weight=SCALE,\n",
    "                         verbose=250,\n",
    "                         iterations=1000,\n",
    "                         eval_metric='F1')"
   ]
  },
  {
   "cell_type": "code",
   "execution_count": 26,
   "metadata": {
    "ExecuteTime": {
     "end_time": "2023-05-08T05:18:11.017354Z",
     "start_time": "2023-05-08T05:18:11.001734Z"
    }
   },
   "outputs": [],
   "source": [
    "parameters = {'learning_rate': [0.01, 0.05, 0.1, 0.2],\n",
    "              'max_depth': [2, 4, 8],\n",
    "              'l2_leaf_reg': [1, 5]\n",
    "              }"
   ]
  },
  {
   "cell_type": "code",
   "execution_count": 27,
   "metadata": {
    "ExecuteTime": {
     "end_time": "2023-05-08T05:33:11.945381Z",
     "start_time": "2023-05-08T05:18:11.017354Z"
    }
   },
   "outputs": [
    {
     "name": "stdout",
     "output_type": "stream",
     "text": [
      "0:\tlearn: 0.4392115\ttest: 0.4280721\tbest: 0.4280721 (0)\ttotal: 29.5ms\tremaining: 29.4s\n",
      "250:\tlearn: 0.7959071\ttest: 0.7816407\tbest: 0.7975509 (69)\ttotal: 7.71s\tremaining: 23s\n",
      "500:\tlearn: 0.8425820\ttest: 0.8324584\tbest: 0.8326813 (498)\ttotal: 15.5s\tremaining: 15.4s\n",
      "750:\tlearn: 0.8508445\ttest: 0.8326712\tbest: 0.8333919 (541)\ttotal: 22.8s\tremaining: 7.57s\n",
      "999:\tlearn: 0.8569836\ttest: 0.8327869\tbest: 0.8346277 (943)\ttotal: 30.2s\tremaining: 0us\n",
      "bestTest = 0.834627688\n",
      "bestIteration = 943\n",
      "0:\tloss: 0.8346277\tbest: 0.8346277 (0)\ttotal: 30.4s\tremaining: 2m 1s\n",
      "0:\tlearn: 0.5645953\ttest: 0.5379246\tbest: 0.5379246 (0)\ttotal: 154ms\tremaining: 2m 33s\n",
      "250:\tlearn: 0.7580629\ttest: 0.7409313\tbest: 0.7887299 (81)\ttotal: 34.6s\tremaining: 1m 43s\n",
      "500:\tlearn: 0.7858868\ttest: 0.7711446\tbest: 0.7887299 (81)\ttotal: 1m 8s\tremaining: 1m 7s\n",
      "750:\tlearn: 0.7979902\ttest: 0.7806214\tbest: 0.7887299 (81)\ttotal: 1m 32s\tremaining: 30.5s\n",
      "999:\tlearn: 0.8046543\ttest: 0.7830526\tbest: 0.7887299 (81)\ttotal: 1m 50s\tremaining: 0us\n",
      "bestTest = 0.7887298971\n",
      "bestIteration = 81\n",
      "1:\tloss: 0.7887299\tbest: 0.8346277 (0)\ttotal: 2m 21s\tremaining: 3m 32s\n",
      "0:\tlearn: 0.5645953\ttest: 0.5379246\tbest: 0.5379246 (0)\ttotal: 137ms\tremaining: 2m 16s\n",
      "250:\tlearn: 0.8108086\ttest: 0.7894995\tbest: 0.7903492 (10)\ttotal: 17.2s\tremaining: 51.4s\n",
      "500:\tlearn: 0.8430929\ttest: 0.8268768\tbest: 0.8268942 (487)\ttotal: 26.3s\tremaining: 26.2s\n",
      "750:\tlearn: 0.8458237\ttest: 0.8296675\tbest: 0.8296850 (733)\ttotal: 35.4s\tremaining: 11.8s\n",
      "999:\tlearn: 0.8489792\ttest: 0.8298561\tbest: 0.8306427 (933)\ttotal: 44.3s\tremaining: 0us\n",
      "bestTest = 0.8306426784\n",
      "bestIteration = 933\n",
      "2:\tloss: 0.8306427\tbest: 0.8346277 (0)\ttotal: 3m 5s\tremaining: 2m 3s\n",
      "0:\tlearn: 0.5645953\ttest: 0.5379246\tbest: 0.5379246 (0)\ttotal: 136ms\tremaining: 2m 16s\n",
      "250:\tlearn: 0.8447558\ttest: 0.8259158\tbest: 0.8266269 (236)\ttotal: 13.9s\tremaining: 41.5s\n",
      "500:\tlearn: 0.8516374\ttest: 0.8270652\tbest: 0.8272346 (417)\ttotal: 23.9s\tremaining: 23.8s\n",
      "750:\tlearn: 0.8562745\ttest: 0.8288811\tbest: 0.8288986 (740)\ttotal: 32.7s\tremaining: 10.8s\n",
      "999:\tlearn: 0.8581358\ttest: 0.8305299\tbest: 0.8308777 (896)\ttotal: 41.4s\tremaining: 0us\n",
      "bestTest = 0.8308776831\n",
      "bestIteration = 896\n",
      "3:\tloss: 0.8308777\tbest: 0.8346277 (0)\ttotal: 3m 47s\tremaining: 56.8s\n",
      "0:\tlearn: 0.5648915\ttest: 0.5387874\tbest: 0.5387874 (0)\ttotal: 137ms\tremaining: 2m 16s\n",
      "250:\tlearn: 0.8459362\ttest: 0.8293620\tbest: 0.8294824 (237)\ttotal: 33.5s\tremaining: 1m 40s\n",
      "500:\tlearn: 0.8636636\ttest: 0.8348187\tbest: 0.8355694 (441)\ttotal: 1m 5s\tremaining: 1m 5s\n",
      "750:\tlearn: 0.8765940\ttest: 0.8314597\tbest: 0.8355694 (441)\ttotal: 1m 38s\tremaining: 32.7s\n",
      "999:\tlearn: 0.8891763\ttest: 0.8278455\tbest: 0.8355694 (441)\ttotal: 2m 11s\tremaining: 0us\n",
      "bestTest = 0.8355693507\n",
      "bestIteration = 441\n",
      "4:\tloss: 0.8355694\tbest: 0.8355694 (4)\ttotal: 5m 58s\tremaining: 0us\n",
      "Estimating final quality...\n",
      "Training on fold [0/4]\n",
      "0:\tlearn: 0.5612511\ttest: 0.5532906\tbest: 0.5532906 (0)\ttotal: 138ms\tremaining: 2m 17s\n",
      "250:\tlearn: 0.8444450\ttest: 0.8279110\tbest: 0.8287405 (217)\ttotal: 34s\tremaining: 1m 41s\n",
      "500:\tlearn: 0.8634728\ttest: 0.8317289\tbest: 0.8320640 (498)\ttotal: 1m 6s\tremaining: 1m 5s\n",
      "750:\tlearn: 0.8796292\ttest: 0.8275810\tbest: 0.8324044 (507)\ttotal: 1m 39s\tremaining: 32.9s\n",
      "999:\tlearn: 0.8913987\ttest: 0.8261366\tbest: 0.8324044 (507)\ttotal: 2m 12s\tremaining: 0us\n",
      "bestTest = 0.832404385\n",
      "bestIteration = 507\n",
      "Training on fold [1/4]\n",
      "0:\tlearn: 0.5574311\ttest: 0.5632982\tbest: 0.5632982 (0)\ttotal: 141ms\tremaining: 2m 20s\n",
      "250:\tlearn: 0.8462376\ttest: 0.8269288\tbest: 0.8269705 (248)\ttotal: 34.1s\tremaining: 1m 41s\n",
      "500:\tlearn: 0.8640106\ttest: 0.8327080\tbest: 0.8327363 (491)\ttotal: 1m 6s\tremaining: 1m 6s\n",
      "750:\tlearn: 0.8788774\ttest: 0.8322695\tbest: 0.8332091 (624)\ttotal: 1m 39s\tremaining: 32.9s\n",
      "999:\tlearn: 0.8921980\ttest: 0.8296708\tbest: 0.8332091 (624)\ttotal: 2m 12s\tremaining: 0us\n",
      "bestTest = 0.8332090616\n",
      "bestIteration = 624\n",
      "Training on fold [2/4]\n",
      "0:\tlearn: 0.5581954\ttest: 0.5609392\tbest: 0.5609392 (0)\ttotal: 137ms\tremaining: 2m 16s\n",
      "250:\tlearn: 0.8505501\ttest: 0.8176742\tbest: 0.8176742 (250)\ttotal: 34.2s\tremaining: 1m 42s\n",
      "500:\tlearn: 0.8651412\ttest: 0.8233339\tbest: 0.8233339 (500)\ttotal: 1m 5s\tremaining: 1m 5s\n",
      "750:\tlearn: 0.8794614\ttest: 0.8219561\tbest: 0.8248576 (565)\ttotal: 1m 37s\tremaining: 32.3s\n",
      "999:\tlearn: 0.8911461\ttest: 0.8223505\tbest: 0.8248576 (565)\ttotal: 2m 9s\tremaining: 0us\n",
      "bestTest = 0.8248576005\n",
      "bestIteration = 565\n",
      "Training on fold [3/4]\n",
      "0:\tlearn: 0.5637891\ttest: 0.5444423\tbest: 0.5444423 (0)\ttotal: 138ms\tremaining: 2m 17s\n",
      "250:\tlearn: 0.8469105\ttest: 0.8284951\tbest: 0.8295195 (247)\ttotal: 34s\tremaining: 1m 41s\n",
      "500:\tlearn: 0.8663562\ttest: 0.8306208\tbest: 0.8315480 (476)\ttotal: 1m 6s\tremaining: 1m 6s\n",
      "750:\tlearn: 0.8791224\ttest: 0.8283131\tbest: 0.8315480 (476)\ttotal: 1m 39s\tremaining: 33.1s\n",
      "999:\tlearn: 0.8923096\ttest: 0.8255770\tbest: 0.8315480 (476)\ttotal: 2m 12s\tremaining: 0us\n",
      "bestTest = 0.831548011\n",
      "bestIteration = 476\n",
      "CPU times: total: 13min 33s\n",
      "Wall time: 15min\n"
     ]
    }
   ],
   "source": [
    "%%time\n",
    "cbc_tfidf_rs = cbc_tfidf.randomized_search(parameters,\n",
    "                               X=x_train_tfidf,\n",
    "                               y=y_train,\n",
    "                               n_iter=ITERATIONS,\n",
    "                               cv=4,\n",
    "                               partition_random_seed=SEED,\n",
    "                               verbose=1)"
   ]
  },
  {
   "cell_type": "code",
   "execution_count": 28,
   "metadata": {
    "ExecuteTime": {
     "end_time": "2023-05-08T05:33:11.960999Z",
     "start_time": "2023-05-08T05:33:11.945381Z"
    }
   },
   "outputs": [
    {
     "data": {
      "text/plain": [
       "{'depth': 8, 'l2_leaf_reg': 5, 'learning_rate': 0.05}"
      ]
     },
     "execution_count": 28,
     "metadata": {},
     "output_type": "execute_result"
    }
   ],
   "source": [
    "cbc_tfidf_rs['params']"
   ]
  },
  {
   "cell_type": "code",
   "execution_count": 29,
   "metadata": {
    "ExecuteTime": {
     "end_time": "2023-05-08T05:33:11.976621Z",
     "start_time": "2023-05-08T05:33:11.960999Z"
    }
   },
   "outputs": [
    {
     "name": "stdout",
     "output_type": "stream",
     "text": [
      "Метрика F1 для кросс-валидации CatBoostClassifier+TF-IDF 0.8297352815902381\n"
     ]
    }
   ],
   "source": [
    "print(f'Метрика F1 для кросс-валидации CatBoostClassifier+TF-IDF', max(cbc_tfidf_rs['cv_results']['test-F1-mean']))"
   ]
  },
  {
   "cell_type": "markdown",
   "metadata": {
    "ExecuteTime": {
     "end_time": "2023-05-02T05:11:44.294944Z",
     "start_time": "2023-05-02T05:11:44.294944Z"
    }
   },
   "source": [
    "### BERT Embedding"
   ]
  },
  {
   "cell_type": "markdown",
   "metadata": {
    "ExecuteTime": {
     "end_time": "2023-05-02T05:27:42.947705Z",
     "start_time": "2023-05-02T05:27:42.936324Z"
    }
   },
   "source": [
    "Будем использовать предобученную модель `bert-large-uncased`:"
   ]
  },
  {
   "cell_type": "code",
   "execution_count": 30,
   "metadata": {
    "ExecuteTime": {
     "end_time": "2023-05-08T05:33:13.915856Z",
     "start_time": "2023-05-08T05:33:11.976621Z"
    }
   },
   "outputs": [
    {
     "name": "stderr",
     "output_type": "stream",
     "text": [
      "Some weights of the model checkpoint at bert-base-uncased were not used when initializing BertModel: ['cls.predictions.transform.LayerNorm.bias', 'cls.seq_relationship.weight', 'cls.predictions.decoder.weight', 'cls.seq_relationship.bias', 'cls.predictions.bias', 'cls.predictions.transform.dense.bias', 'cls.predictions.transform.dense.weight', 'cls.predictions.transform.LayerNorm.weight']\n",
      "- This IS expected if you are initializing BertModel from the checkpoint of a model trained on another task or with another architecture (e.g. initializing a BertForSequenceClassification model from a BertForPreTraining model).\n",
      "- This IS NOT expected if you are initializing BertModel from the checkpoint of a model that you expect to be exactly identical (initializing a BertForSequenceClassification model from a BertForSequenceClassification model).\n"
     ]
    }
   ],
   "source": [
    "model_name = 'bert-base-uncased'\n",
    "tokenizer = transformers.AutoTokenizer.from_pretrained(model_name)\n",
    "model = transformers.AutoModel.from_pretrained(model_name)"
   ]
  },
  {
   "cell_type": "markdown",
   "metadata": {},
   "source": [
    "Готовим список инпутов и attention_masks для каждого предложения столбца `lemm` в датафрейме df. Берем сырой текст без предобработки. На выходе два тензора для передачи в модель BERT:\n",
    "- Ограничим длину строки max_length = 200 (для ускорения далнейших тензорных вычислений)\n",
    "- Добавляем специальные токены начала и конца предложения\n",
    "- Выполняем паддинг и возвращаем данные в виде тензоров `PyTorch`"
   ]
  },
  {
   "cell_type": "code",
   "execution_count": 31,
   "metadata": {
    "ExecuteTime": {
     "end_time": "2023-05-08T05:34:01.387635Z",
     "start_time": "2023-05-08T05:33:13.916853Z"
    }
   },
   "outputs": [
    {
     "name": "stderr",
     "output_type": "stream",
     "text": [
      "  0%|                                                                                       | 0/159292 [00:00<?, ?it/s]C:\\ProgramData\\anaconda3\\lib\\site-packages\\transformers\\tokenization_utils_base.py:2354: FutureWarning: The `pad_to_max_length` argument is deprecated and will be removed in a future version, use `padding=True` or `padding='longest'` to pad to the longest sequence in the batch, or use `padding='max_length'` to pad to a max length. In this case, you can give a specific length with `max_length` (e.g. `max_length=45`) or leave max_length to None to pad to the maximal input size of the model (e.g. 512 for Bert).\n",
      "  warnings.warn(\n",
      "100%|████████████████████████████████████████████████████████████████████████| 159292/159292 [00:47<00:00, 3388.27it/s]\n"
     ]
    },
    {
     "name": "stdout",
     "output_type": "stream",
     "text": [
      "CPU times: total: 13.8 s\n",
      "Wall time: 47.4 s\n"
     ]
    },
    {
     "data": {
      "text/plain": [
       "(torch.Size([159292, 200]), torch.Size([159292, 200]))"
      ]
     },
     "execution_count": 31,
     "metadata": {},
     "output_type": "execute_result"
    }
   ],
   "source": [
    "%%time\n",
    "input_ids = []\n",
    "attention_masks = []\n",
    "\n",
    "for sentence in tqdm(df['text']):\n",
    "    encoded_dict = tokenizer.encode_plus(\n",
    "        sentence,\n",
    "        add_special_tokens=True,\n",
    "        max_length=200,\n",
    "        truncation=True,\n",
    "        pad_to_max_length='longest',\n",
    "        return_attention_mask=True,\n",
    "        return_tensors='pt'\n",
    "    )\n",
    "    input_ids.append(encoded_dict['input_ids'])\n",
    "    attention_masks.append(encoded_dict['attention_mask'])\n",
    "\n",
    "input_ids = torch.cat(input_ids, dim=0)\n",
    "attention_masks = torch.cat(attention_masks, dim=0)\n",
    "input_ids.shape, attention_masks.shape"
   ]
  },
  {
   "cell_type": "markdown",
   "metadata": {},
   "source": [
    "Собираем эмбеддинги из тензора `PyTorch` в датафрейм features:"
   ]
  },
  {
   "cell_type": "code",
   "execution_count": 32,
   "metadata": {
    "ExecuteTime": {
     "end_time": "2023-05-08T05:39:48.779890Z",
     "start_time": "2023-05-08T05:34:01.387635Z"
    }
   },
   "outputs": [
    {
     "name": "stderr",
     "output_type": "stream",
     "text": [
      "100%|██████████████████████████████████████████████████████████████████████████████| 1245/1245 [05:47<00:00,  3.58it/s]\n"
     ]
    },
    {
     "name": "stdout",
     "output_type": "stream",
     "text": [
      "CPU times: total: 5min 16s\n",
      "Wall time: 5min 47s\n"
     ]
    }
   ],
   "source": [
    "%%time\n",
    "batch_size = 128\n",
    "embeddings = []\n",
    "with torch.no_grad():\n",
    "    for i in tqdm(range(0, len(df), batch_size)):\n",
    "        input_ids_batch = input_ids[i:i+batch_size].to(device)\n",
    "        attention_masks_batch = attention_masks[i:i+batch_size].to(device)\n",
    "        embeddings_batch = model.to(device)(input_ids_batch, attention_mask=attention_masks_batch)\n",
    "        embeddings.append(embeddings_batch[0][:,0,:].cpu().numpy())\n",
    "        del input_ids_batch\n",
    "        del attention_masks_batch\n",
    "        del embeddings_batch\n",
    "features = np.concatenate(embeddings)"
   ]
  },
  {
   "cell_type": "markdown",
   "metadata": {},
   "source": [
    "Готовим выборки фич на основе BERT:"
   ]
  },
  {
   "cell_type": "code",
   "execution_count": 33,
   "metadata": {
    "ExecuteTime": {
     "end_time": "2023-05-08T05:39:48.889721Z",
     "start_time": "2023-05-08T05:39:48.779890Z"
    }
   },
   "outputs": [
    {
     "data": {
      "text/plain": [
       "((119469, 768), (39823, 768))"
      ]
     },
     "execution_count": 33,
     "metadata": {},
     "output_type": "execute_result"
    }
   ],
   "source": [
    "x_train_bert, x_test_bert = train_test_split(features, test_size=0.25, random_state=SEED)\n",
    "x_train_bert.shape, x_test_bert.shape"
   ]
  },
  {
   "cell_type": "markdown",
   "metadata": {
    "ExecuteTime": {
     "end_time": "2023-05-02T10:25:22.549216Z",
     "start_time": "2023-05-02T10:25:22.539510Z"
    }
   },
   "source": [
    "### CatBoost + BERT"
   ]
  },
  {
   "cell_type": "markdown",
   "metadata": {},
   "source": [
    "Повторяем рандом серч с параметрами из пункта 2.2:"
   ]
  },
  {
   "cell_type": "code",
   "execution_count": 34,
   "metadata": {
    "ExecuteTime": {
     "end_time": "2023-05-08T05:39:48.905342Z",
     "start_time": "2023-05-08T05:39:48.889721Z"
    }
   },
   "outputs": [],
   "source": [
    "cbc_bert = CatBoostClassifier(random_state=SEED,\n",
    "                         task_type='GPU',\n",
    "                         scale_pos_weight=SCALE,\n",
    "                         verbose=250,\n",
    "                         iterations=1000,\n",
    "                         eval_metric='F1')"
   ]
  },
  {
   "cell_type": "code",
   "execution_count": 35,
   "metadata": {
    "ExecuteTime": {
     "end_time": "2023-05-08T05:39:48.920967Z",
     "start_time": "2023-05-08T05:39:48.905342Z"
    }
   },
   "outputs": [],
   "source": [
    "parameters = {'learning_rate': [0.01, 0.05, 0.1, 0.2],\n",
    "              'max_depth': [2, 4, 8],\n",
    "              'l2_leaf_reg': [1, 3]\n",
    "              }"
   ]
  },
  {
   "cell_type": "code",
   "execution_count": 36,
   "metadata": {
    "ExecuteTime": {
     "end_time": "2023-05-08T05:51:43.392029Z",
     "start_time": "2023-05-08T05:39:48.920967Z"
    },
    "scrolled": false
   },
   "outputs": [
    {
     "name": "stdout",
     "output_type": "stream",
     "text": [
      "0:\tlearn: 0.7483102\ttest: 0.7510961\tbest: 0.7510961 (0)\ttotal: 34.3ms\tremaining: 34.3s\n",
      "250:\tlearn: 0.8930542\ttest: 0.8853027\tbest: 0.8854198 (246)\ttotal: 8.96s\tremaining: 26.7s\n",
      "500:\tlearn: 0.9058155\ttest: 0.8869715\tbest: 0.8886803 (379)\ttotal: 18.1s\tremaining: 18s\n",
      "750:\tlearn: 0.9155859\ttest: 0.8891891\tbest: 0.8903721 (715)\ttotal: 27.2s\tremaining: 9.02s\n",
      "999:\tlearn: 0.9252243\ttest: 0.8896489\tbest: 0.8908972 (846)\ttotal: 36.2s\tremaining: 0us\n",
      "bestTest = 0.8908971534\n",
      "bestIteration = 846\n",
      "0:\tloss: 0.8908972\tbest: 0.8908972 (0)\ttotal: 37s\tremaining: 2m 27s\n",
      "0:\tlearn: 0.8120790\ttest: 0.8086266\tbest: 0.8086266 (0)\ttotal: 216ms\tremaining: 3m 35s\n",
      "250:\tlearn: 0.8897238\ttest: 0.8733795\tbest: 0.8733795 (249)\ttotal: 50.3s\tremaining: 2m 30s\n",
      "500:\tlearn: 0.8925678\ttest: 0.8753671\tbest: 0.8759820 (482)\ttotal: 1m 6s\tremaining: 1m 6s\n",
      "750:\tlearn: 0.8956785\ttest: 0.8779504\tbest: 0.8779504 (746)\ttotal: 1m 21s\tremaining: 27s\n",
      "999:\tlearn: 0.8977730\ttest: 0.8784312\tbest: 0.8790180 (889)\ttotal: 1m 35s\tremaining: 0us\n",
      "bestTest = 0.8790179824\n",
      "bestIteration = 889\n",
      "1:\tloss: 0.8790180\tbest: 0.8908972 (0)\ttotal: 2m 12s\tremaining: 3m 18s\n",
      "0:\tlearn: 0.8120790\ttest: 0.8086266\tbest: 0.8086266 (0)\ttotal: 212ms\tremaining: 3m 31s\n",
      "250:\tlearn: 0.9008793\ttest: 0.8798452\tbest: 0.8798818 (240)\ttotal: 16.6s\tremaining: 49.4s\n",
      "500:\tlearn: 0.9061156\ttest: 0.8801908\tbest: 0.8803568 (399)\ttotal: 27.2s\tremaining: 27.1s\n",
      "750:\tlearn: 0.9164117\ttest: 0.8794731\tbest: 0.8811440 (701)\ttotal: 42.5s\tremaining: 14.1s\n",
      "999:\tlearn: 0.9382025\ttest: 0.8799979\tbest: 0.8826834 (938)\ttotal: 1m 12s\tremaining: 0us\n",
      "bestTest = 0.8826834206\n",
      "bestIteration = 938\n",
      "2:\tloss: 0.8826834\tbest: 0.8908972 (0)\ttotal: 3m 24s\tremaining: 2m 16s\n",
      "0:\tlearn: 0.8120790\ttest: 0.8086266\tbest: 0.8086266 (0)\ttotal: 212ms\tremaining: 3m 31s\n",
      "250:\tlearn: 0.9383384\ttest: 0.8723534\tbest: 0.8774267 (186)\ttotal: 33.3s\tremaining: 1m 39s\n",
      "500:\tlearn: 0.9717341\ttest: 0.8589834\tbest: 0.8774267 (186)\ttotal: 1m 19s\tremaining: 1m 19s\n",
      "750:\tlearn: 0.9852672\ttest: 0.8428585\tbest: 0.8774267 (186)\ttotal: 2m 5s\tremaining: 41.8s\n",
      "999:\tlearn: 0.9914692\ttest: 0.8261653\tbest: 0.8774267 (186)\ttotal: 2m 52s\tremaining: 0us\n",
      "bestTest = 0.8774267235\n",
      "bestIteration = 186\n",
      "3:\tloss: 0.8774267\tbest: 0.8908972 (0)\ttotal: 6m 17s\tremaining: 1m 34s\n",
      "0:\tlearn: 0.8120790\ttest: 0.8086266\tbest: 0.8086266 (0)\ttotal: 212ms\tremaining: 3m 32s\n",
      "250:\tlearn: 0.9216653\ttest: 0.8823653\tbest: 0.8835715 (238)\ttotal: 47.2s\tremaining: 2m 20s\n",
      "500:\tlearn: 0.9432055\ttest: 0.8833057\tbest: 0.8838679 (298)\ttotal: 1m 32s\tremaining: 1m 32s\n",
      "750:\tlearn: 0.9585569\ttest: 0.8794335\tbest: 0.8838679 (298)\ttotal: 2m 18s\tremaining: 45.9s\n",
      "999:\tlearn: 0.9675378\ttest: 0.8737373\tbest: 0.8838679 (298)\ttotal: 3m 4s\tremaining: 0us\n",
      "bestTest = 0.8838678998\n",
      "bestIteration = 298\n",
      "4:\tloss: 0.8838679\tbest: 0.8908972 (0)\ttotal: 9m 22s\tremaining: 0us\n",
      "Estimating final quality...\n",
      "Training on fold [0/4]\n",
      "0:\tlearn: 0.7524081\ttest: 0.7518976\tbest: 0.7518976 (0)\ttotal: 34ms\tremaining: 33.9s\n",
      "250:\tlearn: 0.8943596\ttest: 0.8845331\tbest: 0.8851236 (216)\ttotal: 8.88s\tremaining: 26.5s\n",
      "500:\tlearn: 0.9082002\ttest: 0.8894805\tbest: 0.8894805 (499)\ttotal: 17.5s\tremaining: 17.4s\n",
      "750:\tlearn: 0.9178674\ttest: 0.8900574\tbest: 0.8914116 (675)\ttotal: 26.2s\tremaining: 8.68s\n",
      "999:\tlearn: 0.9261540\ttest: 0.8912021\tbest: 0.8921373 (831)\ttotal: 34.9s\tremaining: 0us\n",
      "bestTest = 0.8921372812\n",
      "bestIteration = 831\n",
      "Training on fold [1/4]\n",
      "0:\tlearn: 0.7526924\ttest: 0.7446264\tbest: 0.7446264 (0)\ttotal: 41.1ms\tremaining: 41.1s\n",
      "250:\tlearn: 0.8944755\ttest: 0.8792789\tbest: 0.8799400 (245)\ttotal: 9.26s\tremaining: 27.6s\n",
      "500:\tlearn: 0.9071154\ttest: 0.8850924\tbest: 0.8850924 (500)\ttotal: 17.9s\tremaining: 17.8s\n",
      "750:\tlearn: 0.9186918\ttest: 0.8854907\tbest: 0.8863889 (531)\ttotal: 26.6s\tremaining: 8.82s\n",
      "999:\tlearn: 0.9264886\ttest: 0.8849970\tbest: 0.8863889 (531)\ttotal: 35.2s\tremaining: 0us\n",
      "bestTest = 0.8863889138\n",
      "bestIteration = 531\n",
      "Training on fold [2/4]\n",
      "0:\tlearn: 0.7686441\ttest: 0.7536533\tbest: 0.7536533 (0)\ttotal: 33.6ms\tremaining: 33.5s\n",
      "250:\tlearn: 0.8970304\ttest: 0.8753916\tbest: 0.8761525 (218)\ttotal: 8.66s\tremaining: 25.8s\n",
      "500:\tlearn: 0.9090499\ttest: 0.8766912\tbest: 0.8784004 (313)\ttotal: 17.2s\tremaining: 17.1s\n",
      "750:\tlearn: 0.9189886\ttest: 0.8779468\tbest: 0.8798479 (608)\ttotal: 25.7s\tremaining: 8.52s\n",
      "999:\tlearn: 0.9271048\ttest: 0.8805072\tbest: 0.8805072 (999)\ttotal: 34.1s\tremaining: 0us\n",
      "bestTest = 0.880507196\n",
      "bestIteration = 999\n",
      "Training on fold [3/4]\n",
      "0:\tlearn: 0.7633590\ttest: 0.7703930\tbest: 0.7703930 (0)\ttotal: 34.7ms\tremaining: 34.7s\n",
      "250:\tlearn: 0.8929372\ttest: 0.8839187\tbest: 0.8844243 (228)\ttotal: 8.63s\tremaining: 25.8s\n",
      "500:\tlearn: 0.9075721\ttest: 0.8877227\tbest: 0.8886047 (478)\ttotal: 17.2s\tremaining: 17.1s\n",
      "750:\tlearn: 0.9181317\ttest: 0.8883196\tbest: 0.8895960 (626)\ttotal: 25.4s\tremaining: 8.42s\n",
      "999:\tlearn: 0.9276414\ttest: 0.8899918\tbest: 0.8907116 (941)\ttotal: 33.9s\tremaining: 0us\n",
      "bestTest = 0.8907115554\n",
      "bestIteration = 941\n",
      "CPU times: total: 11min 55s\n",
      "Wall time: 11min 54s\n"
     ]
    }
   ],
   "source": [
    "%%time\n",
    "cbc_bert_rs = cbc_bert.randomized_search(parameters,\n",
    "                                         X=x_train_bert,\n",
    "                                         y=y_train,\n",
    "                                         n_iter=ITERATIONS,\n",
    "                                         cv=4,\n",
    "                                         partition_random_seed=SEED,\n",
    "                                         verbose=1)"
   ]
  },
  {
   "cell_type": "code",
   "execution_count": 37,
   "metadata": {
    "ExecuteTime": {
     "end_time": "2023-05-08T05:51:43.406987Z",
     "start_time": "2023-05-08T05:51:43.393025Z"
    }
   },
   "outputs": [
    {
     "data": {
      "text/plain": [
       "{'depth': 4, 'l2_leaf_reg': 3, 'learning_rate': 0.05}"
      ]
     },
     "execution_count": 37,
     "metadata": {},
     "output_type": "execute_result"
    }
   ],
   "source": [
    "cbc_bert_rs['params']"
   ]
  },
  {
   "cell_type": "code",
   "execution_count": 38,
   "metadata": {
    "ExecuteTime": {
     "end_time": "2023-05-08T05:51:43.422944Z",
     "start_time": "2023-05-08T05:51:43.407985Z"
    }
   },
   "outputs": [
    {
     "name": "stdout",
     "output_type": "stream",
     "text": [
      "Метрика F1 для кросс-валидации CatBoostClassifier+BERT 0.8866821174731474\n"
     ]
    }
   ],
   "source": [
    "print(f'Метрика F1 для кросс-валидации CatBoostClassifier+BERT', max(cbc_bert_rs['cv_results']['test-F1-mean']))"
   ]
  },
  {
   "cell_type": "markdown",
   "metadata": {},
   "source": [
    "### Сравнение результатов обучения"
   ]
  },
  {
   "cell_type": "code",
   "execution_count": 39,
   "metadata": {
    "ExecuteTime": {
     "end_time": "2023-05-08T05:51:43.437904Z",
     "start_time": "2023-05-08T05:51:43.423942Z"
    },
    "scrolled": true
   },
   "outputs": [
    {
     "data": {
      "text/html": [
       "<div>\n",
       "<style scoped>\n",
       "    .dataframe tbody tr th:only-of-type {\n",
       "        vertical-align: middle;\n",
       "    }\n",
       "\n",
       "    .dataframe tbody tr th {\n",
       "        vertical-align: top;\n",
       "    }\n",
       "\n",
       "    .dataframe thead th {\n",
       "        text-align: right;\n",
       "    }\n",
       "</style>\n",
       "<table border=\"1\" class=\"dataframe\">\n",
       "  <thead>\n",
       "    <tr style=\"text-align: right;\">\n",
       "      <th></th>\n",
       "      <th>F1-score</th>\n",
       "    </tr>\n",
       "  </thead>\n",
       "  <tbody>\n",
       "    <tr>\n",
       "      <th>CB+TFIDF</th>\n",
       "      <td>0.829735</td>\n",
       "    </tr>\n",
       "    <tr>\n",
       "      <th>CB+BERT</th>\n",
       "      <td>0.886682</td>\n",
       "    </tr>\n",
       "  </tbody>\n",
       "</table>\n",
       "</div>"
      ],
      "text/plain": [
       "          F1-score\n",
       "CB+TFIDF  0.829735\n",
       "CB+BERT   0.886682"
      ]
     },
     "execution_count": 39,
     "metadata": {},
     "output_type": "execute_result"
    }
   ],
   "source": [
    "result = pd.DataFrame({'F1-score' : [max(cbc_tfidf_rs['cv_results']['test-F1-mean']),\n",
    "                       max(cbc_bert_rs['cv_results']['test-F1-mean'])]}, index=['CB+TFIDF', 'CB+BERT'])\n",
    "result"
   ]
  },
  {
   "cell_type": "markdown",
   "metadata": {},
   "source": [
    "С фичами BERT валидационный скор выше."
   ]
  },
  {
   "cell_type": "markdown",
   "metadata": {},
   "source": [
    "## Проверка на тесте"
   ]
  },
  {
   "cell_type": "markdown",
   "metadata": {
    "ExecuteTime": {
     "end_time": "2023-05-03T08:48:32.167076Z",
     "start_time": "2023-05-03T08:48:32.148635Z"
    }
   },
   "source": [
    "Лучшей моделью по валидации выбрана CatBoostClassifier + Bert Embedding:"
   ]
  },
  {
   "cell_type": "code",
   "execution_count": 43,
   "metadata": {
    "ExecuteTime": {
     "end_time": "2023-05-08T05:56:00.392902Z",
     "start_time": "2023-05-08T05:56:00.385921Z"
    }
   },
   "outputs": [],
   "source": [
    "cbc_bert = CatBoostClassifier(iterations=1000,\n",
    "                              random_state=SEED,\n",
    "                              task_type='CPU',\n",
    "                              scale_pos_weight=SCALE,\n",
    "                              verbose=False,\n",
    "                              eval_metric='F1',\n",
    "                              **cbc_bert_rs['params'])"
   ]
  },
  {
   "cell_type": "code",
   "execution_count": 44,
   "metadata": {
    "ExecuteTime": {
     "end_time": "2023-05-08T05:56:42.871922Z",
     "start_time": "2023-05-08T05:56:01.554725Z"
    }
   },
   "outputs": [
    {
     "data": {
      "application/vnd.jupyter.widget-view+json": {
       "model_id": "f7bb873753664b2f82da1112073d00ff",
       "version_major": 2,
       "version_minor": 0
      },
      "text/plain": [
       "MetricVisualizer(layout=Layout(align_self='stretch', height='500px'))"
      ]
     },
     "metadata": {},
     "output_type": "display_data"
    },
    {
     "name": "stdout",
     "output_type": "stream",
     "text": [
      "0:\tlearn: 0.7493587\ttest: 0.7429882\tbest: 0.7429882 (0)\ttotal: 60.9ms\tremaining: 1m\n",
      "200:\tlearn: 0.8835524\ttest: 0.8732270\tbest: 0.8735816 (199)\ttotal: 8.53s\tremaining: 33.9s\n",
      "400:\tlearn: 0.8985484\ttest: 0.8805685\tbest: 0.8809436 (397)\ttotal: 16.2s\tremaining: 24.2s\n",
      "600:\tlearn: 0.9085674\ttest: 0.8840256\tbest: 0.8843281 (599)\ttotal: 23.8s\tremaining: 15.8s\n",
      "800:\tlearn: 0.9178252\ttest: 0.8837469\tbest: 0.8849188 (767)\ttotal: 31.3s\tremaining: 7.78s\n",
      "999:\tlearn: 0.9249492\ttest: 0.8844931\tbest: 0.8853835 (883)\ttotal: 38.8s\tremaining: 0us\n",
      "\n",
      "bestTest = 0.8853834522\n",
      "bestIteration = 883\n",
      "\n",
      "Shrink model to first 884 iterations.\n"
     ]
    },
    {
     "data": {
      "text/plain": [
       "<catboost.core.CatBoostClassifier at 0x1b907fdef20>"
      ]
     },
     "execution_count": 44,
     "metadata": {},
     "output_type": "execute_result"
    }
   ],
   "source": [
    "cbc_bert.fit(x_train_bert, y_train, eval_set=(x_test_bert, y_test), verbose=200, plot=True)"
   ]
  },
  {
   "cell_type": "code",
   "execution_count": 45,
   "metadata": {
    "ExecuteTime": {
     "end_time": "2023-05-08T05:56:46.289319Z",
     "start_time": "2023-05-08T05:56:46.280808Z"
    }
   },
   "outputs": [
    {
     "data": {
      "text/plain": [
       "0.8853834522487388"
      ]
     },
     "execution_count": 45,
     "metadata": {},
     "output_type": "execute_result"
    }
   ],
   "source": [
    "cbc_bert.best_score_['validation']['F1']"
   ]
  },
  {
   "cell_type": "markdown",
   "metadata": {
    "ExecuteTime": {
     "end_time": "2023-05-02T11:02:46.839417Z",
     "start_time": "2023-05-02T11:02:46.839417Z"
    }
   },
   "source": [
    "**Модель CatBoost + BERT прошла проверку на F1 > 0.75**"
   ]
  },
  {
   "cell_type": "markdown",
   "metadata": {},
   "source": [
    "## Выводы"
   ]
  },
  {
   "cell_type": "markdown",
   "metadata": {},
   "source": [
    "**Выводы** \n",
    "- Протестированы два подхода к созданию фич для NLP: TF-IDF, BERT эмбеддинг\n",
    "- Обучены модели с применением рандом-серча параметров и кросс-валидации\n",
    "- Лучшей моделью показала себя CatBoostClassifier + Bert Embedding с тестовым скором 0.88"
   ]
  },
  {
   "cell_type": "markdown",
   "metadata": {},
   "source": [
    "- [x]  Jupyter Notebook открыт\n",
    "- [x]  Весь код выполняется без ошибок\n",
    "- [x]  Ячейки с кодом расположены в порядке исполнения\n",
    "- [x]  Данные загружены и подготовлены\n",
    "- [x]  Модели обучены\n",
    "- [x]  Значение метрики *F1* не меньше 0.75\n",
    "- [x]  Выводы написаны"
   ]
  },
  {
   "cell_type": "code",
   "execution_count": null,
   "metadata": {},
   "outputs": [],
   "source": []
  }
 ],
 "metadata": {
  "kernelspec": {
   "display_name": "Python 3 (ipykernel)",
   "language": "python",
   "name": "python3"
  },
  "language_info": {
   "codemirror_mode": {
    "name": "ipython",
    "version": 3
   },
   "file_extension": ".py",
   "mimetype": "text/x-python",
   "name": "python",
   "nbconvert_exporter": "python",
   "pygments_lexer": "ipython3",
   "version": "3.10.9"
  },
  "toc": {
   "base_numbering": 1,
   "nav_menu": {},
   "number_sections": true,
   "sideBar": true,
   "skip_h1_title": true,
   "title_cell": "Содержание",
   "title_sidebar": "Contents",
   "toc_cell": true,
   "toc_position": {
    "height": "1109.33px",
    "left": "34px",
    "top": "110.229px",
    "width": "445.646px"
   },
   "toc_section_display": true,
   "toc_window_display": true
  },
  "varInspector": {
   "cols": {
    "lenName": 16,
    "lenType": 16,
    "lenVar": 40
   },
   "kernels_config": {
    "python": {
     "delete_cmd_postfix": "",
     "delete_cmd_prefix": "del ",
     "library": "var_list.py",
     "varRefreshCmd": "print(var_dic_list())"
    },
    "r": {
     "delete_cmd_postfix": ") ",
     "delete_cmd_prefix": "rm(",
     "library": "var_list.r",
     "varRefreshCmd": "cat(var_dic_list()) "
    }
   },
   "types_to_exclude": [
    "module",
    "function",
    "builtin_function_or_method",
    "instance",
    "_Feature"
   ],
   "window_display": false
  }
 },
 "nbformat": 4,
 "nbformat_minor": 2
}
