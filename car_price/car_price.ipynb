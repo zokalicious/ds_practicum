{
 "cells": [
  {
   "cell_type": "markdown",
   "metadata": {},
   "source": [
    "# Определение стоимости автомобилей"
   ]
  },
  {
   "cell_type": "markdown",
   "metadata": {},
   "source": [
    "Сервис по продаже автомобилей с пробегом «Не бит, не крашен» разрабатывает приложение для привлечения новых клиентов. В нём можно быстро узнать рыночную стоимость своего автомобиля. В вашем распоряжении исторические данные: технические характеристики, комплектации и цены автомобилей. Вам нужно построить модель для определения стоимости. \n",
    "\n",
    "Заказчику важны:\n",
    "\n",
    "- качество предсказания;\n",
    "- скорость предсказания;\n",
    "- время обучения."
   ]
  },
  {
   "cell_type": "markdown",
   "metadata": {},
   "source": [
    "## Подготовка данных"
   ]
  },
  {
   "cell_type": "markdown",
   "metadata": {
    "ExecuteTime": {
     "end_time": "2023-04-11T06:58:24.686856Z",
     "start_time": "2023-04-11T06:58:24.669566Z"
    }
   },
   "source": [
    "### Глобальные параметры"
   ]
  },
  {
   "cell_type": "code",
   "execution_count": 1,
   "metadata": {
    "ExecuteTime": {
     "end_time": "2023-04-15T06:16:34.655112Z",
     "start_time": "2023-04-15T06:16:34.641548Z"
    }
   },
   "outputs": [],
   "source": [
    "SEED = 12345 #random state\n",
    "NJOBS = -2 #all cpu cores but one\n",
    "ITERATIONS = 15 #cross val iterations"
   ]
  },
  {
   "cell_type": "markdown",
   "metadata": {
    "ExecuteTime": {
     "end_time": "2023-04-11T06:27:51.797299Z",
     "start_time": "2023-04-11T06:27:51.779259Z"
    }
   },
   "source": [
    "### Загрузка датафрейма и первичный осмотр"
   ]
  },
  {
   "cell_type": "code",
   "execution_count": 2,
   "metadata": {
    "ExecuteTime": {
     "end_time": "2023-04-15T06:16:38.257320Z",
     "start_time": "2023-04-15T06:16:34.656108Z"
    },
    "scrolled": false
   },
   "outputs": [
    {
     "name": "stdout",
     "output_type": "stream",
     "text": [
      "Requirement already satisfied: phik in c:\\programdata\\anaconda3\\lib\\site-packages (0.12.3)\n",
      "Requirement already satisfied: numpy>=1.18.0 in c:\\programdata\\anaconda3\\lib\\site-packages (from phik) (1.23.5)\n",
      "Requirement already satisfied: scipy>=1.5.2 in c:\\programdata\\anaconda3\\lib\\site-packages (from phik) (1.10.0)\n",
      "Requirement already satisfied: joblib>=0.14.1 in c:\\programdata\\anaconda3\\lib\\site-packages (from phik) (1.1.1)\n",
      "Requirement already satisfied: pandas>=0.25.1 in c:\\users\\mx\\appdata\\roaming\\python\\python310\\site-packages (from phik) (1.5.3)\n",
      "Requirement already satisfied: matplotlib>=2.2.3 in c:\\programdata\\anaconda3\\lib\\site-packages (from phik) (3.7.0)\n",
      "Requirement already satisfied: pyparsing>=2.3.1 in c:\\programdata\\anaconda3\\lib\\site-packages (from matplotlib>=2.2.3->phik) (3.0.9)\n",
      "Requirement already satisfied: kiwisolver>=1.0.1 in c:\\programdata\\anaconda3\\lib\\site-packages (from matplotlib>=2.2.3->phik) (1.4.4)\n",
      "Requirement already satisfied: packaging>=20.0 in c:\\programdata\\anaconda3\\lib\\site-packages (from matplotlib>=2.2.3->phik) (22.0)\n",
      "Requirement already satisfied: python-dateutil>=2.7 in c:\\programdata\\anaconda3\\lib\\site-packages (from matplotlib>=2.2.3->phik) (2.8.2)\n",
      "Requirement already satisfied: contourpy>=1.0.1 in c:\\programdata\\anaconda3\\lib\\site-packages (from matplotlib>=2.2.3->phik) (1.0.5)\n",
      "Requirement already satisfied: fonttools>=4.22.0 in c:\\programdata\\anaconda3\\lib\\site-packages (from matplotlib>=2.2.3->phik) (4.25.0)\n",
      "Requirement already satisfied: cycler>=0.10 in c:\\programdata\\anaconda3\\lib\\site-packages (from matplotlib>=2.2.3->phik) (0.11.0)\n",
      "Requirement already satisfied: pillow>=6.2.0 in c:\\programdata\\anaconda3\\lib\\site-packages (from matplotlib>=2.2.3->phik) (9.4.0)\n",
      "Requirement already satisfied: pytz>=2020.1 in c:\\programdata\\anaconda3\\lib\\site-packages (from pandas>=0.25.1->phik) (2022.7)\n",
      "Requirement already satisfied: six>=1.5 in c:\\programdata\\anaconda3\\lib\\site-packages (from python-dateutil>=2.7->matplotlib>=2.2.3->phik) (1.16.0)\n"
     ]
    }
   ],
   "source": [
    "!pip install phik"
   ]
  },
  {
   "cell_type": "code",
   "execution_count": 3,
   "metadata": {
    "ExecuteTime": {
     "end_time": "2023-04-15T06:16:40.302175Z",
     "start_time": "2023-04-15T06:16:38.259312Z"
    }
   },
   "outputs": [],
   "source": [
    "import pandas as pd\n",
    "import numpy as np\n",
    "import phik\n",
    "import seaborn as sns\n",
    "from matplotlib import pyplot as plt\n",
    "from sklearn.model_selection import train_test_split\n",
    "from sklearn.preprocessing import LabelEncoder, StandardScaler\n",
    "from sklearn.tree import DecisionTreeRegressor\n",
    "from lightgbm import LGBMRegressor\n",
    "from catboost import CatBoostRegressor\n",
    "from sklearn.model_selection import RandomizedSearchCV\n",
    "from sklearn.metrics import make_scorer, mean_squared_error\n",
    "from sklearn.dummy import DummyRegressor\n",
    "import time\n",
    "import warnings"
   ]
  },
  {
   "cell_type": "code",
   "execution_count": 4,
   "metadata": {
    "ExecuteTime": {
     "end_time": "2023-04-15T06:16:40.317691Z",
     "start_time": "2023-04-15T06:16:40.303174Z"
    }
   },
   "outputs": [],
   "source": [
    "warnings.filterwarnings('ignore')"
   ]
  },
  {
   "cell_type": "markdown",
   "metadata": {},
   "source": [
    "Загружаем датафрейм с информацией об автомобилях и выведем первые строки:"
   ]
  },
  {
   "cell_type": "code",
   "execution_count": 5,
   "metadata": {
    "ExecuteTime": {
     "end_time": "2023-04-15T06:16:43.161791Z",
     "start_time": "2023-04-15T06:16:40.318688Z"
    }
   },
   "outputs": [],
   "source": [
    "df = pd.read_csv('./datasets/autos.csv',\n",
    "                 parse_dates=['LastSeen', 'DateCreated', 'DateCrawled'])"
   ]
  },
  {
   "cell_type": "code",
   "execution_count": 6,
   "metadata": {
    "ExecuteTime": {
     "end_time": "2023-04-15T06:16:43.191593Z",
     "start_time": "2023-04-15T06:16:43.163787Z"
    },
    "scrolled": false
   },
   "outputs": [
    {
     "data": {
      "text/html": [
       "<div>\n",
       "<style scoped>\n",
       "    .dataframe tbody tr th:only-of-type {\n",
       "        vertical-align: middle;\n",
       "    }\n",
       "\n",
       "    .dataframe tbody tr th {\n",
       "        vertical-align: top;\n",
       "    }\n",
       "\n",
       "    .dataframe thead th {\n",
       "        text-align: right;\n",
       "    }\n",
       "</style>\n",
       "<table border=\"1\" class=\"dataframe\">\n",
       "  <thead>\n",
       "    <tr style=\"text-align: right;\">\n",
       "      <th></th>\n",
       "      <th>DateCrawled</th>\n",
       "      <th>Price</th>\n",
       "      <th>VehicleType</th>\n",
       "      <th>RegistrationYear</th>\n",
       "      <th>Gearbox</th>\n",
       "      <th>Power</th>\n",
       "      <th>Model</th>\n",
       "      <th>Kilometer</th>\n",
       "      <th>RegistrationMonth</th>\n",
       "      <th>FuelType</th>\n",
       "      <th>Brand</th>\n",
       "      <th>Repaired</th>\n",
       "      <th>DateCreated</th>\n",
       "      <th>NumberOfPictures</th>\n",
       "      <th>PostalCode</th>\n",
       "      <th>LastSeen</th>\n",
       "    </tr>\n",
       "  </thead>\n",
       "  <tbody>\n",
       "    <tr>\n",
       "      <th>0</th>\n",
       "      <td>2016-03-24 11:52:17</td>\n",
       "      <td>480</td>\n",
       "      <td>NaN</td>\n",
       "      <td>1993</td>\n",
       "      <td>manual</td>\n",
       "      <td>0</td>\n",
       "      <td>golf</td>\n",
       "      <td>150000</td>\n",
       "      <td>0</td>\n",
       "      <td>petrol</td>\n",
       "      <td>volkswagen</td>\n",
       "      <td>NaN</td>\n",
       "      <td>2016-03-24</td>\n",
       "      <td>0</td>\n",
       "      <td>70435</td>\n",
       "      <td>2016-04-07 03:16:57</td>\n",
       "    </tr>\n",
       "    <tr>\n",
       "      <th>1</th>\n",
       "      <td>2016-03-24 10:58:45</td>\n",
       "      <td>18300</td>\n",
       "      <td>coupe</td>\n",
       "      <td>2011</td>\n",
       "      <td>manual</td>\n",
       "      <td>190</td>\n",
       "      <td>NaN</td>\n",
       "      <td>125000</td>\n",
       "      <td>5</td>\n",
       "      <td>gasoline</td>\n",
       "      <td>audi</td>\n",
       "      <td>yes</td>\n",
       "      <td>2016-03-24</td>\n",
       "      <td>0</td>\n",
       "      <td>66954</td>\n",
       "      <td>2016-04-07 01:46:50</td>\n",
       "    </tr>\n",
       "    <tr>\n",
       "      <th>2</th>\n",
       "      <td>2016-03-14 12:52:21</td>\n",
       "      <td>9800</td>\n",
       "      <td>suv</td>\n",
       "      <td>2004</td>\n",
       "      <td>auto</td>\n",
       "      <td>163</td>\n",
       "      <td>grand</td>\n",
       "      <td>125000</td>\n",
       "      <td>8</td>\n",
       "      <td>gasoline</td>\n",
       "      <td>jeep</td>\n",
       "      <td>NaN</td>\n",
       "      <td>2016-03-14</td>\n",
       "      <td>0</td>\n",
       "      <td>90480</td>\n",
       "      <td>2016-04-05 12:47:46</td>\n",
       "    </tr>\n",
       "    <tr>\n",
       "      <th>3</th>\n",
       "      <td>2016-03-17 16:54:04</td>\n",
       "      <td>1500</td>\n",
       "      <td>small</td>\n",
       "      <td>2001</td>\n",
       "      <td>manual</td>\n",
       "      <td>75</td>\n",
       "      <td>golf</td>\n",
       "      <td>150000</td>\n",
       "      <td>6</td>\n",
       "      <td>petrol</td>\n",
       "      <td>volkswagen</td>\n",
       "      <td>no</td>\n",
       "      <td>2016-03-17</td>\n",
       "      <td>0</td>\n",
       "      <td>91074</td>\n",
       "      <td>2016-03-17 17:40:17</td>\n",
       "    </tr>\n",
       "    <tr>\n",
       "      <th>4</th>\n",
       "      <td>2016-03-31 17:25:20</td>\n",
       "      <td>3600</td>\n",
       "      <td>small</td>\n",
       "      <td>2008</td>\n",
       "      <td>manual</td>\n",
       "      <td>69</td>\n",
       "      <td>fabia</td>\n",
       "      <td>90000</td>\n",
       "      <td>7</td>\n",
       "      <td>gasoline</td>\n",
       "      <td>skoda</td>\n",
       "      <td>no</td>\n",
       "      <td>2016-03-31</td>\n",
       "      <td>0</td>\n",
       "      <td>60437</td>\n",
       "      <td>2016-04-06 10:17:21</td>\n",
       "    </tr>\n",
       "  </tbody>\n",
       "</table>\n",
       "</div>"
      ],
      "text/plain": [
       "          DateCrawled  Price VehicleType  RegistrationYear Gearbox  Power  \\\n",
       "0 2016-03-24 11:52:17    480         NaN              1993  manual      0   \n",
       "1 2016-03-24 10:58:45  18300       coupe              2011  manual    190   \n",
       "2 2016-03-14 12:52:21   9800         suv              2004    auto    163   \n",
       "3 2016-03-17 16:54:04   1500       small              2001  manual     75   \n",
       "4 2016-03-31 17:25:20   3600       small              2008  manual     69   \n",
       "\n",
       "   Model  Kilometer  RegistrationMonth  FuelType       Brand Repaired  \\\n",
       "0   golf     150000                  0    petrol  volkswagen      NaN   \n",
       "1    NaN     125000                  5  gasoline        audi      yes   \n",
       "2  grand     125000                  8  gasoline        jeep      NaN   \n",
       "3   golf     150000                  6    petrol  volkswagen       no   \n",
       "4  fabia      90000                  7  gasoline       skoda       no   \n",
       "\n",
       "  DateCreated  NumberOfPictures  PostalCode            LastSeen  \n",
       "0  2016-03-24                 0       70435 2016-04-07 03:16:57  \n",
       "1  2016-03-24                 0       66954 2016-04-07 01:46:50  \n",
       "2  2016-03-14                 0       90480 2016-04-05 12:47:46  \n",
       "3  2016-03-17                 0       91074 2016-03-17 17:40:17  \n",
       "4  2016-03-31                 0       60437 2016-04-06 10:17:21  "
      ]
     },
     "execution_count": 6,
     "metadata": {},
     "output_type": "execute_result"
    }
   ],
   "source": [
    "df.head()"
   ]
  },
  {
   "cell_type": "code",
   "execution_count": 7,
   "metadata": {
    "ExecuteTime": {
     "end_time": "2023-04-15T06:16:43.392547Z",
     "start_time": "2023-04-15T06:16:43.192667Z"
    }
   },
   "outputs": [
    {
     "name": "stdout",
     "output_type": "stream",
     "text": [
      "<class 'pandas.core.frame.DataFrame'>\n",
      "RangeIndex: 354369 entries, 0 to 354368\n",
      "Data columns (total 16 columns):\n",
      " #   Column             Non-Null Count   Dtype         \n",
      "---  ------             --------------   -----         \n",
      " 0   DateCrawled        354369 non-null  datetime64[ns]\n",
      " 1   Price              354369 non-null  int64         \n",
      " 2   VehicleType        316879 non-null  object        \n",
      " 3   RegistrationYear   354369 non-null  int64         \n",
      " 4   Gearbox            334536 non-null  object        \n",
      " 5   Power              354369 non-null  int64         \n",
      " 6   Model              334664 non-null  object        \n",
      " 7   Kilometer          354369 non-null  int64         \n",
      " 8   RegistrationMonth  354369 non-null  int64         \n",
      " 9   FuelType           321474 non-null  object        \n",
      " 10  Brand              354369 non-null  object        \n",
      " 11  Repaired           283215 non-null  object        \n",
      " 12  DateCreated        354369 non-null  datetime64[ns]\n",
      " 13  NumberOfPictures   354369 non-null  int64         \n",
      " 14  PostalCode         354369 non-null  int64         \n",
      " 15  LastSeen           354369 non-null  datetime64[ns]\n",
      "dtypes: datetime64[ns](3), int64(7), object(6)\n",
      "memory usage: 43.3+ MB\n"
     ]
    }
   ],
   "source": [
    "df.info()"
   ]
  },
  {
   "cell_type": "code",
   "execution_count": 8,
   "metadata": {
    "ExecuteTime": {
     "end_time": "2023-04-15T06:16:45.470690Z",
     "start_time": "2023-04-15T06:16:43.394545Z"
    }
   },
   "outputs": [
    {
     "data": {
      "image/png": "[encoded data removed]",
      "text/plain": [
       "<Figure size 2500x3000 with 12 Axes>"
      ]
     },
     "metadata": {},
     "output_type": "display_data"
    }
   ],
   "source": [
    "#визуально оценим гистограммы распределения параметров\n",
    "df.hist(figsize=(25,30),\n",
    "           color='grey',\n",
    "           bins=40);"
   ]
  },
  {
   "cell_type": "markdown",
   "metadata": {
    "ExecuteTime": {
     "end_time": "2023-04-11T06:28:13.292588Z",
     "start_time": "2023-04-11T06:28:13.278574Z"
    }
   },
   "source": [
    "### Стандартизация названий колонок для Python"
   ]
  },
  {
   "cell_type": "markdown",
   "metadata": {
    "ExecuteTime": {
     "end_time": "2023-04-11T06:21:13.797577Z",
     "start_time": "2023-04-11T06:21:13.786472Z"
    }
   },
   "source": [
    "Приведем названия столбцов к змеиному регистру для удобства:"
   ]
  },
  {
   "cell_type": "code",
   "execution_count": 9,
   "metadata": {
    "ExecuteTime": {
     "end_time": "2023-04-15T06:16:45.485481Z",
     "start_time": "2023-04-15T06:16:45.474001Z"
    },
    "scrolled": false
   },
   "outputs": [
    {
     "data": {
      "text/plain": [
       "Index(['date_crawled', 'price', 'vehicle_type', 'registration_year', 'gearbox',\n",
       "       'power', 'model', 'kilometer', 'registration_month', 'fuel_type',\n",
       "       'brand', 'repaired', 'date_created', 'number_of_pictures',\n",
       "       'postal_code', 'last_seen'],\n",
       "      dtype='object')"
      ]
     },
     "execution_count": 9,
     "metadata": {},
     "output_type": "execute_result"
    }
   ],
   "source": [
    "# находим в названии НЕ первую большую букву и добавляем перед ней подчеркивание\n",
    "snake_columns = [''.join([col[0].lower()] +\n",
    "                         ['_'+ch.lower() if ch.isupper() else ch for ch in col[1:]]) for col in df.columns]\n",
    "df.columns = snake_columns\n",
    "df.columns"
   ]
  },
  {
   "cell_type": "markdown",
   "metadata": {
    "ExecuteTime": {
     "end_time": "2023-04-11T06:28:47.115097Z",
     "start_time": "2023-04-11T06:28:47.109911Z"
    }
   },
   "source": [
    "### Работа с аномалиями и выбросами"
   ]
  },
  {
   "cell_type": "markdown",
   "metadata": {},
   "source": [
    "Оценим распределение численных параметров:"
   ]
  },
  {
   "cell_type": "code",
   "execution_count": 10,
   "metadata": {
    "ExecuteTime": {
     "end_time": "2023-04-15T06:16:45.563070Z",
     "start_time": "2023-04-15T06:16:45.486478Z"
    },
    "scrolled": false
   },
   "outputs": [
    {
     "data": {
      "text/html": [
       "<div>\n",
       "<style scoped>\n",
       "    .dataframe tbody tr th:only-of-type {\n",
       "        vertical-align: middle;\n",
       "    }\n",
       "\n",
       "    .dataframe tbody tr th {\n",
       "        vertical-align: top;\n",
       "    }\n",
       "\n",
       "    .dataframe thead th {\n",
       "        text-align: right;\n",
       "    }\n",
       "</style>\n",
       "<table border=\"1\" class=\"dataframe\">\n",
       "  <thead>\n",
       "    <tr style=\"text-align: right;\">\n",
       "      <th></th>\n",
       "      <th>price</th>\n",
       "      <th>registration_year</th>\n",
       "      <th>power</th>\n",
       "      <th>kilometer</th>\n",
       "      <th>registration_month</th>\n",
       "      <th>number_of_pictures</th>\n",
       "      <th>postal_code</th>\n",
       "    </tr>\n",
       "  </thead>\n",
       "  <tbody>\n",
       "    <tr>\n",
       "      <th>count</th>\n",
       "      <td>354369.000000</td>\n",
       "      <td>354369.000000</td>\n",
       "      <td>354369.000000</td>\n",
       "      <td>354369.000000</td>\n",
       "      <td>354369.000000</td>\n",
       "      <td>354369.0</td>\n",
       "      <td>354369.000000</td>\n",
       "    </tr>\n",
       "    <tr>\n",
       "      <th>mean</th>\n",
       "      <td>4416.656776</td>\n",
       "      <td>2004.234448</td>\n",
       "      <td>110.094337</td>\n",
       "      <td>128211.172535</td>\n",
       "      <td>5.714645</td>\n",
       "      <td>0.0</td>\n",
       "      <td>50508.689087</td>\n",
       "    </tr>\n",
       "    <tr>\n",
       "      <th>std</th>\n",
       "      <td>4514.158514</td>\n",
       "      <td>90.227958</td>\n",
       "      <td>189.850405</td>\n",
       "      <td>37905.341530</td>\n",
       "      <td>3.726421</td>\n",
       "      <td>0.0</td>\n",
       "      <td>25783.096248</td>\n",
       "    </tr>\n",
       "    <tr>\n",
       "      <th>min</th>\n",
       "      <td>0.000000</td>\n",
       "      <td>1000.000000</td>\n",
       "      <td>0.000000</td>\n",
       "      <td>5000.000000</td>\n",
       "      <td>0.000000</td>\n",
       "      <td>0.0</td>\n",
       "      <td>1067.000000</td>\n",
       "    </tr>\n",
       "    <tr>\n",
       "      <th>25%</th>\n",
       "      <td>1050.000000</td>\n",
       "      <td>1999.000000</td>\n",
       "      <td>69.000000</td>\n",
       "      <td>125000.000000</td>\n",
       "      <td>3.000000</td>\n",
       "      <td>0.0</td>\n",
       "      <td>30165.000000</td>\n",
       "    </tr>\n",
       "    <tr>\n",
       "      <th>50%</th>\n",
       "      <td>2700.000000</td>\n",
       "      <td>2003.000000</td>\n",
       "      <td>105.000000</td>\n",
       "      <td>150000.000000</td>\n",
       "      <td>6.000000</td>\n",
       "      <td>0.0</td>\n",
       "      <td>49413.000000</td>\n",
       "    </tr>\n",
       "    <tr>\n",
       "      <th>75%</th>\n",
       "      <td>6400.000000</td>\n",
       "      <td>2008.000000</td>\n",
       "      <td>143.000000</td>\n",
       "      <td>150000.000000</td>\n",
       "      <td>9.000000</td>\n",
       "      <td>0.0</td>\n",
       "      <td>71083.000000</td>\n",
       "    </tr>\n",
       "    <tr>\n",
       "      <th>max</th>\n",
       "      <td>20000.000000</td>\n",
       "      <td>9999.000000</td>\n",
       "      <td>20000.000000</td>\n",
       "      <td>150000.000000</td>\n",
       "      <td>12.000000</td>\n",
       "      <td>0.0</td>\n",
       "      <td>99998.000000</td>\n",
       "    </tr>\n",
       "  </tbody>\n",
       "</table>\n",
       "</div>"
      ],
      "text/plain": [
       "               price  registration_year          power      kilometer  \\\n",
       "count  354369.000000      354369.000000  354369.000000  354369.000000   \n",
       "mean     4416.656776        2004.234448     110.094337  128211.172535   \n",
       "std      4514.158514          90.227958     189.850405   37905.341530   \n",
       "min         0.000000        1000.000000       0.000000    5000.000000   \n",
       "25%      1050.000000        1999.000000      69.000000  125000.000000   \n",
       "50%      2700.000000        2003.000000     105.000000  150000.000000   \n",
       "75%      6400.000000        2008.000000     143.000000  150000.000000   \n",
       "max     20000.000000        9999.000000   20000.000000  150000.000000   \n",
       "\n",
       "       registration_month  number_of_pictures    postal_code  \n",
       "count       354369.000000            354369.0  354369.000000  \n",
       "mean             5.714645                 0.0   50508.689087  \n",
       "std              3.726421                 0.0   25783.096248  \n",
       "min              0.000000                 0.0    1067.000000  \n",
       "25%              3.000000                 0.0   30165.000000  \n",
       "50%              6.000000                 0.0   49413.000000  \n",
       "75%              9.000000                 0.0   71083.000000  \n",
       "max             12.000000                 0.0   99998.000000  "
      ]
     },
     "execution_count": 10,
     "metadata": {},
     "output_type": "execute_result"
    }
   ],
   "source": [
    "df.describe()"
   ]
  },
  {
   "cell_type": "markdown",
   "metadata": {},
   "source": [
    "**Вывод**\n",
    "\n",
    "Видим явные выбросы:\n",
    "- `registration_year` 1000? Интересно конечно. Но вряд ли. 9999? Тоже под вопросом.\n",
    "- `power` - 20000 л.с. Мощно!\n",
    "- `number_of_pictures` всегда 0? Под удаление\n",
    "- `registration_month` - 0? Должно быть от 1 до 12\n",
    "- `price` - 0"
   ]
  },
  {
   "cell_type": "markdown",
   "metadata": {
    "ExecuteTime": {
     "end_time": "2023-04-11T06:37:46.325296Z",
     "start_time": "2023-04-11T06:37:46.308000Z"
    }
   },
   "source": [
    "#### `registration_year`"
   ]
  },
  {
   "cell_type": "markdown",
   "metadata": {},
   "source": [
    "Судя по пост-кодам мы находимся в США. Даже если взять в расчет старые мустанги 50-60х годов, то вряд ли на рынке будет много авто с датой регистрации вне диапазона 1950-2016 (текущий год):"
   ]
  },
  {
   "cell_type": "markdown",
   "metadata": {
    "ExecuteTime": {
     "end_time": "2023-04-11T06:41:27.325653Z",
     "start_time": "2023-04-11T06:41:27.311678Z"
    }
   },
   "source": [
    "Даты размещения объявлений:"
   ]
  },
  {
   "cell_type": "code",
   "execution_count": 11,
   "metadata": {
    "ExecuteTime": {
     "end_time": "2023-04-15T06:16:45.578624Z",
     "start_time": "2023-04-15T06:16:45.565062Z"
    }
   },
   "outputs": [
    {
     "data": {
      "text/plain": [
       "Timestamp('2014-03-10 00:00:00')"
      ]
     },
     "execution_count": 11,
     "metadata": {},
     "output_type": "execute_result"
    }
   ],
   "source": [
    "df.date_created.min()"
   ]
  },
  {
   "cell_type": "code",
   "execution_count": 12,
   "metadata": {
    "ExecuteTime": {
     "end_time": "2023-04-15T06:16:45.594099Z",
     "start_time": "2023-04-15T06:16:45.579622Z"
    }
   },
   "outputs": [
    {
     "data": {
      "text/plain": [
       "Timestamp('2016-04-07 00:00:00')"
      ]
     },
     "execution_count": 12,
     "metadata": {},
     "output_type": "execute_result"
    }
   ],
   "source": [
    "df.date_created.max()"
   ]
  },
  {
   "cell_type": "markdown",
   "metadata": {},
   "source": [
    "Слишком старые авто:"
   ]
  },
  {
   "cell_type": "code",
   "execution_count": 13,
   "metadata": {
    "ExecuteTime": {
     "end_time": "2023-04-15T06:16:45.609406Z",
     "start_time": "2023-04-15T06:16:45.595095Z"
    },
    "scrolled": false
   },
   "outputs": [
    {
     "data": {
      "text/html": [
       "<div>\n",
       "<style scoped>\n",
       "    .dataframe tbody tr th:only-of-type {\n",
       "        vertical-align: middle;\n",
       "    }\n",
       "\n",
       "    .dataframe tbody tr th {\n",
       "        vertical-align: top;\n",
       "    }\n",
       "\n",
       "    .dataframe thead th {\n",
       "        text-align: right;\n",
       "    }\n",
       "</style>\n",
       "<table border=\"1\" class=\"dataframe\">\n",
       "  <thead>\n",
       "    <tr style=\"text-align: right;\">\n",
       "      <th></th>\n",
       "      <th>date_crawled</th>\n",
       "      <th>price</th>\n",
       "      <th>vehicle_type</th>\n",
       "      <th>registration_year</th>\n",
       "      <th>gearbox</th>\n",
       "      <th>power</th>\n",
       "      <th>model</th>\n",
       "      <th>kilometer</th>\n",
       "      <th>registration_month</th>\n",
       "      <th>fuel_type</th>\n",
       "      <th>brand</th>\n",
       "      <th>repaired</th>\n",
       "      <th>date_created</th>\n",
       "      <th>number_of_pictures</th>\n",
       "      <th>postal_code</th>\n",
       "      <th>last_seen</th>\n",
       "    </tr>\n",
       "  </thead>\n",
       "  <tbody>\n",
       "    <tr>\n",
       "      <th>15</th>\n",
       "      <td>2016-03-11 21:39:15</td>\n",
       "      <td>450</td>\n",
       "      <td>small</td>\n",
       "      <td>1910</td>\n",
       "      <td>NaN</td>\n",
       "      <td>0</td>\n",
       "      <td>ka</td>\n",
       "      <td>5000</td>\n",
       "      <td>0</td>\n",
       "      <td>petrol</td>\n",
       "      <td>ford</td>\n",
       "      <td>NaN</td>\n",
       "      <td>2016-03-11</td>\n",
       "      <td>0</td>\n",
       "      <td>24148</td>\n",
       "      <td>2016-03-19 08:46:47</td>\n",
       "    </tr>\n",
       "    <tr>\n",
       "      <th>622</th>\n",
       "      <td>2016-03-16 16:55:09</td>\n",
       "      <td>0</td>\n",
       "      <td>NaN</td>\n",
       "      <td>1111</td>\n",
       "      <td>NaN</td>\n",
       "      <td>0</td>\n",
       "      <td>NaN</td>\n",
       "      <td>5000</td>\n",
       "      <td>0</td>\n",
       "      <td>NaN</td>\n",
       "      <td>opel</td>\n",
       "      <td>NaN</td>\n",
       "      <td>2016-03-16</td>\n",
       "      <td>0</td>\n",
       "      <td>44628</td>\n",
       "      <td>2016-03-20 16:44:37</td>\n",
       "    </tr>\n",
       "    <tr>\n",
       "      <th>1928</th>\n",
       "      <td>2016-03-25 15:58:21</td>\n",
       "      <td>7000</td>\n",
       "      <td>suv</td>\n",
       "      <td>1945</td>\n",
       "      <td>manual</td>\n",
       "      <td>48</td>\n",
       "      <td>other</td>\n",
       "      <td>150000</td>\n",
       "      <td>2</td>\n",
       "      <td>petrol</td>\n",
       "      <td>volkswagen</td>\n",
       "      <td>no</td>\n",
       "      <td>2016-03-25</td>\n",
       "      <td>0</td>\n",
       "      <td>58135</td>\n",
       "      <td>2016-03-25 15:58:21</td>\n",
       "    </tr>\n",
       "    <tr>\n",
       "      <th>2273</th>\n",
       "      <td>2016-03-15 21:44:32</td>\n",
       "      <td>1800</td>\n",
       "      <td>convertible</td>\n",
       "      <td>1925</td>\n",
       "      <td>NaN</td>\n",
       "      <td>0</td>\n",
       "      <td>NaN</td>\n",
       "      <td>5000</td>\n",
       "      <td>1</td>\n",
       "      <td>NaN</td>\n",
       "      <td>sonstige_autos</td>\n",
       "      <td>no</td>\n",
       "      <td>2016-03-15</td>\n",
       "      <td>0</td>\n",
       "      <td>79288</td>\n",
       "      <td>2016-04-07 05:15:34</td>\n",
       "    </tr>\n",
       "    <tr>\n",
       "      <th>3333</th>\n",
       "      <td>2016-03-15 21:36:20</td>\n",
       "      <td>10500</td>\n",
       "      <td>sedan</td>\n",
       "      <td>1955</td>\n",
       "      <td>manual</td>\n",
       "      <td>30</td>\n",
       "      <td>other</td>\n",
       "      <td>60000</td>\n",
       "      <td>0</td>\n",
       "      <td>petrol</td>\n",
       "      <td>ford</td>\n",
       "      <td>NaN</td>\n",
       "      <td>2016-03-15</td>\n",
       "      <td>0</td>\n",
       "      <td>53498</td>\n",
       "      <td>2016-04-07 08:16:11</td>\n",
       "    </tr>\n",
       "  </tbody>\n",
       "</table>\n",
       "</div>"
      ],
      "text/plain": [
       "            date_crawled  price vehicle_type  registration_year gearbox  \\\n",
       "15   2016-03-11 21:39:15    450        small               1910     NaN   \n",
       "622  2016-03-16 16:55:09      0          NaN               1111     NaN   \n",
       "1928 2016-03-25 15:58:21   7000          suv               1945  manual   \n",
       "2273 2016-03-15 21:44:32   1800  convertible               1925     NaN   \n",
       "3333 2016-03-15 21:36:20  10500        sedan               1955  manual   \n",
       "\n",
       "      power  model  kilometer  registration_month fuel_type           brand  \\\n",
       "15        0     ka       5000                   0    petrol            ford   \n",
       "622       0    NaN       5000                   0       NaN            opel   \n",
       "1928     48  other     150000                   2    petrol      volkswagen   \n",
       "2273      0    NaN       5000                   1       NaN  sonstige_autos   \n",
       "3333     30  other      60000                   0    petrol            ford   \n",
       "\n",
       "     repaired date_created  number_of_pictures  postal_code  \\\n",
       "15        NaN   2016-03-11                   0        24148   \n",
       "622       NaN   2016-03-16                   0        44628   \n",
       "1928       no   2016-03-25                   0        58135   \n",
       "2273       no   2016-03-15                   0        79288   \n",
       "3333      NaN   2016-03-15                   0        53498   \n",
       "\n",
       "               last_seen  \n",
       "15   2016-03-19 08:46:47  \n",
       "622  2016-03-20 16:44:37  \n",
       "1928 2016-03-25 15:58:21  \n",
       "2273 2016-04-07 05:15:34  \n",
       "3333 2016-04-07 08:16:11  "
      ]
     },
     "execution_count": 13,
     "metadata": {},
     "output_type": "execute_result"
    }
   ],
   "source": [
    "df.query('registration_year < 1960').head()"
   ]
  },
  {
   "cell_type": "markdown",
   "metadata": {
    "ExecuteTime": {
     "end_time": "2023-04-11T06:53:36.263303Z",
     "start_time": "2023-04-11T06:53:36.260109Z"
    }
   },
   "source": [
    "Всего у нас почти 350000 объявлений. Смело удаляем эти 422 строки:"
   ]
  },
  {
   "cell_type": "code",
   "execution_count": 14,
   "metadata": {
    "ExecuteTime": {
     "end_time": "2023-04-15T06:16:45.640989Z",
     "start_time": "2023-04-15T06:16:45.610913Z"
    }
   },
   "outputs": [],
   "source": [
    "df = df[df['registration_year'] > 1960]"
   ]
  },
  {
   "cell_type": "markdown",
   "metadata": {
    "ExecuteTime": {
     "end_time": "2023-04-11T06:43:41.889815Z",
     "start_time": "2023-04-11T06:43:41.876368Z"
    }
   },
   "source": [
    "Есть и объявления моложе 2016 года:"
   ]
  },
  {
   "cell_type": "code",
   "execution_count": 15,
   "metadata": {
    "ExecuteTime": {
     "end_time": "2023-04-15T06:16:45.672649Z",
     "start_time": "2023-04-15T06:16:45.642032Z"
    },
    "scrolled": false
   },
   "outputs": [
    {
     "data": {
      "text/html": [
       "<div>\n",
       "<style scoped>\n",
       "    .dataframe tbody tr th:only-of-type {\n",
       "        vertical-align: middle;\n",
       "    }\n",
       "\n",
       "    .dataframe tbody tr th {\n",
       "        vertical-align: top;\n",
       "    }\n",
       "\n",
       "    .dataframe thead th {\n",
       "        text-align: right;\n",
       "    }\n",
       "</style>\n",
       "<table border=\"1\" class=\"dataframe\">\n",
       "  <thead>\n",
       "    <tr style=\"text-align: right;\">\n",
       "      <th></th>\n",
       "      <th>date_crawled</th>\n",
       "      <th>price</th>\n",
       "      <th>vehicle_type</th>\n",
       "      <th>registration_year</th>\n",
       "      <th>gearbox</th>\n",
       "      <th>power</th>\n",
       "      <th>model</th>\n",
       "      <th>kilometer</th>\n",
       "      <th>registration_month</th>\n",
       "      <th>fuel_type</th>\n",
       "      <th>brand</th>\n",
       "      <th>repaired</th>\n",
       "      <th>date_created</th>\n",
       "      <th>number_of_pictures</th>\n",
       "      <th>postal_code</th>\n",
       "      <th>last_seen</th>\n",
       "    </tr>\n",
       "  </thead>\n",
       "  <tbody>\n",
       "    <tr>\n",
       "      <th>22</th>\n",
       "      <td>2016-03-23 14:52:51</td>\n",
       "      <td>2900</td>\n",
       "      <td>NaN</td>\n",
       "      <td>2018</td>\n",
       "      <td>manual</td>\n",
       "      <td>90</td>\n",
       "      <td>meriva</td>\n",
       "      <td>150000</td>\n",
       "      <td>5</td>\n",
       "      <td>petrol</td>\n",
       "      <td>opel</td>\n",
       "      <td>no</td>\n",
       "      <td>2016-03-23</td>\n",
       "      <td>0</td>\n",
       "      <td>49716</td>\n",
       "      <td>2016-03-31 01:16:33</td>\n",
       "    </tr>\n",
       "    <tr>\n",
       "      <th>26</th>\n",
       "      <td>2016-03-10 19:38:18</td>\n",
       "      <td>5555</td>\n",
       "      <td>NaN</td>\n",
       "      <td>2017</td>\n",
       "      <td>manual</td>\n",
       "      <td>125</td>\n",
       "      <td>c4</td>\n",
       "      <td>125000</td>\n",
       "      <td>4</td>\n",
       "      <td>NaN</td>\n",
       "      <td>citroen</td>\n",
       "      <td>no</td>\n",
       "      <td>2016-03-10</td>\n",
       "      <td>0</td>\n",
       "      <td>31139</td>\n",
       "      <td>2016-03-16 09:16:46</td>\n",
       "    </tr>\n",
       "    <tr>\n",
       "      <th>48</th>\n",
       "      <td>2016-03-25 14:40:12</td>\n",
       "      <td>7750</td>\n",
       "      <td>NaN</td>\n",
       "      <td>2017</td>\n",
       "      <td>manual</td>\n",
       "      <td>80</td>\n",
       "      <td>golf</td>\n",
       "      <td>100000</td>\n",
       "      <td>1</td>\n",
       "      <td>petrol</td>\n",
       "      <td>volkswagen</td>\n",
       "      <td>NaN</td>\n",
       "      <td>2016-03-25</td>\n",
       "      <td>0</td>\n",
       "      <td>48499</td>\n",
       "      <td>2016-03-31 21:47:44</td>\n",
       "    </tr>\n",
       "    <tr>\n",
       "      <th>51</th>\n",
       "      <td>2016-03-07 18:57:08</td>\n",
       "      <td>2000</td>\n",
       "      <td>NaN</td>\n",
       "      <td>2017</td>\n",
       "      <td>manual</td>\n",
       "      <td>90</td>\n",
       "      <td>punto</td>\n",
       "      <td>150000</td>\n",
       "      <td>11</td>\n",
       "      <td>gasoline</td>\n",
       "      <td>fiat</td>\n",
       "      <td>yes</td>\n",
       "      <td>2016-03-07</td>\n",
       "      <td>0</td>\n",
       "      <td>66115</td>\n",
       "      <td>2016-03-07 18:57:08</td>\n",
       "    </tr>\n",
       "    <tr>\n",
       "      <th>57</th>\n",
       "      <td>2016-03-10 20:53:19</td>\n",
       "      <td>2399</td>\n",
       "      <td>NaN</td>\n",
       "      <td>2018</td>\n",
       "      <td>manual</td>\n",
       "      <td>64</td>\n",
       "      <td>other</td>\n",
       "      <td>125000</td>\n",
       "      <td>3</td>\n",
       "      <td>NaN</td>\n",
       "      <td>seat</td>\n",
       "      <td>no</td>\n",
       "      <td>2016-03-10</td>\n",
       "      <td>0</td>\n",
       "      <td>33397</td>\n",
       "      <td>2016-03-25 10:17:37</td>\n",
       "    </tr>\n",
       "    <tr>\n",
       "      <th>...</th>\n",
       "      <td>...</td>\n",
       "      <td>...</td>\n",
       "      <td>...</td>\n",
       "      <td>...</td>\n",
       "      <td>...</td>\n",
       "      <td>...</td>\n",
       "      <td>...</td>\n",
       "      <td>...</td>\n",
       "      <td>...</td>\n",
       "      <td>...</td>\n",
       "      <td>...</td>\n",
       "      <td>...</td>\n",
       "      <td>...</td>\n",
       "      <td>...</td>\n",
       "      <td>...</td>\n",
       "      <td>...</td>\n",
       "    </tr>\n",
       "    <tr>\n",
       "      <th>354112</th>\n",
       "      <td>2016-03-11 15:49:51</td>\n",
       "      <td>3600</td>\n",
       "      <td>NaN</td>\n",
       "      <td>2017</td>\n",
       "      <td>manual</td>\n",
       "      <td>86</td>\n",
       "      <td>transit</td>\n",
       "      <td>150000</td>\n",
       "      <td>5</td>\n",
       "      <td>gasoline</td>\n",
       "      <td>ford</td>\n",
       "      <td>NaN</td>\n",
       "      <td>2016-03-11</td>\n",
       "      <td>0</td>\n",
       "      <td>32339</td>\n",
       "      <td>2016-03-12 05:45:02</td>\n",
       "    </tr>\n",
       "    <tr>\n",
       "      <th>354140</th>\n",
       "      <td>2016-03-29 16:47:29</td>\n",
       "      <td>1000</td>\n",
       "      <td>NaN</td>\n",
       "      <td>2017</td>\n",
       "      <td>manual</td>\n",
       "      <td>101</td>\n",
       "      <td>a4</td>\n",
       "      <td>150000</td>\n",
       "      <td>9</td>\n",
       "      <td>NaN</td>\n",
       "      <td>audi</td>\n",
       "      <td>NaN</td>\n",
       "      <td>2016-03-29</td>\n",
       "      <td>0</td>\n",
       "      <td>38315</td>\n",
       "      <td>2016-04-06 02:44:27</td>\n",
       "    </tr>\n",
       "    <tr>\n",
       "      <th>354203</th>\n",
       "      <td>2016-03-17 00:56:26</td>\n",
       "      <td>2140</td>\n",
       "      <td>NaN</td>\n",
       "      <td>2018</td>\n",
       "      <td>manual</td>\n",
       "      <td>80</td>\n",
       "      <td>fiesta</td>\n",
       "      <td>150000</td>\n",
       "      <td>6</td>\n",
       "      <td>NaN</td>\n",
       "      <td>ford</td>\n",
       "      <td>no</td>\n",
       "      <td>2016-03-17</td>\n",
       "      <td>0</td>\n",
       "      <td>44866</td>\n",
       "      <td>2016-03-29 15:45:04</td>\n",
       "    </tr>\n",
       "    <tr>\n",
       "      <th>354253</th>\n",
       "      <td>2016-03-25 09:37:59</td>\n",
       "      <td>1250</td>\n",
       "      <td>NaN</td>\n",
       "      <td>2018</td>\n",
       "      <td>NaN</td>\n",
       "      <td>0</td>\n",
       "      <td>corsa</td>\n",
       "      <td>150000</td>\n",
       "      <td>0</td>\n",
       "      <td>petrol</td>\n",
       "      <td>opel</td>\n",
       "      <td>NaN</td>\n",
       "      <td>2016-03-25</td>\n",
       "      <td>0</td>\n",
       "      <td>45527</td>\n",
       "      <td>2016-04-06 07:46:13</td>\n",
       "    </tr>\n",
       "    <tr>\n",
       "      <th>354289</th>\n",
       "      <td>2016-03-05 14:55:29</td>\n",
       "      <td>5000</td>\n",
       "      <td>NaN</td>\n",
       "      <td>2017</td>\n",
       "      <td>manual</td>\n",
       "      <td>120</td>\n",
       "      <td>other</td>\n",
       "      <td>150000</td>\n",
       "      <td>7</td>\n",
       "      <td>NaN</td>\n",
       "      <td>citroen</td>\n",
       "      <td>yes</td>\n",
       "      <td>2016-03-05</td>\n",
       "      <td>0</td>\n",
       "      <td>15518</td>\n",
       "      <td>2016-04-05 11:48:09</td>\n",
       "    </tr>\n",
       "  </tbody>\n",
       "</table>\n",
       "<p>14530 rows × 16 columns</p>\n",
       "</div>"
      ],
      "text/plain": [
       "              date_crawled  price vehicle_type  registration_year gearbox  \\\n",
       "22     2016-03-23 14:52:51   2900          NaN               2018  manual   \n",
       "26     2016-03-10 19:38:18   5555          NaN               2017  manual   \n",
       "48     2016-03-25 14:40:12   7750          NaN               2017  manual   \n",
       "51     2016-03-07 18:57:08   2000          NaN               2017  manual   \n",
       "57     2016-03-10 20:53:19   2399          NaN               2018  manual   \n",
       "...                    ...    ...          ...                ...     ...   \n",
       "354112 2016-03-11 15:49:51   3600          NaN               2017  manual   \n",
       "354140 2016-03-29 16:47:29   1000          NaN               2017  manual   \n",
       "354203 2016-03-17 00:56:26   2140          NaN               2018  manual   \n",
       "354253 2016-03-25 09:37:59   1250          NaN               2018     NaN   \n",
       "354289 2016-03-05 14:55:29   5000          NaN               2017  manual   \n",
       "\n",
       "        power    model  kilometer  registration_month fuel_type       brand  \\\n",
       "22         90   meriva     150000                   5    petrol        opel   \n",
       "26        125       c4     125000                   4       NaN     citroen   \n",
       "48         80     golf     100000                   1    petrol  volkswagen   \n",
       "51         90    punto     150000                  11  gasoline        fiat   \n",
       "57         64    other     125000                   3       NaN        seat   \n",
       "...       ...      ...        ...                 ...       ...         ...   \n",
       "354112     86  transit     150000                   5  gasoline        ford   \n",
       "354140    101       a4     150000                   9       NaN        audi   \n",
       "354203     80   fiesta     150000                   6       NaN        ford   \n",
       "354253      0    corsa     150000                   0    petrol        opel   \n",
       "354289    120    other     150000                   7       NaN     citroen   \n",
       "\n",
       "       repaired date_created  number_of_pictures  postal_code  \\\n",
       "22           no   2016-03-23                   0        49716   \n",
       "26           no   2016-03-10                   0        31139   \n",
       "48          NaN   2016-03-25                   0        48499   \n",
       "51          yes   2016-03-07                   0        66115   \n",
       "57           no   2016-03-10                   0        33397   \n",
       "...         ...          ...                 ...          ...   \n",
       "354112      NaN   2016-03-11                   0        32339   \n",
       "354140      NaN   2016-03-29                   0        38315   \n",
       "354203       no   2016-03-17                   0        44866   \n",
       "354253      NaN   2016-03-25                   0        45527   \n",
       "354289      yes   2016-03-05                   0        15518   \n",
       "\n",
       "                 last_seen  \n",
       "22     2016-03-31 01:16:33  \n",
       "26     2016-03-16 09:16:46  \n",
       "48     2016-03-31 21:47:44  \n",
       "51     2016-03-07 18:57:08  \n",
       "57     2016-03-25 10:17:37  \n",
       "...                    ...  \n",
       "354112 2016-03-12 05:45:02  \n",
       "354140 2016-04-06 02:44:27  \n",
       "354203 2016-03-29 15:45:04  \n",
       "354253 2016-04-06 07:46:13  \n",
       "354289 2016-04-05 11:48:09  \n",
       "\n",
       "[14530 rows x 16 columns]"
      ]
     },
     "execution_count": 15,
     "metadata": {},
     "output_type": "execute_result"
    }
   ],
   "source": [
    "df.query('registration_year > 2016')"
   ]
  },
  {
   "cell_type": "markdown",
   "metadata": {
    "ExecuteTime": {
     "end_time": "2023-04-11T06:56:56.235790Z",
     "start_time": "2023-04-11T06:56:56.228427Z"
    }
   },
   "source": [
    "Вряд ли это новые авто, так как пробег весьма высок. И выбрасывать не хочется аж 14530 рядов. Попробуем посчитать средний возраст автомобиля и предположить, что пробег с ним связан:"
   ]
  },
  {
   "cell_type": "code",
   "execution_count": 16,
   "metadata": {
    "ExecuteTime": {
     "end_time": "2023-04-15T06:16:45.688136Z",
     "start_time": "2023-04-15T06:16:45.673649Z"
    }
   },
   "outputs": [
    {
     "data": {
      "text/plain": [
       "12.0"
      ]
     },
     "execution_count": 16,
     "metadata": {},
     "output_type": "execute_result"
    }
   ],
   "source": [
    "2016 - df['registration_year'].mean().round()"
   ]
  },
  {
   "cell_type": "markdown",
   "metadata": {},
   "source": [
    "Предполагаем, что на возрасте 12 лет достигаем пробега более 150000, на возрасте 0 лет пробег до 5000км:"
   ]
  },
  {
   "cell_type": "code",
   "execution_count": 17,
   "metadata": {
    "ExecuteTime": {
     "end_time": "2023-04-15T06:16:45.703706Z",
     "start_time": "2023-04-15T06:16:45.689131Z"
    }
   },
   "outputs": [],
   "source": [
    "df.loc[df['registration_year'] > 2016, 'registration_year'] = \\\n",
    "            2016 - round(12/150_000*df['kilometer'])"
   ]
  },
  {
   "cell_type": "markdown",
   "metadata": {
    "ExecuteTime": {
     "end_time": "2023-04-11T07:15:05.980303Z",
     "start_time": "2023-04-11T07:15:05.970401Z"
    }
   },
   "source": [
    "#### `registration_month`"
   ]
  },
  {
   "cell_type": "code",
   "execution_count": 18,
   "metadata": {
    "ExecuteTime": {
     "end_time": "2023-04-15T06:16:45.735646Z",
     "start_time": "2023-04-15T06:16:45.704703Z"
    }
   },
   "outputs": [
    {
     "data": {
      "text/html": [
       "<div>\n",
       "<style scoped>\n",
       "    .dataframe tbody tr th:only-of-type {\n",
       "        vertical-align: middle;\n",
       "    }\n",
       "\n",
       "    .dataframe tbody tr th {\n",
       "        vertical-align: top;\n",
       "    }\n",
       "\n",
       "    .dataframe thead th {\n",
       "        text-align: right;\n",
       "    }\n",
       "</style>\n",
       "<table border=\"1\" class=\"dataframe\">\n",
       "  <thead>\n",
       "    <tr style=\"text-align: right;\">\n",
       "      <th></th>\n",
       "      <th>date_crawled</th>\n",
       "      <th>price</th>\n",
       "      <th>vehicle_type</th>\n",
       "      <th>registration_year</th>\n",
       "      <th>gearbox</th>\n",
       "      <th>power</th>\n",
       "      <th>model</th>\n",
       "      <th>kilometer</th>\n",
       "      <th>registration_month</th>\n",
       "      <th>fuel_type</th>\n",
       "      <th>brand</th>\n",
       "      <th>repaired</th>\n",
       "      <th>date_created</th>\n",
       "      <th>number_of_pictures</th>\n",
       "      <th>postal_code</th>\n",
       "      <th>last_seen</th>\n",
       "    </tr>\n",
       "  </thead>\n",
       "  <tbody>\n",
       "    <tr>\n",
       "      <th>0</th>\n",
       "      <td>2016-03-24 11:52:17</td>\n",
       "      <td>480</td>\n",
       "      <td>NaN</td>\n",
       "      <td>1993</td>\n",
       "      <td>manual</td>\n",
       "      <td>0</td>\n",
       "      <td>golf</td>\n",
       "      <td>150000</td>\n",
       "      <td>0</td>\n",
       "      <td>petrol</td>\n",
       "      <td>volkswagen</td>\n",
       "      <td>NaN</td>\n",
       "      <td>2016-03-24</td>\n",
       "      <td>0</td>\n",
       "      <td>70435</td>\n",
       "      <td>2016-04-07 03:16:57</td>\n",
       "    </tr>\n",
       "    <tr>\n",
       "      <th>9</th>\n",
       "      <td>2016-03-17 10:53:50</td>\n",
       "      <td>999</td>\n",
       "      <td>small</td>\n",
       "      <td>1998</td>\n",
       "      <td>manual</td>\n",
       "      <td>101</td>\n",
       "      <td>golf</td>\n",
       "      <td>150000</td>\n",
       "      <td>0</td>\n",
       "      <td>NaN</td>\n",
       "      <td>volkswagen</td>\n",
       "      <td>NaN</td>\n",
       "      <td>2016-03-17</td>\n",
       "      <td>0</td>\n",
       "      <td>27472</td>\n",
       "      <td>2016-03-31 17:17:06</td>\n",
       "    </tr>\n",
       "    <tr>\n",
       "      <th>16</th>\n",
       "      <td>2016-04-01 12:46:46</td>\n",
       "      <td>300</td>\n",
       "      <td>NaN</td>\n",
       "      <td>2016</td>\n",
       "      <td>NaN</td>\n",
       "      <td>60</td>\n",
       "      <td>polo</td>\n",
       "      <td>150000</td>\n",
       "      <td>0</td>\n",
       "      <td>petrol</td>\n",
       "      <td>volkswagen</td>\n",
       "      <td>NaN</td>\n",
       "      <td>2016-04-01</td>\n",
       "      <td>0</td>\n",
       "      <td>38871</td>\n",
       "      <td>2016-04-01 12:46:46</td>\n",
       "    </tr>\n",
       "    <tr>\n",
       "      <th>36</th>\n",
       "      <td>2016-03-11 11:50:37</td>\n",
       "      <td>1600</td>\n",
       "      <td>other</td>\n",
       "      <td>1991</td>\n",
       "      <td>manual</td>\n",
       "      <td>75</td>\n",
       "      <td>kadett</td>\n",
       "      <td>70000</td>\n",
       "      <td>0</td>\n",
       "      <td>NaN</td>\n",
       "      <td>opel</td>\n",
       "      <td>NaN</td>\n",
       "      <td>2016-03-11</td>\n",
       "      <td>0</td>\n",
       "      <td>2943</td>\n",
       "      <td>2016-04-07 03:46:09</td>\n",
       "    </tr>\n",
       "    <tr>\n",
       "      <th>54</th>\n",
       "      <td>2016-03-17 07:56:40</td>\n",
       "      <td>4700</td>\n",
       "      <td>wagon</td>\n",
       "      <td>2005</td>\n",
       "      <td>manual</td>\n",
       "      <td>0</td>\n",
       "      <td>signum</td>\n",
       "      <td>150000</td>\n",
       "      <td>0</td>\n",
       "      <td>NaN</td>\n",
       "      <td>opel</td>\n",
       "      <td>no</td>\n",
       "      <td>2016-03-17</td>\n",
       "      <td>0</td>\n",
       "      <td>88433</td>\n",
       "      <td>2016-04-04 04:17:32</td>\n",
       "    </tr>\n",
       "    <tr>\n",
       "      <th>...</th>\n",
       "      <td>...</td>\n",
       "      <td>...</td>\n",
       "      <td>...</td>\n",
       "      <td>...</td>\n",
       "      <td>...</td>\n",
       "      <td>...</td>\n",
       "      <td>...</td>\n",
       "      <td>...</td>\n",
       "      <td>...</td>\n",
       "      <td>...</td>\n",
       "      <td>...</td>\n",
       "      <td>...</td>\n",
       "      <td>...</td>\n",
       "      <td>...</td>\n",
       "      <td>...</td>\n",
       "      <td>...</td>\n",
       "    </tr>\n",
       "    <tr>\n",
       "      <th>354305</th>\n",
       "      <td>2016-04-03 13:46:24</td>\n",
       "      <td>3500</td>\n",
       "      <td>NaN</td>\n",
       "      <td>1995</td>\n",
       "      <td>NaN</td>\n",
       "      <td>0</td>\n",
       "      <td>polo</td>\n",
       "      <td>150000</td>\n",
       "      <td>0</td>\n",
       "      <td>NaN</td>\n",
       "      <td>volkswagen</td>\n",
       "      <td>NaN</td>\n",
       "      <td>2016-04-03</td>\n",
       "      <td>0</td>\n",
       "      <td>74579</td>\n",
       "      <td>2016-04-05 12:44:38</td>\n",
       "    </tr>\n",
       "    <tr>\n",
       "      <th>354318</th>\n",
       "      <td>2016-03-15 19:57:11</td>\n",
       "      <td>400</td>\n",
       "      <td>wagon</td>\n",
       "      <td>1991</td>\n",
       "      <td>manual</td>\n",
       "      <td>0</td>\n",
       "      <td>legacy</td>\n",
       "      <td>150000</td>\n",
       "      <td>0</td>\n",
       "      <td>petrol</td>\n",
       "      <td>subaru</td>\n",
       "      <td>NaN</td>\n",
       "      <td>2016-03-15</td>\n",
       "      <td>0</td>\n",
       "      <td>24558</td>\n",
       "      <td>2016-03-19 15:49:00</td>\n",
       "    </tr>\n",
       "    <tr>\n",
       "      <th>354326</th>\n",
       "      <td>2016-03-31 19:36:18</td>\n",
       "      <td>1300</td>\n",
       "      <td>small</td>\n",
       "      <td>1999</td>\n",
       "      <td>manual</td>\n",
       "      <td>75</td>\n",
       "      <td>2_reihe</td>\n",
       "      <td>125000</td>\n",
       "      <td>0</td>\n",
       "      <td>NaN</td>\n",
       "      <td>peugeot</td>\n",
       "      <td>NaN</td>\n",
       "      <td>2016-03-31</td>\n",
       "      <td>0</td>\n",
       "      <td>35102</td>\n",
       "      <td>2016-04-06 13:44:44</td>\n",
       "    </tr>\n",
       "    <tr>\n",
       "      <th>354329</th>\n",
       "      <td>2016-03-30 20:55:30</td>\n",
       "      <td>350</td>\n",
       "      <td>small</td>\n",
       "      <td>1996</td>\n",
       "      <td>NaN</td>\n",
       "      <td>65</td>\n",
       "      <td>punto</td>\n",
       "      <td>150000</td>\n",
       "      <td>0</td>\n",
       "      <td>NaN</td>\n",
       "      <td>fiat</td>\n",
       "      <td>NaN</td>\n",
       "      <td>2016-03-30</td>\n",
       "      <td>0</td>\n",
       "      <td>25436</td>\n",
       "      <td>2016-04-07 13:50:41</td>\n",
       "    </tr>\n",
       "    <tr>\n",
       "      <th>354337</th>\n",
       "      <td>2016-03-26 14:38:18</td>\n",
       "      <td>11500</td>\n",
       "      <td>sedan</td>\n",
       "      <td>2004</td>\n",
       "      <td>auto</td>\n",
       "      <td>445</td>\n",
       "      <td>7er</td>\n",
       "      <td>125000</td>\n",
       "      <td>0</td>\n",
       "      <td>petrol</td>\n",
       "      <td>bmw</td>\n",
       "      <td>NaN</td>\n",
       "      <td>2016-03-26</td>\n",
       "      <td>0</td>\n",
       "      <td>4107</td>\n",
       "      <td>2016-04-06 20:45:16</td>\n",
       "    </tr>\n",
       "  </tbody>\n",
       "</table>\n",
       "<p>37081 rows × 16 columns</p>\n",
       "</div>"
      ],
      "text/plain": [
       "              date_crawled  price vehicle_type  registration_year gearbox  \\\n",
       "0      2016-03-24 11:52:17    480          NaN               1993  manual   \n",
       "9      2016-03-17 10:53:50    999        small               1998  manual   \n",
       "16     2016-04-01 12:46:46    300          NaN               2016     NaN   \n",
       "36     2016-03-11 11:50:37   1600        other               1991  manual   \n",
       "54     2016-03-17 07:56:40   4700        wagon               2005  manual   \n",
       "...                    ...    ...          ...                ...     ...   \n",
       "354305 2016-04-03 13:46:24   3500          NaN               1995     NaN   \n",
       "354318 2016-03-15 19:57:11    400        wagon               1991  manual   \n",
       "354326 2016-03-31 19:36:18   1300        small               1999  manual   \n",
       "354329 2016-03-30 20:55:30    350        small               1996     NaN   \n",
       "354337 2016-03-26 14:38:18  11500        sedan               2004    auto   \n",
       "\n",
       "        power    model  kilometer  registration_month fuel_type       brand  \\\n",
       "0           0     golf     150000                   0    petrol  volkswagen   \n",
       "9         101     golf     150000                   0       NaN  volkswagen   \n",
       "16         60     polo     150000                   0    petrol  volkswagen   \n",
       "36         75   kadett      70000                   0       NaN        opel   \n",
       "54          0   signum     150000                   0       NaN        opel   \n",
       "...       ...      ...        ...                 ...       ...         ...   \n",
       "354305      0     polo     150000                   0       NaN  volkswagen   \n",
       "354318      0   legacy     150000                   0    petrol      subaru   \n",
       "354326     75  2_reihe     125000                   0       NaN     peugeot   \n",
       "354329     65    punto     150000                   0       NaN        fiat   \n",
       "354337    445      7er     125000                   0    petrol         bmw   \n",
       "\n",
       "       repaired date_created  number_of_pictures  postal_code  \\\n",
       "0           NaN   2016-03-24                   0        70435   \n",
       "9           NaN   2016-03-17                   0        27472   \n",
       "16          NaN   2016-04-01                   0        38871   \n",
       "36          NaN   2016-03-11                   0         2943   \n",
       "54           no   2016-03-17                   0        88433   \n",
       "...         ...          ...                 ...          ...   \n",
       "354305      NaN   2016-04-03                   0        74579   \n",
       "354318      NaN   2016-03-15                   0        24558   \n",
       "354326      NaN   2016-03-31                   0        35102   \n",
       "354329      NaN   2016-03-30                   0        25436   \n",
       "354337      NaN   2016-03-26                   0         4107   \n",
       "\n",
       "                 last_seen  \n",
       "0      2016-04-07 03:16:57  \n",
       "9      2016-03-31 17:17:06  \n",
       "16     2016-04-01 12:46:46  \n",
       "36     2016-04-07 03:46:09  \n",
       "54     2016-04-04 04:17:32  \n",
       "...                    ...  \n",
       "354305 2016-04-05 12:44:38  \n",
       "354318 2016-03-19 15:49:00  \n",
       "354326 2016-04-06 13:44:44  \n",
       "354329 2016-04-07 13:50:41  \n",
       "354337 2016-04-06 20:45:16  \n",
       "\n",
       "[37081 rows x 16 columns]"
      ]
     },
     "execution_count": 18,
     "metadata": {},
     "output_type": "execute_result"
    }
   ],
   "source": [
    "df.query('registration_month == 0')"
   ]
  },
  {
   "cell_type": "code",
   "execution_count": 19,
   "metadata": {
    "ExecuteTime": {
     "end_time": "2023-04-15T06:16:45.890066Z",
     "start_time": "2023-04-15T06:16:45.736644Z"
    }
   },
   "outputs": [
    {
     "data": {
      "image/png": "[encoded data removed]",
      "text/plain": [
       "<Figure size 600x400 with 1 Axes>"
      ]
     },
     "metadata": {},
     "output_type": "display_data"
    }
   ],
   "source": [
    "df['registration_month'].hist(bins=13,\n",
    "                             figsize=(6,4));"
   ]
  },
  {
   "cell_type": "markdown",
   "metadata": {
    "ExecuteTime": {
     "end_time": "2023-04-11T07:18:24.100586Z",
     "start_time": "2023-04-11T07:18:24.080151Z"
    }
   },
   "source": [
    "В целом, распределение месяца регистрации более-менее равномерное."
   ]
  },
  {
   "cell_type": "markdown",
   "metadata": {
    "ExecuteTime": {
     "end_time": "2023-04-11T07:18:41.024678Z",
     "start_time": "2023-04-11T07:18:41.009432Z"
    }
   },
   "source": [
    "Так как значений много, удалять строки не хочется, заполним случайным значением от 1 до 12, пусть будет равномерное распределение:"
   ]
  },
  {
   "cell_type": "code",
   "execution_count": 20,
   "metadata": {
    "ExecuteTime": {
     "end_time": "2023-04-15T06:16:45.983104Z",
     "start_time": "2023-04-15T06:16:45.891064Z"
    }
   },
   "outputs": [],
   "source": [
    "random_months = df.loc[df['registration_month'] == 0, 'registration_month']\n",
    "random_months = random_months.apply(lambda x: np.random.randint(1, 12))"
   ]
  },
  {
   "cell_type": "code",
   "execution_count": 21,
   "metadata": {
    "ExecuteTime": {
     "end_time": "2023-04-15T06:16:45.998575Z",
     "start_time": "2023-04-15T06:16:45.985100Z"
    }
   },
   "outputs": [],
   "source": [
    "df.loc[df['registration_month'] == 0, 'registration_month'] = random_months"
   ]
  },
  {
   "cell_type": "markdown",
   "metadata": {
    "ExecuteTime": {
     "end_time": "2023-04-11T07:05:01.069081Z",
     "start_time": "2023-04-11T07:05:01.062800Z"
    }
   },
   "source": [
    "#### `power`"
   ]
  },
  {
   "cell_type": "markdown",
   "metadata": {
    "ExecuteTime": {
     "end_time": "2023-04-11T07:06:29.166802Z",
     "start_time": "2023-04-11T07:06:29.148814Z"
    }
   },
   "source": [
    "Гугл говорит следующее:\n",
    "- На сегодняшний день самым мощным легковым автомобилем в мире назван Dagger GT компании TranStar Racing LLC. Только представьте: мощность его двигателя превышает 2000 лошадиных сил."
   ]
  },
  {
   "cell_type": "code",
   "execution_count": 22,
   "metadata": {
    "ExecuteTime": {
     "end_time": "2023-04-15T06:16:46.029573Z",
     "start_time": "2023-04-15T06:16:45.999577Z"
    },
    "scrolled": false
   },
   "outputs": [
    {
     "data": {
      "text/html": [
       "<div>\n",
       "<style scoped>\n",
       "    .dataframe tbody tr th:only-of-type {\n",
       "        vertical-align: middle;\n",
       "    }\n",
       "\n",
       "    .dataframe tbody tr th {\n",
       "        vertical-align: top;\n",
       "    }\n",
       "\n",
       "    .dataframe thead th {\n",
       "        text-align: right;\n",
       "    }\n",
       "</style>\n",
       "<table border=\"1\" class=\"dataframe\">\n",
       "  <thead>\n",
       "    <tr style=\"text-align: right;\">\n",
       "      <th></th>\n",
       "      <th>date_crawled</th>\n",
       "      <th>price</th>\n",
       "      <th>vehicle_type</th>\n",
       "      <th>registration_year</th>\n",
       "      <th>gearbox</th>\n",
       "      <th>power</th>\n",
       "      <th>model</th>\n",
       "      <th>kilometer</th>\n",
       "      <th>registration_month</th>\n",
       "      <th>fuel_type</th>\n",
       "      <th>brand</th>\n",
       "      <th>repaired</th>\n",
       "      <th>date_created</th>\n",
       "      <th>number_of_pictures</th>\n",
       "      <th>postal_code</th>\n",
       "      <th>last_seen</th>\n",
       "    </tr>\n",
       "  </thead>\n",
       "  <tbody>\n",
       "    <tr>\n",
       "      <th>7661</th>\n",
       "      <td>2016-04-02 19:25:25</td>\n",
       "      <td>1499</td>\n",
       "      <td>small</td>\n",
       "      <td>1999</td>\n",
       "      <td>manual</td>\n",
       "      <td>7515</td>\n",
       "      <td>lupo</td>\n",
       "      <td>150000</td>\n",
       "      <td>4</td>\n",
       "      <td>petrol</td>\n",
       "      <td>volkswagen</td>\n",
       "      <td>NaN</td>\n",
       "      <td>2016-04-02</td>\n",
       "      <td>0</td>\n",
       "      <td>65830</td>\n",
       "      <td>2016-04-06 11:46:49</td>\n",
       "    </tr>\n",
       "    <tr>\n",
       "      <th>11039</th>\n",
       "      <td>2016-03-25 19:55:32</td>\n",
       "      <td>0</td>\n",
       "      <td>sedan</td>\n",
       "      <td>1998</td>\n",
       "      <td>manual</td>\n",
       "      <td>10317</td>\n",
       "      <td>other</td>\n",
       "      <td>150000</td>\n",
       "      <td>8</td>\n",
       "      <td>petrol</td>\n",
       "      <td>fiat</td>\n",
       "      <td>no</td>\n",
       "      <td>2016-03-25</td>\n",
       "      <td>0</td>\n",
       "      <td>57520</td>\n",
       "      <td>2016-04-01 19:16:33</td>\n",
       "    </tr>\n",
       "    <tr>\n",
       "      <th>19092</th>\n",
       "      <td>2016-03-20 17:54:04</td>\n",
       "      <td>9750</td>\n",
       "      <td>wagon</td>\n",
       "      <td>2005</td>\n",
       "      <td>auto</td>\n",
       "      <td>2729</td>\n",
       "      <td>5er</td>\n",
       "      <td>150000</td>\n",
       "      <td>7</td>\n",
       "      <td>gasoline</td>\n",
       "      <td>bmw</td>\n",
       "      <td>no</td>\n",
       "      <td>2016-03-20</td>\n",
       "      <td>0</td>\n",
       "      <td>21376</td>\n",
       "      <td>2016-03-23 02:48:53</td>\n",
       "    </tr>\n",
       "    <tr>\n",
       "      <th>25232</th>\n",
       "      <td>2016-03-28 19:57:39</td>\n",
       "      <td>10900</td>\n",
       "      <td>bus</td>\n",
       "      <td>2009</td>\n",
       "      <td>manual</td>\n",
       "      <td>10520</td>\n",
       "      <td>caddy</td>\n",
       "      <td>150000</td>\n",
       "      <td>6</td>\n",
       "      <td>gasoline</td>\n",
       "      <td>volkswagen</td>\n",
       "      <td>no</td>\n",
       "      <td>2016-03-28</td>\n",
       "      <td>0</td>\n",
       "      <td>36272</td>\n",
       "      <td>2016-04-07 02:47:02</td>\n",
       "    </tr>\n",
       "    <tr>\n",
       "      <th>33952</th>\n",
       "      <td>2016-03-09 11:37:03</td>\n",
       "      <td>3740</td>\n",
       "      <td>small</td>\n",
       "      <td>2006</td>\n",
       "      <td>manual</td>\n",
       "      <td>6920</td>\n",
       "      <td>aygo</td>\n",
       "      <td>90000</td>\n",
       "      <td>10</td>\n",
       "      <td>NaN</td>\n",
       "      <td>toyota</td>\n",
       "      <td>no</td>\n",
       "      <td>2016-03-09</td>\n",
       "      <td>0</td>\n",
       "      <td>94116</td>\n",
       "      <td>2016-03-17 05:16:32</td>\n",
       "    </tr>\n",
       "    <tr>\n",
       "      <th>...</th>\n",
       "      <td>...</td>\n",
       "      <td>...</td>\n",
       "      <td>...</td>\n",
       "      <td>...</td>\n",
       "      <td>...</td>\n",
       "      <td>...</td>\n",
       "      <td>...</td>\n",
       "      <td>...</td>\n",
       "      <td>...</td>\n",
       "      <td>...</td>\n",
       "      <td>...</td>\n",
       "      <td>...</td>\n",
       "      <td>...</td>\n",
       "      <td>...</td>\n",
       "      <td>...</td>\n",
       "      <td>...</td>\n",
       "    </tr>\n",
       "    <tr>\n",
       "      <th>346639</th>\n",
       "      <td>2016-03-25 12:55:36</td>\n",
       "      <td>1300</td>\n",
       "      <td>sedan</td>\n",
       "      <td>2000</td>\n",
       "      <td>manual</td>\n",
       "      <td>12512</td>\n",
       "      <td>carisma</td>\n",
       "      <td>150000</td>\n",
       "      <td>9</td>\n",
       "      <td>petrol</td>\n",
       "      <td>mitsubishi</td>\n",
       "      <td>NaN</td>\n",
       "      <td>2016-03-25</td>\n",
       "      <td>0</td>\n",
       "      <td>42105</td>\n",
       "      <td>2016-04-06 14:44:53</td>\n",
       "    </tr>\n",
       "    <tr>\n",
       "      <th>346690</th>\n",
       "      <td>2016-03-24 11:50:41</td>\n",
       "      <td>7498</td>\n",
       "      <td>NaN</td>\n",
       "      <td>2004</td>\n",
       "      <td>auto</td>\n",
       "      <td>2018</td>\n",
       "      <td>5er</td>\n",
       "      <td>150000</td>\n",
       "      <td>9</td>\n",
       "      <td>NaN</td>\n",
       "      <td>bmw</td>\n",
       "      <td>no</td>\n",
       "      <td>2016-03-24</td>\n",
       "      <td>0</td>\n",
       "      <td>59425</td>\n",
       "      <td>2016-03-30 12:46:26</td>\n",
       "    </tr>\n",
       "    <tr>\n",
       "      <th>348137</th>\n",
       "      <td>2016-03-16 21:48:39</td>\n",
       "      <td>850</td>\n",
       "      <td>sedan</td>\n",
       "      <td>1993</td>\n",
       "      <td>auto</td>\n",
       "      <td>9012</td>\n",
       "      <td>golf</td>\n",
       "      <td>150000</td>\n",
       "      <td>6</td>\n",
       "      <td>petrol</td>\n",
       "      <td>volkswagen</td>\n",
       "      <td>NaN</td>\n",
       "      <td>2016-03-16</td>\n",
       "      <td>0</td>\n",
       "      <td>14482</td>\n",
       "      <td>2016-04-03 09:17:43</td>\n",
       "    </tr>\n",
       "    <tr>\n",
       "      <th>348237</th>\n",
       "      <td>2016-04-04 12:38:11</td>\n",
       "      <td>3000</td>\n",
       "      <td>coupe</td>\n",
       "      <td>2007</td>\n",
       "      <td>manual</td>\n",
       "      <td>2007</td>\n",
       "      <td>corsa</td>\n",
       "      <td>150000</td>\n",
       "      <td>3</td>\n",
       "      <td>gasoline</td>\n",
       "      <td>opel</td>\n",
       "      <td>yes</td>\n",
       "      <td>2016-04-04</td>\n",
       "      <td>0</td>\n",
       "      <td>72218</td>\n",
       "      <td>2016-04-04 12:38:11</td>\n",
       "    </tr>\n",
       "    <tr>\n",
       "      <th>348668</th>\n",
       "      <td>2016-03-05 17:53:09</td>\n",
       "      <td>1000</td>\n",
       "      <td>wagon</td>\n",
       "      <td>1996</td>\n",
       "      <td>manual</td>\n",
       "      <td>2598</td>\n",
       "      <td>a6</td>\n",
       "      <td>150000</td>\n",
       "      <td>7</td>\n",
       "      <td>NaN</td>\n",
       "      <td>audi</td>\n",
       "      <td>NaN</td>\n",
       "      <td>2016-03-05</td>\n",
       "      <td>0</td>\n",
       "      <td>7646</td>\n",
       "      <td>2016-03-07 16:17:01</td>\n",
       "    </tr>\n",
       "  </tbody>\n",
       "</table>\n",
       "<p>120 rows × 16 columns</p>\n",
       "</div>"
      ],
      "text/plain": [
       "              date_crawled  price vehicle_type  registration_year gearbox  \\\n",
       "7661   2016-04-02 19:25:25   1499        small               1999  manual   \n",
       "11039  2016-03-25 19:55:32      0        sedan               1998  manual   \n",
       "19092  2016-03-20 17:54:04   9750        wagon               2005    auto   \n",
       "25232  2016-03-28 19:57:39  10900          bus               2009  manual   \n",
       "33952  2016-03-09 11:37:03   3740        small               2006  manual   \n",
       "...                    ...    ...          ...                ...     ...   \n",
       "346639 2016-03-25 12:55:36   1300        sedan               2000  manual   \n",
       "346690 2016-03-24 11:50:41   7498          NaN               2004    auto   \n",
       "348137 2016-03-16 21:48:39    850        sedan               1993    auto   \n",
       "348237 2016-04-04 12:38:11   3000        coupe               2007  manual   \n",
       "348668 2016-03-05 17:53:09   1000        wagon               1996  manual   \n",
       "\n",
       "        power    model  kilometer  registration_month fuel_type       brand  \\\n",
       "7661     7515     lupo     150000                   4    petrol  volkswagen   \n",
       "11039   10317    other     150000                   8    petrol        fiat   \n",
       "19092    2729      5er     150000                   7  gasoline         bmw   \n",
       "25232   10520    caddy     150000                   6  gasoline  volkswagen   \n",
       "33952    6920     aygo      90000                  10       NaN      toyota   \n",
       "...       ...      ...        ...                 ...       ...         ...   \n",
       "346639  12512  carisma     150000                   9    petrol  mitsubishi   \n",
       "346690   2018      5er     150000                   9       NaN         bmw   \n",
       "348137   9012     golf     150000                   6    petrol  volkswagen   \n",
       "348237   2007    corsa     150000                   3  gasoline        opel   \n",
       "348668   2598       a6     150000                   7       NaN        audi   \n",
       "\n",
       "       repaired date_created  number_of_pictures  postal_code  \\\n",
       "7661        NaN   2016-04-02                   0        65830   \n",
       "11039        no   2016-03-25                   0        57520   \n",
       "19092        no   2016-03-20                   0        21376   \n",
       "25232        no   2016-03-28                   0        36272   \n",
       "33952        no   2016-03-09                   0        94116   \n",
       "...         ...          ...                 ...          ...   \n",
       "346639      NaN   2016-03-25                   0        42105   \n",
       "346690       no   2016-03-24                   0        59425   \n",
       "348137      NaN   2016-03-16                   0        14482   \n",
       "348237      yes   2016-04-04                   0        72218   \n",
       "348668      NaN   2016-03-05                   0         7646   \n",
       "\n",
       "                 last_seen  \n",
       "7661   2016-04-06 11:46:49  \n",
       "11039  2016-04-01 19:16:33  \n",
       "19092  2016-03-23 02:48:53  \n",
       "25232  2016-04-07 02:47:02  \n",
       "33952  2016-03-17 05:16:32  \n",
       "...                    ...  \n",
       "346639 2016-04-06 14:44:53  \n",
       "346690 2016-03-30 12:46:26  \n",
       "348137 2016-04-03 09:17:43  \n",
       "348237 2016-04-04 12:38:11  \n",
       "348668 2016-03-07 16:17:01  \n",
       "\n",
       "[120 rows x 16 columns]"
      ]
     },
     "execution_count": 22,
     "metadata": {},
     "output_type": "execute_result"
    }
   ],
   "source": [
    "df.query('power > 2000')"
   ]
  },
  {
   "cell_type": "markdown",
   "metadata": {
    "ExecuteTime": {
     "end_time": "2023-04-11T07:07:08.330553Z",
     "start_time": "2023-04-11T07:07:08.319457Z"
    }
   },
   "source": [
    "Ох какой мощный golf."
   ]
  },
  {
   "cell_type": "markdown",
   "metadata": {
    "ExecuteTime": {
     "end_time": "2023-04-11T07:07:25.312498Z",
     "start_time": "2023-04-11T07:07:25.299714Z"
    }
   },
   "source": [
    "Рядов всего 120 - под удаление:"
   ]
  },
  {
   "cell_type": "code",
   "execution_count": 23,
   "metadata": {
    "ExecuteTime": {
     "end_time": "2023-04-15T06:16:46.060976Z",
     "start_time": "2023-04-15T06:16:46.031083Z"
    }
   },
   "outputs": [],
   "source": [
    "df = df[df['power'] <= 2000]"
   ]
  },
  {
   "cell_type": "markdown",
   "metadata": {
    "ExecuteTime": {
     "end_time": "2023-04-11T07:09:02.086510Z",
     "start_time": "2023-04-11T07:09:02.070307Z"
    }
   },
   "source": [
    "Также есть очень низкие и нулевые значения:"
   ]
  },
  {
   "cell_type": "markdown",
   "metadata": {
    "ExecuteTime": {
     "end_time": "2023-04-11T07:13:11.625388Z",
     "start_time": "2023-04-11T07:13:11.610798Z"
    }
   },
   "source": [
    "Опять из гугла:\n",
    "\n",
    "- Peel P50 Мощность: 4,2 л. с. Максимальная скорость: 61 км/ч. Длина этого мини-автомобиля составляет всего 134,2 сантиметра."
   ]
  },
  {
   "cell_type": "code",
   "execution_count": 24,
   "metadata": {
    "ExecuteTime": {
     "end_time": "2023-04-15T06:16:46.092068Z",
     "start_time": "2023-04-15T06:16:46.063013Z"
    },
    "scrolled": false
   },
   "outputs": [
    {
     "data": {
      "text/html": [
       "<div>\n",
       "<style scoped>\n",
       "    .dataframe tbody tr th:only-of-type {\n",
       "        vertical-align: middle;\n",
       "    }\n",
       "\n",
       "    .dataframe tbody tr th {\n",
       "        vertical-align: top;\n",
       "    }\n",
       "\n",
       "    .dataframe thead th {\n",
       "        text-align: right;\n",
       "    }\n",
       "</style>\n",
       "<table border=\"1\" class=\"dataframe\">\n",
       "  <thead>\n",
       "    <tr style=\"text-align: right;\">\n",
       "      <th></th>\n",
       "      <th>date_crawled</th>\n",
       "      <th>price</th>\n",
       "      <th>vehicle_type</th>\n",
       "      <th>registration_year</th>\n",
       "      <th>gearbox</th>\n",
       "      <th>power</th>\n",
       "      <th>model</th>\n",
       "      <th>kilometer</th>\n",
       "      <th>registration_month</th>\n",
       "      <th>fuel_type</th>\n",
       "      <th>brand</th>\n",
       "      <th>repaired</th>\n",
       "      <th>date_created</th>\n",
       "      <th>number_of_pictures</th>\n",
       "      <th>postal_code</th>\n",
       "      <th>last_seen</th>\n",
       "    </tr>\n",
       "  </thead>\n",
       "  <tbody>\n",
       "    <tr>\n",
       "      <th>0</th>\n",
       "      <td>2016-03-24 11:52:17</td>\n",
       "      <td>480</td>\n",
       "      <td>NaN</td>\n",
       "      <td>1993</td>\n",
       "      <td>manual</td>\n",
       "      <td>0</td>\n",
       "      <td>golf</td>\n",
       "      <td>150000</td>\n",
       "      <td>8</td>\n",
       "      <td>petrol</td>\n",
       "      <td>volkswagen</td>\n",
       "      <td>NaN</td>\n",
       "      <td>2016-03-24</td>\n",
       "      <td>0</td>\n",
       "      <td>70435</td>\n",
       "      <td>2016-04-07 03:16:57</td>\n",
       "    </tr>\n",
       "    <tr>\n",
       "      <th>32</th>\n",
       "      <td>2016-03-15 20:59:01</td>\n",
       "      <td>245</td>\n",
       "      <td>sedan</td>\n",
       "      <td>1994</td>\n",
       "      <td>NaN</td>\n",
       "      <td>0</td>\n",
       "      <td>golf</td>\n",
       "      <td>150000</td>\n",
       "      <td>2</td>\n",
       "      <td>petrol</td>\n",
       "      <td>volkswagen</td>\n",
       "      <td>no</td>\n",
       "      <td>2016-03-15</td>\n",
       "      <td>0</td>\n",
       "      <td>44145</td>\n",
       "      <td>2016-03-17 18:17:43</td>\n",
       "    </tr>\n",
       "    <tr>\n",
       "      <th>37</th>\n",
       "      <td>2016-03-28 17:50:15</td>\n",
       "      <td>1500</td>\n",
       "      <td>NaN</td>\n",
       "      <td>2016</td>\n",
       "      <td>NaN</td>\n",
       "      <td>0</td>\n",
       "      <td>kangoo</td>\n",
       "      <td>150000</td>\n",
       "      <td>1</td>\n",
       "      <td>gasoline</td>\n",
       "      <td>renault</td>\n",
       "      <td>no</td>\n",
       "      <td>2016-03-28</td>\n",
       "      <td>0</td>\n",
       "      <td>46483</td>\n",
       "      <td>2016-03-30 09:18:02</td>\n",
       "    </tr>\n",
       "    <tr>\n",
       "      <th>40</th>\n",
       "      <td>2016-03-26 22:06:17</td>\n",
       "      <td>0</td>\n",
       "      <td>NaN</td>\n",
       "      <td>1990</td>\n",
       "      <td>NaN</td>\n",
       "      <td>0</td>\n",
       "      <td>corsa</td>\n",
       "      <td>150000</td>\n",
       "      <td>1</td>\n",
       "      <td>petrol</td>\n",
       "      <td>opel</td>\n",
       "      <td>NaN</td>\n",
       "      <td>2016-03-26</td>\n",
       "      <td>0</td>\n",
       "      <td>56412</td>\n",
       "      <td>2016-03-27 17:43:34</td>\n",
       "    </tr>\n",
       "    <tr>\n",
       "      <th>54</th>\n",
       "      <td>2016-03-17 07:56:40</td>\n",
       "      <td>4700</td>\n",
       "      <td>wagon</td>\n",
       "      <td>2005</td>\n",
       "      <td>manual</td>\n",
       "      <td>0</td>\n",
       "      <td>signum</td>\n",
       "      <td>150000</td>\n",
       "      <td>5</td>\n",
       "      <td>NaN</td>\n",
       "      <td>opel</td>\n",
       "      <td>no</td>\n",
       "      <td>2016-03-17</td>\n",
       "      <td>0</td>\n",
       "      <td>88433</td>\n",
       "      <td>2016-04-04 04:17:32</td>\n",
       "    </tr>\n",
       "    <tr>\n",
       "      <th>...</th>\n",
       "      <td>...</td>\n",
       "      <td>...</td>\n",
       "      <td>...</td>\n",
       "      <td>...</td>\n",
       "      <td>...</td>\n",
       "      <td>...</td>\n",
       "      <td>...</td>\n",
       "      <td>...</td>\n",
       "      <td>...</td>\n",
       "      <td>...</td>\n",
       "      <td>...</td>\n",
       "      <td>...</td>\n",
       "      <td>...</td>\n",
       "      <td>...</td>\n",
       "      <td>...</td>\n",
       "      <td>...</td>\n",
       "    </tr>\n",
       "    <tr>\n",
       "      <th>354346</th>\n",
       "      <td>2016-03-07 17:06:35</td>\n",
       "      <td>2600</td>\n",
       "      <td>NaN</td>\n",
       "      <td>2005</td>\n",
       "      <td>auto</td>\n",
       "      <td>0</td>\n",
       "      <td>c_klasse</td>\n",
       "      <td>150000</td>\n",
       "      <td>9</td>\n",
       "      <td>NaN</td>\n",
       "      <td>mercedes_benz</td>\n",
       "      <td>NaN</td>\n",
       "      <td>2016-03-07</td>\n",
       "      <td>0</td>\n",
       "      <td>61169</td>\n",
       "      <td>2016-03-08 21:28:38</td>\n",
       "    </tr>\n",
       "    <tr>\n",
       "      <th>354360</th>\n",
       "      <td>2016-04-02 20:37:03</td>\n",
       "      <td>3999</td>\n",
       "      <td>wagon</td>\n",
       "      <td>2005</td>\n",
       "      <td>manual</td>\n",
       "      <td>3</td>\n",
       "      <td>3er</td>\n",
       "      <td>150000</td>\n",
       "      <td>5</td>\n",
       "      <td>gasoline</td>\n",
       "      <td>bmw</td>\n",
       "      <td>no</td>\n",
       "      <td>2016-04-02</td>\n",
       "      <td>0</td>\n",
       "      <td>81825</td>\n",
       "      <td>2016-04-06 20:47:12</td>\n",
       "    </tr>\n",
       "    <tr>\n",
       "      <th>354363</th>\n",
       "      <td>2016-03-27 20:36:20</td>\n",
       "      <td>1150</td>\n",
       "      <td>bus</td>\n",
       "      <td>2000</td>\n",
       "      <td>manual</td>\n",
       "      <td>0</td>\n",
       "      <td>zafira</td>\n",
       "      <td>150000</td>\n",
       "      <td>3</td>\n",
       "      <td>petrol</td>\n",
       "      <td>opel</td>\n",
       "      <td>no</td>\n",
       "      <td>2016-03-27</td>\n",
       "      <td>0</td>\n",
       "      <td>26624</td>\n",
       "      <td>2016-03-29 10:17:23</td>\n",
       "    </tr>\n",
       "    <tr>\n",
       "      <th>354364</th>\n",
       "      <td>2016-03-21 09:50:58</td>\n",
       "      <td>0</td>\n",
       "      <td>NaN</td>\n",
       "      <td>2005</td>\n",
       "      <td>manual</td>\n",
       "      <td>0</td>\n",
       "      <td>colt</td>\n",
       "      <td>150000</td>\n",
       "      <td>7</td>\n",
       "      <td>petrol</td>\n",
       "      <td>mitsubishi</td>\n",
       "      <td>yes</td>\n",
       "      <td>2016-03-21</td>\n",
       "      <td>0</td>\n",
       "      <td>2694</td>\n",
       "      <td>2016-03-21 10:42:49</td>\n",
       "    </tr>\n",
       "    <tr>\n",
       "      <th>354365</th>\n",
       "      <td>2016-03-14 17:48:27</td>\n",
       "      <td>2200</td>\n",
       "      <td>NaN</td>\n",
       "      <td>2005</td>\n",
       "      <td>NaN</td>\n",
       "      <td>0</td>\n",
       "      <td>NaN</td>\n",
       "      <td>20000</td>\n",
       "      <td>1</td>\n",
       "      <td>NaN</td>\n",
       "      <td>sonstige_autos</td>\n",
       "      <td>NaN</td>\n",
       "      <td>2016-03-14</td>\n",
       "      <td>0</td>\n",
       "      <td>39576</td>\n",
       "      <td>2016-04-06 00:46:52</td>\n",
       "    </tr>\n",
       "  </tbody>\n",
       "</table>\n",
       "<p>40044 rows × 16 columns</p>\n",
       "</div>"
      ],
      "text/plain": [
       "              date_crawled  price vehicle_type  registration_year gearbox  \\\n",
       "0      2016-03-24 11:52:17    480          NaN               1993  manual   \n",
       "32     2016-03-15 20:59:01    245        sedan               1994     NaN   \n",
       "37     2016-03-28 17:50:15   1500          NaN               2016     NaN   \n",
       "40     2016-03-26 22:06:17      0          NaN               1990     NaN   \n",
       "54     2016-03-17 07:56:40   4700        wagon               2005  manual   \n",
       "...                    ...    ...          ...                ...     ...   \n",
       "354346 2016-03-07 17:06:35   2600          NaN               2005    auto   \n",
       "354360 2016-04-02 20:37:03   3999        wagon               2005  manual   \n",
       "354363 2016-03-27 20:36:20   1150          bus               2000  manual   \n",
       "354364 2016-03-21 09:50:58      0          NaN               2005  manual   \n",
       "354365 2016-03-14 17:48:27   2200          NaN               2005     NaN   \n",
       "\n",
       "        power     model  kilometer  registration_month fuel_type  \\\n",
       "0           0      golf     150000                   8    petrol   \n",
       "32          0      golf     150000                   2    petrol   \n",
       "37          0    kangoo     150000                   1  gasoline   \n",
       "40          0     corsa     150000                   1    petrol   \n",
       "54          0    signum     150000                   5       NaN   \n",
       "...       ...       ...        ...                 ...       ...   \n",
       "354346      0  c_klasse     150000                   9       NaN   \n",
       "354360      3       3er     150000                   5  gasoline   \n",
       "354363      0    zafira     150000                   3    petrol   \n",
       "354364      0      colt     150000                   7    petrol   \n",
       "354365      0       NaN      20000                   1       NaN   \n",
       "\n",
       "                 brand repaired date_created  number_of_pictures  postal_code  \\\n",
       "0           volkswagen      NaN   2016-03-24                   0        70435   \n",
       "32          volkswagen       no   2016-03-15                   0        44145   \n",
       "37             renault       no   2016-03-28                   0        46483   \n",
       "40                opel      NaN   2016-03-26                   0        56412   \n",
       "54                opel       no   2016-03-17                   0        88433   \n",
       "...                ...      ...          ...                 ...          ...   \n",
       "354346   mercedes_benz      NaN   2016-03-07                   0        61169   \n",
       "354360             bmw       no   2016-04-02                   0        81825   \n",
       "354363            opel       no   2016-03-27                   0        26624   \n",
       "354364      mitsubishi      yes   2016-03-21                   0         2694   \n",
       "354365  sonstige_autos      NaN   2016-03-14                   0        39576   \n",
       "\n",
       "                 last_seen  \n",
       "0      2016-04-07 03:16:57  \n",
       "32     2016-03-17 18:17:43  \n",
       "37     2016-03-30 09:18:02  \n",
       "40     2016-03-27 17:43:34  \n",
       "54     2016-04-04 04:17:32  \n",
       "...                    ...  \n",
       "354346 2016-03-08 21:28:38  \n",
       "354360 2016-04-06 20:47:12  \n",
       "354363 2016-03-29 10:17:23  \n",
       "354364 2016-03-21 10:42:49  \n",
       "354365 2016-04-06 00:46:52  \n",
       "\n",
       "[40044 rows x 16 columns]"
      ]
     },
     "execution_count": 24,
     "metadata": {},
     "output_type": "execute_result"
    }
   ],
   "source": [
    "df.query('power <= 5')"
   ]
  },
  {
   "cell_type": "markdown",
   "metadata": {
    "ExecuteTime": {
     "end_time": "2023-04-11T07:10:08.879804Z",
     "start_time": "2023-04-11T07:10:08.874823Z"
    }
   },
   "source": [
    "Значений много, удалять не хочется. Заменим их медианами: "
   ]
  },
  {
   "cell_type": "code",
   "execution_count": 25,
   "metadata": {
    "ExecuteTime": {
     "end_time": "2023-04-15T06:16:46.107461Z",
     "start_time": "2023-04-15T06:16:46.094061Z"
    }
   },
   "outputs": [],
   "source": [
    "df.loc[df['power'] <= 5, 'power'] = df['power'].median()"
   ]
  },
  {
   "cell_type": "markdown",
   "metadata": {
    "ExecuteTime": {
     "end_time": "2023-04-11T07:25:37.352392Z",
     "start_time": "2023-04-11T07:25:37.340232Z"
    }
   },
   "source": [
    "#### `number_of_pictures`"
   ]
  },
  {
   "cell_type": "code",
   "execution_count": 26,
   "metadata": {
    "ExecuteTime": {
     "end_time": "2023-04-15T06:16:46.122998Z",
     "start_time": "2023-04-15T06:16:46.109455Z"
    }
   },
   "outputs": [
    {
     "data": {
      "text/plain": [
       "True"
      ]
     },
     "execution_count": 26,
     "metadata": {},
     "output_type": "execute_result"
    }
   ],
   "source": [
    "df['number_of_pictures'].eq(0).all()"
   ]
  },
  {
   "cell_type": "markdown",
   "metadata": {
    "ExecuteTime": {
     "end_time": "2023-04-11T07:26:31.704447Z",
     "start_time": "2023-04-11T07:26:31.689608Z"
    }
   },
   "source": [
    "Столбец целиком нулевой, удаляем:"
   ]
  },
  {
   "cell_type": "code",
   "execution_count": 27,
   "metadata": {
    "ExecuteTime": {
     "end_time": "2023-04-15T06:16:46.154705Z",
     "start_time": "2023-04-15T06:16:46.128982Z"
    }
   },
   "outputs": [],
   "source": [
    "df = df.drop(['number_of_pictures'], axis=1)"
   ]
  },
  {
   "cell_type": "markdown",
   "metadata": {
    "ExecuteTime": {
     "end_time": "2023-04-11T07:35:55.908890Z",
     "start_time": "2023-04-11T07:35:55.905379Z"
    }
   },
   "source": [
    "#### `price`"
   ]
  },
  {
   "cell_type": "markdown",
   "metadata": {
    "ExecuteTime": {
     "end_time": "2023-04-11T07:36:27.958337Z",
     "start_time": "2023-04-11T07:36:27.943630Z"
    }
   },
   "source": [
    "Столбец является таргетным. Для избежания каких-либо утечек мы можем себе позволить только удаление строк с выбросами. Допустим, что цена автомобиля не может быть ниже 100 долларов за нечто совсем старое и ненужное:"
   ]
  },
  {
   "cell_type": "code",
   "execution_count": 28,
   "metadata": {
    "ExecuteTime": {
     "end_time": "2023-04-15T06:16:46.186052Z",
     "start_time": "2023-04-15T06:16:46.155702Z"
    }
   },
   "outputs": [
    {
     "data": {
      "text/html": [
       "<div>\n",
       "<style scoped>\n",
       "    .dataframe tbody tr th:only-of-type {\n",
       "        vertical-align: middle;\n",
       "    }\n",
       "\n",
       "    .dataframe tbody tr th {\n",
       "        vertical-align: top;\n",
       "    }\n",
       "\n",
       "    .dataframe thead th {\n",
       "        text-align: right;\n",
       "    }\n",
       "</style>\n",
       "<table border=\"1\" class=\"dataframe\">\n",
       "  <thead>\n",
       "    <tr style=\"text-align: right;\">\n",
       "      <th></th>\n",
       "      <th>date_crawled</th>\n",
       "      <th>price</th>\n",
       "      <th>vehicle_type</th>\n",
       "      <th>registration_year</th>\n",
       "      <th>gearbox</th>\n",
       "      <th>power</th>\n",
       "      <th>model</th>\n",
       "      <th>kilometer</th>\n",
       "      <th>registration_month</th>\n",
       "      <th>fuel_type</th>\n",
       "      <th>brand</th>\n",
       "      <th>repaired</th>\n",
       "      <th>date_created</th>\n",
       "      <th>postal_code</th>\n",
       "      <th>last_seen</th>\n",
       "    </tr>\n",
       "  </thead>\n",
       "  <tbody>\n",
       "    <tr>\n",
       "      <th>7</th>\n",
       "      <td>2016-03-21 18:54:38</td>\n",
       "      <td>0</td>\n",
       "      <td>sedan</td>\n",
       "      <td>1980</td>\n",
       "      <td>manual</td>\n",
       "      <td>50</td>\n",
       "      <td>other</td>\n",
       "      <td>40000</td>\n",
       "      <td>7</td>\n",
       "      <td>petrol</td>\n",
       "      <td>volkswagen</td>\n",
       "      <td>no</td>\n",
       "      <td>2016-03-21</td>\n",
       "      <td>19348</td>\n",
       "      <td>2016-03-25 16:47:58</td>\n",
       "    </tr>\n",
       "    <tr>\n",
       "      <th>40</th>\n",
       "      <td>2016-03-26 22:06:17</td>\n",
       "      <td>0</td>\n",
       "      <td>NaN</td>\n",
       "      <td>1990</td>\n",
       "      <td>NaN</td>\n",
       "      <td>105</td>\n",
       "      <td>corsa</td>\n",
       "      <td>150000</td>\n",
       "      <td>1</td>\n",
       "      <td>petrol</td>\n",
       "      <td>opel</td>\n",
       "      <td>NaN</td>\n",
       "      <td>2016-03-26</td>\n",
       "      <td>56412</td>\n",
       "      <td>2016-03-27 17:43:34</td>\n",
       "    </tr>\n",
       "    <tr>\n",
       "      <th>59</th>\n",
       "      <td>2016-03-29 15:48:15</td>\n",
       "      <td>1</td>\n",
       "      <td>suv</td>\n",
       "      <td>1994</td>\n",
       "      <td>manual</td>\n",
       "      <td>286</td>\n",
       "      <td>NaN</td>\n",
       "      <td>150000</td>\n",
       "      <td>11</td>\n",
       "      <td>NaN</td>\n",
       "      <td>sonstige_autos</td>\n",
       "      <td>NaN</td>\n",
       "      <td>2016-03-29</td>\n",
       "      <td>53721</td>\n",
       "      <td>2016-04-06 01:44:38</td>\n",
       "    </tr>\n",
       "    <tr>\n",
       "      <th>89</th>\n",
       "      <td>2016-03-28 09:37:01</td>\n",
       "      <td>1</td>\n",
       "      <td>sedan</td>\n",
       "      <td>1995</td>\n",
       "      <td>manual</td>\n",
       "      <td>113</td>\n",
       "      <td>e_klasse</td>\n",
       "      <td>150000</td>\n",
       "      <td>4</td>\n",
       "      <td>gasoline</td>\n",
       "      <td>mercedes_benz</td>\n",
       "      <td>no</td>\n",
       "      <td>2016-03-28</td>\n",
       "      <td>40589</td>\n",
       "      <td>2016-04-06 12:15:54</td>\n",
       "    </tr>\n",
       "    <tr>\n",
       "      <th>111</th>\n",
       "      <td>2016-03-19 18:40:12</td>\n",
       "      <td>0</td>\n",
       "      <td>NaN</td>\n",
       "      <td>2016</td>\n",
       "      <td>manual</td>\n",
       "      <td>105</td>\n",
       "      <td>golf</td>\n",
       "      <td>5000</td>\n",
       "      <td>12</td>\n",
       "      <td>petrol</td>\n",
       "      <td>volkswagen</td>\n",
       "      <td>NaN</td>\n",
       "      <td>2016-03-19</td>\n",
       "      <td>21698</td>\n",
       "      <td>2016-04-01 08:47:05</td>\n",
       "    </tr>\n",
       "    <tr>\n",
       "      <th>...</th>\n",
       "      <td>...</td>\n",
       "      <td>...</td>\n",
       "      <td>...</td>\n",
       "      <td>...</td>\n",
       "      <td>...</td>\n",
       "      <td>...</td>\n",
       "      <td>...</td>\n",
       "      <td>...</td>\n",
       "      <td>...</td>\n",
       "      <td>...</td>\n",
       "      <td>...</td>\n",
       "      <td>...</td>\n",
       "      <td>...</td>\n",
       "      <td>...</td>\n",
       "      <td>...</td>\n",
       "    </tr>\n",
       "    <tr>\n",
       "      <th>354238</th>\n",
       "      <td>2016-03-20 14:55:07</td>\n",
       "      <td>0</td>\n",
       "      <td>small</td>\n",
       "      <td>2002</td>\n",
       "      <td>manual</td>\n",
       "      <td>60</td>\n",
       "      <td>fiesta</td>\n",
       "      <td>150000</td>\n",
       "      <td>3</td>\n",
       "      <td>petrol</td>\n",
       "      <td>ford</td>\n",
       "      <td>NaN</td>\n",
       "      <td>2016-03-20</td>\n",
       "      <td>33659</td>\n",
       "      <td>2016-04-06 18:45:23</td>\n",
       "    </tr>\n",
       "    <tr>\n",
       "      <th>354248</th>\n",
       "      <td>2016-03-24 13:48:05</td>\n",
       "      <td>0</td>\n",
       "      <td>small</td>\n",
       "      <td>1999</td>\n",
       "      <td>manual</td>\n",
       "      <td>53</td>\n",
       "      <td>swift</td>\n",
       "      <td>150000</td>\n",
       "      <td>3</td>\n",
       "      <td>petrol</td>\n",
       "      <td>suzuki</td>\n",
       "      <td>NaN</td>\n",
       "      <td>2016-03-24</td>\n",
       "      <td>42329</td>\n",
       "      <td>2016-04-07 05:17:24</td>\n",
       "    </tr>\n",
       "    <tr>\n",
       "      <th>354277</th>\n",
       "      <td>2016-03-10 22:55:50</td>\n",
       "      <td>0</td>\n",
       "      <td>small</td>\n",
       "      <td>1999</td>\n",
       "      <td>manual</td>\n",
       "      <td>37</td>\n",
       "      <td>arosa</td>\n",
       "      <td>150000</td>\n",
       "      <td>7</td>\n",
       "      <td>petrol</td>\n",
       "      <td>seat</td>\n",
       "      <td>yes</td>\n",
       "      <td>2016-03-10</td>\n",
       "      <td>22559</td>\n",
       "      <td>2016-03-12 23:46:32</td>\n",
       "    </tr>\n",
       "    <tr>\n",
       "      <th>354309</th>\n",
       "      <td>2016-03-09 22:37:41</td>\n",
       "      <td>99</td>\n",
       "      <td>small</td>\n",
       "      <td>1999</td>\n",
       "      <td>manual</td>\n",
       "      <td>60</td>\n",
       "      <td>arosa</td>\n",
       "      <td>150000</td>\n",
       "      <td>1</td>\n",
       "      <td>petrol</td>\n",
       "      <td>seat</td>\n",
       "      <td>yes</td>\n",
       "      <td>2016-03-09</td>\n",
       "      <td>91301</td>\n",
       "      <td>2016-04-06 22:15:32</td>\n",
       "    </tr>\n",
       "    <tr>\n",
       "      <th>354364</th>\n",
       "      <td>2016-03-21 09:50:58</td>\n",
       "      <td>0</td>\n",
       "      <td>NaN</td>\n",
       "      <td>2005</td>\n",
       "      <td>manual</td>\n",
       "      <td>105</td>\n",
       "      <td>colt</td>\n",
       "      <td>150000</td>\n",
       "      <td>7</td>\n",
       "      <td>petrol</td>\n",
       "      <td>mitsubishi</td>\n",
       "      <td>yes</td>\n",
       "      <td>2016-03-21</td>\n",
       "      <td>2694</td>\n",
       "      <td>2016-03-21 10:42:49</td>\n",
       "    </tr>\n",
       "  </tbody>\n",
       "</table>\n",
       "<p>13114 rows × 15 columns</p>\n",
       "</div>"
      ],
      "text/plain": [
       "              date_crawled  price vehicle_type  registration_year gearbox  \\\n",
       "7      2016-03-21 18:54:38      0        sedan               1980  manual   \n",
       "40     2016-03-26 22:06:17      0          NaN               1990     NaN   \n",
       "59     2016-03-29 15:48:15      1          suv               1994  manual   \n",
       "89     2016-03-28 09:37:01      1        sedan               1995  manual   \n",
       "111    2016-03-19 18:40:12      0          NaN               2016  manual   \n",
       "...                    ...    ...          ...                ...     ...   \n",
       "354238 2016-03-20 14:55:07      0        small               2002  manual   \n",
       "354248 2016-03-24 13:48:05      0        small               1999  manual   \n",
       "354277 2016-03-10 22:55:50      0        small               1999  manual   \n",
       "354309 2016-03-09 22:37:41     99        small               1999  manual   \n",
       "354364 2016-03-21 09:50:58      0          NaN               2005  manual   \n",
       "\n",
       "        power     model  kilometer  registration_month fuel_type  \\\n",
       "7          50     other      40000                   7    petrol   \n",
       "40        105     corsa     150000                   1    petrol   \n",
       "59        286       NaN     150000                  11       NaN   \n",
       "89        113  e_klasse     150000                   4  gasoline   \n",
       "111       105      golf       5000                  12    petrol   \n",
       "...       ...       ...        ...                 ...       ...   \n",
       "354238     60    fiesta     150000                   3    petrol   \n",
       "354248     53     swift     150000                   3    petrol   \n",
       "354277     37     arosa     150000                   7    petrol   \n",
       "354309     60     arosa     150000                   1    petrol   \n",
       "354364    105      colt     150000                   7    petrol   \n",
       "\n",
       "                 brand repaired date_created  postal_code           last_seen  \n",
       "7           volkswagen       no   2016-03-21        19348 2016-03-25 16:47:58  \n",
       "40                opel      NaN   2016-03-26        56412 2016-03-27 17:43:34  \n",
       "59      sonstige_autos      NaN   2016-03-29        53721 2016-04-06 01:44:38  \n",
       "89       mercedes_benz       no   2016-03-28        40589 2016-04-06 12:15:54  \n",
       "111         volkswagen      NaN   2016-03-19        21698 2016-04-01 08:47:05  \n",
       "...                ...      ...          ...          ...                 ...  \n",
       "354238            ford      NaN   2016-03-20        33659 2016-04-06 18:45:23  \n",
       "354248          suzuki      NaN   2016-03-24        42329 2016-04-07 05:17:24  \n",
       "354277            seat      yes   2016-03-10        22559 2016-03-12 23:46:32  \n",
       "354309            seat      yes   2016-03-09        91301 2016-04-06 22:15:32  \n",
       "354364      mitsubishi      yes   2016-03-21         2694 2016-03-21 10:42:49  \n",
       "\n",
       "[13114 rows x 15 columns]"
      ]
     },
     "execution_count": 28,
     "metadata": {},
     "output_type": "execute_result"
    }
   ],
   "source": [
    "df[df['price'] < 100]"
   ]
  },
  {
   "cell_type": "code",
   "execution_count": 29,
   "metadata": {
    "ExecuteTime": {
     "end_time": "2023-04-15T06:16:46.218040Z",
     "start_time": "2023-04-15T06:16:46.187051Z"
    }
   },
   "outputs": [],
   "source": [
    "df = df[df['price'] >= 100]"
   ]
  },
  {
   "cell_type": "markdown",
   "metadata": {},
   "source": [
    "### Работа с пропусками в данных"
   ]
  },
  {
   "cell_type": "code",
   "execution_count": 30,
   "metadata": {
    "ExecuteTime": {
     "end_time": "2023-04-15T06:16:46.436563Z",
     "start_time": "2023-04-15T06:16:46.219546Z"
    },
    "scrolled": false
   },
   "outputs": [
    {
     "data": {
      "text/html": [
       "<style type=\"text/css\">\n",
       "#T_ff681_row0_col0, #T_ff681_row1_col0, #T_ff681_row3_col0, #T_ff681_row5_col0, #T_ff681_row7_col0, #T_ff681_row8_col0, #T_ff681_row10_col0, #T_ff681_row12_col0, #T_ff681_row13_col0, #T_ff681_row14_col0 {\n",
       "  background-color: #3b4cc0;\n",
       "  color: #f1f1f1;\n",
       "}\n",
       "#T_ff681_row2_col0 {\n",
       "  background-color: #dedcdb;\n",
       "  color: #000000;\n",
       "}\n",
       "#T_ff681_row4_col0 {\n",
       "  background-color: #8db0fe;\n",
       "  color: #000000;\n",
       "}\n",
       "#T_ff681_row6_col0 {\n",
       "  background-color: #92b4fe;\n",
       "  color: #000000;\n",
       "}\n",
       "#T_ff681_row9_col0 {\n",
       "  background-color: #ccd9ed;\n",
       "  color: #000000;\n",
       "}\n",
       "#T_ff681_row11_col0 {\n",
       "  background-color: #b40426;\n",
       "  color: #f1f1f1;\n",
       "}\n",
       "</style>\n",
       "<table id=\"T_ff681\">\n",
       "  <thead>\n",
       "    <tr>\n",
       "      <th class=\"blank level0\" >&nbsp;</th>\n",
       "      <th id=\"T_ff681_level0_col0\" class=\"col_heading level0 col0\" >0</th>\n",
       "    </tr>\n",
       "  </thead>\n",
       "  <tbody>\n",
       "    <tr>\n",
       "      <th id=\"T_ff681_level0_row0\" class=\"row_heading level0 row0\" >date_crawled</th>\n",
       "      <td id=\"T_ff681_row0_col0\" class=\"data row0 col0\" >0.000000</td>\n",
       "    </tr>\n",
       "    <tr>\n",
       "      <th id=\"T_ff681_level0_row1\" class=\"row_heading level0 row1\" >price</th>\n",
       "      <td id=\"T_ff681_row1_col0\" class=\"data row1 col0\" >0.000000</td>\n",
       "    </tr>\n",
       "    <tr>\n",
       "      <th id=\"T_ff681_level0_row2\" class=\"row_heading level0 row2\" >vehicle_type</th>\n",
       "      <td id=\"T_ff681_row2_col0\" class=\"data row2 col0\" >9.532927</td>\n",
       "    </tr>\n",
       "    <tr>\n",
       "      <th id=\"T_ff681_level0_row3\" class=\"row_heading level0 row3\" >registration_year</th>\n",
       "      <td id=\"T_ff681_row3_col0\" class=\"data row3 col0\" >0.000000</td>\n",
       "    </tr>\n",
       "    <tr>\n",
       "      <th id=\"T_ff681_level0_row4\" class=\"row_heading level0 row4\" >gearbox</th>\n",
       "      <td id=\"T_ff681_row4_col0\" class=\"data row4 col0\" >4.742089</td>\n",
       "    </tr>\n",
       "    <tr>\n",
       "      <th id=\"T_ff681_level0_row5\" class=\"row_heading level0 row5\" >power</th>\n",
       "      <td id=\"T_ff681_row5_col0\" class=\"data row5 col0\" >0.000000</td>\n",
       "    </tr>\n",
       "    <tr>\n",
       "      <th id=\"T_ff681_level0_row6\" class=\"row_heading level0 row6\" >model</th>\n",
       "      <td id=\"T_ff681_row6_col0\" class=\"data row6 col0\" >4.947361</td>\n",
       "    </tr>\n",
       "    <tr>\n",
       "      <th id=\"T_ff681_level0_row7\" class=\"row_heading level0 row7\" >kilometer</th>\n",
       "      <td id=\"T_ff681_row7_col0\" class=\"data row7 col0\" >0.000000</td>\n",
       "    </tr>\n",
       "    <tr>\n",
       "      <th id=\"T_ff681_level0_row8\" class=\"row_heading level0 row8\" >registration_month</th>\n",
       "      <td id=\"T_ff681_row8_col0\" class=\"data row8 col0\" >0.000000</td>\n",
       "    </tr>\n",
       "    <tr>\n",
       "      <th id=\"T_ff681_level0_row9\" class=\"row_heading level0 row9\" >fuel_type</th>\n",
       "      <td id=\"T_ff681_row9_col0\" class=\"data row9 col0\" >8.276044</td>\n",
       "    </tr>\n",
       "    <tr>\n",
       "      <th id=\"T_ff681_level0_row10\" class=\"row_heading level0 row10\" >brand</th>\n",
       "      <td id=\"T_ff681_row10_col0\" class=\"data row10 col0\" >0.000000</td>\n",
       "    </tr>\n",
       "    <tr>\n",
       "      <th id=\"T_ff681_level0_row11\" class=\"row_heading level0 row11\" >repaired</th>\n",
       "      <td id=\"T_ff681_row11_col0\" class=\"data row11 col0\" >18.827986</td>\n",
       "    </tr>\n",
       "    <tr>\n",
       "      <th id=\"T_ff681_level0_row12\" class=\"row_heading level0 row12\" >date_created</th>\n",
       "      <td id=\"T_ff681_row12_col0\" class=\"data row12 col0\" >0.000000</td>\n",
       "    </tr>\n",
       "    <tr>\n",
       "      <th id=\"T_ff681_level0_row13\" class=\"row_heading level0 row13\" >postal_code</th>\n",
       "      <td id=\"T_ff681_row13_col0\" class=\"data row13 col0\" >0.000000</td>\n",
       "    </tr>\n",
       "    <tr>\n",
       "      <th id=\"T_ff681_level0_row14\" class=\"row_heading level0 row14\" >last_seen</th>\n",
       "      <td id=\"T_ff681_row14_col0\" class=\"data row14 col0\" >0.000000</td>\n",
       "    </tr>\n",
       "  </tbody>\n",
       "</table>\n"
      ],
      "text/plain": [
       "<pandas.io.formats.style.Styler at 0x201c769e5f0>"
      ]
     },
     "execution_count": 30,
     "metadata": {},
     "output_type": "execute_result"
    }
   ],
   "source": [
    "pd.DataFrame(round(df.isna().mean()*100,6)).style.background_gradient('coolwarm')"
   ]
  },
  {
   "cell_type": "markdown",
   "metadata": {},
   "source": [
    "Предположим, что в столбце `repaired` отсутствие значения говорит все же о том, что автомобиль не ремонтировался, заменим NaN на no:"
   ]
  },
  {
   "cell_type": "code",
   "execution_count": 31,
   "metadata": {
    "ExecuteTime": {
     "end_time": "2023-04-15T06:16:46.467981Z",
     "start_time": "2023-04-15T06:16:46.437560Z"
    }
   },
   "outputs": [],
   "source": [
    "df['repaired'] = df['repaired'].fillna('no')"
   ]
  },
  {
   "cell_type": "markdown",
   "metadata": {},
   "source": [
    "Типом топлива по умолчанию будет бензин:"
   ]
  },
  {
   "cell_type": "code",
   "execution_count": 32,
   "metadata": {
    "ExecuteTime": {
     "end_time": "2023-04-15T06:16:46.499030Z",
     "start_time": "2023-04-15T06:16:46.468979Z"
    }
   },
   "outputs": [
    {
     "data": {
      "text/plain": [
       "array(['petrol', 'gasoline', nan, 'lpg', 'other', 'hybrid', 'cng',\n",
       "       'electric'], dtype=object)"
      ]
     },
     "execution_count": 32,
     "metadata": {},
     "output_type": "execute_result"
    }
   ],
   "source": [
    "df['fuel_type'].unique()"
   ]
  },
  {
   "cell_type": "markdown",
   "metadata": {
    "ExecuteTime": {
     "end_time": "2023-04-11T07:31:26.579465Z",
     "start_time": "2023-04-11T07:31:26.566903Z"
    }
   },
   "source": [
    "Стоит отметить, что в Америке бензин чаще называют *gasoline*, а *petrol* - британское название. Избавимся от британцев:"
   ]
  },
  {
   "cell_type": "code",
   "execution_count": 33,
   "metadata": {
    "ExecuteTime": {
     "end_time": "2023-04-15T06:16:46.530736Z",
     "start_time": "2023-04-15T06:16:46.501024Z"
    }
   },
   "outputs": [],
   "source": [
    "df.loc[df['fuel_type'] == 'petrol', 'fuel_type'] = 'gasoline'"
   ]
  },
  {
   "cell_type": "code",
   "execution_count": 34,
   "metadata": {
    "ExecuteTime": {
     "end_time": "2023-04-15T06:16:46.561405Z",
     "start_time": "2023-04-15T06:16:46.531785Z"
    }
   },
   "outputs": [],
   "source": [
    "df['fuel_type'] = df['fuel_type'].fillna('gasoline')"
   ]
  },
  {
   "cell_type": "markdown",
   "metadata": {},
   "source": [
    "Пропуски в `vehicle_type`, `model` заполним новым типом *other*:"
   ]
  },
  {
   "cell_type": "code",
   "execution_count": 35,
   "metadata": {
    "ExecuteTime": {
     "end_time": "2023-04-15T06:16:46.608010Z",
     "start_time": "2023-04-15T06:16:46.562465Z"
    }
   },
   "outputs": [],
   "source": [
    "df['vehicle_type'] = df['vehicle_type'].fillna('other')\n",
    "df['model'] = df['model'].fillna('other')"
   ]
  },
  {
   "cell_type": "markdown",
   "metadata": {},
   "source": [
    "Коробка передач в наше время чаще все же автомат или вариатор:"
   ]
  },
  {
   "cell_type": "code",
   "execution_count": 36,
   "metadata": {
    "ExecuteTime": {
     "end_time": "2023-04-15T06:16:46.638921Z",
     "start_time": "2023-04-15T06:16:46.610005Z"
    }
   },
   "outputs": [],
   "source": [
    "df['gearbox'] = df['gearbox'].fillna('auto')"
   ]
  },
  {
   "cell_type": "code",
   "execution_count": 37,
   "metadata": {
    "ExecuteTime": {
     "end_time": "2023-04-15T06:16:46.823362Z",
     "start_time": "2023-04-15T06:16:46.640882Z"
    },
    "scrolled": false
   },
   "outputs": [
    {
     "data": {
      "text/html": [
       "<style type=\"text/css\">\n",
       "#T_16d39_row0_col0, #T_16d39_row1_col0, #T_16d39_row2_col0, #T_16d39_row3_col0, #T_16d39_row4_col0, #T_16d39_row5_col0, #T_16d39_row6_col0, #T_16d39_row7_col0, #T_16d39_row8_col0, #T_16d39_row9_col0, #T_16d39_row10_col0, #T_16d39_row11_col0, #T_16d39_row12_col0, #T_16d39_row13_col0, #T_16d39_row14_col0 {\n",
       "  background-color: #3b4cc0;\n",
       "  color: #f1f1f1;\n",
       "}\n",
       "</style>\n",
       "<table id=\"T_16d39\">\n",
       "  <thead>\n",
       "    <tr>\n",
       "      <th class=\"blank level0\" >&nbsp;</th>\n",
       "      <th id=\"T_16d39_level0_col0\" class=\"col_heading level0 col0\" >0</th>\n",
       "    </tr>\n",
       "  </thead>\n",
       "  <tbody>\n",
       "    <tr>\n",
       "      <th id=\"T_16d39_level0_row0\" class=\"row_heading level0 row0\" >date_crawled</th>\n",
       "      <td id=\"T_16d39_row0_col0\" class=\"data row0 col0\" >0.000000</td>\n",
       "    </tr>\n",
       "    <tr>\n",
       "      <th id=\"T_16d39_level0_row1\" class=\"row_heading level0 row1\" >price</th>\n",
       "      <td id=\"T_16d39_row1_col0\" class=\"data row1 col0\" >0.000000</td>\n",
       "    </tr>\n",
       "    <tr>\n",
       "      <th id=\"T_16d39_level0_row2\" class=\"row_heading level0 row2\" >vehicle_type</th>\n",
       "      <td id=\"T_16d39_row2_col0\" class=\"data row2 col0\" >0.000000</td>\n",
       "    </tr>\n",
       "    <tr>\n",
       "      <th id=\"T_16d39_level0_row3\" class=\"row_heading level0 row3\" >registration_year</th>\n",
       "      <td id=\"T_16d39_row3_col0\" class=\"data row3 col0\" >0.000000</td>\n",
       "    </tr>\n",
       "    <tr>\n",
       "      <th id=\"T_16d39_level0_row4\" class=\"row_heading level0 row4\" >gearbox</th>\n",
       "      <td id=\"T_16d39_row4_col0\" class=\"data row4 col0\" >0.000000</td>\n",
       "    </tr>\n",
       "    <tr>\n",
       "      <th id=\"T_16d39_level0_row5\" class=\"row_heading level0 row5\" >power</th>\n",
       "      <td id=\"T_16d39_row5_col0\" class=\"data row5 col0\" >0.000000</td>\n",
       "    </tr>\n",
       "    <tr>\n",
       "      <th id=\"T_16d39_level0_row6\" class=\"row_heading level0 row6\" >model</th>\n",
       "      <td id=\"T_16d39_row6_col0\" class=\"data row6 col0\" >0.000000</td>\n",
       "    </tr>\n",
       "    <tr>\n",
       "      <th id=\"T_16d39_level0_row7\" class=\"row_heading level0 row7\" >kilometer</th>\n",
       "      <td id=\"T_16d39_row7_col0\" class=\"data row7 col0\" >0.000000</td>\n",
       "    </tr>\n",
       "    <tr>\n",
       "      <th id=\"T_16d39_level0_row8\" class=\"row_heading level0 row8\" >registration_month</th>\n",
       "      <td id=\"T_16d39_row8_col0\" class=\"data row8 col0\" >0.000000</td>\n",
       "    </tr>\n",
       "    <tr>\n",
       "      <th id=\"T_16d39_level0_row9\" class=\"row_heading level0 row9\" >fuel_type</th>\n",
       "      <td id=\"T_16d39_row9_col0\" class=\"data row9 col0\" >0.000000</td>\n",
       "    </tr>\n",
       "    <tr>\n",
       "      <th id=\"T_16d39_level0_row10\" class=\"row_heading level0 row10\" >brand</th>\n",
       "      <td id=\"T_16d39_row10_col0\" class=\"data row10 col0\" >0.000000</td>\n",
       "    </tr>\n",
       "    <tr>\n",
       "      <th id=\"T_16d39_level0_row11\" class=\"row_heading level0 row11\" >repaired</th>\n",
       "      <td id=\"T_16d39_row11_col0\" class=\"data row11 col0\" >0.000000</td>\n",
       "    </tr>\n",
       "    <tr>\n",
       "      <th id=\"T_16d39_level0_row12\" class=\"row_heading level0 row12\" >date_created</th>\n",
       "      <td id=\"T_16d39_row12_col0\" class=\"data row12 col0\" >0.000000</td>\n",
       "    </tr>\n",
       "    <tr>\n",
       "      <th id=\"T_16d39_level0_row13\" class=\"row_heading level0 row13\" >postal_code</th>\n",
       "      <td id=\"T_16d39_row13_col0\" class=\"data row13 col0\" >0.000000</td>\n",
       "    </tr>\n",
       "    <tr>\n",
       "      <th id=\"T_16d39_level0_row14\" class=\"row_heading level0 row14\" >last_seen</th>\n",
       "      <td id=\"T_16d39_row14_col0\" class=\"data row14 col0\" >0.000000</td>\n",
       "    </tr>\n",
       "  </tbody>\n",
       "</table>\n"
      ],
      "text/plain": [
       "<pandas.io.formats.style.Styler at 0x201d409b220>"
      ]
     },
     "execution_count": 37,
     "metadata": {},
     "output_type": "execute_result"
    }
   ],
   "source": [
    "pd.DataFrame(round(df.isna().mean()*100,6)).style.background_gradient('coolwarm')"
   ]
  },
  {
   "cell_type": "markdown",
   "metadata": {},
   "source": [
    "### Проверка на дубликаты"
   ]
  },
  {
   "cell_type": "code",
   "execution_count": 38,
   "metadata": {
    "ExecuteTime": {
     "end_time": "2023-04-15T06:16:46.995142Z",
     "start_time": "2023-04-15T06:16:46.824360Z"
    }
   },
   "outputs": [
    {
     "data": {
      "text/plain": [
       "5"
      ]
     },
     "execution_count": 38,
     "metadata": {},
     "output_type": "execute_result"
    }
   ],
   "source": [
    "df.duplicated().sum()"
   ]
  },
  {
   "cell_type": "code",
   "execution_count": 39,
   "metadata": {
    "ExecuteTime": {
     "end_time": "2023-04-15T06:16:47.197219Z",
     "start_time": "2023-04-15T06:16:46.996139Z"
    }
   },
   "outputs": [],
   "source": [
    "df = df.drop_duplicates()"
   ]
  },
  {
   "cell_type": "markdown",
   "metadata": {},
   "source": [
    "### Повторный осмотр подготовленного датасета"
   ]
  },
  {
   "cell_type": "code",
   "execution_count": 40,
   "metadata": {
    "ExecuteTime": {
     "end_time": "2023-04-15T06:16:47.260754Z",
     "start_time": "2023-04-15T06:16:47.198216Z"
    }
   },
   "outputs": [
    {
     "data": {
      "text/html": [
       "<div>\n",
       "<style scoped>\n",
       "    .dataframe tbody tr th:only-of-type {\n",
       "        vertical-align: middle;\n",
       "    }\n",
       "\n",
       "    .dataframe tbody tr th {\n",
       "        vertical-align: top;\n",
       "    }\n",
       "\n",
       "    .dataframe thead th {\n",
       "        text-align: right;\n",
       "    }\n",
       "</style>\n",
       "<table border=\"1\" class=\"dataframe\">\n",
       "  <thead>\n",
       "    <tr style=\"text-align: right;\">\n",
       "      <th></th>\n",
       "      <th>price</th>\n",
       "      <th>registration_year</th>\n",
       "      <th>power</th>\n",
       "      <th>kilometer</th>\n",
       "      <th>registration_month</th>\n",
       "      <th>postal_code</th>\n",
       "    </tr>\n",
       "  </thead>\n",
       "  <tbody>\n",
       "    <tr>\n",
       "      <th>count</th>\n",
       "      <td>340520.000000</td>\n",
       "      <td>340520.000000</td>\n",
       "      <td>340520.000000</td>\n",
       "      <td>340520.000000</td>\n",
       "      <td>340520.000000</td>\n",
       "      <td>340520.000000</td>\n",
       "    </tr>\n",
       "    <tr>\n",
       "      <th>mean</th>\n",
       "      <td>4586.327502</td>\n",
       "      <td>2002.796925</td>\n",
       "      <td>119.568363</td>\n",
       "      <td>128582.036297</td>\n",
       "      <td>6.357823</td>\n",
       "      <td>50701.000094</td>\n",
       "    </tr>\n",
       "    <tr>\n",
       "      <th>std</th>\n",
       "      <td>4512.205522</td>\n",
       "      <td>6.516468</td>\n",
       "      <td>60.144140</td>\n",
       "      <td>37136.720638</td>\n",
       "      <td>3.334534</td>\n",
       "      <td>25730.282095</td>\n",
       "    </tr>\n",
       "    <tr>\n",
       "      <th>min</th>\n",
       "      <td>100.000000</td>\n",
       "      <td>1961.000000</td>\n",
       "      <td>6.000000</td>\n",
       "      <td>5000.000000</td>\n",
       "      <td>1.000000</td>\n",
       "      <td>1067.000000</td>\n",
       "    </tr>\n",
       "    <tr>\n",
       "      <th>25%</th>\n",
       "      <td>1200.000000</td>\n",
       "      <td>1999.000000</td>\n",
       "      <td>83.000000</td>\n",
       "      <td>125000.000000</td>\n",
       "      <td>3.000000</td>\n",
       "      <td>30455.000000</td>\n",
       "    </tr>\n",
       "    <tr>\n",
       "      <th>50%</th>\n",
       "      <td>2900.000000</td>\n",
       "      <td>2003.000000</td>\n",
       "      <td>105.000000</td>\n",
       "      <td>150000.000000</td>\n",
       "      <td>6.000000</td>\n",
       "      <td>49525.000000</td>\n",
       "    </tr>\n",
       "    <tr>\n",
       "      <th>75%</th>\n",
       "      <td>6500.000000</td>\n",
       "      <td>2007.000000</td>\n",
       "      <td>143.000000</td>\n",
       "      <td>150000.000000</td>\n",
       "      <td>9.000000</td>\n",
       "      <td>71229.000000</td>\n",
       "    </tr>\n",
       "    <tr>\n",
       "      <th>max</th>\n",
       "      <td>20000.000000</td>\n",
       "      <td>2016.000000</td>\n",
       "      <td>2000.000000</td>\n",
       "      <td>150000.000000</td>\n",
       "      <td>12.000000</td>\n",
       "      <td>99998.000000</td>\n",
       "    </tr>\n",
       "  </tbody>\n",
       "</table>\n",
       "</div>"
      ],
      "text/plain": [
       "               price  registration_year          power      kilometer  \\\n",
       "count  340520.000000      340520.000000  340520.000000  340520.000000   \n",
       "mean     4586.327502        2002.796925     119.568363  128582.036297   \n",
       "std      4512.205522           6.516468      60.144140   37136.720638   \n",
       "min       100.000000        1961.000000       6.000000    5000.000000   \n",
       "25%      1200.000000        1999.000000      83.000000  125000.000000   \n",
       "50%      2900.000000        2003.000000     105.000000  150000.000000   \n",
       "75%      6500.000000        2007.000000     143.000000  150000.000000   \n",
       "max     20000.000000        2016.000000    2000.000000  150000.000000   \n",
       "\n",
       "       registration_month    postal_code  \n",
       "count       340520.000000  340520.000000  \n",
       "mean             6.357823   50701.000094  \n",
       "std              3.334534   25730.282095  \n",
       "min              1.000000    1067.000000  \n",
       "25%              3.000000   30455.000000  \n",
       "50%              6.000000   49525.000000  \n",
       "75%              9.000000   71229.000000  \n",
       "max             12.000000   99998.000000  "
      ]
     },
     "execution_count": 40,
     "metadata": {},
     "output_type": "execute_result"
    }
   ],
   "source": [
    "df.describe()"
   ]
  },
  {
   "cell_type": "code",
   "execution_count": 41,
   "metadata": {
    "ExecuteTime": {
     "end_time": "2023-04-15T06:16:47.444102Z",
     "start_time": "2023-04-15T06:16:47.261754Z"
    }
   },
   "outputs": [
    {
     "name": "stdout",
     "output_type": "stream",
     "text": [
      "<class 'pandas.core.frame.DataFrame'>\n",
      "Int64Index: 340520 entries, 0 to 354368\n",
      "Data columns (total 15 columns):\n",
      " #   Column              Non-Null Count   Dtype         \n",
      "---  ------              --------------   -----         \n",
      " 0   date_crawled        340520 non-null  datetime64[ns]\n",
      " 1   price               340520 non-null  int64         \n",
      " 2   vehicle_type        340520 non-null  object        \n",
      " 3   registration_year   340520 non-null  int64         \n",
      " 4   gearbox             340520 non-null  object        \n",
      " 5   power               340520 non-null  int64         \n",
      " 6   model               340520 non-null  object        \n",
      " 7   kilometer           340520 non-null  int64         \n",
      " 8   registration_month  340520 non-null  int64         \n",
      " 9   fuel_type           340520 non-null  object        \n",
      " 10  brand               340520 non-null  object        \n",
      " 11  repaired            340520 non-null  object        \n",
      " 12  date_created        340520 non-null  datetime64[ns]\n",
      " 13  postal_code         340520 non-null  int64         \n",
      " 14  last_seen           340520 non-null  datetime64[ns]\n",
      "dtypes: datetime64[ns](3), int64(6), object(6)\n",
      "memory usage: 41.6+ MB\n"
     ]
    }
   ],
   "source": [
    "df.info()"
   ]
  },
  {
   "cell_type": "markdown",
   "metadata": {
    "ExecuteTime": {
     "end_time": "2023-04-11T07:33:45.879694Z",
     "start_time": "2023-04-11T07:33:45.874685Z"
    }
   },
   "source": [
    "**Вывод**\n",
    "\n",
    "- Проведена работа с пропусками и аномалиями\n",
    "- Выброшены *сильно* аномальные строки и пустые столбцы"
   ]
  },
  {
   "cell_type": "markdown",
   "metadata": {},
   "source": [
    "## Обучение моделей"
   ]
  },
  {
   "cell_type": "markdown",
   "metadata": {
    "ExecuteTime": {
     "end_time": "2023-04-11T07:42:19.933417Z",
     "start_time": "2023-04-11T07:42:19.926993Z"
    }
   },
   "source": [
    "### Подготовка выборок"
   ]
  },
  {
   "cell_type": "markdown",
   "metadata": {
    "ExecuteTime": {
     "end_time": "2023-04-11T07:43:17.358284Z",
     "start_time": "2023-04-11T07:43:17.353012Z"
    }
   },
   "source": [
    "Для начала избавимся от ненужных столбцов `date_crawled`, `date_created`, `last_seen`, `postal_code` - это просто техническая информация c сайта:"
   ]
  },
  {
   "cell_type": "code",
   "execution_count": 42,
   "metadata": {
    "ExecuteTime": {
     "end_time": "2023-04-15T06:16:47.474815Z",
     "start_time": "2023-04-15T06:16:47.446098Z"
    }
   },
   "outputs": [],
   "source": [
    "df = df.drop(['date_crawled', 'date_created', 'last_seen', 'postal_code'], axis=1)"
   ]
  },
  {
   "cell_type": "markdown",
   "metadata": {
    "ExecuteTime": {
     "end_time": "2023-04-11T07:50:59.106093Z",
     "start_time": "2023-04-11T07:50:59.092085Z"
    }
   },
   "source": [
    "### Проверка коллинеарности фич и таргета"
   ]
  },
  {
   "cell_type": "markdown",
   "metadata": {
    "ExecuteTime": {
     "end_time": "2023-04-11T07:49:54.459490Z",
     "start_time": "2023-04-11T07:49:54.444434Z"
    }
   },
   "source": [
    "Рассмотрим хитмап корреляций `phik` (умеет работать с категориальными фичами, определяет линейные и нелинейные связи):"
   ]
  },
  {
   "cell_type": "code",
   "execution_count": 43,
   "metadata": {
    "ExecuteTime": {
     "end_time": "2023-04-15T06:16:52.979049Z",
     "start_time": "2023-04-15T06:16:47.475817Z"
    }
   },
   "outputs": [
    {
     "name": "stdout",
     "output_type": "stream",
     "text": [
      "interval columns not set, guessing: ['price', 'registration_year', 'power', 'kilometer', 'registration_month']\n"
     ]
    },
    {
     "data": {
      "image/png": "[encoded data removed]",
      "text/plain": [
       "<Figure size 1000x600 with 2 Axes>"
      ]
     },
     "metadata": {},
     "output_type": "display_data"
    }
   ],
   "source": [
    "plt.figure(figsize=(10,6))\n",
    "sns.heatmap(df.phik_matrix(),\n",
    "            cmap='RdYlGn',\n",
    "            center=0,\n",
    "            annot=True);"
   ]
  },
  {
   "cell_type": "markdown",
   "metadata": {
    "ExecuteTime": {
     "end_time": "2023-04-11T07:59:22.927600Z",
     "start_time": "2023-04-11T07:59:22.918604Z"
    }
   },
   "source": [
    "Сильной корреляцией будем считать R2 > 0.9. Из таблицы следует, что имеется сильная зависимость между `model` и `vehicle_type`"
   ]
  },
  {
   "cell_type": "markdown",
   "metadata": {
    "ExecuteTime": {
     "end_time": "2023-04-11T08:00:54.133291Z",
     "start_time": "2023-04-11T08:00:54.116133Z"
    }
   },
   "source": [
    "Поскольку мы уже проводили работу со столбцом `vehicle_type` (были пустые значения), а в столбце `model` пропусков изначально не было, то удалим столбец `vehicle_type`, как коллинеарный:"
   ]
  },
  {
   "cell_type": "code",
   "execution_count": 44,
   "metadata": {
    "ExecuteTime": {
     "end_time": "2023-04-15T06:16:53.010037Z",
     "start_time": "2023-04-15T06:16:52.981043Z"
    }
   },
   "outputs": [],
   "source": [
    "df = df.drop(['vehicle_type'], axis=1)"
   ]
  },
  {
   "cell_type": "markdown",
   "metadata": {
    "ExecuteTime": {
     "end_time": "2023-04-11T07:48:22.203125Z",
     "start_time": "2023-04-11T07:48:22.194733Z"
    }
   },
   "source": [
    "Таким образом определяем выборки `features` и `target`:"
   ]
  },
  {
   "cell_type": "code",
   "execution_count": 45,
   "metadata": {
    "ExecuteTime": {
     "end_time": "2023-04-15T06:16:53.024854Z",
     "start_time": "2023-04-15T06:16:53.011034Z"
    }
   },
   "outputs": [
    {
     "name": "stdout",
     "output_type": "stream",
     "text": [
      "(340520, 9) (340520,)\n"
     ]
    }
   ],
   "source": [
    "features = df.drop(['price'], axis=1)\n",
    "target = df['price']\n",
    "print(features.shape, target.shape)"
   ]
  },
  {
   "cell_type": "markdown",
   "metadata": {},
   "source": [
    "Разделяем выборки на train/test:"
   ]
  },
  {
   "cell_type": "code",
   "execution_count": 46,
   "metadata": {
    "ExecuteTime": {
     "end_time": "2023-04-15T06:16:53.072102Z",
     "start_time": "2023-04-15T06:16:53.025850Z"
    },
    "scrolled": true
   },
   "outputs": [
    {
     "name": "stdout",
     "output_type": "stream",
     "text": [
      "(272416, 9) (272416,) (68104, 9) (68104,)\n"
     ]
    }
   ],
   "source": [
    "features_train, features_test, target_train, target_test = train_test_split(\n",
    "    features, target, test_size=0.2, random_state=SEED)\n",
    "print(features_train.shape, target_train.shape, features_test.shape, target_test.shape)"
   ]
  },
  {
   "cell_type": "markdown",
   "metadata": {
    "ExecuteTime": {
     "end_time": "2023-04-11T08:07:21.169773Z",
     "start_time": "2023-04-11T08:07:21.167065Z"
    }
   },
   "source": [
    "### Нормировка признаков"
   ]
  },
  {
   "cell_type": "code",
   "execution_count": 47,
   "metadata": {
    "ExecuteTime": {
     "end_time": "2023-04-15T06:16:53.087572Z",
     "start_time": "2023-04-15T06:16:53.073098Z"
    }
   },
   "outputs": [
    {
     "data": {
      "text/plain": [
       "Index(['price', 'registration_year', 'gearbox', 'power', 'model', 'kilometer',\n",
       "       'registration_month', 'fuel_type', 'brand', 'repaired'],\n",
       "      dtype='object')"
      ]
     },
     "execution_count": 47,
     "metadata": {},
     "output_type": "execute_result"
    }
   ],
   "source": [
    "df.columns"
   ]
  },
  {
   "cell_type": "markdown",
   "metadata": {
    "ExecuteTime": {
     "end_time": "2023-04-11T08:20:21.205809Z",
     "start_time": "2023-04-11T08:20:21.187362Z"
    }
   },
   "source": [
    "Численные и категориальные столбцы:"
   ]
  },
  {
   "cell_type": "code",
   "execution_count": 48,
   "metadata": {
    "ExecuteTime": {
     "end_time": "2023-04-15T06:16:53.102976Z",
     "start_time": "2023-04-15T06:16:53.088569Z"
    }
   },
   "outputs": [],
   "source": [
    "numeric = ['power', 'kilometer', 'registration_year', 'registration_month']\n",
    "category = ['gearbox', 'model', 'fuel_type', 'brand', 'repaired']"
   ]
  },
  {
   "cell_type": "code",
   "execution_count": 49,
   "metadata": {
    "ExecuteTime": {
     "end_time": "2023-04-15T06:16:53.149586Z",
     "start_time": "2023-04-15T06:16:53.104972Z"
    }
   },
   "outputs": [],
   "source": [
    "#учим скелер на трейн фичах\n",
    "scaler = StandardScaler()\n",
    "scaler.fit(features_train[numeric]) \n",
    "#применяем ко всем фичам\n",
    "features_train[numeric] = scaler.transform(features_train[numeric])\n",
    "features_test[numeric] = scaler.transform(features_test[numeric])"
   ]
  },
  {
   "cell_type": "markdown",
   "metadata": {
    "ExecuteTime": {
     "end_time": "2023-04-11T08:14:13.134531Z",
     "start_time": "2023-04-11T08:14:13.120215Z"
    }
   },
   "source": [
    "### Label-кодирование"
   ]
  },
  {
   "cell_type": "markdown",
   "metadata": {
    "ExecuteTime": {
     "end_time": "2023-04-11T08:12:58.524672Z",
     "start_time": "2023-04-11T08:12:58.511494Z"
    }
   },
   "source": [
    "Для модели решающего дерева необходимо провести Label/OHE кодирование категориальных фич, а бустинговые модели могут работать и с \"сырыми\" категориальными признаками. У нас довольно большой датасет, так что возьмем Label:"
   ]
  },
  {
   "cell_type": "markdown",
   "metadata": {},
   "source": [
    "Судя по методу `describe` и гистограммам у большого количества параметров есть выбросы относительно визуально нормального распределения.\n",
    "Для улучшения нормирования возьмем данные из 99.8% межквантильного интервала."
   ]
  },
  {
   "cell_type": "markdown",
   "metadata": {},
   "source": [
    "Подготовим Label-кодировщик из `scikit-learn`:"
   ]
  },
  {
   "cell_type": "code",
   "execution_count": 50,
   "metadata": {
    "ExecuteTime": {
     "end_time": "2023-04-15T06:16:53.399142Z",
     "start_time": "2023-04-15T06:16:53.151096Z"
    },
    "scrolled": true
   },
   "outputs": [],
   "source": [
    "encoder_label = LabelEncoder()\n",
    "for column in category:\n",
    "    encoder_label.fit(features_train[column].astype('str'))\n",
    "    features_train[column] = encoder_label.transform(features_train[column].astype('str'))\n",
    "    features_test[column] = encoder_label.transform(features_test[column].astype('str'))"
   ]
  },
  {
   "cell_type": "markdown",
   "metadata": {},
   "source": [
    "## Анализ моделей"
   ]
  },
  {
   "cell_type": "markdown",
   "metadata": {},
   "source": [
    "Размеры выборок:"
   ]
  },
  {
   "cell_type": "code",
   "execution_count": 51,
   "metadata": {
    "ExecuteTime": {
     "end_time": "2023-04-15T06:16:53.414938Z",
     "start_time": "2023-04-15T06:16:53.400649Z"
    }
   },
   "outputs": [
    {
     "name": "stdout",
     "output_type": "stream",
     "text": [
      "(272416, 9) (272416,) (68104, 9) (68104,)\n"
     ]
    }
   ],
   "source": [
    "print(features_train.shape, target_train.shape, features_test.shape, target_test.shape)"
   ]
  },
  {
   "cell_type": "markdown",
   "metadata": {
    "ExecuteTime": {
     "end_time": "2023-04-11T08:04:35.677467Z",
     "start_time": "2023-04-11T08:04:35.663484Z"
    }
   },
   "source": [
    "По условию задачи нужно обучить разные модели, одна из которых — LightGBM, как минимум одна — не бустинг. И для каждой модели попробовать разные гиперпараметры.\n",
    "\n",
    "Не бустинговой моделью будет хорошо зарекомендовавший себя `DecisionTreeRegressor`\n",
    "Также применим `LightGBM` и `CatBoostRegressor`"
   ]
  },
  {
   "cell_type": "markdown",
   "metadata": {},
   "source": [
    "Требуемая метрика `RMSE` не является стандартной при обучении, нам нужен кастомный скорер:"
   ]
  },
  {
   "cell_type": "code",
   "execution_count": 52,
   "metadata": {
    "ExecuteTime": {
     "end_time": "2023-04-15T06:16:53.431154Z",
     "start_time": "2023-04-15T06:16:53.415935Z"
    }
   },
   "outputs": [],
   "source": [
    "def rmse(y_true, y_pred):\n",
    "    return np.sqrt(mean_squared_error(y_true, y_pred))\n",
    "\n",
    "rmse_scorer = make_scorer(rmse, greater_is_better=False)"
   ]
  },
  {
   "cell_type": "markdown",
   "metadata": {},
   "source": [
    "### DecisionTreeRegressor"
   ]
  },
  {
   "cell_type": "markdown",
   "metadata": {
    "ExecuteTime": {
     "end_time": "2023-04-11T08:32:45.920477Z",
     "start_time": "2023-04-11T08:32:45.901692Z"
    }
   },
   "source": [
    "Ключевые гиперпараметры случайного леса:\n",
    "`n_estimator`,`max_depth`,`min_samples_leaf`, `max_leaf_nodes`"
   ]
  },
  {
   "cell_type": "code",
   "execution_count": 53,
   "metadata": {
    "ExecuteTime": {
     "end_time": "2023-04-15T06:16:53.446644Z",
     "start_time": "2023-04-15T06:16:53.432166Z"
    }
   },
   "outputs": [],
   "source": [
    "dtr = DecisionTreeRegressor(random_state = SEED)"
   ]
  },
  {
   "cell_type": "code",
   "execution_count": 54,
   "metadata": {
    "ExecuteTime": {
     "end_time": "2023-04-15T06:16:53.462912Z",
     "start_time": "2023-04-15T06:16:53.447641Z"
    }
   },
   "outputs": [],
   "source": [
    "parameters = {'splitter': ['best', 'random'], #default=”best”\n",
    "              'max_depth': [2*i for i in range(3, 42)], #default=None\n",
    "              'min_samples_leaf': [i for i in range(1, 31)], #default=1\n",
    "              'max_leaf_nodes': [None]+[10*i for i in range(1, 31)]} #default=None"
   ]
  },
  {
   "cell_type": "code",
   "execution_count": 55,
   "metadata": {
    "ExecuteTime": {
     "end_time": "2023-04-15T06:16:53.478833Z",
     "start_time": "2023-04-15T06:16:53.463911Z"
    }
   },
   "outputs": [],
   "source": [
    "dtr_rs = RandomizedSearchCV(estimator=dtr,\n",
    "                            param_distributions=parameters,\n",
    "                            scoring=rmse_scorer,\n",
    "                            n_jobs=NJOBS,\n",
    "                            cv=5,\n",
    "                            random_state=SEED,\n",
    "                            n_iter=ITERATIONS)"
   ]
  },
  {
   "cell_type": "code",
   "execution_count": 56,
   "metadata": {
    "ExecuteTime": {
     "end_time": "2023-04-15T06:16:59.231892Z",
     "start_time": "2023-04-15T06:16:53.480828Z"
    },
    "scrolled": false
   },
   "outputs": [
    {
     "name": "stdout",
     "output_type": "stream",
     "text": [
      "CPU times: total: 922 ms\n",
      "Wall time: 5.74 s\n"
     ]
    },
    {
     "data": {
      "text/html": [
       "<style>#sk-container-id-1 {color: black;background-color: white;}#sk-container-id-1 pre{padding: 0;}#sk-container-id-1 div.sk-toggleable {background-color: white;}#sk-container-id-1 label.sk-toggleable__label {cursor: pointer;display: block;width: 100%;margin-bottom: 0;padding: 0.3em;box-sizing: border-box;text-align: center;}#sk-container-id-1 label.sk-toggleable__label-arrow:before {content: \"▸\";float: left;margin-right: 0.25em;color: #696969;}#sk-container-id-1 label.sk-toggleable__label-arrow:hover:before {color: black;}#sk-container-id-1 div.sk-estimator:hover label.sk-toggleable__label-arrow:before {color: black;}#sk-container-id-1 div.sk-toggleable__content {max-height: 0;max-width: 0;overflow: hidden;text-align: left;background-color: #f0f8ff;}#sk-container-id-1 div.sk-toggleable__content pre {margin: 0.2em;color: black;border-radius: 0.25em;background-color: #f0f8ff;}#sk-container-id-1 input.sk-toggleable__control:checked~div.sk-toggleable__content {max-height: 200px;max-width: 100%;overflow: auto;}#sk-container-id-1 input.sk-toggleable__control:checked~label.sk-toggleable__label-arrow:before {content: \"▾\";}#sk-container-id-1 div.sk-estimator input.sk-toggleable__control:checked~label.sk-toggleable__label {background-color: #d4ebff;}#sk-container-id-1 div.sk-label input.sk-toggleable__control:checked~label.sk-toggleable__label {background-color: #d4ebff;}#sk-container-id-1 input.sk-hidden--visually {border: 0;clip: rect(1px 1px 1px 1px);clip: rect(1px, 1px, 1px, 1px);height: 1px;margin: -1px;overflow: hidden;padding: 0;position: absolute;width: 1px;}#sk-container-id-1 div.sk-estimator {font-family: monospace;background-color: #f0f8ff;border: 1px dotted black;border-radius: 0.25em;box-sizing: border-box;margin-bottom: 0.5em;}#sk-container-id-1 div.sk-estimator:hover {background-color: #d4ebff;}#sk-container-id-1 div.sk-parallel-item::after {content: \"\";width: 100%;border-bottom: 1px solid gray;flex-grow: 1;}#sk-container-id-1 div.sk-label:hover label.sk-toggleable__label {background-color: #d4ebff;}#sk-container-id-1 div.sk-serial::before {content: \"\";position: absolute;border-left: 1px solid gray;box-sizing: border-box;top: 0;bottom: 0;left: 50%;z-index: 0;}#sk-container-id-1 div.sk-serial {display: flex;flex-direction: column;align-items: center;background-color: white;padding-right: 0.2em;padding-left: 0.2em;position: relative;}#sk-container-id-1 div.sk-item {position: relative;z-index: 1;}#sk-container-id-1 div.sk-parallel {display: flex;align-items: stretch;justify-content: center;background-color: white;position: relative;}#sk-container-id-1 div.sk-item::before, #sk-container-id-1 div.sk-parallel-item::before {content: \"\";position: absolute;border-left: 1px solid gray;box-sizing: border-box;top: 0;bottom: 0;left: 50%;z-index: -1;}#sk-container-id-1 div.sk-parallel-item {display: flex;flex-direction: column;z-index: 1;position: relative;background-color: white;}#sk-container-id-1 div.sk-parallel-item:first-child::after {align-self: flex-end;width: 50%;}#sk-container-id-1 div.sk-parallel-item:last-child::after {align-self: flex-start;width: 50%;}#sk-container-id-1 div.sk-parallel-item:only-child::after {width: 0;}#sk-container-id-1 div.sk-dashed-wrapped {border: 1px dashed gray;margin: 0 0.4em 0.5em 0.4em;box-sizing: border-box;padding-bottom: 0.4em;background-color: white;}#sk-container-id-1 div.sk-label label {font-family: monospace;font-weight: bold;display: inline-block;line-height: 1.2em;}#sk-container-id-1 div.sk-label-container {text-align: center;}#sk-container-id-1 div.sk-container {/* jupyter's `normalize.less` sets `[hidden] { display: none; }` but bootstrap.min.css set `[hidden] { display: none !important; }` so we also need the `!important` here to be able to override the default hidden behavior on the sphinx rendered scikit-learn.org. See: https://github.com/scikit-learn/scikit-learn/issues/21755 */display: inline-block !important;position: relative;}#sk-container-id-1 div.sk-text-repr-fallback {display: none;}</style><div id=\"sk-container-id-1\" class=\"sk-top-container\"><div class=\"sk-text-repr-fallback\"><pre>RandomizedSearchCV(cv=5, estimator=DecisionTreeRegressor(random_state=12345),\n",
       "                   n_iter=15, n_jobs=-2,\n",
       "                   param_distributions={&#x27;max_depth&#x27;: [6, 8, 10, 12, 14, 16, 18,\n",
       "                                                      20, 22, 24, 26, 28, 30,\n",
       "                                                      32, 34, 36, 38, 40, 42,\n",
       "                                                      44, 46, 48, 50, 52, 54,\n",
       "                                                      56, 58, 60, 62, 64, ...],\n",
       "                                        &#x27;max_leaf_nodes&#x27;: [None, 10, 20, 30, 40,\n",
       "                                                           50, 60, 70, 80, 90,\n",
       "                                                           100, 110, 120, 130,\n",
       "                                                           140, 150, 160, 170,\n",
       "                                                           180, 190, 200, 210,\n",
       "                                                           220, 230, 240, 250,\n",
       "                                                           260, 270, 280, 290, ...],\n",
       "                                        &#x27;min_samples_leaf&#x27;: [1, 2, 3, 4, 5, 6,\n",
       "                                                             7, 8, 9, 10, 11,\n",
       "                                                             12, 13, 14, 15, 16,\n",
       "                                                             17, 18, 19, 20, 21,\n",
       "                                                             22, 23, 24, 25, 26,\n",
       "                                                             27, 28, 29, 30],\n",
       "                                        &#x27;splitter&#x27;: [&#x27;best&#x27;, &#x27;random&#x27;]},\n",
       "                   random_state=12345,\n",
       "                   scoring=make_scorer(rmse, greater_is_better=False))</pre><b>In a Jupyter environment, please rerun this cell to show the HTML representation or trust the notebook. <br />On GitHub, the HTML representation is unable to render, please try loading this page with nbviewer.org.</b></div><div class=\"sk-container\" hidden><div class=\"sk-item sk-dashed-wrapped\"><div class=\"sk-label-container\"><div class=\"sk-label sk-toggleable\"><input class=\"sk-toggleable__control sk-hidden--visually\" id=\"sk-estimator-id-1\" type=\"checkbox\" ><label for=\"sk-estimator-id-1\" class=\"sk-toggleable__label sk-toggleable__label-arrow\">RandomizedSearchCV</label><div class=\"sk-toggleable__content\"><pre>RandomizedSearchCV(cv=5, estimator=DecisionTreeRegressor(random_state=12345),\n",
       "                   n_iter=15, n_jobs=-2,\n",
       "                   param_distributions={&#x27;max_depth&#x27;: [6, 8, 10, 12, 14, 16, 18,\n",
       "                                                      20, 22, 24, 26, 28, 30,\n",
       "                                                      32, 34, 36, 38, 40, 42,\n",
       "                                                      44, 46, 48, 50, 52, 54,\n",
       "                                                      56, 58, 60, 62, 64, ...],\n",
       "                                        &#x27;max_leaf_nodes&#x27;: [None, 10, 20, 30, 40,\n",
       "                                                           50, 60, 70, 80, 90,\n",
       "                                                           100, 110, 120, 130,\n",
       "                                                           140, 150, 160, 170,\n",
       "                                                           180, 190, 200, 210,\n",
       "                                                           220, 230, 240, 250,\n",
       "                                                           260, 270, 280, 290, ...],\n",
       "                                        &#x27;min_samples_leaf&#x27;: [1, 2, 3, 4, 5, 6,\n",
       "                                                             7, 8, 9, 10, 11,\n",
       "                                                             12, 13, 14, 15, 16,\n",
       "                                                             17, 18, 19, 20, 21,\n",
       "                                                             22, 23, 24, 25, 26,\n",
       "                                                             27, 28, 29, 30],\n",
       "                                        &#x27;splitter&#x27;: [&#x27;best&#x27;, &#x27;random&#x27;]},\n",
       "                   random_state=12345,\n",
       "                   scoring=make_scorer(rmse, greater_is_better=False))</pre></div></div></div><div class=\"sk-parallel\"><div class=\"sk-parallel-item\"><div class=\"sk-item\"><div class=\"sk-label-container\"><div class=\"sk-label sk-toggleable\"><input class=\"sk-toggleable__control sk-hidden--visually\" id=\"sk-estimator-id-2\" type=\"checkbox\" ><label for=\"sk-estimator-id-2\" class=\"sk-toggleable__label sk-toggleable__label-arrow\">estimator: DecisionTreeRegressor</label><div class=\"sk-toggleable__content\"><pre>DecisionTreeRegressor(random_state=12345)</pre></div></div></div><div class=\"sk-serial\"><div class=\"sk-item\"><div class=\"sk-estimator sk-toggleable\"><input class=\"sk-toggleable__control sk-hidden--visually\" id=\"sk-estimator-id-3\" type=\"checkbox\" ><label for=\"sk-estimator-id-3\" class=\"sk-toggleable__label sk-toggleable__label-arrow\">DecisionTreeRegressor</label><div class=\"sk-toggleable__content\"><pre>DecisionTreeRegressor(random_state=12345)</pre></div></div></div></div></div></div></div></div></div></div>"
      ],
      "text/plain": [
       "RandomizedSearchCV(cv=5, estimator=DecisionTreeRegressor(random_state=12345),\n",
       "                   n_iter=15, n_jobs=-2,\n",
       "                   param_distributions={'max_depth': [6, 8, 10, 12, 14, 16, 18,\n",
       "                                                      20, 22, 24, 26, 28, 30,\n",
       "                                                      32, 34, 36, 38, 40, 42,\n",
       "                                                      44, 46, 48, 50, 52, 54,\n",
       "                                                      56, 58, 60, 62, 64, ...],\n",
       "                                        'max_leaf_nodes': [None, 10, 20, 30, 40,\n",
       "                                                           50, 60, 70, 80, 90,\n",
       "                                                           100, 110, 120, 130,\n",
       "                                                           140, 150, 160, 170,\n",
       "                                                           180, 190, 200, 210,\n",
       "                                                           220, 230, 240, 250,\n",
       "                                                           260, 270, 280, 290, ...],\n",
       "                                        'min_samples_leaf': [1, 2, 3, 4, 5, 6,\n",
       "                                                             7, 8, 9, 10, 11,\n",
       "                                                             12, 13, 14, 15, 16,\n",
       "                                                             17, 18, 19, 20, 21,\n",
       "                                                             22, 23, 24, 25, 26,\n",
       "                                                             27, 28, 29, 30],\n",
       "                                        'splitter': ['best', 'random']},\n",
       "                   random_state=12345,\n",
       "                   scoring=make_scorer(rmse, greater_is_better=False))"
      ]
     },
     "execution_count": 56,
     "metadata": {},
     "output_type": "execute_result"
    }
   ],
   "source": [
    "%%time\n",
    "dtr_rs.fit(features_train, target_train)"
   ]
  },
  {
   "cell_type": "code",
   "execution_count": 57,
   "metadata": {
    "ExecuteTime": {
     "end_time": "2023-04-15T06:16:59.247638Z",
     "start_time": "2023-04-15T06:16:59.233399Z"
    }
   },
   "outputs": [
    {
     "data": {
      "text/plain": [
       "{'splitter': 'best',\n",
       " 'min_samples_leaf': 24,\n",
       " 'max_leaf_nodes': 280,\n",
       " 'max_depth': 34}"
      ]
     },
     "execution_count": 57,
     "metadata": {},
     "output_type": "execute_result"
    }
   ],
   "source": [
    "#лучшие параметры\n",
    "dtr_rs.best_params_"
   ]
  },
  {
   "cell_type": "code",
   "execution_count": 58,
   "metadata": {
    "ExecuteTime": {
     "end_time": "2023-04-15T06:16:59.263087Z",
     "start_time": "2023-04-15T06:16:59.248634Z"
    }
   },
   "outputs": [
    {
     "name": "stdout",
     "output_type": "stream",
     "text": [
      "crossval RMSE для DecisionTreeRegressor 2123.30099165116\n"
     ]
    }
   ],
   "source": [
    "print(f'crossval RMSE для DecisionTreeRegressor {-dtr_rs.best_score_}')"
   ]
  },
  {
   "cell_type": "markdown",
   "metadata": {
    "ExecuteTime": {
     "start_time": "2023-04-11T08:41:40.047Z"
    }
   },
   "source": [
    "### LGBMRegresor"
   ]
  },
  {
   "cell_type": "code",
   "execution_count": 59,
   "metadata": {
    "ExecuteTime": {
     "end_time": "2023-04-15T06:16:59.278561Z",
     "start_time": "2023-04-15T06:16:59.264084Z"
    }
   },
   "outputs": [],
   "source": [
    "lgbr = LGBMRegressor(random_state=SEED, n_jobs=NJOBS)"
   ]
  },
  {
   "cell_type": "code",
   "execution_count": 60,
   "metadata": {
    "ExecuteTime": {
     "end_time": "2023-04-15T06:16:59.293971Z",
     "start_time": "2023-04-15T06:16:59.279557Z"
    }
   },
   "outputs": [],
   "source": [
    "parameters = {'num_leaves':[5, 10, 20, 30],\n",
    "              'min_child_samples': [10, 50, 100, 150],\n",
    "              'max_depth': [3, 8, 12, 15],\n",
    "              'learning_rate': [0.01, 0.05, 0.15, 0.3]}"
   ]
  },
  {
   "cell_type": "code",
   "execution_count": 61,
   "metadata": {
    "ExecuteTime": {
     "end_time": "2023-04-15T06:16:59.309937Z",
     "start_time": "2023-04-15T06:16:59.294969Z"
    }
   },
   "outputs": [],
   "source": [
    "lgbr_rs = RandomizedSearchCV(estimator=lgbr,\n",
    "                            param_distributions=parameters,\n",
    "                            scoring=rmse_scorer,\n",
    "                            n_jobs=NJOBS,\n",
    "                            cv=5,\n",
    "                            random_state=SEED,\n",
    "                            n_iter=ITERATIONS)"
   ]
  },
  {
   "cell_type": "code",
   "execution_count": 62,
   "metadata": {
    "ExecuteTime": {
     "end_time": "2023-04-15T06:17:18.147489Z",
     "start_time": "2023-04-15T06:16:59.310934Z"
    }
   },
   "outputs": [
    {
     "name": "stdout",
     "output_type": "stream",
     "text": [
      "CPU times: total: 3.52 s\n",
      "Wall time: 18.8 s\n"
     ]
    },
    {
     "data": {
      "text/html": [
       "<style>#sk-container-id-2 {color: black;background-color: white;}#sk-container-id-2 pre{padding: 0;}#sk-container-id-2 div.sk-toggleable {background-color: white;}#sk-container-id-2 label.sk-toggleable__label {cursor: pointer;display: block;width: 100%;margin-bottom: 0;padding: 0.3em;box-sizing: border-box;text-align: center;}#sk-container-id-2 label.sk-toggleable__label-arrow:before {content: \"▸\";float: left;margin-right: 0.25em;color: #696969;}#sk-container-id-2 label.sk-toggleable__label-arrow:hover:before {color: black;}#sk-container-id-2 div.sk-estimator:hover label.sk-toggleable__label-arrow:before {color: black;}#sk-container-id-2 div.sk-toggleable__content {max-height: 0;max-width: 0;overflow: hidden;text-align: left;background-color: #f0f8ff;}#sk-container-id-2 div.sk-toggleable__content pre {margin: 0.2em;color: black;border-radius: 0.25em;background-color: #f0f8ff;}#sk-container-id-2 input.sk-toggleable__control:checked~div.sk-toggleable__content {max-height: 200px;max-width: 100%;overflow: auto;}#sk-container-id-2 input.sk-toggleable__control:checked~label.sk-toggleable__label-arrow:before {content: \"▾\";}#sk-container-id-2 div.sk-estimator input.sk-toggleable__control:checked~label.sk-toggleable__label {background-color: #d4ebff;}#sk-container-id-2 div.sk-label input.sk-toggleable__control:checked~label.sk-toggleable__label {background-color: #d4ebff;}#sk-container-id-2 input.sk-hidden--visually {border: 0;clip: rect(1px 1px 1px 1px);clip: rect(1px, 1px, 1px, 1px);height: 1px;margin: -1px;overflow: hidden;padding: 0;position: absolute;width: 1px;}#sk-container-id-2 div.sk-estimator {font-family: monospace;background-color: #f0f8ff;border: 1px dotted black;border-radius: 0.25em;box-sizing: border-box;margin-bottom: 0.5em;}#sk-container-id-2 div.sk-estimator:hover {background-color: #d4ebff;}#sk-container-id-2 div.sk-parallel-item::after {content: \"\";width: 100%;border-bottom: 1px solid gray;flex-grow: 1;}#sk-container-id-2 div.sk-label:hover label.sk-toggleable__label {background-color: #d4ebff;}#sk-container-id-2 div.sk-serial::before {content: \"\";position: absolute;border-left: 1px solid gray;box-sizing: border-box;top: 0;bottom: 0;left: 50%;z-index: 0;}#sk-container-id-2 div.sk-serial {display: flex;flex-direction: column;align-items: center;background-color: white;padding-right: 0.2em;padding-left: 0.2em;position: relative;}#sk-container-id-2 div.sk-item {position: relative;z-index: 1;}#sk-container-id-2 div.sk-parallel {display: flex;align-items: stretch;justify-content: center;background-color: white;position: relative;}#sk-container-id-2 div.sk-item::before, #sk-container-id-2 div.sk-parallel-item::before {content: \"\";position: absolute;border-left: 1px solid gray;box-sizing: border-box;top: 0;bottom: 0;left: 50%;z-index: -1;}#sk-container-id-2 div.sk-parallel-item {display: flex;flex-direction: column;z-index: 1;position: relative;background-color: white;}#sk-container-id-2 div.sk-parallel-item:first-child::after {align-self: flex-end;width: 50%;}#sk-container-id-2 div.sk-parallel-item:last-child::after {align-self: flex-start;width: 50%;}#sk-container-id-2 div.sk-parallel-item:only-child::after {width: 0;}#sk-container-id-2 div.sk-dashed-wrapped {border: 1px dashed gray;margin: 0 0.4em 0.5em 0.4em;box-sizing: border-box;padding-bottom: 0.4em;background-color: white;}#sk-container-id-2 div.sk-label label {font-family: monospace;font-weight: bold;display: inline-block;line-height: 1.2em;}#sk-container-id-2 div.sk-label-container {text-align: center;}#sk-container-id-2 div.sk-container {/* jupyter's `normalize.less` sets `[hidden] { display: none; }` but bootstrap.min.css set `[hidden] { display: none !important; }` so we also need the `!important` here to be able to override the default hidden behavior on the sphinx rendered scikit-learn.org. See: https://github.com/scikit-learn/scikit-learn/issues/21755 */display: inline-block !important;position: relative;}#sk-container-id-2 div.sk-text-repr-fallback {display: none;}</style><div id=\"sk-container-id-2\" class=\"sk-top-container\"><div class=\"sk-text-repr-fallback\"><pre>RandomizedSearchCV(cv=5, estimator=LGBMRegressor(n_jobs=-2, random_state=12345),\n",
       "                   n_iter=15, n_jobs=-2,\n",
       "                   param_distributions={&#x27;learning_rate&#x27;: [0.01, 0.05, 0.15,\n",
       "                                                          0.3],\n",
       "                                        &#x27;max_depth&#x27;: [3, 8, 12, 15],\n",
       "                                        &#x27;min_child_samples&#x27;: [10, 50, 100, 150],\n",
       "                                        &#x27;num_leaves&#x27;: [5, 10, 20, 30]},\n",
       "                   random_state=12345,\n",
       "                   scoring=make_scorer(rmse, greater_is_better=False))</pre><b>In a Jupyter environment, please rerun this cell to show the HTML representation or trust the notebook. <br />On GitHub, the HTML representation is unable to render, please try loading this page with nbviewer.org.</b></div><div class=\"sk-container\" hidden><div class=\"sk-item sk-dashed-wrapped\"><div class=\"sk-label-container\"><div class=\"sk-label sk-toggleable\"><input class=\"sk-toggleable__control sk-hidden--visually\" id=\"sk-estimator-id-4\" type=\"checkbox\" ><label for=\"sk-estimator-id-4\" class=\"sk-toggleable__label sk-toggleable__label-arrow\">RandomizedSearchCV</label><div class=\"sk-toggleable__content\"><pre>RandomizedSearchCV(cv=5, estimator=LGBMRegressor(n_jobs=-2, random_state=12345),\n",
       "                   n_iter=15, n_jobs=-2,\n",
       "                   param_distributions={&#x27;learning_rate&#x27;: [0.01, 0.05, 0.15,\n",
       "                                                          0.3],\n",
       "                                        &#x27;max_depth&#x27;: [3, 8, 12, 15],\n",
       "                                        &#x27;min_child_samples&#x27;: [10, 50, 100, 150],\n",
       "                                        &#x27;num_leaves&#x27;: [5, 10, 20, 30]},\n",
       "                   random_state=12345,\n",
       "                   scoring=make_scorer(rmse, greater_is_better=False))</pre></div></div></div><div class=\"sk-parallel\"><div class=\"sk-parallel-item\"><div class=\"sk-item\"><div class=\"sk-label-container\"><div class=\"sk-label sk-toggleable\"><input class=\"sk-toggleable__control sk-hidden--visually\" id=\"sk-estimator-id-5\" type=\"checkbox\" ><label for=\"sk-estimator-id-5\" class=\"sk-toggleable__label sk-toggleable__label-arrow\">estimator: LGBMRegressor</label><div class=\"sk-toggleable__content\"><pre>LGBMRegressor(n_jobs=-2, random_state=12345)</pre></div></div></div><div class=\"sk-serial\"><div class=\"sk-item\"><div class=\"sk-estimator sk-toggleable\"><input class=\"sk-toggleable__control sk-hidden--visually\" id=\"sk-estimator-id-6\" type=\"checkbox\" ><label for=\"sk-estimator-id-6\" class=\"sk-toggleable__label sk-toggleable__label-arrow\">LGBMRegressor</label><div class=\"sk-toggleable__content\"><pre>LGBMRegressor(n_jobs=-2, random_state=12345)</pre></div></div></div></div></div></div></div></div></div></div>"
      ],
      "text/plain": [
       "RandomizedSearchCV(cv=5, estimator=LGBMRegressor(n_jobs=-2, random_state=12345),\n",
       "                   n_iter=15, n_jobs=-2,\n",
       "                   param_distributions={'learning_rate': [0.01, 0.05, 0.15,\n",
       "                                                          0.3],\n",
       "                                        'max_depth': [3, 8, 12, 15],\n",
       "                                        'min_child_samples': [10, 50, 100, 150],\n",
       "                                        'num_leaves': [5, 10, 20, 30]},\n",
       "                   random_state=12345,\n",
       "                   scoring=make_scorer(rmse, greater_is_better=False))"
      ]
     },
     "execution_count": 62,
     "metadata": {},
     "output_type": "execute_result"
    }
   ],
   "source": [
    "%%time\n",
    "lgbr_rs.fit(features_train, target_train)"
   ]
  },
  {
   "cell_type": "code",
   "execution_count": 63,
   "metadata": {
    "ExecuteTime": {
     "end_time": "2023-04-15T06:17:18.163023Z",
     "start_time": "2023-04-15T06:17:18.148486Z"
    }
   },
   "outputs": [
    {
     "data": {
      "text/plain": [
       "{'num_leaves': 20,\n",
       " 'min_child_samples': 100,\n",
       " 'max_depth': 8,\n",
       " 'learning_rate': 0.3}"
      ]
     },
     "execution_count": 63,
     "metadata": {},
     "output_type": "execute_result"
    }
   ],
   "source": [
    "lgbr_rs.best_params_"
   ]
  },
  {
   "cell_type": "code",
   "execution_count": 64,
   "metadata": {
    "ExecuteTime": {
     "end_time": "2023-04-15T06:17:18.178489Z",
     "start_time": "2023-04-15T06:17:18.165017Z"
    }
   },
   "outputs": [
    {
     "name": "stdout",
     "output_type": "stream",
     "text": [
      "crossval RMSE для LGBMRegressor 1829.557514495403\n"
     ]
    }
   ],
   "source": [
    "print(f'crossval RMSE для LGBMRegressor {-lgbr_rs.best_score_}')"
   ]
  },
  {
   "cell_type": "markdown",
   "metadata": {
    "ExecuteTime": {
     "end_time": "2023-04-11T09:04:31.470452Z",
     "start_time": "2023-04-11T09:04:31.463887Z"
    }
   },
   "source": [
    "### CatBoostRegressor"
   ]
  },
  {
   "cell_type": "markdown",
   "metadata": {
    "ExecuteTime": {
     "end_time": "2023-04-11T09:04:59.737820Z",
     "start_time": "2023-04-11T09:04:59.726815Z"
    }
   },
   "source": [
    "В библиотеке `catboost` есть свой собственный рендом-серч, воспользуемся им"
   ]
  },
  {
   "cell_type": "code",
   "execution_count": 65,
   "metadata": {
    "ExecuteTime": {
     "end_time": "2023-04-15T06:18:51.649166Z",
     "start_time": "2023-04-15T06:17:18.179486Z"
    },
    "scrolled": false
   },
   "outputs": [
    {
     "data": {
      "application/vnd.jupyter.widget-view+json": {
       "model_id": "81baf5959849450e8e16f30ffccc3c69",
       "version_major": 2,
       "version_minor": 0
      },
      "text/plain": [
       "MetricVisualizer(layout=Layout(align_self='stretch', height='500px'))"
      ]
     },
     "metadata": {},
     "output_type": "display_data"
    },
    {
     "name": "stdout",
     "output_type": "stream",
     "text": [
      "\n",
      "bestTest = 2179.219428\n",
      "bestIteration = 299\n",
      "\n",
      "\n",
      "bestTest = 2271.015811\n",
      "bestIteration = 299\n",
      "\n",
      "\n",
      "bestTest = 2272.926421\n",
      "bestIteration = 299\n",
      "\n",
      "\n",
      "bestTest = 2152.171513\n",
      "bestIteration = 599\n",
      "\n",
      "\n",
      "bestTest = 2366.748223\n",
      "bestIteration = 599\n",
      "\n",
      "\n",
      "bestTest = 2159.542465\n",
      "bestIteration = 599\n",
      "\n",
      "\n",
      "bestTest = 1999.665369\n",
      "bestIteration = 599\n",
      "\n",
      "\n",
      "bestTest = 2160.756189\n",
      "bestIteration = 599\n",
      "\n",
      "\n",
      "bestTest = 1942.282338\n",
      "bestIteration = 599\n",
      "\n",
      "\n",
      "bestTest = 2143.339706\n",
      "bestIteration = 299\n",
      "\n",
      "\n",
      "bestTest = 1880.479749\n",
      "bestIteration = 299\n",
      "\n",
      "\n",
      "bestTest = 1884.049818\n",
      "bestIteration = 299\n",
      "\n",
      "\n",
      "bestTest = 2148.586925\n",
      "bestIteration = 299\n",
      "\n",
      "\n",
      "bestTest = 1865.969847\n",
      "bestIteration = 599\n",
      "\n",
      "\n",
      "bestTest = 1996.23581\n",
      "bestIteration = 599\n",
      "\n",
      "Training on fold [0/3]\n",
      "\n",
      "bestTest = 1874.335156\n",
      "bestIteration = 599\n",
      "\n",
      "Training on fold [1/3]\n",
      "\n",
      "bestTest = 1855.273705\n",
      "bestIteration = 599\n",
      "\n",
      "Training on fold [2/3]\n",
      "\n",
      "bestTest = 1864.121301\n",
      "bestIteration = 599\n",
      "\n",
      "CPU times: total: 1min 33s\n",
      "Wall time: 1min 33s\n"
     ]
    }
   ],
   "source": [
    "%%time\n",
    "cbr = CatBoostRegressor(loss_function='RMSE',\n",
    "                           verbose=False,\n",
    "                           task_type='CPU',\n",
    "                           random_state=SEED)\n",
    "\n",
    "grid = {'iterations': [300, 600],\n",
    "        'learning_rate': [0.01, 0.03, 0.05],\n",
    "        'depth': [2, 4, 8],\n",
    "        'l2_leaf_reg': [1, 5, 10]}\n",
    "\n",
    "cbr_rs = cbr.randomized_search(grid,\n",
    "                               X=features_train,\n",
    "                               y=target_train,\n",
    "                               plot=True,\n",
    "                               n_iter=ITERATIONS,\n",
    "                               partition_random_seed=SEED,\n",
    "                               verbose=False)"
   ]
  },
  {
   "cell_type": "code",
   "execution_count": 66,
   "metadata": {
    "ExecuteTime": {
     "end_time": "2023-04-15T06:18:51.664206Z",
     "start_time": "2023-04-15T06:18:51.650674Z"
    }
   },
   "outputs": [
    {
     "data": {
      "text/plain": [
       "{'depth': 8, 'l2_leaf_reg': 5, 'iterations': 600, 'learning_rate': 0.03}"
      ]
     },
     "execution_count": 66,
     "metadata": {},
     "output_type": "execute_result"
    }
   ],
   "source": [
    "cbr_rs['params']"
   ]
  },
  {
   "cell_type": "code",
   "execution_count": 67,
   "metadata": {
    "ExecuteTime": {
     "end_time": "2023-04-15T06:18:51.679738Z",
     "start_time": "2023-04-15T06:18:51.665204Z"
    }
   },
   "outputs": [
    {
     "name": "stdout",
     "output_type": "stream",
     "text": [
      "crossval RMSE для CatBoostRegressor 1864.5767206359626\n"
     ]
    }
   ],
   "source": [
    "print('crossval RMSE для CatBoostRegressor', min(cbr_rs['cv_results']['test-RMSE-mean']))"
   ]
  },
  {
   "cell_type": "markdown",
   "metadata": {},
   "source": [
    "Сводная таблица результатов поиска лучших параметров:"
   ]
  },
  {
   "cell_type": "code",
   "execution_count": 68,
   "metadata": {
    "ExecuteTime": {
     "end_time": "2023-04-15T06:18:51.695810Z",
     "start_time": "2023-04-15T06:18:51.680736Z"
    }
   },
   "outputs": [
    {
     "data": {
      "text/html": [
       "<div>\n",
       "<style scoped>\n",
       "    .dataframe tbody tr th:only-of-type {\n",
       "        vertical-align: middle;\n",
       "    }\n",
       "\n",
       "    .dataframe tbody tr th {\n",
       "        vertical-align: top;\n",
       "    }\n",
       "\n",
       "    .dataframe thead th {\n",
       "        text-align: right;\n",
       "    }\n",
       "</style>\n",
       "<table border=\"1\" class=\"dataframe\">\n",
       "  <thead>\n",
       "    <tr style=\"text-align: right;\">\n",
       "      <th></th>\n",
       "      <th>RMSE</th>\n",
       "    </tr>\n",
       "  </thead>\n",
       "  <tbody>\n",
       "    <tr>\n",
       "      <th>DTR</th>\n",
       "      <td>2123.300992</td>\n",
       "    </tr>\n",
       "    <tr>\n",
       "      <th>LGBR</th>\n",
       "      <td>1829.557514</td>\n",
       "    </tr>\n",
       "    <tr>\n",
       "      <th>CBR</th>\n",
       "      <td>1864.576721</td>\n",
       "    </tr>\n",
       "  </tbody>\n",
       "</table>\n",
       "</div>"
      ],
      "text/plain": [
       "             RMSE\n",
       "DTR   2123.300992\n",
       "LGBR  1829.557514\n",
       "CBR   1864.576721"
      ]
     },
     "execution_count": 68,
     "metadata": {},
     "output_type": "execute_result"
    }
   ],
   "source": [
    "results = pd.DataFrame({'RMSE': [-dtr_rs.best_score_, -lgbr_rs.best_score_,\n",
    "                                min(cbr_rs['cv_results']['test-RMSE-mean'])]},\n",
    "                      index=['DTR','LGBR', 'CBR'])\n",
    "                       \n",
    "results"
   ]
  },
  {
   "cell_type": "markdown",
   "metadata": {
    "ExecuteTime": {
     "end_time": "2023-04-11T09:24:05.239134Z",
     "start_time": "2023-04-11T09:24:05.223770Z"
    }
   },
   "source": [
    "Лучшей моделью показал себя `CatBoostRegressor`. Позже проверим его на тестовой выборке."
   ]
  },
  {
   "cell_type": "markdown",
   "metadata": {},
   "source": [
    "### Оценка времени обучения и предсказания моделей"
   ]
  },
  {
   "cell_type": "markdown",
   "metadata": {
    "ExecuteTime": {
     "end_time": "2023-04-11T09:29:07.460574Z",
     "start_time": "2023-04-11T09:29:07.444421Z"
    }
   },
   "source": [
    "#### DecisionTreeRegressor"
   ]
  },
  {
   "cell_type": "code",
   "execution_count": 69,
   "metadata": {
    "ExecuteTime": {
     "end_time": "2023-04-15T06:18:51.711337Z",
     "start_time": "2023-04-15T06:18:51.696807Z"
    }
   },
   "outputs": [
    {
     "data": {
      "text/plain": [
       "{'splitter': 'best',\n",
       " 'min_samples_leaf': 24,\n",
       " 'max_leaf_nodes': 280,\n",
       " 'max_depth': 34}"
      ]
     },
     "execution_count": 69,
     "metadata": {},
     "output_type": "execute_result"
    }
   ],
   "source": [
    "dtr_rs.best_params_"
   ]
  },
  {
   "cell_type": "code",
   "execution_count": 70,
   "metadata": {
    "ExecuteTime": {
     "end_time": "2023-04-15T06:18:51.726828Z",
     "start_time": "2023-04-15T06:18:51.712339Z"
    }
   },
   "outputs": [],
   "source": [
    "dtr = DecisionTreeRegressor(random_state=SEED,\n",
    "                           splitter=dtr_rs.best_params_['splitter'],\n",
    "                           min_samples_leaf=dtr_rs.best_params_['min_samples_leaf'],\n",
    "                           max_leaf_nodes=dtr_rs.best_params_['max_leaf_nodes'],\n",
    "                           max_depth=dtr_rs.best_params_['max_depth'])"
   ]
  },
  {
   "cell_type": "code",
   "execution_count": 71,
   "metadata": {
    "ExecuteTime": {
     "end_time": "2023-04-15T06:18:52.149178Z",
     "start_time": "2023-04-15T06:18:51.727825Z"
    }
   },
   "outputs": [
    {
     "name": "stdout",
     "output_type": "stream",
     "text": [
      "CPU times: total: 203 ms\n",
      "Wall time: 408 ms\n"
     ]
    }
   ],
   "source": [
    "%%time\n",
    "start = time.time()\n",
    "dtr.fit(features_train, target_train);\n",
    "end = time.time()\n",
    "dtr_time_learn = end - start"
   ]
  },
  {
   "cell_type": "code",
   "execution_count": 72,
   "metadata": {
    "ExecuteTime": {
     "end_time": "2023-04-15T06:18:52.164317Z",
     "start_time": "2023-04-15T06:18:52.150795Z"
    }
   },
   "outputs": [
    {
     "name": "stdout",
     "output_type": "stream",
     "text": [
      "CPU times: total: 0 ns\n",
      "Wall time: 9.52 ms\n"
     ]
    }
   ],
   "source": [
    "%%time\n",
    "start = time.time()\n",
    "predictions = dtr.predict(features_test);\n",
    "end = time.time()\n",
    "dtr_time_pred = end - start"
   ]
  },
  {
   "cell_type": "markdown",
   "metadata": {
    "ExecuteTime": {
     "end_time": "2023-04-11T09:29:44.060487Z",
     "start_time": "2023-04-11T09:29:44.044179Z"
    }
   },
   "source": [
    "#### LGBMRegresor"
   ]
  },
  {
   "cell_type": "code",
   "execution_count": 73,
   "metadata": {
    "ExecuteTime": {
     "end_time": "2023-04-15T06:18:52.179881Z",
     "start_time": "2023-04-15T06:18:52.165312Z"
    }
   },
   "outputs": [
    {
     "data": {
      "text/plain": [
       "{'num_leaves': 20,\n",
       " 'min_child_samples': 100,\n",
       " 'max_depth': 8,\n",
       " 'learning_rate': 0.3}"
      ]
     },
     "execution_count": 73,
     "metadata": {},
     "output_type": "execute_result"
    }
   ],
   "source": [
    "lgbr_rs.best_params_"
   ]
  },
  {
   "cell_type": "code",
   "execution_count": 74,
   "metadata": {
    "ExecuteTime": {
     "end_time": "2023-04-15T06:18:52.195530Z",
     "start_time": "2023-04-15T06:18:52.180877Z"
    }
   },
   "outputs": [],
   "source": [
    "lgbr = LGBMRegressor(random_state=SEED,\n",
    "                    n_jobs=NJOBS,\n",
    "                    num_leaves=lgbr_rs.best_params_['num_leaves'],\n",
    "                    min_child_samples=lgbr_rs.best_params_['min_child_samples'],\n",
    "                    max_depth=lgbr_rs.best_params_['max_depth'],\n",
    "                    learning_rate=lgbr_rs.best_params_['learning_rate'])"
   ]
  },
  {
   "cell_type": "code",
   "execution_count": 75,
   "metadata": {
    "ExecuteTime": {
     "end_time": "2023-04-15T06:18:52.569701Z",
     "start_time": "2023-04-15T06:18:52.196527Z"
    }
   },
   "outputs": [
    {
     "name": "stdout",
     "output_type": "stream",
     "text": [
      "[20]\tvalid_0's l2: 3.9075e+06\n",
      "[40]\tvalid_0's l2: 3.65765e+06\n",
      "[60]\tvalid_0's l2: 3.47535e+06\n",
      "[80]\tvalid_0's l2: 3.39273e+06\n",
      "[100]\tvalid_0's l2: 3.32985e+06\n",
      "CPU times: total: 3.72 s\n",
      "Wall time: 354 ms\n"
     ]
    }
   ],
   "source": [
    "%%time\n",
    "start = time.time()\n",
    "lgbr.fit(features_train, target_train, eval_set=(features_test, target_test), verbose=20);\n",
    "end = time.time()\n",
    "lgbr_time_learn = end - start"
   ]
  },
  {
   "cell_type": "code",
   "execution_count": 76,
   "metadata": {
    "ExecuteTime": {
     "end_time": "2023-04-15T06:18:52.616330Z",
     "start_time": "2023-04-15T06:18:52.571203Z"
    },
    "scrolled": false
   },
   "outputs": [
    {
     "name": "stdout",
     "output_type": "stream",
     "text": [
      "CPU times: total: 391 ms\n",
      "Wall time: 33.6 ms\n"
     ]
    }
   ],
   "source": [
    "%%time\n",
    "start = time.time()\n",
    "predictions = lgbr.predict(features_test);\n",
    "end = time.time()\n",
    "lgbr_time_pred = end - start"
   ]
  },
  {
   "cell_type": "markdown",
   "metadata": {
    "ExecuteTime": {
     "end_time": "2023-04-11T09:34:49.487814Z",
     "start_time": "2023-04-11T09:34:49.471417Z"
    }
   },
   "source": [
    "#### CatBoostRegressor"
   ]
  },
  {
   "cell_type": "code",
   "execution_count": 77,
   "metadata": {
    "ExecuteTime": {
     "end_time": "2023-04-15T06:18:52.632321Z",
     "start_time": "2023-04-15T06:18:52.617328Z"
    }
   },
   "outputs": [
    {
     "data": {
      "text/plain": [
       "{'depth': 8, 'l2_leaf_reg': 5, 'iterations': 600, 'learning_rate': 0.03}"
      ]
     },
     "execution_count": 77,
     "metadata": {},
     "output_type": "execute_result"
    }
   ],
   "source": [
    "cbr_rs['params']"
   ]
  },
  {
   "cell_type": "code",
   "execution_count": 78,
   "metadata": {
    "ExecuteTime": {
     "end_time": "2023-04-15T06:18:52.647815Z",
     "start_time": "2023-04-15T06:18:52.634317Z"
    }
   },
   "outputs": [],
   "source": [
    "cbr = CatBoostRegressor(loss_function='RMSE',\n",
    "                        random_state=SEED,\n",
    "                        thread_count=-1,\n",
    "                        depth=cbr_rs['params']['depth'],\n",
    "                        l2_leaf_reg=cbr_rs['params']['l2_leaf_reg'],\n",
    "                        iterations=cbr_rs['params']['iterations'],\n",
    "                        learning_rate=cbr_rs['params']['learning_rate'])"
   ]
  },
  {
   "cell_type": "code",
   "execution_count": 79,
   "metadata": {
    "ExecuteTime": {
     "end_time": "2023-04-15T06:19:00.012594Z",
     "start_time": "2023-04-15T06:18:52.649809Z"
    },
    "scrolled": true
   },
   "outputs": [
    {
     "name": "stdout",
     "output_type": "stream",
     "text": [
      "0:\tlearn: 4423.3737458\ttest: 4409.1140157\tbest: 4409.1140157 (0)\ttotal: 14.1ms\tremaining: 8.43s\n",
      "50:\tlearn: 2441.2213944\ttest: 2435.3272965\tbest: 2435.3272965 (50)\ttotal: 643ms\tremaining: 6.92s\n",
      "100:\tlearn: 2121.8361726\ttest: 2122.7031500\tbest: 2122.7031500 (100)\ttotal: 1.27s\tremaining: 6.27s\n",
      "150:\tlearn: 2025.7786070\ttest: 2030.3556476\tbest: 2030.3556476 (150)\ttotal: 1.86s\tremaining: 5.54s\n",
      "200:\tlearn: 1981.4560656\ttest: 1987.7638615\tbest: 1987.7638615 (200)\ttotal: 2.45s\tremaining: 4.87s\n",
      "250:\tlearn: 1950.7881929\ttest: 1959.1912710\tbest: 1959.1912710 (250)\ttotal: 3.04s\tremaining: 4.23s\n",
      "300:\tlearn: 1926.9672716\ttest: 1936.5507573\tbest: 1936.5507573 (300)\ttotal: 3.64s\tremaining: 3.61s\n",
      "350:\tlearn: 1905.6910162\ttest: 1916.6341870\tbest: 1916.6341870 (350)\ttotal: 4.23s\tremaining: 3s\n",
      "400:\tlearn: 1889.4038443\ttest: 1901.6806020\tbest: 1901.6806020 (400)\ttotal: 4.83s\tremaining: 2.4s\n",
      "450:\tlearn: 1874.0115864\ttest: 1887.8968450\tbest: 1887.8968450 (450)\ttotal: 5.42s\tremaining: 1.79s\n",
      "500:\tlearn: 1861.5486795\ttest: 1877.2385997\tbest: 1877.2385997 (500)\ttotal: 6.02s\tremaining: 1.19s\n",
      "550:\tlearn: 1849.1789220\ttest: 1866.6443831\tbest: 1866.6443831 (550)\ttotal: 6.62s\tremaining: 589ms\n",
      "599:\tlearn: 1838.7578592\ttest: 1857.8893099\tbest: 1857.8893099 (599)\ttotal: 7.21s\tremaining: 0us\n",
      "\n",
      "bestTest = 1857.88931\n",
      "bestIteration = 599\n",
      "\n",
      "CPU times: total: 5.98 s\n",
      "Wall time: 7.35 s\n"
     ]
    }
   ],
   "source": [
    "%%time\n",
    "start = time.time()\n",
    "cbr.fit(features_train, target_train, eval_set=(features_test, target_test), verbose=50);\n",
    "end = time.time()\n",
    "cbr_time_learn = end - start"
   ]
  },
  {
   "cell_type": "code",
   "execution_count": 80,
   "metadata": {
    "ExecuteTime": {
     "end_time": "2023-04-15T06:19:00.042906Z",
     "start_time": "2023-04-15T06:19:00.014588Z"
    },
    "scrolled": true
   },
   "outputs": [
    {
     "name": "stdout",
     "output_type": "stream",
     "text": [
      "CPU times: total: 0 ns\n",
      "Wall time: 10.5 ms\n"
     ]
    }
   ],
   "source": [
    "%%time\n",
    "start = time.time()\n",
    "predictions = cbr.predict(features_test);\n",
    "end = time.time()\n",
    "cbr_time_pred = end - start"
   ]
  },
  {
   "cell_type": "code",
   "execution_count": 81,
   "metadata": {
    "ExecuteTime": {
     "end_time": "2023-04-15T06:19:00.073827Z",
     "start_time": "2023-04-15T06:19:00.054401Z"
    }
   },
   "outputs": [
    {
     "data": {
      "text/html": [
       "<div>\n",
       "<style scoped>\n",
       "    .dataframe tbody tr th:only-of-type {\n",
       "        vertical-align: middle;\n",
       "    }\n",
       "\n",
       "    .dataframe tbody tr th {\n",
       "        vertical-align: top;\n",
       "    }\n",
       "\n",
       "    .dataframe thead th {\n",
       "        text-align: right;\n",
       "    }\n",
       "</style>\n",
       "<table border=\"1\" class=\"dataframe\">\n",
       "  <thead>\n",
       "    <tr style=\"text-align: right;\">\n",
       "      <th></th>\n",
       "      <th>fit time (ms)</th>\n",
       "      <th>predict time (ms)</th>\n",
       "    </tr>\n",
       "  </thead>\n",
       "  <tbody>\n",
       "    <tr>\n",
       "      <th>DTR</th>\n",
       "      <td>0.407871</td>\n",
       "      <td>0.009523</td>\n",
       "    </tr>\n",
       "    <tr>\n",
       "      <th>LGBR</th>\n",
       "      <td>0.354211</td>\n",
       "      <td>0.033646</td>\n",
       "    </tr>\n",
       "    <tr>\n",
       "      <th>CBR</th>\n",
       "      <td>7.351294</td>\n",
       "      <td>0.010483</td>\n",
       "    </tr>\n",
       "  </tbody>\n",
       "</table>\n",
       "</div>"
      ],
      "text/plain": [
       "      fit time (ms)  predict time (ms)\n",
       "DTR        0.407871           0.009523\n",
       "LGBR       0.354211           0.033646\n",
       "CBR        7.351294           0.010483"
      ]
     },
     "execution_count": 81,
     "metadata": {},
     "output_type": "execute_result"
    }
   ],
   "source": [
    "pd.DataFrame({'fit time (ms)' : [dtr_time_learn, lgbr_time_learn, cbr_time_learn],\n",
    "             'predict time (ms)' : [dtr_time_pred, lgbr_time_pred, cbr_time_pred]},\n",
    "             index=['DTR', 'LGBR', 'CBR'])"
   ]
  },
  {
   "cell_type": "markdown",
   "metadata": {
    "ExecuteTime": {
     "end_time": "2023-04-11T09:40:29.502943Z",
     "start_time": "2023-04-11T09:40:29.498011Z"
    }
   },
   "source": [
    "**Вывод**\n",
    "- Время обучения модели решаюшего древа ниже, чем у бустинговых, но и точность ниже"
   ]
  },
  {
   "cell_type": "markdown",
   "metadata": {},
   "source": [
    "## Проверка лучшей модели на тестовой выборке"
   ]
  },
  {
   "cell_type": "markdown",
   "metadata": {
    "ExecuteTime": {
     "end_time": "2023-04-11T09:41:06.322002Z",
     "start_time": "2023-04-11T09:41:06.312351Z"
    }
   },
   "source": [
    "Лучшей моделью выбран `CatBoostregressor`:"
   ]
  },
  {
   "cell_type": "code",
   "execution_count": 82,
   "metadata": {
    "ExecuteTime": {
     "end_time": "2023-04-15T06:19:07.462288Z",
     "start_time": "2023-04-15T06:19:00.074823Z"
    }
   },
   "outputs": [
    {
     "data": {
      "application/vnd.jupyter.widget-view+json": {
       "model_id": "6d77ce0fd43a48428b73a8c17a4b2afc",
       "version_major": 2,
       "version_minor": 0
      },
      "text/plain": [
       "MetricVisualizer(layout=Layout(align_self='stretch', height='500px'))"
      ]
     },
     "metadata": {},
     "output_type": "display_data"
    },
    {
     "name": "stdout",
     "output_type": "stream",
     "text": [
      "{'learn': {'RMSE': 1838.7578592404145}, 'validation': {'RMSE': 1857.8893098689846}}\n"
     ]
    }
   ],
   "source": [
    "cbr = CatBoostRegressor(loss_function='RMSE',\n",
    "                        depth=cbr_rs['params']['depth'],\n",
    "                        iterations=cbr_rs['params']['iterations'],\n",
    "                        learning_rate=cbr_rs['params']['learning_rate'],\n",
    "                        l2_leaf_reg=cbr_rs['params']['l2_leaf_reg'],\n",
    "                        thread_count=-1,\n",
    "                        random_state=SEED)\n",
    "\n",
    "cbr.fit(features_train, target_train, \n",
    "        eval_set=(features_test, target_test),\n",
    "        verbose=False, plot=True)\n",
    "\n",
    "\n",
    "print(cbr.get_best_score())"
   ]
  },
  {
   "cell_type": "markdown",
   "metadata": {
    "ExecuteTime": {
     "end_time": "2023-04-11T09:44:34.555150Z",
     "start_time": "2023-04-11T09:44:34.540787Z"
    }
   },
   "source": [
    "## Проверка адекватности модели"
   ]
  },
  {
   "cell_type": "markdown",
   "metadata": {
    "ExecuteTime": {
     "end_time": "2023-04-11T09:44:48.301784Z",
     "start_time": "2023-04-11T09:44:48.285084Z"
    }
   },
   "source": [
    "Для проверки адекватности модели воспользуемся DummyRegressor:"
   ]
  },
  {
   "cell_type": "code",
   "execution_count": 83,
   "metadata": {
    "ExecuteTime": {
     "end_time": "2023-04-15T06:19:07.478306Z",
     "start_time": "2023-04-15T06:19:07.463285Z"
    },
    "scrolled": true
   },
   "outputs": [],
   "source": [
    "dr = DummyRegressor(strategy='median')\n",
    "dr.fit(features_train, target_train)\n",
    "predictions_dummy = dr.predict(features_test)\n",
    "dr_score = rmse(predictions_dummy, target_test)"
   ]
  },
  {
   "cell_type": "code",
   "execution_count": 84,
   "metadata": {
    "ExecuteTime": {
     "end_time": "2023-04-15T06:19:07.493129Z",
     "start_time": "2023-04-15T06:19:07.479303Z"
    }
   },
   "outputs": [
    {
     "data": {
      "text/html": [
       "<div>\n",
       "<style scoped>\n",
       "    .dataframe tbody tr th:only-of-type {\n",
       "        vertical-align: middle;\n",
       "    }\n",
       "\n",
       "    .dataframe tbody tr th {\n",
       "        vertical-align: top;\n",
       "    }\n",
       "\n",
       "    .dataframe thead th {\n",
       "        text-align: right;\n",
       "    }\n",
       "</style>\n",
       "<table border=\"1\" class=\"dataframe\">\n",
       "  <thead>\n",
       "    <tr style=\"text-align: right;\">\n",
       "      <th></th>\n",
       "      <th>RMSE</th>\n",
       "    </tr>\n",
       "  </thead>\n",
       "  <tbody>\n",
       "    <tr>\n",
       "      <th>CBR</th>\n",
       "      <td>1857.889310</td>\n",
       "    </tr>\n",
       "    <tr>\n",
       "      <th>DR</th>\n",
       "      <td>4798.804381</td>\n",
       "    </tr>\n",
       "  </tbody>\n",
       "</table>\n",
       "</div>"
      ],
      "text/plain": [
       "            RMSE\n",
       "CBR  1857.889310\n",
       "DR   4798.804381"
      ]
     },
     "execution_count": 84,
     "metadata": {},
     "output_type": "execute_result"
    }
   ],
   "source": [
    "pd.DataFrame({'RMSE' : [cbr.get_best_score()['validation']['RMSE'], dr_score]},\n",
    "             index = ['CBR', 'DR'])"
   ]
  },
  {
   "cell_type": "markdown",
   "metadata": {
    "ExecuteTime": {
     "end_time": "2023-04-11T09:47:59.547734Z",
     "start_time": "2023-04-11T09:47:59.542666Z"
    }
   },
   "source": [
    "**Вывод**\n",
    "- Модель прошла проверку на адекватность"
   ]
  },
  {
   "cell_type": "markdown",
   "metadata": {
    "ExecuteTime": {
     "end_time": "2023-04-11T09:48:22.224612Z",
     "start_time": "2023-04-11T09:48:22.216013Z"
    }
   },
   "source": [
    "## Общий вывод"
   ]
  },
  {
   "cell_type": "markdown",
   "metadata": {
    "ExecuteTime": {
     "end_time": "2023-04-11T09:50:19.967779Z",
     "start_time": "2023-04-11T09:50:19.956717Z"
    }
   },
   "source": [
    "- Проведен анализ данных, выполнена работа с аномалиями, дубликатами и пропусками\n",
    "- Подготовлены фичи и таргет, выполена проверка на коллинеарность\n",
    "- Выполнены label преобразования категориальных столбцов и нормирование численных\n",
    "- Протестированы модели DecisionTreeRegressor, LGBMRegressor, CatBoostRegressor\n",
    "- Найдены лучшие параметры с применением Randomized Search\n",
    "- Оценено быстродействие всех моделей\n",
    "- Выбрана лучшая модели и проверена на адекватность"
   ]
  }
 ],
 "metadata": {
  "kernelspec": {
   "display_name": "Python 3 (ipykernel)",
   "language": "python",
   "name": "python3"
  },
  "language_info": {
   "codemirror_mode": {
    "name": "ipython",
    "version": 3
   },
   "file_extension": ".py",
   "mimetype": "text/x-python",
   "name": "python",
   "nbconvert_exporter": "python",
   "pygments_lexer": "ipython3",
   "version": "3.10.9"
  },
  "toc": {
   "base_numbering": 1,
   "nav_menu": {},
   "number_sections": true,
   "sideBar": true,
   "skip_h1_title": true,
   "title_cell": "Table of Contents",
   "title_sidebar": "Contents",
   "toc_cell": false,
   "toc_position": {
    "height": "1109.33px",
    "left": "22px",
    "top": "178px",
    "width": "404.641px"
   },
   "toc_section_display": true,
   "toc_window_display": true
  },
  "varInspector": {
   "cols": {
    "lenName": 16,
    "lenType": 16,
    "lenVar": 40
   },
   "kernels_config": {
    "python": {
     "delete_cmd_postfix": "",
     "delete_cmd_prefix": "del ",
     "library": "var_list.py",
     "varRefreshCmd": "print(var_dic_list())"
    },
    "r": {
     "delete_cmd_postfix": ") ",
     "delete_cmd_prefix": "rm(",
     "library": "var_list.r",
     "varRefreshCmd": "cat(var_dic_list()) "
    }
   },
   "types_to_exclude": [
    "module",
    "function",
    "builtin_function_or_method",
    "instance",
    "_Feature"
   ],
   "window_display": false
  }
 },
 "nbformat": 4,
 "nbformat_minor": 2
}
