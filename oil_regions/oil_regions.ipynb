{
 "cells": [
  {
   "cell_type": "markdown",
   "metadata": {
    "toc": true
   },
   "source": [
    "<h1>Содержание проекта<span class=\"tocSkip\"></span></h1>\n",
    "<div class=\"toc\"><ul class=\"toc-item\"><li><span><a href=\"#Описание-данных-и-условия-задачи\" data-toc-modified-id=\"Описание-данных-и-условия-задачи-1\"><span class=\"toc-item-num\">1&nbsp;&nbsp;</span>Описание данных и условия задачи</a></span></li><li><span><a href=\"#Загрузка-и-подготовка-данных\" data-toc-modified-id=\"Загрузка-и-подготовка-данных-2\"><span class=\"toc-item-num\">2&nbsp;&nbsp;</span>Загрузка и подготовка данных</a></span><ul class=\"toc-item\"><li><span><a href=\"#geo_data_0.csv\" data-toc-modified-id=\"geo_data_0.csv-2.1\"><span class=\"toc-item-num\">2.1&nbsp;&nbsp;</span>geo_data_0.csv</a></span></li><li><span><a href=\"#geo_data_1.csv\" data-toc-modified-id=\"geo_data_1.csv-2.2\"><span class=\"toc-item-num\">2.2&nbsp;&nbsp;</span>geo_data_1.csv</a></span></li><li><span><a href=\"#geo_data_2.csv\" data-toc-modified-id=\"geo_data_2.csv-2.3\"><span class=\"toc-item-num\">2.3&nbsp;&nbsp;</span>geo_data_2.csv</a></span></li><li><span><a href=\"#Общие-выводы-по-датасетам\" data-toc-modified-id=\"Общие-выводы-по-датасетам-2.4\"><span class=\"toc-item-num\">2.4&nbsp;&nbsp;</span>Общие выводы по датасетам</a></span></li></ul></li><li><span><a href=\"#Обучение-и-проверка-модели\" data-toc-modified-id=\"Обучение-и-проверка-модели-3\"><span class=\"toc-item-num\">3&nbsp;&nbsp;</span>Обучение и проверка модели</a></span><ul class=\"toc-item\"><li><span><a href=\"#Разбиение-выборок-на-train/valid-и-обучение-модели\" data-toc-modified-id=\"Разбиение-выборок-на-train/valid-и-обучение-модели-3.1\"><span class=\"toc-item-num\">3.1&nbsp;&nbsp;</span>Разбиение выборок на train/valid и обучение модели</a></span></li><li><span><a href=\"#Моделирование-для-трех-регионов-и-сводная-таблица-результатов\" data-toc-modified-id=\"Моделирование-для-трех-регионов-и-сводная-таблица-результатов-3.2\"><span class=\"toc-item-num\">3.2&nbsp;&nbsp;</span>Моделирование для трех регионов и сводная таблица результатов</a></span></li></ul></li><li><span><a href=\"#Подготовка-к-расчёту-прибыли\" data-toc-modified-id=\"Подготовка-к-расчёту-прибыли-4\"><span class=\"toc-item-num\">4&nbsp;&nbsp;</span>Подготовка к расчёту прибыли</a></span></li><li><span><a href=\"#Расчёт-прибыли-и-рисков\" data-toc-modified-id=\"Расчёт-прибыли-и-рисков-5\"><span class=\"toc-item-num\">5&nbsp;&nbsp;</span>Расчёт прибыли и рисков</a></span><ul class=\"toc-item\"><li><span><a href=\"#Риски-в-регионе-0\" data-toc-modified-id=\"Риски-в-регионе-0-5.1\"><span class=\"toc-item-num\">5.1&nbsp;&nbsp;</span>Риски в регионе 0</a></span></li><li><span><a href=\"#Риски-в-регионе-1\" data-toc-modified-id=\"Риски-в-регионе-1-5.2\"><span class=\"toc-item-num\">5.2&nbsp;&nbsp;</span>Риски в регионе 1</a></span></li><li><span><a href=\"#Риски-в-регионе-2\" data-toc-modified-id=\"Риски-в-регионе-2-5.3\"><span class=\"toc-item-num\">5.3&nbsp;&nbsp;</span>Риски в регионе 2</a></span></li><li><span><a href=\"#Сводная-таблица-рисков\" data-toc-modified-id=\"Сводная-таблица-рисков-5.4\"><span class=\"toc-item-num\">5.4&nbsp;&nbsp;</span>Сводная таблица рисков</a></span></li><li><span><a href=\"#Общие-выводы\" data-toc-modified-id=\"Общие-выводы-5.5\"><span class=\"toc-item-num\">5.5&nbsp;&nbsp;</span>Общие выводы</a></span></li></ul></li><li><span><a href=\"#Чек-лист-готовности-проекта\" data-toc-modified-id=\"Чек-лист-готовности-проекта-6\"><span class=\"toc-item-num\">6&nbsp;&nbsp;</span>Чек-лист готовности проекта</a></span></li></ul></div>"
   ]
  },
  {
   "cell_type": "markdown",
   "metadata": {},
   "source": [
    "# Выбор локации для скважины"
   ]
  },
  {
   "cell_type": "markdown",
   "metadata": {},
   "source": [
    "Допустим, вы работаете в добывающей компании «ГлавРосГосНефть». Нужно решить, где бурить новую скважину.\n",
    "\n",
    "Вам предоставлены пробы нефти в трёх регионах: в каждом 10 000 месторождений, где измерили качество нефти и объём её запасов. Постройте модель машинного обучения, которая поможет определить регион, где добыча принесёт наибольшую прибыль. Проанализируйте возможную прибыль и риски техникой *Bootstrap.*\n",
    "\n",
    "Шаги для выбора локации:\n",
    "\n",
    "- В избранном регионе ищут месторождения, для каждого определяют значения признаков;\n",
    "- Строят модель и оценивают объём запасов;\n",
    "- Выбирают месторождения с самым высокими оценками значений. Количество месторождений зависит от бюджета компании и стоимости разработки одной скважины;\n",
    "- Прибыль равна суммарной прибыли отобранных месторождений."
   ]
  },
  {
   "cell_type": "markdown",
   "metadata": {},
   "source": [
    "## Описание данных и условия задачи\n",
    "Данные геологоразведки трёх регионов находятся в файлах: \n",
    "- /datasets/geo_data_0.csv\n",
    "- /datasets/geo_data_1.csv\n",
    "- /datasets/geo_data_2.csv\n",
    "\n",
    "- id — уникальный идентификатор скважины;\n",
    "- f0, f1, f2 — три признака точек (неважно, что они означают, но сами признаки значимы);\n",
    "- product — объём запасов в скважине (тыс. баррелей).\n",
    "\n",
    "Условия задачи:\n",
    "- Для обучения модели подходит только линейная регрессия (остальные — недостаточно предсказуемые).\n",
    "- При разведке региона исследуют 500 точек, из которых с помощью машинного обучения выбирают 200 лучших для разработки.\n",
    "- Бюджет на разработку скважин в регионе — 10 млрд рублей.\n",
    "- При нынешних ценах один баррель сырья приносит 450 рублей дохода. Доход с каждой единицы продукта составляет 450 тыс. рублей, поскольку объём указан в тысячах баррелей.\n",
    "- После оценки рисков нужно оставить лишь те регионы, в которых вероятность убытков меньше 2.5%. Среди них выбирают регион с наибольшей средней прибылью.\n",
    "- Данные синтетические: детали контрактов и характеристики месторождений не разглашаются."
   ]
  },
  {
   "cell_type": "markdown",
   "metadata": {},
   "source": [
    "## Загрузка и подготовка данных"
   ]
  },
  {
   "cell_type": "markdown",
   "metadata": {},
   "source": [
    "Подгрузим модули, необходимые для работы проекта:\n",
    "- `pandas`\n",
    "- `numpy`\n",
    "- `seaborn`\n",
    "- `matplotlib`\n",
    "- `sklearn`"
   ]
  },
  {
   "cell_type": "code",
   "execution_count": 1,
   "metadata": {
    "ExecuteTime": {
     "end_time": "2023-03-15T12:12:37.388081Z",
     "start_time": "2023-03-15T12:12:36.286982Z"
    }
   },
   "outputs": [],
   "source": [
    "import pandas as pd\n",
    "import numpy as np\n",
    "import seaborn as sns\n",
    "from matplotlib import pyplot as plt\n",
    "from sklearn.linear_model import LinearRegression\n",
    "from sklearn.metrics import mean_squared_error\n",
    "from sklearn.model_selection import train_test_split\n",
    "import warnings\n",
    "warnings.filterwarnings('ignore')"
   ]
  },
  {
   "cell_type": "markdown",
   "metadata": {},
   "source": [
    "Загрузим поочередно датасеты по трем регионам и проанализируем данные"
   ]
  },
  {
   "cell_type": "markdown",
   "metadata": {},
   "source": [
    "### geo_data_0.csv"
   ]
  },
  {
   "cell_type": "code",
   "execution_count": 2,
   "metadata": {
    "ExecuteTime": {
     "end_time": "2023-03-15T12:12:38.588007Z",
     "start_time": "2023-03-15T12:12:37.388873Z"
    }
   },
   "outputs": [],
   "source": [
    "df_0 = pd.read_csv('./datasets/geo_data_0.csv')"
   ]
  },
  {
   "cell_type": "code",
   "execution_count": 3,
   "metadata": {
    "ExecuteTime": {
     "end_time": "2023-03-15T12:12:38.603548Z",
     "start_time": "2023-03-15T12:12:38.589007Z"
    }
   },
   "outputs": [
    {
     "data": {
      "text/html": [
       "<div>\n",
       "<style scoped>\n",
       "    .dataframe tbody tr th:only-of-type {\n",
       "        vertical-align: middle;\n",
       "    }\n",
       "\n",
       "    .dataframe tbody tr th {\n",
       "        vertical-align: top;\n",
       "    }\n",
       "\n",
       "    .dataframe thead th {\n",
       "        text-align: right;\n",
       "    }\n",
       "</style>\n",
       "<table border=\"1\" class=\"dataframe\">\n",
       "  <thead>\n",
       "    <tr style=\"text-align: right;\">\n",
       "      <th></th>\n",
       "      <th>id</th>\n",
       "      <th>f0</th>\n",
       "      <th>f1</th>\n",
       "      <th>f2</th>\n",
       "      <th>product</th>\n",
       "    </tr>\n",
       "  </thead>\n",
       "  <tbody>\n",
       "    <tr>\n",
       "      <th>0</th>\n",
       "      <td>txEyH</td>\n",
       "      <td>0.705745</td>\n",
       "      <td>-0.497823</td>\n",
       "      <td>1.221170</td>\n",
       "      <td>105.280062</td>\n",
       "    </tr>\n",
       "    <tr>\n",
       "      <th>1</th>\n",
       "      <td>2acmU</td>\n",
       "      <td>1.334711</td>\n",
       "      <td>-0.340164</td>\n",
       "      <td>4.365080</td>\n",
       "      <td>73.037750</td>\n",
       "    </tr>\n",
       "    <tr>\n",
       "      <th>2</th>\n",
       "      <td>409Wp</td>\n",
       "      <td>1.022732</td>\n",
       "      <td>0.151990</td>\n",
       "      <td>1.419926</td>\n",
       "      <td>85.265647</td>\n",
       "    </tr>\n",
       "    <tr>\n",
       "      <th>3</th>\n",
       "      <td>iJLyR</td>\n",
       "      <td>-0.032172</td>\n",
       "      <td>0.139033</td>\n",
       "      <td>2.978566</td>\n",
       "      <td>168.620776</td>\n",
       "    </tr>\n",
       "    <tr>\n",
       "      <th>4</th>\n",
       "      <td>Xdl7t</td>\n",
       "      <td>1.988431</td>\n",
       "      <td>0.155413</td>\n",
       "      <td>4.751769</td>\n",
       "      <td>154.036647</td>\n",
       "    </tr>\n",
       "  </tbody>\n",
       "</table>\n",
       "</div>"
      ],
      "text/plain": [
       "      id        f0        f1        f2     product\n",
       "0  txEyH  0.705745 -0.497823  1.221170  105.280062\n",
       "1  2acmU  1.334711 -0.340164  4.365080   73.037750\n",
       "2  409Wp  1.022732  0.151990  1.419926   85.265647\n",
       "3  iJLyR -0.032172  0.139033  2.978566  168.620776\n",
       "4  Xdl7t  1.988431  0.155413  4.751769  154.036647"
      ]
     },
     "execution_count": 3,
     "metadata": {},
     "output_type": "execute_result"
    }
   ],
   "source": [
    "df_0.head()"
   ]
  },
  {
   "cell_type": "code",
   "execution_count": 4,
   "metadata": {
    "ExecuteTime": {
     "end_time": "2023-03-15T12:12:38.635462Z",
     "start_time": "2023-03-15T12:12:38.605543Z"
    }
   },
   "outputs": [
    {
     "data": {
      "text/plain": [
       "id          99990\n",
       "f0         100000\n",
       "f1         100000\n",
       "f2         100000\n",
       "product    100000\n",
       "dtype: int64"
      ]
     },
     "execution_count": 4,
     "metadata": {},
     "output_type": "execute_result"
    }
   ],
   "source": [
    "df_0.nunique()"
   ]
  },
  {
   "cell_type": "markdown",
   "metadata": {
    "ExecuteTime": {
     "end_time": "2023-02-27T11:06:34.225642Z",
     "start_time": "2023-02-27T11:06:34.207967Z"
    }
   },
   "source": [
    "В столбце `id` есть 10 дубликатов:"
   ]
  },
  {
   "cell_type": "code",
   "execution_count": 5,
   "metadata": {
    "ExecuteTime": {
     "end_time": "2023-03-15T12:12:38.651420Z",
     "start_time": "2023-03-15T12:12:38.636460Z"
    }
   },
   "outputs": [
    {
     "data": {
      "text/plain": [
       "7530     HZww2\n",
       "41724    bxg6G\n",
       "51970    A5aEY\n",
       "63593    QcMuo\n",
       "66136    74z30\n",
       "69163    AGS9W\n",
       "75715    Tdehs\n",
       "90815    fiKDv\n",
       "92341    TtcGQ\n",
       "97785    bsk9y\n",
       "Name: id, dtype: object"
      ]
     },
     "execution_count": 5,
     "metadata": {},
     "output_type": "execute_result"
    }
   ],
   "source": [
    "df_0[df_0['id'].duplicated()]['id']"
   ]
  },
  {
   "cell_type": "markdown",
   "metadata": {},
   "source": [
    "Распечатаем значения из списка:"
   ]
  },
  {
   "cell_type": "code",
   "execution_count": 6,
   "metadata": {
    "ExecuteTime": {
     "end_time": "2023-03-15T12:12:38.713623Z",
     "start_time": "2023-03-15T12:12:38.652418Z"
    },
    "scrolled": false
   },
   "outputs": [
    {
     "data": {
      "text/html": [
       "<div>\n",
       "<style scoped>\n",
       "    .dataframe tbody tr th:only-of-type {\n",
       "        vertical-align: middle;\n",
       "    }\n",
       "\n",
       "    .dataframe tbody tr th {\n",
       "        vertical-align: top;\n",
       "    }\n",
       "\n",
       "    .dataframe thead th {\n",
       "        text-align: right;\n",
       "    }\n",
       "</style>\n",
       "<table border=\"1\" class=\"dataframe\">\n",
       "  <thead>\n",
       "    <tr style=\"text-align: right;\">\n",
       "      <th></th>\n",
       "      <th>id</th>\n",
       "      <th>f0</th>\n",
       "      <th>f1</th>\n",
       "      <th>f2</th>\n",
       "      <th>product</th>\n",
       "    </tr>\n",
       "  </thead>\n",
       "  <tbody>\n",
       "    <tr>\n",
       "      <th>931</th>\n",
       "      <td>HZww2</td>\n",
       "      <td>0.755284</td>\n",
       "      <td>0.368511</td>\n",
       "      <td>1.863211</td>\n",
       "      <td>30.681774</td>\n",
       "    </tr>\n",
       "    <tr>\n",
       "      <th>7530</th>\n",
       "      <td>HZww2</td>\n",
       "      <td>1.061194</td>\n",
       "      <td>-0.373969</td>\n",
       "      <td>10.430210</td>\n",
       "      <td>158.828695</td>\n",
       "    </tr>\n",
       "    <tr>\n",
       "      <th>1364</th>\n",
       "      <td>bxg6G</td>\n",
       "      <td>0.411645</td>\n",
       "      <td>0.856830</td>\n",
       "      <td>-3.653440</td>\n",
       "      <td>73.604260</td>\n",
       "    </tr>\n",
       "    <tr>\n",
       "      <th>41724</th>\n",
       "      <td>bxg6G</td>\n",
       "      <td>-0.823752</td>\n",
       "      <td>0.546319</td>\n",
       "      <td>3.630479</td>\n",
       "      <td>93.007798</td>\n",
       "    </tr>\n",
       "    <tr>\n",
       "      <th>3389</th>\n",
       "      <td>A5aEY</td>\n",
       "      <td>-0.039949</td>\n",
       "      <td>0.156872</td>\n",
       "      <td>0.209861</td>\n",
       "      <td>89.249364</td>\n",
       "    </tr>\n",
       "    <tr>\n",
       "      <th>51970</th>\n",
       "      <td>A5aEY</td>\n",
       "      <td>-0.180335</td>\n",
       "      <td>0.935548</td>\n",
       "      <td>-2.094773</td>\n",
       "      <td>33.020205</td>\n",
       "    </tr>\n",
       "    <tr>\n",
       "      <th>1949</th>\n",
       "      <td>QcMuo</td>\n",
       "      <td>0.506563</td>\n",
       "      <td>-0.323775</td>\n",
       "      <td>-2.215583</td>\n",
       "      <td>75.496502</td>\n",
       "    </tr>\n",
       "    <tr>\n",
       "      <th>63593</th>\n",
       "      <td>QcMuo</td>\n",
       "      <td>0.635635</td>\n",
       "      <td>-0.473422</td>\n",
       "      <td>0.862670</td>\n",
       "      <td>64.578675</td>\n",
       "    </tr>\n",
       "    <tr>\n",
       "      <th>64022</th>\n",
       "      <td>74z30</td>\n",
       "      <td>0.741456</td>\n",
       "      <td>0.459229</td>\n",
       "      <td>5.153109</td>\n",
       "      <td>140.771492</td>\n",
       "    </tr>\n",
       "    <tr>\n",
       "      <th>66136</th>\n",
       "      <td>74z30</td>\n",
       "      <td>1.084962</td>\n",
       "      <td>-0.312358</td>\n",
       "      <td>6.990771</td>\n",
       "      <td>127.643327</td>\n",
       "    </tr>\n",
       "    <tr>\n",
       "      <th>42529</th>\n",
       "      <td>AGS9W</td>\n",
       "      <td>1.454747</td>\n",
       "      <td>-0.479651</td>\n",
       "      <td>0.683380</td>\n",
       "      <td>126.370504</td>\n",
       "    </tr>\n",
       "    <tr>\n",
       "      <th>69163</th>\n",
       "      <td>AGS9W</td>\n",
       "      <td>-0.933795</td>\n",
       "      <td>0.116194</td>\n",
       "      <td>-3.655896</td>\n",
       "      <td>19.230453</td>\n",
       "    </tr>\n",
       "    <tr>\n",
       "      <th>21426</th>\n",
       "      <td>Tdehs</td>\n",
       "      <td>0.829407</td>\n",
       "      <td>0.298807</td>\n",
       "      <td>-0.049563</td>\n",
       "      <td>96.035308</td>\n",
       "    </tr>\n",
       "    <tr>\n",
       "      <th>75715</th>\n",
       "      <td>Tdehs</td>\n",
       "      <td>0.112079</td>\n",
       "      <td>0.430296</td>\n",
       "      <td>3.218993</td>\n",
       "      <td>60.964018</td>\n",
       "    </tr>\n",
       "    <tr>\n",
       "      <th>16633</th>\n",
       "      <td>fiKDv</td>\n",
       "      <td>0.157341</td>\n",
       "      <td>1.028359</td>\n",
       "      <td>5.585586</td>\n",
       "      <td>95.817889</td>\n",
       "    </tr>\n",
       "    <tr>\n",
       "      <th>90815</th>\n",
       "      <td>fiKDv</td>\n",
       "      <td>0.049883</td>\n",
       "      <td>0.841313</td>\n",
       "      <td>6.394613</td>\n",
       "      <td>137.346586</td>\n",
       "    </tr>\n",
       "    <tr>\n",
       "      <th>60140</th>\n",
       "      <td>TtcGQ</td>\n",
       "      <td>0.569276</td>\n",
       "      <td>-0.104876</td>\n",
       "      <td>6.440215</td>\n",
       "      <td>85.350186</td>\n",
       "    </tr>\n",
       "    <tr>\n",
       "      <th>92341</th>\n",
       "      <td>TtcGQ</td>\n",
       "      <td>0.110711</td>\n",
       "      <td>1.022689</td>\n",
       "      <td>0.911381</td>\n",
       "      <td>101.318008</td>\n",
       "    </tr>\n",
       "    <tr>\n",
       "      <th>89582</th>\n",
       "      <td>bsk9y</td>\n",
       "      <td>0.398908</td>\n",
       "      <td>-0.400253</td>\n",
       "      <td>10.122376</td>\n",
       "      <td>163.433078</td>\n",
       "    </tr>\n",
       "    <tr>\n",
       "      <th>97785</th>\n",
       "      <td>bsk9y</td>\n",
       "      <td>0.378429</td>\n",
       "      <td>0.005837</td>\n",
       "      <td>0.160827</td>\n",
       "      <td>160.637302</td>\n",
       "    </tr>\n",
       "  </tbody>\n",
       "</table>\n",
       "</div>"
      ],
      "text/plain": [
       "          id        f0        f1         f2     product\n",
       "931    HZww2  0.755284  0.368511   1.863211   30.681774\n",
       "7530   HZww2  1.061194 -0.373969  10.430210  158.828695\n",
       "1364   bxg6G  0.411645  0.856830  -3.653440   73.604260\n",
       "41724  bxg6G -0.823752  0.546319   3.630479   93.007798\n",
       "3389   A5aEY -0.039949  0.156872   0.209861   89.249364\n",
       "51970  A5aEY -0.180335  0.935548  -2.094773   33.020205\n",
       "1949   QcMuo  0.506563 -0.323775  -2.215583   75.496502\n",
       "63593  QcMuo  0.635635 -0.473422   0.862670   64.578675\n",
       "64022  74z30  0.741456  0.459229   5.153109  140.771492\n",
       "66136  74z30  1.084962 -0.312358   6.990771  127.643327\n",
       "42529  AGS9W  1.454747 -0.479651   0.683380  126.370504\n",
       "69163  AGS9W -0.933795  0.116194  -3.655896   19.230453\n",
       "21426  Tdehs  0.829407  0.298807  -0.049563   96.035308\n",
       "75715  Tdehs  0.112079  0.430296   3.218993   60.964018\n",
       "16633  fiKDv  0.157341  1.028359   5.585586   95.817889\n",
       "90815  fiKDv  0.049883  0.841313   6.394613  137.346586\n",
       "60140  TtcGQ  0.569276 -0.104876   6.440215   85.350186\n",
       "92341  TtcGQ  0.110711  1.022689   0.911381  101.318008\n",
       "89582  bsk9y  0.398908 -0.400253  10.122376  163.433078\n",
       "97785  bsk9y  0.378429  0.005837   0.160827  160.637302"
      ]
     },
     "execution_count": 6,
     "metadata": {},
     "output_type": "execute_result"
    }
   ],
   "source": [
    "duplicates_0 = pd.DataFrame(columns=df_0.columns)\n",
    "for ids in df_0[df_0['id'].duplicated()]['id']:\n",
    "    duplicates_0 = pd.concat([duplicates_0] + [df_0[df_0.id == ids]])\n",
    "duplicates_0"
   ]
  },
  {
   "cell_type": "markdown",
   "metadata": {},
   "source": [
    "В столбце `id` очевидно лежит описание скважины в зашифрованном виде. В случае совпадения `id` видим разные значения по остальным столбцам, что говорит либо о разных тестах, либо об опечатке. Удаляем этот столбец и оценим количественные параметры:"
   ]
  },
  {
   "cell_type": "code",
   "execution_count": 7,
   "metadata": {
    "ExecuteTime": {
     "end_time": "2023-03-15T12:12:38.745538Z",
     "start_time": "2023-03-15T12:12:38.714620Z"
    },
    "scrolled": false
   },
   "outputs": [
    {
     "data": {
      "text/html": [
       "<div>\n",
       "<style scoped>\n",
       "    .dataframe tbody tr th:only-of-type {\n",
       "        vertical-align: middle;\n",
       "    }\n",
       "\n",
       "    .dataframe tbody tr th {\n",
       "        vertical-align: top;\n",
       "    }\n",
       "\n",
       "    .dataframe thead th {\n",
       "        text-align: right;\n",
       "    }\n",
       "</style>\n",
       "<table border=\"1\" class=\"dataframe\">\n",
       "  <thead>\n",
       "    <tr style=\"text-align: right;\">\n",
       "      <th></th>\n",
       "      <th>f0</th>\n",
       "      <th>f1</th>\n",
       "      <th>f2</th>\n",
       "      <th>product</th>\n",
       "    </tr>\n",
       "  </thead>\n",
       "  <tbody>\n",
       "    <tr>\n",
       "      <th>count</th>\n",
       "      <td>100000.000000</td>\n",
       "      <td>100000.000000</td>\n",
       "      <td>100000.000000</td>\n",
       "      <td>100000.000000</td>\n",
       "    </tr>\n",
       "    <tr>\n",
       "      <th>mean</th>\n",
       "      <td>0.500419</td>\n",
       "      <td>0.250143</td>\n",
       "      <td>2.502647</td>\n",
       "      <td>92.500000</td>\n",
       "    </tr>\n",
       "    <tr>\n",
       "      <th>std</th>\n",
       "      <td>0.871832</td>\n",
       "      <td>0.504433</td>\n",
       "      <td>3.248248</td>\n",
       "      <td>44.288691</td>\n",
       "    </tr>\n",
       "    <tr>\n",
       "      <th>min</th>\n",
       "      <td>-1.408605</td>\n",
       "      <td>-0.848218</td>\n",
       "      <td>-12.088328</td>\n",
       "      <td>0.000000</td>\n",
       "    </tr>\n",
       "    <tr>\n",
       "      <th>25%</th>\n",
       "      <td>-0.072580</td>\n",
       "      <td>-0.200881</td>\n",
       "      <td>0.287748</td>\n",
       "      <td>56.497507</td>\n",
       "    </tr>\n",
       "    <tr>\n",
       "      <th>50%</th>\n",
       "      <td>0.502360</td>\n",
       "      <td>0.250252</td>\n",
       "      <td>2.515969</td>\n",
       "      <td>91.849972</td>\n",
       "    </tr>\n",
       "    <tr>\n",
       "      <th>75%</th>\n",
       "      <td>1.073581</td>\n",
       "      <td>0.700646</td>\n",
       "      <td>4.715088</td>\n",
       "      <td>128.564089</td>\n",
       "    </tr>\n",
       "    <tr>\n",
       "      <th>max</th>\n",
       "      <td>2.362331</td>\n",
       "      <td>1.343769</td>\n",
       "      <td>16.003790</td>\n",
       "      <td>185.364347</td>\n",
       "    </tr>\n",
       "  </tbody>\n",
       "</table>\n",
       "</div>"
      ],
      "text/plain": [
       "                  f0             f1             f2        product\n",
       "count  100000.000000  100000.000000  100000.000000  100000.000000\n",
       "mean        0.500419       0.250143       2.502647      92.500000\n",
       "std         0.871832       0.504433       3.248248      44.288691\n",
       "min        -1.408605      -0.848218     -12.088328       0.000000\n",
       "25%        -0.072580      -0.200881       0.287748      56.497507\n",
       "50%         0.502360       0.250252       2.515969      91.849972\n",
       "75%         1.073581       0.700646       4.715088     128.564089\n",
       "max         2.362331       1.343769      16.003790     185.364347"
      ]
     },
     "execution_count": 7,
     "metadata": {},
     "output_type": "execute_result"
    }
   ],
   "source": [
    "df_0 = df_0.drop(['id'], axis=1)\n",
    "df_0.describe()"
   ]
  },
  {
   "cell_type": "markdown",
   "metadata": {
    "ExecuteTime": {
     "end_time": "2023-02-27T10:17:53.868409Z",
     "start_time": "2023-02-27T10:17:53.856440Z"
    }
   },
   "source": [
    "Для наглядности построим гистограммы и оценим корреляции между параметрами по PhiK:"
   ]
  },
  {
   "cell_type": "code",
   "execution_count": 8,
   "metadata": {
    "ExecuteTime": {
     "end_time": "2023-03-15T12:12:39.222037Z",
     "start_time": "2023-03-15T12:12:38.746535Z"
    }
   },
   "outputs": [
    {
     "data": {
      "image/png": "[encoded data removed]",
      "text/plain": [
       "<Figure size 800x700 with 4 Axes>"
      ]
     },
     "metadata": {},
     "output_type": "display_data"
    }
   ],
   "source": [
    "df_0.hist(color='grey',\n",
    "          bins=50,\n",
    "          figsize=(8, 7));"
   ]
  },
  {
   "cell_type": "code",
   "execution_count": 9,
   "metadata": {
    "ExecuteTime": {
     "end_time": "2023-03-15T12:12:39.348327Z",
     "start_time": "2023-03-15T12:12:39.223037Z"
    }
   },
   "outputs": [
    {
     "data": {
      "image/png": "[encoded data removed]",
      "text/plain": [
       "<Figure size 900x700 with 2 Axes>"
      ]
     },
     "metadata": {},
     "output_type": "display_data"
    }
   ],
   "source": [
    "plt.figure(figsize=(9, 7))\n",
    "sns.heatmap(df_0.corr(),\n",
    "            xticklabels=df_0.columns,\n",
    "            yticklabels=df_0.columns,\n",
    "            cmap='RdYlGn',\n",
    "            center=0,\n",
    "            annot=True)\n",
    "plt.title('Корреляции в датасете geo_data_0.csv')\n",
    "plt.xticks(fontsize=12)\n",
    "plt.yticks(fontsize=12)\n",
    "plt.show()"
   ]
  },
  {
   "cell_type": "markdown",
   "metadata": {
    "ExecuteTime": {
     "end_time": "2023-02-27T10:20:22.033460Z",
     "start_time": "2023-02-27T10:20:22.021530Z"
    }
   },
   "source": [
    "**Вывод**\n",
    "- В датасете 100000 строк, что является довольно большой выборкой для регрессии\n",
    "- Столбцы `f2` и `product` распределены преимущественно нормально\n",
    "- На гистограммах по столбцам `f0` и `f1` прослеживается распределение, отличное от нормального\n",
    "- Коээффициент корреляции говорит о сильной связи между `f0` и `f1`, что может повлиять на качество модели (коллинеарность)\n",
    "- Таргет `product` связан средне с `f2` и слабо с `f0` и `f1`: никакие столбцы при регрессии отбросить нельзя"
   ]
  },
  {
   "cell_type": "markdown",
   "metadata": {
    "ExecuteTime": {
     "end_time": "2023-02-27T10:25:56.089626Z",
     "start_time": "2023-02-27T10:25:56.082310Z"
    }
   },
   "source": [
    "### geo_data_1.csv"
   ]
  },
  {
   "cell_type": "markdown",
   "metadata": {
    "ExecuteTime": {
     "end_time": "2023-02-27T10:26:09.103603Z",
     "start_time": "2023-02-27T10:26:09.093610Z"
    }
   },
   "source": [
    "Повторим операции из пункта 2.1:"
   ]
  },
  {
   "cell_type": "code",
   "execution_count": 10,
   "metadata": {
    "ExecuteTime": {
     "end_time": "2023-03-15T12:12:40.720797Z",
     "start_time": "2023-03-15T12:12:39.350322Z"
    }
   },
   "outputs": [],
   "source": [
    "df_1 = pd.read_csv('./datasets/geo_data_1.csv')"
   ]
  },
  {
   "cell_type": "code",
   "execution_count": 11,
   "metadata": {
    "ExecuteTime": {
     "end_time": "2023-03-15T12:12:40.751632Z",
     "start_time": "2023-03-15T12:12:40.721795Z"
    }
   },
   "outputs": [
    {
     "data": {
      "text/plain": [
       "id          99996\n",
       "f0         100000\n",
       "f1         100000\n",
       "f2         100000\n",
       "product        12\n",
       "dtype: int64"
      ]
     },
     "execution_count": 11,
     "metadata": {},
     "output_type": "execute_result"
    }
   ],
   "source": [
    "df_1.nunique()"
   ]
  },
  {
   "cell_type": "code",
   "execution_count": 12,
   "metadata": {
    "ExecuteTime": {
     "end_time": "2023-03-15T12:12:40.797509Z",
     "start_time": "2023-03-15T12:12:40.752630Z"
    }
   },
   "outputs": [
    {
     "data": {
      "text/html": [
       "<div>\n",
       "<style scoped>\n",
       "    .dataframe tbody tr th:only-of-type {\n",
       "        vertical-align: middle;\n",
       "    }\n",
       "\n",
       "    .dataframe tbody tr th {\n",
       "        vertical-align: top;\n",
       "    }\n",
       "\n",
       "    .dataframe thead th {\n",
       "        text-align: right;\n",
       "    }\n",
       "</style>\n",
       "<table border=\"1\" class=\"dataframe\">\n",
       "  <thead>\n",
       "    <tr style=\"text-align: right;\">\n",
       "      <th></th>\n",
       "      <th>id</th>\n",
       "      <th>f0</th>\n",
       "      <th>f1</th>\n",
       "      <th>f2</th>\n",
       "      <th>product</th>\n",
       "    </tr>\n",
       "  </thead>\n",
       "  <tbody>\n",
       "    <tr>\n",
       "      <th>1305</th>\n",
       "      <td>LHZR0</td>\n",
       "      <td>11.170835</td>\n",
       "      <td>-1.945066</td>\n",
       "      <td>3.002872</td>\n",
       "      <td>80.859783</td>\n",
       "    </tr>\n",
       "    <tr>\n",
       "      <th>41906</th>\n",
       "      <td>LHZR0</td>\n",
       "      <td>-8.989672</td>\n",
       "      <td>-4.286607</td>\n",
       "      <td>2.009139</td>\n",
       "      <td>57.085625</td>\n",
       "    </tr>\n",
       "    <tr>\n",
       "      <th>2721</th>\n",
       "      <td>bfPNe</td>\n",
       "      <td>-9.494442</td>\n",
       "      <td>-5.463692</td>\n",
       "      <td>4.006042</td>\n",
       "      <td>110.992147</td>\n",
       "    </tr>\n",
       "    <tr>\n",
       "      <th>82178</th>\n",
       "      <td>bfPNe</td>\n",
       "      <td>-6.202799</td>\n",
       "      <td>-4.820045</td>\n",
       "      <td>2.995107</td>\n",
       "      <td>84.038886</td>\n",
       "    </tr>\n",
       "    <tr>\n",
       "      <th>47591</th>\n",
       "      <td>wt4Uk</td>\n",
       "      <td>-9.091098</td>\n",
       "      <td>-8.109279</td>\n",
       "      <td>-0.002314</td>\n",
       "      <td>3.179103</td>\n",
       "    </tr>\n",
       "    <tr>\n",
       "      <th>82873</th>\n",
       "      <td>wt4Uk</td>\n",
       "      <td>10.259972</td>\n",
       "      <td>-9.376355</td>\n",
       "      <td>4.994297</td>\n",
       "      <td>134.766305</td>\n",
       "    </tr>\n",
       "    <tr>\n",
       "      <th>5849</th>\n",
       "      <td>5ltQ6</td>\n",
       "      <td>-3.435401</td>\n",
       "      <td>-12.296043</td>\n",
       "      <td>1.999796</td>\n",
       "      <td>57.085625</td>\n",
       "    </tr>\n",
       "    <tr>\n",
       "      <th>84461</th>\n",
       "      <td>5ltQ6</td>\n",
       "      <td>18.213839</td>\n",
       "      <td>2.191999</td>\n",
       "      <td>3.993869</td>\n",
       "      <td>107.813044</td>\n",
       "    </tr>\n",
       "  </tbody>\n",
       "</table>\n",
       "</div>"
      ],
      "text/plain": [
       "          id         f0         f1        f2     product\n",
       "1305   LHZR0  11.170835  -1.945066  3.002872   80.859783\n",
       "41906  LHZR0  -8.989672  -4.286607  2.009139   57.085625\n",
       "2721   bfPNe  -9.494442  -5.463692  4.006042  110.992147\n",
       "82178  bfPNe  -6.202799  -4.820045  2.995107   84.038886\n",
       "47591  wt4Uk  -9.091098  -8.109279 -0.002314    3.179103\n",
       "82873  wt4Uk  10.259972  -9.376355  4.994297  134.766305\n",
       "5849   5ltQ6  -3.435401 -12.296043  1.999796   57.085625\n",
       "84461  5ltQ6  18.213839   2.191999  3.993869  107.813044"
      ]
     },
     "execution_count": 12,
     "metadata": {},
     "output_type": "execute_result"
    }
   ],
   "source": [
    "duplicates_1 = pd.DataFrame(columns=df_1.columns)\n",
    "for ids in df_1[df_1['id'].duplicated()]['id']:\n",
    "    duplicates_1 = pd.concat([duplicates_1] + [df_1[df_1.id == ids]])\n",
    "duplicates_1"
   ]
  },
  {
   "cell_type": "code",
   "execution_count": 13,
   "metadata": {
    "ExecuteTime": {
     "end_time": "2023-03-15T12:12:40.828428Z",
     "start_time": "2023-03-15T12:12:40.798505Z"
    }
   },
   "outputs": [
    {
     "data": {
      "text/html": [
       "<div>\n",
       "<style scoped>\n",
       "    .dataframe tbody tr th:only-of-type {\n",
       "        vertical-align: middle;\n",
       "    }\n",
       "\n",
       "    .dataframe tbody tr th {\n",
       "        vertical-align: top;\n",
       "    }\n",
       "\n",
       "    .dataframe thead th {\n",
       "        text-align: right;\n",
       "    }\n",
       "</style>\n",
       "<table border=\"1\" class=\"dataframe\">\n",
       "  <thead>\n",
       "    <tr style=\"text-align: right;\">\n",
       "      <th></th>\n",
       "      <th>f0</th>\n",
       "      <th>f1</th>\n",
       "      <th>f2</th>\n",
       "      <th>product</th>\n",
       "    </tr>\n",
       "  </thead>\n",
       "  <tbody>\n",
       "    <tr>\n",
       "      <th>count</th>\n",
       "      <td>100000.000000</td>\n",
       "      <td>100000.000000</td>\n",
       "      <td>100000.000000</td>\n",
       "      <td>100000.000000</td>\n",
       "    </tr>\n",
       "    <tr>\n",
       "      <th>mean</th>\n",
       "      <td>1.141296</td>\n",
       "      <td>-4.796579</td>\n",
       "      <td>2.494541</td>\n",
       "      <td>68.825000</td>\n",
       "    </tr>\n",
       "    <tr>\n",
       "      <th>std</th>\n",
       "      <td>8.965932</td>\n",
       "      <td>5.119872</td>\n",
       "      <td>1.703572</td>\n",
       "      <td>45.944423</td>\n",
       "    </tr>\n",
       "    <tr>\n",
       "      <th>min</th>\n",
       "      <td>-31.609576</td>\n",
       "      <td>-26.358598</td>\n",
       "      <td>-0.018144</td>\n",
       "      <td>0.000000</td>\n",
       "    </tr>\n",
       "    <tr>\n",
       "      <th>25%</th>\n",
       "      <td>-6.298551</td>\n",
       "      <td>-8.267985</td>\n",
       "      <td>1.000021</td>\n",
       "      <td>26.953261</td>\n",
       "    </tr>\n",
       "    <tr>\n",
       "      <th>50%</th>\n",
       "      <td>1.153055</td>\n",
       "      <td>-4.813172</td>\n",
       "      <td>2.011479</td>\n",
       "      <td>57.085625</td>\n",
       "    </tr>\n",
       "    <tr>\n",
       "      <th>75%</th>\n",
       "      <td>8.621015</td>\n",
       "      <td>-1.332816</td>\n",
       "      <td>3.999904</td>\n",
       "      <td>107.813044</td>\n",
       "    </tr>\n",
       "    <tr>\n",
       "      <th>max</th>\n",
       "      <td>29.421755</td>\n",
       "      <td>18.734063</td>\n",
       "      <td>5.019721</td>\n",
       "      <td>137.945408</td>\n",
       "    </tr>\n",
       "  </tbody>\n",
       "</table>\n",
       "</div>"
      ],
      "text/plain": [
       "                  f0             f1             f2        product\n",
       "count  100000.000000  100000.000000  100000.000000  100000.000000\n",
       "mean        1.141296      -4.796579       2.494541      68.825000\n",
       "std         8.965932       5.119872       1.703572      45.944423\n",
       "min       -31.609576     -26.358598      -0.018144       0.000000\n",
       "25%        -6.298551      -8.267985       1.000021      26.953261\n",
       "50%         1.153055      -4.813172       2.011479      57.085625\n",
       "75%         8.621015      -1.332816       3.999904     107.813044\n",
       "max        29.421755      18.734063       5.019721     137.945408"
      ]
     },
     "execution_count": 13,
     "metadata": {},
     "output_type": "execute_result"
    }
   ],
   "source": [
    "df_1 = df_1.drop(['id'], axis=1)\n",
    "df_1.describe()"
   ]
  },
  {
   "cell_type": "code",
   "execution_count": 14,
   "metadata": {
    "ExecuteTime": {
     "end_time": "2023-03-15T12:12:41.205991Z",
     "start_time": "2023-03-15T12:12:40.829423Z"
    }
   },
   "outputs": [
    {
     "data": {
      "image/png": "[encoded data removed]",
      "text/plain": [
       "<Figure size 800x700 with 4 Axes>"
      ]
     },
     "metadata": {},
     "output_type": "display_data"
    }
   ],
   "source": [
    "df_1.hist(color='grey',\n",
    "          bins=50,\n",
    "          figsize=(8, 7));"
   ]
  },
  {
   "cell_type": "code",
   "execution_count": 15,
   "metadata": {
    "ExecuteTime": {
     "end_time": "2023-03-15T12:12:41.329660Z",
     "start_time": "2023-03-15T12:12:41.207987Z"
    },
    "scrolled": false
   },
   "outputs": [
    {
     "data": {
      "image/png": "[encoded data removed]",
      "text/plain": [
       "<Figure size 900x700 with 2 Axes>"
      ]
     },
     "metadata": {},
     "output_type": "display_data"
    }
   ],
   "source": [
    "plt.figure(figsize=(9, 7))\n",
    "sns.heatmap(df_1.corr(),\n",
    "            xticklabels=df_1.columns,\n",
    "            yticklabels=df_1.columns,\n",
    "            cmap='RdYlGn',\n",
    "            center=0,\n",
    "            annot=True)\n",
    "plt.title('Корреляции в датасете geo_data_1.csv')\n",
    "plt.xticks(fontsize=12)\n",
    "plt.yticks(fontsize=12)\n",
    "plt.show()"
   ]
  },
  {
   "cell_type": "markdown",
   "metadata": {},
   "source": [
    "**Вывод**\n",
    "- В датасете 100000 строк, что является достаточной выборкой для регрессии\n",
    "- В столбце `product` всего 12 уникальных значений. Возможно ошибка в составлении данных(?). Есть подозрение, что при работе с регрессией, это может вызвать проблемы\n",
    "- Также гистограмма распределения `f2` говорит о дискретности данных\n",
    "- Естьсильная зависимость таргета от столбца `f2`"
   ]
  },
  {
   "cell_type": "markdown",
   "metadata": {
    "ExecuteTime": {
     "end_time": "2023-02-27T10:44:13.136631Z",
     "start_time": "2023-02-27T10:44:13.121579Z"
    }
   },
   "source": [
    "### geo_data_2.csv"
   ]
  },
  {
   "cell_type": "markdown",
   "metadata": {},
   "source": [
    "Повторяем операции из пункта 2.1:"
   ]
  },
  {
   "cell_type": "code",
   "execution_count": 16,
   "metadata": {
    "ExecuteTime": {
     "end_time": "2023-03-15T12:12:42.375159Z",
     "start_time": "2023-03-15T12:12:41.330658Z"
    }
   },
   "outputs": [],
   "source": [
    "df_2 = pd.read_csv('./datasets/geo_data_2.csv')"
   ]
  },
  {
   "cell_type": "code",
   "execution_count": 17,
   "metadata": {
    "ExecuteTime": {
     "end_time": "2023-03-15T12:12:42.406731Z",
     "start_time": "2023-03-15T12:12:42.376002Z"
    }
   },
   "outputs": [
    {
     "data": {
      "text/plain": [
       "id          99996\n",
       "f0         100000\n",
       "f1         100000\n",
       "f2         100000\n",
       "product    100000\n",
       "dtype: int64"
      ]
     },
     "execution_count": 17,
     "metadata": {},
     "output_type": "execute_result"
    }
   ],
   "source": [
    "df_2.nunique()"
   ]
  },
  {
   "cell_type": "code",
   "execution_count": 18,
   "metadata": {
    "ExecuteTime": {
     "end_time": "2023-03-15T12:12:42.437615Z",
     "start_time": "2023-03-15T12:12:42.407696Z"
    }
   },
   "outputs": [
    {
     "data": {
      "text/html": [
       "<div>\n",
       "<style scoped>\n",
       "    .dataframe tbody tr th:only-of-type {\n",
       "        vertical-align: middle;\n",
       "    }\n",
       "\n",
       "    .dataframe tbody tr th {\n",
       "        vertical-align: top;\n",
       "    }\n",
       "\n",
       "    .dataframe thead th {\n",
       "        text-align: right;\n",
       "    }\n",
       "</style>\n",
       "<table border=\"1\" class=\"dataframe\">\n",
       "  <thead>\n",
       "    <tr style=\"text-align: right;\">\n",
       "      <th></th>\n",
       "      <th>id</th>\n",
       "      <th>f0</th>\n",
       "      <th>f1</th>\n",
       "      <th>f2</th>\n",
       "      <th>product</th>\n",
       "    </tr>\n",
       "  </thead>\n",
       "  <tbody>\n",
       "    <tr>\n",
       "      <th>28039</th>\n",
       "      <td>xCHr8</td>\n",
       "      <td>1.633027</td>\n",
       "      <td>0.368135</td>\n",
       "      <td>-2.378367</td>\n",
       "      <td>6.120525</td>\n",
       "    </tr>\n",
       "    <tr>\n",
       "      <th>43233</th>\n",
       "      <td>xCHr8</td>\n",
       "      <td>-0.847066</td>\n",
       "      <td>2.101796</td>\n",
       "      <td>5.597130</td>\n",
       "      <td>184.388641</td>\n",
       "    </tr>\n",
       "    <tr>\n",
       "      <th>11449</th>\n",
       "      <td>VF7Jo</td>\n",
       "      <td>2.122656</td>\n",
       "      <td>-0.858275</td>\n",
       "      <td>5.746001</td>\n",
       "      <td>181.716817</td>\n",
       "    </tr>\n",
       "    <tr>\n",
       "      <th>49564</th>\n",
       "      <td>VF7Jo</td>\n",
       "      <td>-0.883115</td>\n",
       "      <td>0.560537</td>\n",
       "      <td>0.723601</td>\n",
       "      <td>136.233420</td>\n",
       "    </tr>\n",
       "    <tr>\n",
       "      <th>45404</th>\n",
       "      <td>KUPhW</td>\n",
       "      <td>0.231846</td>\n",
       "      <td>-1.698941</td>\n",
       "      <td>4.990775</td>\n",
       "      <td>11.716299</td>\n",
       "    </tr>\n",
       "    <tr>\n",
       "      <th>55967</th>\n",
       "      <td>KUPhW</td>\n",
       "      <td>1.211150</td>\n",
       "      <td>3.176408</td>\n",
       "      <td>5.543540</td>\n",
       "      <td>132.831802</td>\n",
       "    </tr>\n",
       "    <tr>\n",
       "      <th>44378</th>\n",
       "      <td>Vcm5J</td>\n",
       "      <td>-1.229484</td>\n",
       "      <td>-2.439204</td>\n",
       "      <td>1.222909</td>\n",
       "      <td>137.968290</td>\n",
       "    </tr>\n",
       "    <tr>\n",
       "      <th>95090</th>\n",
       "      <td>Vcm5J</td>\n",
       "      <td>2.587702</td>\n",
       "      <td>1.986875</td>\n",
       "      <td>2.482245</td>\n",
       "      <td>92.327572</td>\n",
       "    </tr>\n",
       "  </tbody>\n",
       "</table>\n",
       "</div>"
      ],
      "text/plain": [
       "          id        f0        f1        f2     product\n",
       "28039  xCHr8  1.633027  0.368135 -2.378367    6.120525\n",
       "43233  xCHr8 -0.847066  2.101796  5.597130  184.388641\n",
       "11449  VF7Jo  2.122656 -0.858275  5.746001  181.716817\n",
       "49564  VF7Jo -0.883115  0.560537  0.723601  136.233420\n",
       "45404  KUPhW  0.231846 -1.698941  4.990775   11.716299\n",
       "55967  KUPhW  1.211150  3.176408  5.543540  132.831802\n",
       "44378  Vcm5J -1.229484 -2.439204  1.222909  137.968290\n",
       "95090  Vcm5J  2.587702  1.986875  2.482245   92.327572"
      ]
     },
     "execution_count": 18,
     "metadata": {},
     "output_type": "execute_result"
    }
   ],
   "source": [
    "duplicates_2 = pd.DataFrame(columns=df_2.columns)\n",
    "for ids in df_2[df_2['id'].duplicated()]['id']:\n",
    "    duplicates_2 = pd.concat([duplicates_2] + [df_2[df_2.id == ids]])\n",
    "duplicates_2"
   ]
  },
  {
   "cell_type": "code",
   "execution_count": 19,
   "metadata": {
    "ExecuteTime": {
     "end_time": "2023-03-15T12:12:42.467568Z",
     "start_time": "2023-03-15T12:12:42.438612Z"
    }
   },
   "outputs": [
    {
     "data": {
      "text/html": [
       "<div>\n",
       "<style scoped>\n",
       "    .dataframe tbody tr th:only-of-type {\n",
       "        vertical-align: middle;\n",
       "    }\n",
       "\n",
       "    .dataframe tbody tr th {\n",
       "        vertical-align: top;\n",
       "    }\n",
       "\n",
       "    .dataframe thead th {\n",
       "        text-align: right;\n",
       "    }\n",
       "</style>\n",
       "<table border=\"1\" class=\"dataframe\">\n",
       "  <thead>\n",
       "    <tr style=\"text-align: right;\">\n",
       "      <th></th>\n",
       "      <th>f0</th>\n",
       "      <th>f1</th>\n",
       "      <th>f2</th>\n",
       "      <th>product</th>\n",
       "    </tr>\n",
       "  </thead>\n",
       "  <tbody>\n",
       "    <tr>\n",
       "      <th>count</th>\n",
       "      <td>100000.000000</td>\n",
       "      <td>100000.000000</td>\n",
       "      <td>100000.000000</td>\n",
       "      <td>100000.000000</td>\n",
       "    </tr>\n",
       "    <tr>\n",
       "      <th>mean</th>\n",
       "      <td>0.002023</td>\n",
       "      <td>-0.002081</td>\n",
       "      <td>2.495128</td>\n",
       "      <td>95.000000</td>\n",
       "    </tr>\n",
       "    <tr>\n",
       "      <th>std</th>\n",
       "      <td>1.732045</td>\n",
       "      <td>1.730417</td>\n",
       "      <td>3.473445</td>\n",
       "      <td>44.749921</td>\n",
       "    </tr>\n",
       "    <tr>\n",
       "      <th>min</th>\n",
       "      <td>-8.760004</td>\n",
       "      <td>-7.084020</td>\n",
       "      <td>-11.970335</td>\n",
       "      <td>0.000000</td>\n",
       "    </tr>\n",
       "    <tr>\n",
       "      <th>25%</th>\n",
       "      <td>-1.162288</td>\n",
       "      <td>-1.174820</td>\n",
       "      <td>0.130359</td>\n",
       "      <td>59.450441</td>\n",
       "    </tr>\n",
       "    <tr>\n",
       "      <th>50%</th>\n",
       "      <td>0.009424</td>\n",
       "      <td>-0.009482</td>\n",
       "      <td>2.484236</td>\n",
       "      <td>94.925613</td>\n",
       "    </tr>\n",
       "    <tr>\n",
       "      <th>75%</th>\n",
       "      <td>1.158535</td>\n",
       "      <td>1.163678</td>\n",
       "      <td>4.858794</td>\n",
       "      <td>130.595027</td>\n",
       "    </tr>\n",
       "    <tr>\n",
       "      <th>max</th>\n",
       "      <td>7.238262</td>\n",
       "      <td>7.844801</td>\n",
       "      <td>16.739402</td>\n",
       "      <td>190.029838</td>\n",
       "    </tr>\n",
       "  </tbody>\n",
       "</table>\n",
       "</div>"
      ],
      "text/plain": [
       "                  f0             f1             f2        product\n",
       "count  100000.000000  100000.000000  100000.000000  100000.000000\n",
       "mean        0.002023      -0.002081       2.495128      95.000000\n",
       "std         1.732045       1.730417       3.473445      44.749921\n",
       "min        -8.760004      -7.084020     -11.970335       0.000000\n",
       "25%        -1.162288      -1.174820       0.130359      59.450441\n",
       "50%         0.009424      -0.009482       2.484236      94.925613\n",
       "75%         1.158535       1.163678       4.858794     130.595027\n",
       "max         7.238262       7.844801      16.739402     190.029838"
      ]
     },
     "execution_count": 19,
     "metadata": {},
     "output_type": "execute_result"
    }
   ],
   "source": [
    "df_2 = df_2.drop(['id'], axis=1)\n",
    "df_2.describe()"
   ]
  },
  {
   "cell_type": "code",
   "execution_count": 20,
   "metadata": {
    "ExecuteTime": {
     "end_time": "2023-03-15T12:12:42.831728Z",
     "start_time": "2023-03-15T12:12:42.468532Z"
    }
   },
   "outputs": [
    {
     "data": {
      "image/png": "[encoded data removed]",
      "text/plain": [
       "<Figure size 800x700 with 4 Axes>"
      ]
     },
     "metadata": {},
     "output_type": "display_data"
    }
   ],
   "source": [
    "df_2.hist(color='grey',\n",
    "          bins=50,\n",
    "          figsize=(8, 7));"
   ]
  },
  {
   "cell_type": "code",
   "execution_count": 21,
   "metadata": {
    "ExecuteTime": {
     "end_time": "2023-03-15T12:12:42.989728Z",
     "start_time": "2023-03-15T12:12:42.833556Z"
    }
   },
   "outputs": [
    {
     "data": {
      "image/png": "[encoded data removed]",
      "text/plain": [
       "<Figure size 900x700 with 2 Axes>"
      ]
     },
     "metadata": {},
     "output_type": "display_data"
    }
   ],
   "source": [
    "plt.figure(figsize=(9, 7))\n",
    "sns.heatmap(df_2.corr(),\n",
    "            xticklabels=df_2.columns,\n",
    "            yticklabels=df_2.columns,\n",
    "            cmap='RdYlGn',\n",
    "            center=0,\n",
    "            annot=True)\n",
    "plt.title('Корреляции в датасете geo_data_1.csv')\n",
    "plt.xticks(fontsize=12)\n",
    "plt.yticks(fontsize=12)\n",
    "plt.show()"
   ]
  },
  {
   "cell_type": "markdown",
   "metadata": {
    "ExecuteTime": {
     "end_time": "2023-02-27T11:14:30.775144Z",
     "start_time": "2023-02-27T11:14:30.756195Z"
    }
   },
   "source": [
    "**Вывод**\n",
    "- В датасете 100000 строк, что является достаточной выборкой для регрессии\n",
    "- Столбцы `f0`, `f1`, `f2` и `product` распределены преимущественно нормально\n",
    "- Коээффициент корреляции говорит о сильной связи между таргетом `product` с `f2`"
   ]
  },
  {
   "cell_type": "markdown",
   "metadata": {
    "ExecuteTime": {
     "end_time": "2023-02-27T11:18:10.842052Z",
     "start_time": "2023-02-27T11:18:10.829652Z"
    }
   },
   "source": [
    "### Общие выводы по датасетам"
   ]
  },
  {
   "cell_type": "markdown",
   "metadata": {
    "ExecuteTime": {
     "end_time": "2023-02-27T11:19:50.694753Z",
     "start_time": "2023-02-27T11:19:50.676802Z"
    }
   },
   "source": [
    "- Наличие аномалий нельзя определить по причине закрытости исходников\n",
    "- Пропусков в данных нет"
   ]
  },
  {
   "cell_type": "code",
   "execution_count": 49,
   "metadata": {
    "ExecuteTime": {
     "end_time": "2023-03-15T12:13:46.783834Z",
     "start_time": "2023-03-15T12:13:46.769997Z"
    }
   },
   "outputs": [
    {
     "data": {
      "text/html": [
       "<div>\n",
       "<style scoped>\n",
       "    .dataframe tbody tr th:only-of-type {\n",
       "        vertical-align: middle;\n",
       "    }\n",
       "\n",
       "    .dataframe tbody tr th {\n",
       "        vertical-align: top;\n",
       "    }\n",
       "\n",
       "    .dataframe thead th {\n",
       "        text-align: right;\n",
       "    }\n",
       "</style>\n",
       "<table border=\"1\" class=\"dataframe\">\n",
       "  <thead>\n",
       "    <tr style=\"text-align: right;\">\n",
       "      <th></th>\n",
       "      <th>f0</th>\n",
       "      <th>f1</th>\n",
       "      <th>f2</th>\n",
       "      <th>product</th>\n",
       "    </tr>\n",
       "  </thead>\n",
       "  <tbody>\n",
       "    <tr>\n",
       "      <th>0</th>\n",
       "      <td>0.705745</td>\n",
       "      <td>-0.497823</td>\n",
       "      <td>1.221170</td>\n",
       "      <td>105.280062</td>\n",
       "    </tr>\n",
       "    <tr>\n",
       "      <th>1</th>\n",
       "      <td>1.334711</td>\n",
       "      <td>-0.340164</td>\n",
       "      <td>4.365080</td>\n",
       "      <td>73.037750</td>\n",
       "    </tr>\n",
       "    <tr>\n",
       "      <th>2</th>\n",
       "      <td>1.022732</td>\n",
       "      <td>0.151990</td>\n",
       "      <td>1.419926</td>\n",
       "      <td>85.265647</td>\n",
       "    </tr>\n",
       "    <tr>\n",
       "      <th>3</th>\n",
       "      <td>-0.032172</td>\n",
       "      <td>0.139033</td>\n",
       "      <td>2.978566</td>\n",
       "      <td>168.620776</td>\n",
       "    </tr>\n",
       "    <tr>\n",
       "      <th>4</th>\n",
       "      <td>1.988431</td>\n",
       "      <td>0.155413</td>\n",
       "      <td>4.751769</td>\n",
       "      <td>154.036647</td>\n",
       "    </tr>\n",
       "    <tr>\n",
       "      <th>...</th>\n",
       "      <td>...</td>\n",
       "      <td>...</td>\n",
       "      <td>...</td>\n",
       "      <td>...</td>\n",
       "    </tr>\n",
       "    <tr>\n",
       "      <th>99995</th>\n",
       "      <td>0.971957</td>\n",
       "      <td>0.370953</td>\n",
       "      <td>6.075346</td>\n",
       "      <td>110.744026</td>\n",
       "    </tr>\n",
       "    <tr>\n",
       "      <th>99996</th>\n",
       "      <td>1.392429</td>\n",
       "      <td>-0.382606</td>\n",
       "      <td>1.273912</td>\n",
       "      <td>122.346843</td>\n",
       "    </tr>\n",
       "    <tr>\n",
       "      <th>99997</th>\n",
       "      <td>1.029585</td>\n",
       "      <td>0.018787</td>\n",
       "      <td>-1.348308</td>\n",
       "      <td>64.375443</td>\n",
       "    </tr>\n",
       "    <tr>\n",
       "      <th>99998</th>\n",
       "      <td>0.998163</td>\n",
       "      <td>-0.528582</td>\n",
       "      <td>1.583869</td>\n",
       "      <td>74.040764</td>\n",
       "    </tr>\n",
       "    <tr>\n",
       "      <th>99999</th>\n",
       "      <td>1.764754</td>\n",
       "      <td>-0.266417</td>\n",
       "      <td>5.722849</td>\n",
       "      <td>149.633246</td>\n",
       "    </tr>\n",
       "  </tbody>\n",
       "</table>\n",
       "<p>100000 rows × 4 columns</p>\n",
       "</div>"
      ],
      "text/plain": [
       "             f0        f1        f2     product\n",
       "0      0.705745 -0.497823  1.221170  105.280062\n",
       "1      1.334711 -0.340164  4.365080   73.037750\n",
       "2      1.022732  0.151990  1.419926   85.265647\n",
       "3     -0.032172  0.139033  2.978566  168.620776\n",
       "4      1.988431  0.155413  4.751769  154.036647\n",
       "...         ...       ...       ...         ...\n",
       "99995  0.971957  0.370953  6.075346  110.744026\n",
       "99996  1.392429 -0.382606  1.273912  122.346843\n",
       "99997  1.029585  0.018787 -1.348308   64.375443\n",
       "99998  0.998163 -0.528582  1.583869   74.040764\n",
       "99999  1.764754 -0.266417  5.722849  149.633246\n",
       "\n",
       "[100000 rows x 4 columns]"
      ]
     },
     "execution_count": 49,
     "metadata": {},
     "output_type": "execute_result"
    }
   ],
   "source": [
    "[globals()['df_'+str(i)] for i in range(3)][0]"
   ]
  },
  {
   "cell_type": "markdown",
   "metadata": {},
   "source": [
    "## Обучение и проверка модели"
   ]
  },
  {
   "cell_type": "markdown",
   "metadata": {
    "ExecuteTime": {
     "end_time": "2023-02-27T11:22:13.114367Z",
     "start_time": "2023-02-27T11:22:13.109528Z"
    }
   },
   "source": [
    "Обучим и проверим модель для каждого региона:\n",
    "- Разобьем данные на обучающую и валидационную выборки в соотношении 75:25.\n",
    "- Обучим модель и сделаем предсказания на валидационной выборке.\n",
    "- Сохраним предсказания и правильные ответы на валидационной выборке.\n",
    "- Напечатаем на экране средний запас предсказанного сырья и RMSE модели.\n",
    "- Проанализируем результаты."
   ]
  },
  {
   "cell_type": "markdown",
   "metadata": {
    "ExecuteTime": {
     "end_time": "2023-02-27T11:24:06.692231Z",
     "start_time": "2023-02-27T11:24:06.675275Z"
    }
   },
   "source": [
    "### Разбиение выборок на train/valid и обучение модели"
   ]
  },
  {
   "cell_type": "markdown",
   "metadata": {
    "ExecuteTime": {
     "end_time": "2023-02-27T11:25:34.899109Z",
     "start_time": "2023-02-27T11:25:34.882174Z"
    }
   },
   "source": [
    "Все операции, используюшие генератор случайных чисел зафиксируем в random_state=12345."
   ]
  },
  {
   "cell_type": "markdown",
   "metadata": {
    "ExecuteTime": {
     "end_time": "2023-02-27T11:44:29.945390Z",
     "start_time": "2023-02-27T11:44:29.937605Z"
    }
   },
   "source": [
    "Создаем функцию, которая посчитает предсказанный средний запас сырья для каждого из регионов:"
   ]
  },
  {
   "cell_type": "code",
   "execution_count": 23,
   "metadata": {
    "ExecuteTime": {
     "end_time": "2023-03-15T12:12:43.052915Z",
     "start_time": "2023-03-15T12:12:43.037955Z"
    }
   },
   "outputs": [],
   "source": [
    "def predict_reserves(df, test_size, random_state):\n",
    "    # выделяем features и target\n",
    "    features = df.drop('product', axis=1)\n",
    "    target = df['product']\n",
    "    # делим на валидационную и обучающую\n",
    "    features_train, features_valid, target_train, target_valid = train_test_split(features, target,\n",
    "                                                                                  test_size=test_size,\n",
    "                                                                                  random_state=random_state)\n",
    "    # модель линейной регрессии\n",
    "    model = LinearRegression(n_jobs=-1)\n",
    "    model.fit(features_train, target_train)\n",
    "    predictions = model.predict(features_valid)\n",
    "    # проверка метрики RMSE\n",
    "    rmse = mean_squared_error(target_valid, predictions)**0.5\n",
    "    score = model.score(features_valid, target_valid)\n",
    "    # возвращаем предсказанные средние запасы сырья\n",
    "    return target_valid, predictions, score, rmse"
   ]
  },
  {
   "cell_type": "markdown",
   "metadata": {
    "ExecuteTime": {
     "end_time": "2023-02-27T12:20:46.858086Z",
     "start_time": "2023-02-27T12:20:46.852719Z"
    }
   },
   "source": [
    "### Моделирование для трех регионов и сводная таблица результатов"
   ]
  },
  {
   "cell_type": "markdown",
   "metadata": {},
   "source": [
    "Вычислим предсказания и метрики для трех регионов:"
   ]
  },
  {
   "cell_type": "code",
   "execution_count": 24,
   "metadata": {
    "ExecuteTime": {
     "end_time": "2023-03-15T12:12:43.099790Z",
     "start_time": "2023-03-15T12:12:43.053912Z"
    }
   },
   "outputs": [],
   "source": [
    "df_0_target_valid, df_0_predictions, df_0_score, df_0_rmse =\\\n",
    "    predict_reserves(df_0, test_size=0.25, random_state=12345)\n",
    "\n",
    "df_1_target_valid, df_1_predictions, df_1_score, df_1_rmse =\\\n",
    "    predict_reserves(df_1, test_size=0.25, random_state=12345)\n",
    "\n",
    "df_2_target_valid, df_2_predictions, df_2_score, df_2_rmse =\\\n",
    "    predict_reserves(df_2, test_size=0.25, random_state=12345)"
   ]
  },
  {
   "cell_type": "markdown",
   "metadata": {},
   "source": [
    "Необходимо сохранить на будущее `target_valid`, сбросив индексы и `predictions` в форме pd.Series:"
   ]
  },
  {
   "cell_type": "code",
   "execution_count": 25,
   "metadata": {
    "ExecuteTime": {
     "end_time": "2023-03-15T12:12:43.115746Z",
     "start_time": "2023-03-15T12:12:43.100786Z"
    }
   },
   "outputs": [],
   "source": [
    "df_0_predictions = pd.Series(df_0_predictions)\n",
    "df_1_predictions = pd.Series(df_1_predictions)\n",
    "df_2_predictions = pd.Series(df_2_predictions)\n",
    "df_0_target_valid = df_0_target_valid.reset_index(drop=True)\n",
    "df_1_target_valid = df_1_target_valid.reset_index(drop=True)\n",
    "df_2_target_valid = df_2_target_valid.reset_index(drop=True)"
   ]
  },
  {
   "cell_type": "markdown",
   "metadata": {
    "ExecuteTime": {
     "end_time": "2023-02-27T12:09:13.190505Z",
     "start_time": "2023-02-27T12:09:13.187763Z"
    }
   },
   "source": [
    "Посчитаем средние предсказанные и фактические запасы сырья:"
   ]
  },
  {
   "cell_type": "code",
   "execution_count": 26,
   "metadata": {
    "ExecuteTime": {
     "end_time": "2023-03-15T12:12:43.131703Z",
     "start_time": "2023-03-15T12:12:43.117741Z"
    }
   },
   "outputs": [],
   "source": [
    "df_0_reserves_pred = df_0_predictions.mean()\n",
    "df_1_reserves_pred = df_1_predictions.mean()\n",
    "df_2_reserves_pred = df_2_predictions.mean()\n",
    "df_0_reserves_target = df_0_target_valid.mean()\n",
    "df_1_reserves_target = df_1_target_valid.mean()\n",
    "df_2_reserves_target = df_2_target_valid.mean()"
   ]
  },
  {
   "cell_type": "markdown",
   "metadata": {},
   "source": [
    "Сводная таблица:"
   ]
  },
  {
   "cell_type": "code",
   "execution_count": 27,
   "metadata": {
    "ExecuteTime": {
     "end_time": "2023-03-15T12:12:43.147660Z",
     "start_time": "2023-03-15T12:12:43.132701Z"
    }
   },
   "outputs": [
    {
     "data": {
      "text/html": [
       "<div>\n",
       "<style scoped>\n",
       "    .dataframe tbody tr th:only-of-type {\n",
       "        vertical-align: middle;\n",
       "    }\n",
       "\n",
       "    .dataframe tbody tr th {\n",
       "        vertical-align: top;\n",
       "    }\n",
       "\n",
       "    .dataframe thead th {\n",
       "        text-align: right;\n",
       "    }\n",
       "</style>\n",
       "<table border=\"1\" class=\"dataframe\">\n",
       "  <thead>\n",
       "    <tr style=\"text-align: right;\">\n",
       "      <th></th>\n",
       "      <th>region 0</th>\n",
       "      <th>region 1</th>\n",
       "      <th>region 2</th>\n",
       "    </tr>\n",
       "  </thead>\n",
       "  <tbody>\n",
       "    <tr>\n",
       "      <th>predicted_mean</th>\n",
       "      <td>92.592568</td>\n",
       "      <td>68.728547</td>\n",
       "      <td>94.965046</td>\n",
       "    </tr>\n",
       "    <tr>\n",
       "      <th>target_mean</th>\n",
       "      <td>92.078597</td>\n",
       "      <td>68.723136</td>\n",
       "      <td>94.884233</td>\n",
       "    </tr>\n",
       "    <tr>\n",
       "      <th>score</th>\n",
       "      <td>0.279943</td>\n",
       "      <td>0.999623</td>\n",
       "      <td>0.205248</td>\n",
       "    </tr>\n",
       "    <tr>\n",
       "      <th>rmse</th>\n",
       "      <td>37.579422</td>\n",
       "      <td>0.893099</td>\n",
       "      <td>40.029709</td>\n",
       "    </tr>\n",
       "  </tbody>\n",
       "</table>\n",
       "</div>"
      ],
      "text/plain": [
       "                 region 0   region 1   region 2\n",
       "predicted_mean  92.592568  68.728547  94.965046\n",
       "target_mean     92.078597  68.723136  94.884233\n",
       "score            0.279943   0.999623   0.205248\n",
       "rmse            37.579422   0.893099  40.029709"
      ]
     },
     "execution_count": 27,
     "metadata": {},
     "output_type": "execute_result"
    }
   ],
   "source": [
    "reserves = pd.DataFrame({'region 0': [df_0_reserves_pred, df_0_reserves_target, df_0_score, df_0_rmse],\n",
    "                        'region 1': [df_1_reserves_pred, df_1_reserves_target, df_1_score, df_1_rmse],\n",
    "                         'region 2': [df_2_reserves_pred, df_2_reserves_target, df_2_score, df_2_rmse]},\n",
    "                        index=['predicted_mean', 'target_mean', 'score', 'rmse'])\n",
    "reserves"
   ]
  },
  {
   "cell_type": "markdown",
   "metadata": {},
   "source": [
    "**Вывод**\n",
    "- Предварительно лучшая модель по `RMSE` - для региона 1 (что явно связано с фактически категориальным таргетом)\n",
    "- Средние фактические запасы и средние предсказанные запасы практически совпадают, что может качественно говорить о хорошем качестве модели"
   ]
  },
  {
   "cell_type": "markdown",
   "metadata": {},
   "source": [
    "## Подготовка к расчёту прибыли"
   ]
  },
  {
   "cell_type": "markdown",
   "metadata": {},
   "source": [
    "Подготовимся к расчёту прибыли:\n",
    "- Все ключевые значения для расчётов сохраним в отдельных переменных\n",
    "- Рассчитаем достаточный объём сырья для безубыточной разработки новой скважины. Сравним полученный объём сырья со средним запасом в каждом регионе\n",
    "- Создадим фнукцию для вычисления прибыли"
   ]
  },
  {
   "cell_type": "markdown",
   "metadata": {},
   "source": [
    "Создаем параметры по условиям задачи:"
   ]
  },
  {
   "cell_type": "code",
   "execution_count": 28,
   "metadata": {
    "ExecuteTime": {
     "end_time": "2023-03-15T12:12:43.163619Z",
     "start_time": "2023-03-15T12:12:43.151650Z"
    }
   },
   "outputs": [],
   "source": [
    "budget = 10_000_000_000\n",
    "# цены будем смотреть за  1 тыс. баррелей, как в датасете\n",
    "barrel_price = 450_000\n",
    "# всего точек исследования\n",
    "total_boreholes = 500\n",
    "# фактически буримых скважин\n",
    "fact_boreholes = 200\n",
    "# допустимая вероятность риска\n",
    "risk_treshold = 0.025*100"
   ]
  },
  {
   "cell_type": "markdown",
   "metadata": {
    "ExecuteTime": {
     "end_time": "2023-02-27T12:30:16.498448Z",
     "start_time": "2023-02-27T12:30:16.485188Z"
    }
   },
   "source": [
    "Посчитает цену бурения одной скважины:"
   ]
  },
  {
   "cell_type": "code",
   "execution_count": 29,
   "metadata": {
    "ExecuteTime": {
     "end_time": "2023-03-15T12:12:43.179577Z",
     "start_time": "2023-03-15T12:12:43.164617Z"
    }
   },
   "outputs": [
    {
     "name": "stdout",
     "output_type": "stream",
     "text": [
      "Цена бурения одной скважины в млн рублей: 50.0\n"
     ]
    }
   ],
   "source": [
    "borehole_price = budget / fact_boreholes\n",
    "print(f'Цена бурения одной скважины в млн рублей: {borehole_price/1_000_000}')"
   ]
  },
  {
   "cell_type": "markdown",
   "metadata": {},
   "source": [
    "Посчитаем необходимый уровень добычи с одной скважины для окупаемости:"
   ]
  },
  {
   "cell_type": "code",
   "execution_count": 30,
   "metadata": {
    "ExecuteTime": {
     "end_time": "2023-03-15T12:12:43.195532Z",
     "start_time": "2023-03-15T12:12:43.180574Z"
    }
   },
   "outputs": [
    {
     "name": "stdout",
     "output_type": "stream",
     "text": [
      "Минимальный дебит скважины: 111.1 тысяч баррелей\n"
     ]
    }
   ],
   "source": [
    "borehole_oil_minimum = borehole_price / barrel_price\n",
    "print('Минимальный дебит скважины: {:.4}'.format(\n",
    "    borehole_oil_minimum), 'тысяч баррелей')"
   ]
  },
  {
   "cell_type": "markdown",
   "metadata": {
    "ExecuteTime": {
     "end_time": "2023-02-27T12:34:47.057124Z",
     "start_time": "2023-02-27T12:34:47.041536Z"
    }
   },
   "source": [
    "**Вывод**\n",
    "- В среднем, каждая скважина должна приносить 111 тысяч баррелей нефти для окупаемости строительства\n",
    "- Судя по таблице из пункта 3.2 ни один из регионов не является прибыльным"
   ]
  },
  {
   "cell_type": "markdown",
   "metadata": {},
   "source": [
    "## Расчёт прибыли и рисков "
   ]
  },
  {
   "cell_type": "markdown",
   "metadata": {},
   "source": [
    "Посчитаем риски и прибыль для каждого региона:\n",
    "- Применим технику Bootstrap с 1000 выборок, чтобы найти распределение прибыли.\n",
    "- Найдем среднюю прибыль, 95%-й доверительный интервал и риск убытков. Убыток — это отрицательная прибыль.\n",
    "- Предложим регион для разработки скважин и обоснуем выбор."
   ]
  },
  {
   "cell_type": "markdown",
   "metadata": {},
   "source": [
    "Создадим функцию для рассчета прибыли по предсказаниям с переводом в млрд. руб.:"
   ]
  },
  {
   "cell_type": "code",
   "execution_count": 31,
   "metadata": {
    "ExecuteTime": {
     "end_time": "2023-03-15T12:12:43.211490Z",
     "start_time": "2023-03-15T12:12:43.196530Z"
    }
   },
   "outputs": [],
   "source": [
    "def profit(target, predictions, count):\n",
    "\n",
    "    predictions_sorted = predictions.sort_values(ascending=False)\n",
    "    selected = target[predictions_sorted.index][:count]\n",
    "\n",
    "    # КОД РЕВЬЮЕРА, debug\n",
    "    if target[predictions_sorted.index].shape[0] > predictions_sorted.index.shape[0]:\n",
    "        print(\"Shape mismatch! Actual targets shape:\",\n",
    "              target[predictions_sorted.index].shape)\n",
    "\n",
    "    return (barrel_price * selected.sum() - budget)/1_000_000_000"
   ]
  },
  {
   "cell_type": "markdown",
   "metadata": {},
   "source": [
    "Посчитаем прибыль в каждом регионе:"
   ]
  },
  {
   "cell_type": "code",
   "execution_count": 33,
   "metadata": {
    "ExecuteTime": {
     "end_time": "2023-03-15T12:12:43.259362Z",
     "start_time": "2023-03-15T12:12:43.228445Z"
    },
    "scrolled": false
   },
   "outputs": [
    {
     "name": "stdout",
     "output_type": "stream",
     "text": [
      "Прибыль в регионе 0 - 3.3208260431398506 млрд. рублей\n",
      "Прибыль в регионе 1 - 2.4150866966815108 млрд. рублей\n",
      "Прибыль в регионе 2 - 2.7103499635998327 млрд. рублей\n"
     ]
    }
   ],
   "source": [
    "print(\n",
    "    f'Прибыль в регионе 0 - {profit(df_0_target_valid, df_0_predictions, 200)} млрд. рублей')\n",
    "print(\n",
    "    f'Прибыль в регионе 1 - {profit(df_1_target_valid, df_1_predictions, 200)} млрд. рублей')\n",
    "print(\n",
    "    f'Прибыль в регионе 2 - {profit(df_2_target_valid, df_2_predictions, 200)} млрд. рублей')"
   ]
  },
  {
   "cell_type": "markdown",
   "metadata": {},
   "source": [
    "**Вывод**"
   ]
  },
  {
   "cell_type": "markdown",
   "metadata": {},
   "source": [
    "- Для лучших 200 имеющихся скважин наибольшая прибыль в регионе 0, далее идет регион 2\n",
    "- Если допустить, что мы рассматриваем примерно одинаковые месторождения с *близкими* запасами, то логично предположить, что в регионе 1, где фактическая прибыль самая низкая, будет **проще** найти точки, где можно бурить и бурить профитно.\n",
    "- То же самое можно сказать о разведанных запасах. В регионах 0 и 2 - в среднем в полтора раза выше сырья фактически получено"
   ]
  },
  {
   "cell_type": "markdown",
   "metadata": {
    "ExecuteTime": {
     "end_time": "2023-02-27T14:06:21.079026Z",
     "start_time": "2023-02-27T14:06:21.063629Z"
    }
   },
   "source": [
    "### Риски в регионе 0"
   ]
  },
  {
   "cell_type": "markdown",
   "metadata": {},
   "source": [
    "Оформим пайплайн бутстрепа через функцию:"
   ]
  },
  {
   "cell_type": "code",
   "execution_count": 34,
   "metadata": {
    "ExecuteTime": {
     "end_time": "2023-03-15T12:12:43.275319Z",
     "start_time": "2023-03-15T12:12:43.260360Z"
    },
    "scrolled": true
   },
   "outputs": [],
   "source": [
    "# фиксируем псевдорандом seed\n",
    "state = np.random.RandomState(12345)\n",
    "\n",
    "\n",
    "def bootstrap_analysis(target, predictions):\n",
    "    values = []\n",
    "    for i in range(1, 1000):\n",
    "        target_subsample = target.sample(n=500,\n",
    "                                         replace=True,\n",
    "                                         random_state=state)\n",
    "\n",
    "        predictions_subsample = predictions.loc[target_subsample.index]\n",
    "\n",
    "        target_subsample.reset_index(inplace=True, drop=True)\n",
    "        predictions_subsample.reset_index(inplace=True, drop=True)\n",
    "\n",
    "        values.append(profit(target_subsample, predictions_subsample, 200))\n",
    "    values = pd.Series(values)\n",
    "    lower = values.quantile(0.025)\n",
    "    upper = values.quantile(0.975)\n",
    "    mean = values.mean()\n",
    "    lose = (values < 0).mean()*100\n",
    "\n",
    "    print(\"Средняя выручка в млрд. руб:\", mean)\n",
    "    print(f'95% доверительный интервал для прибыли: [{lower} : {upper}]')\n",
    "    print(f'Вероятность убытка {lose}%')\n",
    "    if lose < risk_treshold:\n",
    "        print('Вероятность убытка ниже требуемого риска')\n",
    "    else:\n",
    "        print('Вероятность убытка превышает желаемую')\n",
    "    return lower, upper, mean, lose, values"
   ]
  },
  {
   "cell_type": "code",
   "execution_count": 35,
   "metadata": {
    "ExecuteTime": {
     "end_time": "2023-03-15T12:12:43.989767Z",
     "start_time": "2023-03-15T12:12:43.276317Z"
    },
    "scrolled": false
   },
   "outputs": [
    {
     "name": "stdout",
     "output_type": "stream",
     "text": [
      "Средняя выручка в млрд. руб: 0.39634160804678525\n",
      "95% доверительный интервал для прибыли: [-0.11122975949053564 : 0.9099511770573779]\n",
      "Вероятность убытка 6.906906906906906%\n",
      "Вероятность убытка превышает желаемую\n"
     ]
    }
   ],
   "source": [
    "lower_0, upper_0, mean_0, lose_0, values_0  = bootstrap_analysis(\n",
    "    df_0_target_valid, df_0_predictions)"
   ]
  },
  {
   "cell_type": "markdown",
   "metadata": {
    "ExecuteTime": {
     "end_time": "2023-02-27T14:06:21.079026Z",
     "start_time": "2023-02-27T14:06:21.063629Z"
    }
   },
   "source": [
    "### Риски в регионе 1"
   ]
  },
  {
   "cell_type": "code",
   "execution_count": 36,
   "metadata": {
    "ExecuteTime": {
     "end_time": "2023-03-15T12:12:44.688903Z",
     "start_time": "2023-03-15T12:12:43.990765Z"
    }
   },
   "outputs": [
    {
     "name": "stdout",
     "output_type": "stream",
     "text": [
      "Средняя выручка в млрд. руб: 0.4604758053668288\n",
      "95% доверительный интервал для прибыли: [0.07792485608961355 : 0.8615929939094022]\n",
      "Вероятность убытка 0.7007007007007007%\n",
      "Вероятность убытка ниже требуемого риска\n"
     ]
    }
   ],
   "source": [
    "lower_1, upper_1, mean_1, lose_1, values_1 = bootstrap_analysis(\n",
    "    df_1_target_valid, df_1_predictions)"
   ]
  },
  {
   "cell_type": "markdown",
   "metadata": {
    "ExecuteTime": {
     "end_time": "2023-02-27T14:06:21.079026Z",
     "start_time": "2023-02-27T14:06:21.063629Z"
    }
   },
   "source": [
    "### Риски в регионе 2"
   ]
  },
  {
   "cell_type": "code",
   "execution_count": 37,
   "metadata": {
    "ExecuteTime": {
     "end_time": "2023-03-15T12:12:45.370390Z",
     "start_time": "2023-03-15T12:12:44.689901Z"
    }
   },
   "outputs": [
    {
     "name": "stdout",
     "output_type": "stream",
     "text": [
      "Средняя выручка в млрд. руб: 0.3934612734379758\n",
      "95% доверительный интервал для прибыли: [-0.11226387313844174 : 0.934835515258144]\n",
      "Вероятность убытка 6.406406406406406%\n",
      "Вероятность убытка превышает желаемую\n"
     ]
    }
   ],
   "source": [
    "lower_2, upper_2, mean_2, lose_2, values_2 = bootstrap_analysis(\n",
    "    df_2_target_valid, df_2_predictions)"
   ]
  },
  {
   "cell_type": "code",
   "execution_count": 38,
   "metadata": {
    "ExecuteTime": {
     "end_time": "2023-03-15T12:12:45.385549Z",
     "start_time": "2023-03-15T12:12:45.371386Z"
    }
   },
   "outputs": [
    {
     "data": {
      "text/plain": [
       "0.39634160804678525"
      ]
     },
     "execution_count": 38,
     "metadata": {},
     "output_type": "execute_result"
    }
   ],
   "source": [
    "values_0.mean()"
   ]
  },
  {
   "cell_type": "code",
   "execution_count": 39,
   "metadata": {
    "ExecuteTime": {
     "end_time": "2023-03-15T12:12:45.401506Z",
     "start_time": "2023-03-15T12:12:45.386546Z"
    }
   },
   "outputs": [
    {
     "data": {
      "text/plain": [
       "0.4604758053668288"
      ]
     },
     "execution_count": 39,
     "metadata": {},
     "output_type": "execute_result"
    }
   ],
   "source": [
    "values_1.mean()"
   ]
  },
  {
   "cell_type": "code",
   "execution_count": 40,
   "metadata": {
    "ExecuteTime": {
     "end_time": "2023-03-15T12:12:45.416467Z",
     "start_time": "2023-03-15T12:12:45.402504Z"
    }
   },
   "outputs": [
    {
     "data": {
      "text/plain": [
       "0.3934612734379758"
      ]
     },
     "execution_count": 40,
     "metadata": {},
     "output_type": "execute_result"
    }
   ],
   "source": [
    "values_2.mean()"
   ]
  },
  {
   "cell_type": "markdown",
   "metadata": {
    "ExecuteTime": {
     "end_time": "2023-02-27T14:10:15.670597Z",
     "start_time": "2023-02-27T14:10:15.654442Z"
    }
   },
   "source": [
    "### Сводная таблица рисков"
   ]
  },
  {
   "cell_type": "code",
   "execution_count": 41,
   "metadata": {
    "ExecuteTime": {
     "end_time": "2023-03-15T12:12:45.432423Z",
     "start_time": "2023-03-15T12:12:45.417464Z"
    },
    "scrolled": true
   },
   "outputs": [
    {
     "data": {
      "text/html": [
       "<div>\n",
       "<style scoped>\n",
       "    .dataframe tbody tr th:only-of-type {\n",
       "        vertical-align: middle;\n",
       "    }\n",
       "\n",
       "    .dataframe tbody tr th {\n",
       "        vertical-align: top;\n",
       "    }\n",
       "\n",
       "    .dataframe thead th {\n",
       "        text-align: right;\n",
       "    }\n",
       "</style>\n",
       "<table border=\"1\" class=\"dataframe\">\n",
       "  <thead>\n",
       "    <tr style=\"text-align: right;\">\n",
       "      <th></th>\n",
       "      <th>регион 0</th>\n",
       "      <th>регион 1</th>\n",
       "      <th>регион 2</th>\n",
       "    </tr>\n",
       "  </thead>\n",
       "  <tbody>\n",
       "    <tr>\n",
       "      <th>Q2.5%</th>\n",
       "      <td>-0.111230</td>\n",
       "      <td>0.077925</td>\n",
       "      <td>-0.112264</td>\n",
       "    </tr>\n",
       "    <tr>\n",
       "      <th>Q97.5%</th>\n",
       "      <td>0.909951</td>\n",
       "      <td>0.861593</td>\n",
       "      <td>0.934836</td>\n",
       "    </tr>\n",
       "    <tr>\n",
       "      <th>mean_profit</th>\n",
       "      <td>0.396342</td>\n",
       "      <td>0.460476</td>\n",
       "      <td>0.393461</td>\n",
       "    </tr>\n",
       "    <tr>\n",
       "      <th>risk</th>\n",
       "      <td>6.906907</td>\n",
       "      <td>0.700701</td>\n",
       "      <td>6.406406</td>\n",
       "    </tr>\n",
       "  </tbody>\n",
       "</table>\n",
       "</div>"
      ],
      "text/plain": [
       "             регион 0  регион 1  регион 2\n",
       "Q2.5%       -0.111230  0.077925 -0.112264\n",
       "Q97.5%       0.909951  0.861593  0.934836\n",
       "mean_profit  0.396342  0.460476  0.393461\n",
       "risk         6.906907  0.700701  6.406406"
      ]
     },
     "execution_count": 41,
     "metadata": {},
     "output_type": "execute_result"
    }
   ],
   "source": [
    "results = pd.DataFrame({'регион 0': [lower_0, upper_0, mean_0, lose_0],\n",
    "                        'регион 1': [lower_1, upper_1, mean_1, lose_1],\n",
    "                        'регион 2': [lower_2, upper_2, mean_2, lose_2]},\n",
    "                       index=['Q2.5%', 'Q97.5%', 'mean_profit', 'risk'])\n",
    "results"
   ]
  },
  {
   "cell_type": "code",
   "execution_count": 42,
   "metadata": {
    "ExecuteTime": {
     "end_time": "2023-03-15T12:12:45.448423Z",
     "start_time": "2023-03-15T12:12:45.433422Z"
    }
   },
   "outputs": [],
   "source": [
    "values_regions = pd.DataFrame({'регион 0': values_0,\n",
    "                               'регион 1': values_1,\n",
    "                                'регион 2': values_2})"
   ]
  },
  {
   "cell_type": "code",
   "execution_count": 43,
   "metadata": {
    "ExecuteTime": {
     "end_time": "2023-03-15T12:12:45.590433Z",
     "start_time": "2023-03-15T12:12:45.449421Z"
    }
   },
   "outputs": [
    {
     "data": {
      "text/plain": [
       "<AxesSubplot:>"
      ]
     },
     "execution_count": 43,
     "metadata": {},
     "output_type": "execute_result"
    },
    {
     "data": {
      "image/png": "[encoded data removed]",
      "text/plain": [
       "<Figure size 640x480 with 1 Axes>"
      ]
     },
     "metadata": {},
     "output_type": "display_data"
    }
   ],
   "source": [
    "values_regions.plot()"
   ]
  },
  {
   "cell_type": "code",
   "execution_count": 44,
   "metadata": {
    "ExecuteTime": {
     "end_time": "2023-03-15T12:12:45.699026Z",
     "start_time": "2023-03-15T12:12:45.591429Z"
    },
    "scrolled": false
   },
   "outputs": [
    {
     "data": {
      "text/plain": [
       "<AxesSubplot:>"
      ]
     },
     "execution_count": 44,
     "metadata": {},
     "output_type": "execute_result"
    },
    {
     "data": {
      "image/png": "[encoded data removed]",
      "text/plain": [
       "<Figure size 640x480 with 1 Axes>"
      ]
     },
     "metadata": {},
     "output_type": "display_data"
    }
   ],
   "source": [
    "results.plot(kind='bar', grid='show')"
   ]
  },
  {
   "cell_type": "markdown",
   "metadata": {
    "ExecuteTime": {
     "end_time": "2023-02-27T14:20:20.877633Z",
     "start_time": "2023-02-27T14:20:20.866572Z"
    }
   },
   "source": [
    "### Общие выводы"
   ]
  },
  {
   "cell_type": "markdown",
   "metadata": {
    "ExecuteTime": {
     "end_time": "2023-02-27T14:21:46.858446Z",
     "start_time": "2023-02-27T14:21:46.852462Z"
    }
   },
   "source": [
    "- Наиболее перспективным регионом (если верить данным), является регион с индексом 1\n",
    "- Риск убытка в регионе `1` составляет 0.3%, а средняя прибыль 0.515223 млрд.руб.\n",
    "- Целевой признак региона `1` имеет всего 12 уникальных значений, что потенциально намекает о необходимости уточнить информацию у заказчика, не имеет ли место дезинформация\n",
    "- Данные по регионам `0` и `2` - чистые, а сами регионы - убыточные с рисками 6% и 6.4% соответственно\n",
    "- Для всех трех регионов наибольшую связь с таргетом `product` имеет признак `f2`"
   ]
  },
  {
   "cell_type": "code",
   "execution_count": null,
   "metadata": {},
   "outputs": [],
   "source": []
  }
 ],
 "metadata": {
  "ExecuteTimeLog": [
   {
    "duration": 3255,
    "start_time": "2023-02-27T16:12:03.857Z"
   },
   {
    "duration": 1501,
    "start_time": "2023-02-27T16:12:07.114Z"
   },
   {
    "duration": 399,
    "start_time": "2023-02-27T16:12:08.617Z"
   },
   {
    "duration": 16,
    "start_time": "2023-02-27T16:12:09.018Z"
   },
   {
    "duration": 53,
    "start_time": "2023-02-27T16:12:09.036Z"
   },
   {
    "duration": 24,
    "start_time": "2023-02-27T16:12:09.091Z"
   },
   {
    "duration": 55,
    "start_time": "2023-02-27T16:12:09.117Z"
   },
   {
    "duration": 573,
    "start_time": "2023-02-27T16:12:09.173Z"
   },
   {
    "duration": 1160,
    "start_time": "2023-02-27T16:12:09.747Z"
   },
   {
    "duration": 611,
    "start_time": "2023-02-27T16:12:10.910Z"
   },
   {
    "duration": 43,
    "start_time": "2023-02-27T16:12:11.523Z"
   },
   {
    "duration": 27,
    "start_time": "2023-02-27T16:12:11.568Z"
   },
   {
    "duration": 53,
    "start_time": "2023-02-27T16:12:11.598Z"
   },
   {
    "duration": 546,
    "start_time": "2023-02-27T16:12:11.652Z"
   },
   {
    "duration": 1017,
    "start_time": "2023-02-27T16:12:12.200Z"
   },
   {
    "duration": 582,
    "start_time": "2023-02-27T16:12:13.218Z"
   },
   {
    "duration": 41,
    "start_time": "2023-02-27T16:12:13.802Z"
   },
   {
    "duration": 22,
    "start_time": "2023-02-27T16:12:13.844Z"
   },
   {
    "duration": 43,
    "start_time": "2023-02-27T16:12:13.868Z"
   },
   {
    "duration": 533,
    "start_time": "2023-02-27T16:12:13.912Z"
   },
   {
    "duration": 1036,
    "start_time": "2023-02-27T16:12:14.447Z"
   },
   {
    "duration": 5,
    "start_time": "2023-02-27T16:12:15.485Z"
   },
   {
    "duration": 467,
    "start_time": "2023-02-27T16:12:15.491Z"
   },
   {
    "duration": 85,
    "start_time": "2023-02-27T16:12:15.961Z"
   },
   {
    "duration": 99,
    "start_time": "2023-02-27T16:12:16.049Z"
   },
   {
    "duration": 16,
    "start_time": "2023-02-27T16:12:16.149Z"
   },
   {
    "duration": 9,
    "start_time": "2023-02-27T16:12:16.166Z"
   },
   {
    "duration": 5,
    "start_time": "2023-02-27T16:12:16.178Z"
   },
   {
    "duration": 7,
    "start_time": "2023-02-27T16:12:16.185Z"
   },
   {
    "duration": 5,
    "start_time": "2023-02-27T16:12:16.193Z"
   },
   {
    "duration": 29,
    "start_time": "2023-02-27T16:12:16.199Z"
   },
   {
    "duration": 2674,
    "start_time": "2023-02-27T16:12:16.246Z"
   },
   {
    "duration": 5,
    "start_time": "2023-02-27T16:12:18.922Z"
   },
   {
    "duration": 2865,
    "start_time": "2023-02-27T16:12:18.945Z"
   },
   {
    "duration": 4,
    "start_time": "2023-02-27T16:12:21.812Z"
   },
   {
    "duration": 2663,
    "start_time": "2023-02-27T16:12:21.818Z"
   },
   {
    "duration": 4,
    "start_time": "2023-02-27T16:12:24.483Z"
   },
   {
    "duration": 20,
    "start_time": "2023-02-27T16:12:24.489Z"
   },
   {
    "duration": 1056,
    "start_time": "2023-02-27T20:19:14.447Z"
   },
   {
    "duration": 2312,
    "start_time": "2023-02-27T20:19:23.758Z"
   },
   {
    "duration": 1416,
    "start_time": "2023-02-27T20:19:26.073Z"
   },
   {
    "duration": 149,
    "start_time": "2023-02-27T20:19:27.491Z"
   },
   {
    "duration": 13,
    "start_time": "2023-02-27T20:19:27.642Z"
   },
   {
    "duration": 48,
    "start_time": "2023-02-27T20:19:27.656Z"
   },
   {
    "duration": 45,
    "start_time": "2023-02-27T20:19:27.706Z"
   },
   {
    "duration": 18,
    "start_time": "2023-02-27T20:19:27.753Z"
   },
   {
    "duration": 52,
    "start_time": "2023-02-27T20:19:27.773Z"
   },
   {
    "duration": 1124,
    "start_time": "2023-02-27T20:19:27.844Z"
   },
   {
    "duration": 1873,
    "start_time": "2023-02-27T20:19:28.970Z"
   },
   {
    "duration": 152,
    "start_time": "2023-02-27T20:19:30.845Z"
   },
   {
    "duration": 50,
    "start_time": "2023-02-27T20:19:30.999Z"
   },
   {
    "duration": 32,
    "start_time": "2023-02-27T20:19:31.051Z"
   },
   {
    "duration": 83,
    "start_time": "2023-02-27T20:19:31.085Z"
   },
   {
    "duration": 629,
    "start_time": "2023-02-27T20:19:31.170Z"
   },
   {
    "duration": 1125,
    "start_time": "2023-02-27T20:19:31.801Z"
   },
   {
    "duration": 147,
    "start_time": "2023-02-27T20:19:32.927Z"
   },
   {
    "duration": 51,
    "start_time": "2023-02-27T20:19:33.076Z"
   },
   {
    "duration": 43,
    "start_time": "2023-02-27T20:19:33.129Z"
   },
   {
    "duration": 43,
    "start_time": "2023-02-27T20:19:33.174Z"
   },
   {
    "duration": 587,
    "start_time": "2023-02-27T20:19:33.218Z"
   },
   {
    "duration": 1134,
    "start_time": "2023-02-27T20:19:33.807Z"
   },
   {
    "duration": 7,
    "start_time": "2023-02-27T20:19:34.943Z"
   },
   {
    "duration": 314,
    "start_time": "2023-02-27T20:19:34.952Z"
   },
   {
    "duration": 10,
    "start_time": "2023-02-27T20:19:35.353Z"
   },
   {
    "duration": 23,
    "start_time": "2023-02-27T20:19:35.446Z"
   },
   {
    "duration": 17,
    "start_time": "2023-02-27T20:19:35.470Z"
   },
   {
    "duration": 10,
    "start_time": "2023-02-27T20:19:35.490Z"
   },
   {
    "duration": 15,
    "start_time": "2023-02-27T20:19:35.502Z"
   },
   {
    "duration": 6,
    "start_time": "2023-02-27T20:19:35.519Z"
   },
   {
    "duration": 12,
    "start_time": "2023-02-27T20:19:35.527Z"
   },
   {
    "duration": 29,
    "start_time": "2023-02-27T20:19:35.541Z"
   },
   {
    "duration": 2599,
    "start_time": "2023-02-27T20:19:35.572Z"
   },
   {
    "duration": 5,
    "start_time": "2023-02-27T20:19:38.173Z"
   },
   {
    "duration": 2790,
    "start_time": "2023-02-27T20:19:38.180Z"
   },
   {
    "duration": 5,
    "start_time": "2023-02-27T20:19:40.971Z"
   },
   {
    "duration": 2794,
    "start_time": "2023-02-27T20:19:40.977Z"
   },
   {
    "duration": 5,
    "start_time": "2023-02-27T20:19:43.773Z"
   },
   {
    "duration": 14,
    "start_time": "2023-02-27T20:19:43.781Z"
   },
   {
    "duration": 920,
    "start_time": "2023-02-27T20:19:43.798Z"
   },
   {
    "duration": 147,
    "start_time": "2023-02-27T20:19:49.300Z"
   },
   {
    "duration": 9,
    "start_time": "2023-02-27T20:19:49.615Z"
   },
   {
    "duration": 55,
    "start_time": "2023-02-27T20:19:49.824Z"
   },
   {
    "duration": 25,
    "start_time": "2023-02-27T20:19:50.868Z"
   },
   {
    "duration": 70,
    "start_time": "2023-02-27T20:19:52.660Z"
   },
   {
    "duration": 142,
    "start_time": "2023-02-27T20:20:36.528Z"
   },
   {
    "duration": 10,
    "start_time": "2023-02-27T20:20:36.795Z"
   },
   {
    "duration": 44,
    "start_time": "2023-02-27T20:20:36.980Z"
   },
   {
    "duration": 68,
    "start_time": "2023-02-27T20:20:52.531Z"
   },
   {
    "duration": 52,
    "start_time": "2023-02-27T20:20:57.868Z"
   },
   {
    "duration": 20,
    "start_time": "2023-02-27T20:21:27.770Z"
   },
   {
    "duration": 17,
    "start_time": "2023-02-27T20:21:38.365Z"
   },
   {
    "duration": 15,
    "start_time": "2023-02-27T20:22:18.057Z"
   },
   {
    "duration": 5,
    "start_time": "2023-02-27T20:26:13.707Z"
   },
   {
    "duration": 5,
    "start_time": "2023-02-27T20:26:16.783Z"
   },
   {
    "duration": 6,
    "start_time": "2023-02-27T20:26:18.994Z"
   },
   {
    "duration": 6,
    "start_time": "2023-02-27T20:26:22.105Z"
   },
   {
    "duration": 7,
    "start_time": "2023-02-27T20:26:24.135Z"
   },
   {
    "duration": 5,
    "start_time": "2023-02-27T20:26:48.585Z"
   },
   {
    "duration": 3,
    "start_time": "2023-02-27T20:27:25.501Z"
   },
   {
    "duration": 4,
    "start_time": "2023-02-27T20:27:41.360Z"
   },
   {
    "duration": 4,
    "start_time": "2023-02-27T20:27:45.806Z"
   },
   {
    "duration": 19,
    "start_time": "2023-02-27T20:31:51.435Z"
   },
   {
    "duration": 3,
    "start_time": "2023-02-27T20:53:11.441Z"
   },
   {
    "duration": 2521,
    "start_time": "2023-02-27T20:57:01.796Z"
   },
   {
    "duration": 1602,
    "start_time": "2023-02-27T20:57:04.319Z"
   },
   {
    "duration": 166,
    "start_time": "2023-02-27T20:57:05.923Z"
   },
   {
    "duration": 19,
    "start_time": "2023-02-27T20:57:06.091Z"
   },
   {
    "duration": 75,
    "start_time": "2023-02-27T20:57:06.112Z"
   },
   {
    "duration": 28,
    "start_time": "2023-02-27T20:57:06.189Z"
   },
   {
    "duration": 64,
    "start_time": "2023-02-27T20:57:06.219Z"
   },
   {
    "duration": 692,
    "start_time": "2023-02-27T20:57:06.284Z"
   },
   {
    "duration": 1251,
    "start_time": "2023-02-27T20:57:06.979Z"
   },
   {
    "duration": 160,
    "start_time": "2023-02-27T20:57:08.234Z"
   },
   {
    "duration": 43,
    "start_time": "2023-02-27T20:57:08.396Z"
   },
   {
    "duration": 30,
    "start_time": "2023-02-27T20:57:08.445Z"
   },
   {
    "duration": 43,
    "start_time": "2023-02-27T20:57:08.476Z"
   },
   {
    "duration": 608,
    "start_time": "2023-02-27T20:57:08.521Z"
   },
   {
    "duration": 1109,
    "start_time": "2023-02-27T20:57:09.131Z"
   },
   {
    "duration": 144,
    "start_time": "2023-02-27T20:57:10.245Z"
   },
   {
    "duration": 59,
    "start_time": "2023-02-27T20:57:10.391Z"
   },
   {
    "duration": 33,
    "start_time": "2023-02-27T20:57:10.452Z"
   },
   {
    "duration": 80,
    "start_time": "2023-02-27T20:57:10.487Z"
   },
   {
    "duration": 541,
    "start_time": "2023-02-27T20:57:10.570Z"
   },
   {
    "duration": 1056,
    "start_time": "2023-02-27T20:57:11.113Z"
   },
   {
    "duration": 5,
    "start_time": "2023-02-27T20:57:12.171Z"
   },
   {
    "duration": 376,
    "start_time": "2023-02-27T20:57:12.178Z"
   },
   {
    "duration": 9,
    "start_time": "2023-02-27T20:57:12.557Z"
   },
   {
    "duration": 100,
    "start_time": "2023-02-27T20:57:12.569Z"
   },
   {
    "duration": 12,
    "start_time": "2023-02-27T20:57:12.671Z"
   },
   {
    "duration": 19,
    "start_time": "2023-02-27T20:57:12.684Z"
   },
   {
    "duration": 17,
    "start_time": "2023-02-27T20:57:12.707Z"
   },
   {
    "duration": 8,
    "start_time": "2023-02-27T20:57:12.726Z"
   },
   {
    "duration": 6,
    "start_time": "2023-02-27T20:57:12.736Z"
   },
   {
    "duration": 40,
    "start_time": "2023-02-27T20:57:12.744Z"
   },
   {
    "duration": 3294,
    "start_time": "2023-02-27T20:57:12.786Z"
   },
   {
    "duration": 4,
    "start_time": "2023-02-27T20:57:16.082Z"
   },
   {
    "duration": 3323,
    "start_time": "2023-02-27T20:57:16.087Z"
   },
   {
    "duration": 5,
    "start_time": "2023-02-27T20:57:19.412Z"
   },
   {
    "duration": 3574,
    "start_time": "2023-02-27T20:57:19.418Z"
   },
   {
    "duration": 5,
    "start_time": "2023-02-27T20:57:22.994Z"
   },
   {
    "duration": 21,
    "start_time": "2023-02-27T20:57:23.001Z"
   },
   {
    "duration": 61,
    "start_time": "2023-02-28T11:04:09.396Z"
   },
   {
    "duration": 4,
    "start_time": "2023-02-28T11:04:14.240Z"
   },
   {
    "duration": 1491,
    "start_time": "2023-02-28T11:04:14.247Z"
   },
   {
    "duration": 155,
    "start_time": "2023-02-28T11:04:15.740Z"
   },
   {
    "duration": 17,
    "start_time": "2023-02-28T11:04:15.897Z"
   },
   {
    "duration": 68,
    "start_time": "2023-02-28T11:04:15.915Z"
   },
   {
    "duration": 23,
    "start_time": "2023-02-28T11:04:15.985Z"
   },
   {
    "duration": 110,
    "start_time": "2023-02-28T11:04:16.009Z"
   },
   {
    "duration": 62,
    "start_time": "2023-02-28T11:04:16.122Z"
   },
   {
    "duration": 723,
    "start_time": "2023-02-28T11:04:16.188Z"
   },
   {
    "duration": 255,
    "start_time": "2023-02-28T11:04:16.913Z"
   },
   {
    "duration": 148,
    "start_time": "2023-02-28T11:04:17.171Z"
   },
   {
    "duration": 46,
    "start_time": "2023-02-28T11:04:17.321Z"
   },
   {
    "duration": 81,
    "start_time": "2023-02-28T11:04:17.369Z"
   },
   {
    "duration": 46,
    "start_time": "2023-02-28T11:04:17.452Z"
   },
   {
    "duration": 891,
    "start_time": "2023-02-28T11:04:17.501Z"
   },
   {
    "duration": 264,
    "start_time": "2023-02-28T11:04:18.394Z"
   },
   {
    "duration": 146,
    "start_time": "2023-02-28T11:04:18.660Z"
   },
   {
    "duration": 60,
    "start_time": "2023-02-28T11:04:18.808Z"
   },
   {
    "duration": 61,
    "start_time": "2023-02-28T11:04:18.871Z"
   },
   {
    "duration": 56,
    "start_time": "2023-02-28T11:04:18.945Z"
   },
   {
    "duration": 697,
    "start_time": "2023-02-28T11:04:19.004Z"
   },
   {
    "duration": 244,
    "start_time": "2023-02-28T11:04:19.702Z"
   },
   {
    "duration": 5,
    "start_time": "2023-02-28T11:04:19.948Z"
   },
   {
    "duration": 589,
    "start_time": "2023-02-28T11:04:19.958Z"
   },
   {
    "duration": 10,
    "start_time": "2023-02-28T11:04:20.549Z"
   },
   {
    "duration": 122,
    "start_time": "2023-02-28T11:04:20.562Z"
   },
   {
    "duration": 34,
    "start_time": "2023-02-28T11:04:20.686Z"
   },
   {
    "duration": 46,
    "start_time": "2023-02-28T11:04:20.721Z"
   },
   {
    "duration": 23,
    "start_time": "2023-02-28T11:04:20.769Z"
   },
   {
    "duration": 14,
    "start_time": "2023-02-28T11:04:20.794Z"
   },
   {
    "duration": 27,
    "start_time": "2023-02-28T11:04:20.812Z"
   },
   {
    "duration": 55,
    "start_time": "2023-02-28T11:04:20.842Z"
   },
   {
    "duration": 0,
    "start_time": "2023-02-28T11:04:20.899Z"
   },
   {
    "duration": 0,
    "start_time": "2023-02-28T11:04:20.901Z"
   },
   {
    "duration": 0,
    "start_time": "2023-02-28T11:04:20.903Z"
   },
   {
    "duration": 0,
    "start_time": "2023-02-28T11:04:20.905Z"
   },
   {
    "duration": 1,
    "start_time": "2023-02-28T11:04:20.907Z"
   },
   {
    "duration": 0,
    "start_time": "2023-02-28T11:04:20.910Z"
   },
   {
    "duration": 0,
    "start_time": "2023-02-28T11:04:20.911Z"
   },
   {
    "duration": 7,
    "start_time": "2023-02-28T11:04:40.625Z"
   },
   {
    "duration": 10,
    "start_time": "2023-02-28T11:04:58.130Z"
   },
   {
    "duration": 4,
    "start_time": "2023-02-28T11:35:12.057Z"
   },
   {
    "duration": 1451,
    "start_time": "2023-02-28T11:35:12.062Z"
   },
   {
    "duration": 148,
    "start_time": "2023-02-28T11:35:13.515Z"
   },
   {
    "duration": 13,
    "start_time": "2023-02-28T11:35:13.665Z"
   },
   {
    "duration": 57,
    "start_time": "2023-02-28T11:35:13.680Z"
   },
   {
    "duration": 20,
    "start_time": "2023-02-28T11:35:13.745Z"
   },
   {
    "duration": 105,
    "start_time": "2023-02-28T11:35:13.767Z"
   },
   {
    "duration": 52,
    "start_time": "2023-02-28T11:35:13.873Z"
   },
   {
    "duration": 667,
    "start_time": "2023-02-28T11:35:13.928Z"
   },
   {
    "duration": 257,
    "start_time": "2023-02-28T11:35:14.597Z"
   },
   {
    "duration": 140,
    "start_time": "2023-02-28T11:35:14.856Z"
   },
   {
    "duration": 48,
    "start_time": "2023-02-28T11:35:14.999Z"
   },
   {
    "duration": 58,
    "start_time": "2023-02-28T11:35:15.049Z"
   },
   {
    "duration": 57,
    "start_time": "2023-02-28T11:35:15.109Z"
   },
   {
    "duration": 731,
    "start_time": "2023-02-28T11:35:15.167Z"
   },
   {
    "duration": 230,
    "start_time": "2023-02-28T11:35:15.900Z"
   },
   {
    "duration": 143,
    "start_time": "2023-02-28T11:35:16.132Z"
   },
   {
    "duration": 44,
    "start_time": "2023-02-28T11:35:16.277Z"
   },
   {
    "duration": 62,
    "start_time": "2023-02-28T11:35:16.323Z"
   },
   {
    "duration": 40,
    "start_time": "2023-02-28T11:35:16.387Z"
   },
   {
    "duration": 671,
    "start_time": "2023-02-28T11:35:16.429Z"
   },
   {
    "duration": 263,
    "start_time": "2023-02-28T11:35:17.101Z"
   },
   {
    "duration": 4,
    "start_time": "2023-02-28T11:35:17.367Z"
   },
   {
    "duration": 376,
    "start_time": "2023-02-28T11:35:17.375Z"
   },
   {
    "duration": 7,
    "start_time": "2023-02-28T11:35:17.753Z"
   },
   {
    "duration": 107,
    "start_time": "2023-02-28T11:35:17.846Z"
   },
   {
    "duration": 14,
    "start_time": "2023-02-28T11:35:17.955Z"
   },
   {
    "duration": 8,
    "start_time": "2023-02-28T11:35:17.970Z"
   },
   {
    "duration": 8,
    "start_time": "2023-02-28T11:35:17.980Z"
   },
   {
    "duration": 4,
    "start_time": "2023-02-28T11:35:17.990Z"
   },
   {
    "duration": 6,
    "start_time": "2023-02-28T11:35:17.996Z"
   },
   {
    "duration": 19,
    "start_time": "2023-02-28T11:35:18.004Z"
   },
   {
    "duration": 38,
    "start_time": "2023-02-28T11:35:18.024Z"
   },
   {
    "duration": 9,
    "start_time": "2023-02-28T11:35:18.064Z"
   },
   {
    "duration": 1431,
    "start_time": "2023-02-28T11:35:18.075Z"
   },
   {
    "duration": 1472,
    "start_time": "2023-02-28T11:35:19.507Z"
   },
   {
    "duration": 1364,
    "start_time": "2023-02-28T11:35:20.981Z"
   },
   {
    "duration": 11,
    "start_time": "2023-02-28T11:35:22.347Z"
   },
   {
    "duration": 187,
    "start_time": "2023-02-28T11:35:22.360Z"
   }
  ],
  "kernelspec": {
   "display_name": "Python 3 (ipykernel)",
   "language": "python",
   "name": "python3"
  },
  "language_info": {
   "codemirror_mode": {
    "name": "ipython",
    "version": 3
   },
   "file_extension": ".py",
   "mimetype": "text/x-python",
   "name": "python",
   "nbconvert_exporter": "python",
   "pygments_lexer": "ipython3",
   "version": "3.10.9"
  },
  "toc": {
   "base_numbering": 1,
   "nav_menu": {},
   "number_sections": true,
   "sideBar": true,
   "skip_h1_title": true,
   "title_cell": "Содержание проекта",
   "title_sidebar": "Содержание",
   "toc_cell": true,
   "toc_position": {
    "height": "calc(100% - 180px)",
    "left": "10px",
    "top": "150px",
    "width": "541.656px"
   },
   "toc_section_display": true,
   "toc_window_display": true
  },
  "varInspector": {
   "cols": {
    "lenName": 16,
    "lenType": 16,
    "lenVar": 40
   },
   "kernels_config": {
    "python": {
     "delete_cmd_postfix": "",
     "delete_cmd_prefix": "del ",
     "library": "var_list.py",
     "varRefreshCmd": "print(var_dic_list())"
    },
    "r": {
     "delete_cmd_postfix": ") ",
     "delete_cmd_prefix": "rm(",
     "library": "var_list.r",
     "varRefreshCmd": "cat(var_dic_list()) "
    }
   },
   "types_to_exclude": [
    "module",
    "function",
    "builtin_function_or_method",
    "instance",
    "_Feature"
   ],
   "window_display": false
  }
 },
 "nbformat": 4,
 "nbformat_minor": 2
}
